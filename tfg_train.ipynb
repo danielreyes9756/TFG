{
  "nbformat": 4,
  "nbformat_minor": 0,
  "metadata": {
    "colab": {
      "name": "tfg-train.ipynb",
      "provenance": [],
      "collapsed_sections": [
        "No3r7tecgzAo",
        "n6jis0_QjPmt",
        "v3YUewV5jd1k",
        "7GNbJaU0jr5k",
        "N9_KIdYGkKAl",
        "Lw_dOA5SFlMr",
        "r70760khTqqJ"
      ]
    },
    "kernelspec": {
      "name": "python3",
      "display_name": "Python 3"
    },
    "language_info": {
      "name": "python"
    },
    "accelerator": "GPU"
  },
  "cells": [
    {
      "cell_type": "markdown",
      "metadata": {
        "id": "ID0aK_qcO7km"
      },
      "source": [
        "#**Imports**"
      ]
    },
    {
      "cell_type": "markdown",
      "metadata": {
        "id": "7VaNXlbwO_--"
      },
      "source": [
        "##**Mount drive**\n",
        "This line connect our colab with the Drive where we had the images"
      ]
    },
    {
      "cell_type": "code",
      "metadata": {
        "colab": {
          "base_uri": "https://localhost:8080/"
        },
        "id": "Px1sbTsUAimt",
        "outputId": "0c966751-1551-4614-b551-df5e43115aec"
      },
      "source": [
        "from google.colab import drive\n",
        "drive.mount('/content/drive')"
      ],
      "execution_count": null,
      "outputs": [
        {
          "output_type": "stream",
          "name": "stdout",
          "text": [
            "Mounted at /content/drive\n"
          ]
        }
      ]
    },
    {
      "cell_type": "markdown",
      "metadata": {
        "id": "ijkM_tfsPNou"
      },
      "source": [
        "##**Enabling GPU Acceleration**\n",
        "Colab notebooks run code on Google's cloud servers, allowing you to harness the power of Google hardware, including GPUs and TPUs, regardless of the power of your equipment.\n",
        "\n",
        "This is good for us, because run model, proccess image ..., are stressful jobs for our hadware\n",
        "\n",
        "On the other GPU's training are fasters than CPU's:\n",
        "```\n",
        "The time to convolve 32x7x7x3 filter over random 100x100x100x3 images.\n",
        "\n",
        "CPU (s):\n",
        "3.862475891000031\n",
        "GPU (s):\n",
        "0.10837535100017703\n",
        "GPU speedup over CPU: 35x\n",
        "```"
      ]
    },
    {
      "cell_type": "code",
      "metadata": {
        "colab": {
          "base_uri": "https://localhost:8080/",
          "height": 35
        },
        "id": "YcLexZUdAlyg",
        "outputId": "7f268e3e-d0ba-46fa-949f-f52d503b5474"
      },
      "source": [
        "import tensorflow as tf\n",
        "tf.test.gpu_device_name()"
      ],
      "execution_count": null,
      "outputs": [
        {
          "output_type": "execute_result",
          "data": {
            "text/plain": [
              "'/device:GPU:0'"
            ],
            "application/vnd.google.colaboratory.intrinsic+json": {
              "type": "string"
            }
          },
          "metadata": {},
          "execution_count": 2
        }
      ]
    },
    {
      "cell_type": "markdown",
      "metadata": {
        "id": "yHDTvURaRX71"
      },
      "source": [
        "##**Libraries That We Will Need**\n",
        "``` \n",
        "numpy\n",
        " [NumPy is a library from Python that supports creating large multidimensional\n",
        "  arrays and vectors, along with a large collection of high-level mathematical\n",
        "  functions to operate on them]\n",
        "os\n",
        "  [This module provides a portable way of using operating system dependent \n",
        "  functionality]\n",
        "pickle\n",
        "  [module implements binary protocols for serializing and de-serializing a \n",
        "  Python object structure, in this project we user pickle to save the models]\n",
        "tensorflow\n",
        "  [TensorFlow is an open source library for machine learning developed by \n",
        "  Google, we use tensorflow to enabling the GPU Accelerator and Keras libraries]\n",
        "keras\n",
        "  [Keras is an Open Source Neural Networks library written in Python. It is \n",
        "  able to run on TensorFlow, Microsoft Cognitive Toolkit or Theano. It is\n",
        "  specially designed to allow experimentation in more or less a short time \n",
        "  with Deep Learning networks] \n",
        "```"
      ]
    },
    {
      "cell_type": "code",
      "source": [
        "!pip install keras"
      ],
      "metadata": {
        "colab": {
          "base_uri": "https://localhost:8080/"
        },
        "id": "RzzxivrgRlcd",
        "outputId": "35db13fd-222f-401d-95a0-f6ab10f978e7"
      },
      "execution_count": null,
      "outputs": [
        {
          "output_type": "stream",
          "name": "stdout",
          "text": [
            "Looking in indexes: https://pypi.org/simple, https://us-python.pkg.dev/colab-wheels/public/simple/\n",
            "Requirement already satisfied: keras in /usr/local/lib/python3.7/dist-packages (2.8.0)\n"
          ]
        }
      ]
    },
    {
      "cell_type": "code",
      "metadata": {
        "id": "BgDOVFaEU01q"
      },
      "source": [
        "import numpy as np\n",
        "import os\n",
        "import pickle\n",
        "#Tensorflow Keras\n",
        "from tensorflow.keras import layers,models,optimizers,preprocessing, applications\n",
        "from keras.models import Sequential #libreria necesaria para apilar o alinear una serie de capas con la que crearemos las redes neuronales\n",
        "from keras.layers import Dense, Dropout, Flatten, Conv2D, MaxPool2D #capas que usaremos\n",
        "from tensorflow.keras.optimizers import Adam #optimizador necesario para compilar nuestro modelo en este caso usaremos Adam"
      ],
      "execution_count": null,
      "outputs": []
    },
    {
      "cell_type": "markdown",
      "metadata": {
        "id": "No3r7tecgzAo"
      },
      "source": [
        "#**Proccess Images**"
      ]
    },
    {
      "cell_type": "markdown",
      "metadata": {
        "id": "Pb-R-HbLO24X"
      },
      "source": [
        "##**Load Images**\n",
        "**HIPERPARAMETERS**\n",
        "```\n",
        "main_dir: String, Image route, there are on my drive.\n",
        "classes: Array of String, this array contain the posibles label of the image, \n",
        "         we had 4 classes.\n",
        "resoultion: Number Int, We use this param to resize the image to 128x128.\n",
        "epochs: Number Int, an epoch is when an ENTIRE dataset is passed forward and    \n",
        "        backward through the neural network only ONCE, we put 50 epochs\n",
        "batch_size: Number Int, Number of training examples present in a single batch, \n",
        "        we put 20.\n",
        "```"
      ]
    },
    {
      "cell_type": "code",
      "metadata": {
        "id": "1xfN-0cuAvB_"
      },
      "source": [
        "main_dir = \"/content/drive/MyDrive/tfg/tumor-classificator/Total\"\n",
        "classes = [\"glioma_tumor\", \"meningioma_tumor\", \"no_tumor\", \"pituitary_tumor\"]\n",
        "resolution = 128\n",
        "epochs=50\n",
        "batch_size=20\n",
        "\n",
        "#Proccess and save images\n",
        "def load_images():\n",
        "  \n",
        "  X_colored = []\n",
        "  X_grayscale = []\n",
        "  y = []\n",
        "    \n",
        "  for label, actual_class in enumerate(classes):\n",
        "    print(f\"loading from Total class {actual_class}\")\n",
        "    sub_dir_path = os.path.join(main_dir, actual_class)\n",
        "    for image_name in os.listdir(sub_dir_path):\n",
        "      image_path = os.path.join(sub_dir_path, image_name)\n",
        "      #save images as rgb mode and resize to 128x128\n",
        "      image_colored = preprocessing.image.load_img(image_path, color_mode=\"rgb\", target_size=(resolution, resolution))\n",
        "      #save images as grayscale mode and resize to 128x128\n",
        "      image_grayscale = preprocessing.image.load_img(image_path, color_mode=\"grayscale\", target_size=(resolution, resolution))\n",
        "      #save in respectives arrays in order\n",
        "      X_colored.append(preprocessing.image.img_to_array(image_colored))\n",
        "      X_grayscale.append(preprocessing.image.img_to_array(image_grayscale))\n",
        "      #save labels per image \n",
        "      y.append(label)\n",
        "\n",
        "  #normalize data\n",
        "  X_colored = np.array(X_colored) / 255.0\n",
        "  X_grayscale = np.array(X_grayscale) / 255.0\n",
        "  y = np.array(y)\n",
        "    \n",
        "  return X_colored, X_grayscale, y"
      ],
      "execution_count": null,
      "outputs": []
    },
    {
      "cell_type": "code",
      "metadata": {
        "id": "7dcnX82AA7ai"
      },
      "source": [
        "X_colored, X_grayscale, y = load_images()"
      ],
      "execution_count": null,
      "outputs": []
    },
    {
      "cell_type": "markdown",
      "metadata": {
        "id": "vqmiiQ-y33ly"
      },
      "source": [
        "##**Convert To One-Hot Encoding**"
      ]
    },
    {
      "cell_type": "code",
      "metadata": {
        "id": "R6sUgg9UA9kx"
      },
      "source": [
        "from keras.utils.np_utils import to_categorical \n",
        "y = to_categorical(y, num_classes = 4)"
      ],
      "execution_count": null,
      "outputs": []
    },
    {
      "cell_type": "markdown",
      "metadata": {
        "id": "TlPaofht3_9x"
      },
      "source": [
        "##**Split The Images**"
      ]
    },
    {
      "cell_type": "code",
      "metadata": {
        "id": "zrkavbA9A_-J"
      },
      "source": [
        "from sklearn.model_selection import train_test_split\n",
        "#divide images in 3 batchs train, validation and test by colors\n",
        "X_train_rgb, X_val_rgb, y_train_rgb, y_val_rgb = train_test_split(X_colored, y, test_size = 0.2, random_state=132)\n",
        "X_train_rgb, X_test_rgb, y_train_rgb, y_test_rgb = train_test_split(X_train_rgb, y_train_rgb, test_size = 0.1, random_state=132)\n",
        "\n",
        "X_train_gs, X_val_gs, y_train_gs, y_val_gs = train_test_split(X_grayscale, y, test_size = 0.2, random_state=132)\n",
        "X_train_gs, X_test_gs, y_train_gs, y_test_gs = train_test_split(X_train_gs, y_train_gs, test_size = 0.1, random_state=132)"
      ],
      "execution_count": null,
      "outputs": []
    },
    {
      "cell_type": "markdown",
      "metadata": {
        "id": "nWmfGO8egpKp"
      },
      "source": [
        "#**Create Models**"
      ]
    },
    {
      "cell_type": "markdown",
      "metadata": {
        "id": "euJtfbeAgtWP"
      },
      "source": [
        "##**Custom**"
      ]
    },
    {
      "cell_type": "code",
      "metadata": {
        "id": "QPVJ_QkIBEhB"
      },
      "source": [
        "def create_custom_models(input_shape):\n",
        "  model = Sequential()\n",
        "\n",
        "  model.add(Conv2D(filters = 64, kernel_size = (2,2),\n",
        "            padding = 'Same', activation ='relu', input_shape = input_shape))\n",
        "  model.add(MaxPool2D(pool_size=(2,2)))\n",
        "  model.add(Dropout(0.2))\n",
        "\n",
        "  model.add(Conv2D(filters = 128, kernel_size = (2,2),\n",
        "            padding = 'Same', activation ='relu'))\n",
        "  model.add(MaxPool2D(pool_size=(2,2)))\n",
        "  model.add(Dropout(0.2))\n",
        "\n",
        "  model.add(Conv2D(filters = 256, kernel_size = (2,2),\n",
        "            padding = 'Same', activation ='relu'))\n",
        "  model.add(MaxPool2D(pool_size=(2,2)))\n",
        "  model.add(Dropout(0.2))\n",
        "\n",
        "  model.add(Conv2D(filters = 128, kernel_size = (2,2),\n",
        "            padding = 'Same', activation ='relu'))\n",
        "  model.add(MaxPool2D(pool_size=(2,2)))\n",
        "  model.add(Dropout(0.2))\n",
        "\n",
        "  model.add(Conv2D(filters = 512, kernel_size = (2,2),\n",
        "            padding = 'Same', activation ='relu'))\n",
        "  model.add(MaxPool2D(pool_size=(2,2)))\n",
        "  model.add(Dropout(0.2))\n",
        "\n",
        "  model.add(Flatten())\n",
        "\n",
        "  model.add(Dense(1024, activation = \"relu\"))\n",
        "  model.add(Dropout(0.5))\n",
        "\n",
        "  model.add(Dense(4, activation = \"softmax\"))\n",
        "\n",
        "  model.compile(optimizer = Adam(lr=0.001, beta_1=0.9, beta_2=0.999),\n",
        "                loss = \"categorical_crossentropy\", metrics=[\"accuracy\"])\n",
        "  return model"
      ],
      "execution_count": null,
      "outputs": []
    },
    {
      "cell_type": "markdown",
      "metadata": {
        "id": "ozMWTivBhBan"
      },
      "source": [
        "##**VGGs**\n",
        "```\n",
        "tf.keras.applications.VGG1X(\n",
        "    include_top=True,\n",
        "    weights=\"imagenet\",\n",
        "    input_tensor=None,\n",
        "    input_shape=None,\n",
        "    pooling=None,\n",
        "    classes=1000,\n",
        "    classifier_activation=\"softmax\",\n",
        ")\n",
        "```"
      ]
    },
    {
      "cell_type": "code",
      "metadata": {
        "id": "zk1WeNnU_rK8"
      },
      "source": [
        "#Creamos una red neuronal con base VGG16\n",
        "from keras.applications.vgg16 import VGG16\n",
        "from keras.applications.vgg19 import VGG19\n",
        "def create_vgg_model(model_version, input_shape,transfer_learning=False):\n",
        "  \n",
        "  if model_version != 16 and model_version != 19:\n",
        "    print(\"Error Vesion Model Incorrect\")\n",
        "    return null\n",
        "  \n",
        "  if transfer_learning and input_shape[-1] == 3:\n",
        "    if model_version == 16:\n",
        "      vgg_conv = VGG16(weights= \"imagenet\" , include_top=False, input_shape=input_shape)\n",
        "    else:\n",
        "      vgg_conv = VGG19(weights= \"imagenet\" , include_top=False, input_shape=input_shape)\n",
        "    vgg_conv.trainable = False\n",
        "    \n",
        "    model = Sequential()\n",
        "    model.add(vgg_conv)\n",
        "\n",
        "    # Y le añadimos las capas que queramos\n",
        "    model.add(Flatten()) \n",
        "    model.add(Dense(2048, activation='relu'))\n",
        "    model.add(Dropout(0.3))\n",
        "    model.add(Dense(4, activation='softmax'))\n",
        "\n",
        "  else:\n",
        "    if model_version == 16:\n",
        "      model = VGG16(include_top=True, weights=None,  input_shape=input_shape, classes=4)\n",
        "    else:\n",
        "      model = VGG19(include_top=True, weights=None,  input_shape=input_shape, classes=4)\n",
        "\n",
        "  #compilamos el modelo con el optimizador adam y el factor de perdidas categorical_crossentropy\n",
        "  model.compile(loss='categorical_crossentropy', optimizer = Adam(lr=0.001, beta_1=0.9, beta_2=0.999), metrics=['accuracy'])\n",
        "  return model"
      ],
      "execution_count": null,
      "outputs": []
    },
    {
      "cell_type": "markdown",
      "metadata": {
        "id": "DQjWCmRzhImv"
      },
      "source": [
        "##**Xception**\n",
        "```\n",
        "tf.keras.applications.Xception(\n",
        "    include_top=True,\n",
        "    weights=\"imagenet\",\n",
        "    input_tensor=None,\n",
        "    input_shape=None,\n",
        "    pooling=None,\n",
        "    classes=1000,\n",
        "    classifier_activation=\"softmax\",\n",
        ")\n",
        "```"
      ]
    },
    {
      "cell_type": "code",
      "metadata": {
        "id": "JY200ae7UYI4"
      },
      "source": [
        "def create_Xception_model(input_shape,transfer_learning=False):\n",
        "  if transfer_learning and input_shape[-1] == 3:\n",
        "    Xception_model = tf.keras.applications.Xception(weights=\"imagenet\", include_top=False, input_shape=input_shape)\n",
        "    Xception_model.trainable = False\n",
        "    model = Sequential()\n",
        "  \n",
        "    model.add(Xception_model)\n",
        "\n",
        "    # Y le añadimos las capas que queramos\n",
        "    model.add(Flatten()) \n",
        "    model.add(Dense(2048, activation='relu'))\n",
        "    model.add(Dropout(0.3))\n",
        "    model.add(Dense(4, activation='softmax')) \n",
        "  else:\n",
        "    model = tf.keras.applications.Xception(weights=None, input_shape=input_shape,classes=4)\n",
        "  model.compile(loss='categorical_crossentropy', optimizer = Adam(lr=0.001, beta_1=0.9, beta_2=0.999), metrics=['accuracy'])\n",
        "  return model"
      ],
      "execution_count": null,
      "outputs": []
    },
    {
      "cell_type": "markdown",
      "metadata": {
        "id": "pebiROT6hMTP"
      },
      "source": [
        "##**ResNets**\n",
        "```\n",
        "tf.keras.applications.ResNetX(\n",
        "    include_top=True,\n",
        "    weights=\"imagenet\",\n",
        "    input_tensor=None,\n",
        "    input_shape=None,\n",
        "    pooling=None,\n",
        "    classes=1000,\n",
        "    **kwargs\n",
        ")\n",
        "```"
      ]
    },
    {
      "cell_type": "code",
      "metadata": {
        "id": "PFtv7b2aQLnb"
      },
      "source": [
        "def create_resnet_model(resnet_version, input_shape, transfer_learning=False):\n",
        "  if transfer_learning and input_shape[-1] == 3:\n",
        "    if resnet_version == 50:\n",
        "      resnet_model = tf.keras.applications.ResNet50(\n",
        "          weights=\"imagenet\", include_top=False, input_shape=input_shape)\n",
        "    elif resnet_version == 101:\n",
        "      resnet_model = tf.keras.applications.ResNet101(\n",
        "          weights=\"imagenet\", include_top=False, input_shape=input_shape)\n",
        "    else:\n",
        "      resnet_model = tf.keras.applications.ResNet152(\n",
        "          weights=\"imagenet\", include_top=False, input_shape=input_shape)\n",
        "    \n",
        "    resnet_model.trainable = False\n",
        "    model = Sequential()\n",
        "  \n",
        "    model.add(resnet_model)\n",
        "\n",
        "    # Y le añadimos las capas que queramos\n",
        "    model.add(Flatten()) \n",
        "    model.add(Dense(2048, activation='relu'))\n",
        "    model.add(Dropout(0.3))\n",
        "    model.add(Dense(4, activation='softmax')) \n",
        "  else:\n",
        "    if resnet_version == 50:\n",
        "      model = tf.keras.applications.ResNet50(\n",
        "          weights=None, input_shape=input_shape, classes=4)\n",
        "    elif resnet_version == 101:\n",
        "      model = tf.keras.applications.ResNet101(\n",
        "          weights=None, input_shape=input_shape, classes=4)\n",
        "    else:\n",
        "      model = tf.keras.applications.ResNet152(\n",
        "          weights=None, input_shape=input_shape, classes=4)\n",
        "      \n",
        "  model.compile(optimizer = Adam(lr=0.001, beta_1=0.9, beta_2=0.999),\n",
        "                loss = \"categorical_crossentropy\", metrics=[\"accuracy\"])\n",
        "  return model"
      ],
      "execution_count": null,
      "outputs": []
    },
    {
      "cell_type": "markdown",
      "metadata": {
        "id": "oC-UR9ZthRX3"
      },
      "source": [
        "##**ResNetV2s**\n",
        "```\n",
        "tf.keras.applications.ResNetXV2(\n",
        "    include_top=True,\n",
        "    weights=\"imagenet\",\n",
        "    input_tensor=None,\n",
        "    input_shape=None,\n",
        "    pooling=None,\n",
        "    classes=1000,\n",
        "    classifier_activation=\"softmax\",\n",
        ")\n",
        "```"
      ]
    },
    {
      "cell_type": "code",
      "metadata": {
        "id": "s7GDsbzq5dVK"
      },
      "source": [
        "from keras.applications import ResNet50V2, ResNet101V2, ResNet152V2\n",
        "\n",
        "def create_resnetv2_model(resnet_version, input_shape, transfer_learning=False):\n",
        "  if transfer_learning and input_shape[-1] == 3:\n",
        "    if resnet_version == 50:\n",
        "      resnetv2_model = ResNet50V2(weights=\"imagenet\", include_top=False, input_shape=input_shape)\n",
        "    elif resnet_version == 101:\n",
        "      resnetv2_model = ResNet101V2(weights=\"imagenet\", include_top=False, input_shape=input_shape)\n",
        "    else:\n",
        "      resnetv2_model = ResNet152V2(weights=\"imagenet\", include_top=False, input_shape=input_shape)\n",
        "    \n",
        "    resnetv2_model.trainable = False\n",
        "    model = Sequential()\n",
        "  \n",
        "    model.add(resnetv2_model)\n",
        "\n",
        "    # Y le añadimos las capas que queramos\n",
        "    model.add(Flatten()) \n",
        "    model.add(Dense(2048, activation='relu'))\n",
        "    model.add(Dropout(0.3))\n",
        "    model.add(Dense(4, activation='softmax')) \n",
        "  else:\n",
        "    if resnet_version == 50:\n",
        "      model = ResNet50V2(weights=None, input_shape=input_shape, classes=4)\n",
        "    elif resnet_version == 101:\n",
        "      model = ResNet101V2(weights=None, input_shape=input_shape, classes=4)\n",
        "    else:\n",
        "      model = ResNet152V2(weights=None, input_shape=input_shape, classes=4)\n",
        "      \n",
        "  model.compile(optimizer = Adam(lr=0.001, beta_1=0.9, beta_2=0.999), loss = \"categorical_crossentropy\", metrics=[\"accuracy\"])\n",
        "  return model"
      ],
      "execution_count": null,
      "outputs": []
    },
    {
      "cell_type": "markdown",
      "metadata": {
        "id": "29DHGD4zjPnw"
      },
      "source": [
        "#Training Without Data Augmentation"
      ]
    },
    {
      "cell_type": "markdown",
      "metadata": {
        "id": "oMDIDsIuQqGx"
      },
      "source": [
        "##Training Custom Model"
      ]
    },
    {
      "cell_type": "markdown",
      "metadata": {
        "id": "n6jis0_QjPmt"
      },
      "source": [
        "###Custom Model RGB"
      ]
    },
    {
      "cell_type": "code",
      "metadata": {
        "id": "RjZvAVFF9O6t"
      },
      "source": [
        "modelCNN_rgb = create_custom_models(X_train_rgb.shape[1:])"
      ],
      "execution_count": null,
      "outputs": []
    },
    {
      "cell_type": "code",
      "metadata": {
        "colab": {
          "base_uri": "https://localhost:8080/"
        },
        "id": "EECx8d3qLwOq",
        "outputId": "a396613c-fc13-4ea6-9e28-27ea16e732ee"
      },
      "source": [
        "history_modelCNN_rgb = modelCNN_rgb.fit(X_train_rgb, y_train_rgb, batch_size=batch_size, epochs=50, validation_data=(X_val_rgb, y_val_rgb))"
      ],
      "execution_count": null,
      "outputs": [
        {
          "output_type": "stream",
          "text": [
            "Epoch 1/50\n",
            "118/118 [==============================] - 50s 43ms/step - loss: 1.3871 - accuracy: 0.3343 - val_loss: 1.2597 - val_accuracy: 0.4366\n",
            "Epoch 2/50\n",
            "118/118 [==============================] - 4s 30ms/step - loss: 1.0982 - accuracy: 0.4979 - val_loss: 0.9763 - val_accuracy: 0.5603\n",
            "Epoch 3/50\n",
            "118/118 [==============================] - 3s 30ms/step - loss: 0.9375 - accuracy: 0.5769 - val_loss: 0.7779 - val_accuracy: 0.6901\n",
            "Epoch 4/50\n",
            "118/118 [==============================] - 3s 30ms/step - loss: 0.8439 - accuracy: 0.6355 - val_loss: 0.7205 - val_accuracy: 0.6840\n",
            "Epoch 5/50\n",
            "118/118 [==============================] - 4s 30ms/step - loss: 0.7011 - accuracy: 0.6958 - val_loss: 0.7381 - val_accuracy: 0.6947\n",
            "Epoch 6/50\n",
            "118/118 [==============================] - 4s 30ms/step - loss: 0.6438 - accuracy: 0.7379 - val_loss: 0.5816 - val_accuracy: 0.7588\n",
            "Epoch 7/50\n",
            "118/118 [==============================] - 4s 30ms/step - loss: 0.5999 - accuracy: 0.7574 - val_loss: 0.5380 - val_accuracy: 0.7832\n",
            "Epoch 8/50\n",
            "118/118 [==============================] - 4s 31ms/step - loss: 0.5152 - accuracy: 0.7858 - val_loss: 0.5023 - val_accuracy: 0.8183\n",
            "Epoch 9/50\n",
            "118/118 [==============================] - 4s 30ms/step - loss: 0.4309 - accuracy: 0.8353 - val_loss: 0.5043 - val_accuracy: 0.8137\n",
            "Epoch 10/50\n",
            "118/118 [==============================] - 4s 30ms/step - loss: 0.4017 - accuracy: 0.8429 - val_loss: 0.4254 - val_accuracy: 0.8595\n",
            "Epoch 11/50\n",
            "118/118 [==============================] - 4s 30ms/step - loss: 0.3546 - accuracy: 0.8602 - val_loss: 0.4460 - val_accuracy: 0.8382\n",
            "Epoch 12/50\n",
            "118/118 [==============================] - 4s 31ms/step - loss: 0.3125 - accuracy: 0.8753 - val_loss: 0.4145 - val_accuracy: 0.8580\n",
            "Epoch 13/50\n",
            "118/118 [==============================] - 4s 30ms/step - loss: 0.3024 - accuracy: 0.8785 - val_loss: 0.3861 - val_accuracy: 0.8840\n",
            "Epoch 14/50\n",
            "118/118 [==============================] - 4s 30ms/step - loss: 0.2842 - accuracy: 0.8911 - val_loss: 0.3453 - val_accuracy: 0.8901\n",
            "Epoch 15/50\n",
            "118/118 [==============================] - 4s 30ms/step - loss: 0.2566 - accuracy: 0.9034 - val_loss: 0.3640 - val_accuracy: 0.8870\n",
            "Epoch 16/50\n",
            "118/118 [==============================] - 4s 30ms/step - loss: 0.2099 - accuracy: 0.9223 - val_loss: 0.2941 - val_accuracy: 0.9130\n",
            "Epoch 17/50\n",
            "118/118 [==============================] - 4s 30ms/step - loss: 0.2041 - accuracy: 0.9283 - val_loss: 0.3049 - val_accuracy: 0.9099\n",
            "Epoch 18/50\n",
            "118/118 [==============================] - 4s 30ms/step - loss: 0.1852 - accuracy: 0.9249 - val_loss: 0.4025 - val_accuracy: 0.8855\n",
            "Epoch 19/50\n",
            "118/118 [==============================] - 4s 30ms/step - loss: 0.1783 - accuracy: 0.9418 - val_loss: 0.3158 - val_accuracy: 0.9053\n",
            "Epoch 20/50\n",
            "118/118 [==============================] - 4s 31ms/step - loss: 0.1893 - accuracy: 0.9377 - val_loss: 0.3323 - val_accuracy: 0.9084\n",
            "Epoch 21/50\n",
            "118/118 [==============================] - 4s 31ms/step - loss: 0.1251 - accuracy: 0.9509 - val_loss: 0.3681 - val_accuracy: 0.9084\n",
            "Epoch 22/50\n",
            "118/118 [==============================] - 4s 31ms/step - loss: 0.1640 - accuracy: 0.9405 - val_loss: 0.3815 - val_accuracy: 0.8901\n",
            "Epoch 23/50\n",
            "118/118 [==============================] - 4s 30ms/step - loss: 0.1350 - accuracy: 0.9519 - val_loss: 0.3423 - val_accuracy: 0.9160\n",
            "Epoch 24/50\n",
            "118/118 [==============================] - 4s 31ms/step - loss: 0.1290 - accuracy: 0.9487 - val_loss: 0.3338 - val_accuracy: 0.9023\n",
            "Epoch 25/50\n",
            "118/118 [==============================] - 4s 31ms/step - loss: 0.1637 - accuracy: 0.9394 - val_loss: 0.3349 - val_accuracy: 0.9145\n",
            "Epoch 26/50\n",
            "118/118 [==============================] - 4s 30ms/step - loss: 0.1600 - accuracy: 0.9515 - val_loss: 0.3097 - val_accuracy: 0.9298\n",
            "Epoch 27/50\n",
            "118/118 [==============================] - 4s 31ms/step - loss: 0.0946 - accuracy: 0.9714 - val_loss: 0.3477 - val_accuracy: 0.9191\n",
            "Epoch 28/50\n",
            "118/118 [==============================] - 4s 31ms/step - loss: 0.1306 - accuracy: 0.9492 - val_loss: 0.3319 - val_accuracy: 0.9023\n",
            "Epoch 29/50\n",
            "118/118 [==============================] - 4s 31ms/step - loss: 0.1425 - accuracy: 0.9526 - val_loss: 0.3319 - val_accuracy: 0.9160\n",
            "Epoch 30/50\n",
            "118/118 [==============================] - 4s 31ms/step - loss: 0.0890 - accuracy: 0.9688 - val_loss: 0.2889 - val_accuracy: 0.9298\n",
            "Epoch 31/50\n",
            "118/118 [==============================] - 4s 32ms/step - loss: 0.0826 - accuracy: 0.9735 - val_loss: 0.4316 - val_accuracy: 0.9008\n",
            "Epoch 32/50\n",
            "118/118 [==============================] - 4s 32ms/step - loss: 0.1049 - accuracy: 0.9596 - val_loss: 0.2818 - val_accuracy: 0.9313\n",
            "Epoch 33/50\n",
            "118/118 [==============================] - 4s 31ms/step - loss: 0.1114 - accuracy: 0.9566 - val_loss: 0.2803 - val_accuracy: 0.9267\n",
            "Epoch 34/50\n",
            "118/118 [==============================] - 4s 31ms/step - loss: 0.0991 - accuracy: 0.9618 - val_loss: 0.3360 - val_accuracy: 0.9130\n",
            "Epoch 35/50\n",
            "118/118 [==============================] - 4s 31ms/step - loss: 0.0670 - accuracy: 0.9767 - val_loss: 0.2781 - val_accuracy: 0.9298\n",
            "Epoch 36/50\n",
            "118/118 [==============================] - 4s 31ms/step - loss: 0.0597 - accuracy: 0.9789 - val_loss: 0.2779 - val_accuracy: 0.9344\n",
            "Epoch 37/50\n",
            "118/118 [==============================] - 4s 31ms/step - loss: 0.0606 - accuracy: 0.9794 - val_loss: 0.2486 - val_accuracy: 0.9359\n",
            "Epoch 38/50\n",
            "118/118 [==============================] - 4s 31ms/step - loss: 0.0771 - accuracy: 0.9719 - val_loss: 0.3220 - val_accuracy: 0.9221\n",
            "Epoch 39/50\n",
            "118/118 [==============================] - 4s 31ms/step - loss: 0.0610 - accuracy: 0.9778 - val_loss: 0.3506 - val_accuracy: 0.9267\n",
            "Epoch 40/50\n",
            "118/118 [==============================] - 4s 31ms/step - loss: 0.0860 - accuracy: 0.9703 - val_loss: 0.3077 - val_accuracy: 0.9359\n",
            "Epoch 41/50\n",
            "118/118 [==============================] - 4s 31ms/step - loss: 0.0846 - accuracy: 0.9694 - val_loss: 0.2926 - val_accuracy: 0.9328\n",
            "Epoch 42/50\n",
            "118/118 [==============================] - 4s 31ms/step - loss: 0.0602 - accuracy: 0.9791 - val_loss: 0.3981 - val_accuracy: 0.9313\n",
            "Epoch 43/50\n",
            "118/118 [==============================] - 4s 31ms/step - loss: 0.0514 - accuracy: 0.9823 - val_loss: 0.4086 - val_accuracy: 0.9176\n",
            "Epoch 44/50\n",
            "118/118 [==============================] - 4s 31ms/step - loss: 0.0778 - accuracy: 0.9761 - val_loss: 0.3965 - val_accuracy: 0.9237\n",
            "Epoch 45/50\n",
            "118/118 [==============================] - 4s 31ms/step - loss: 0.0670 - accuracy: 0.9769 - val_loss: 0.3187 - val_accuracy: 0.9389\n",
            "Epoch 46/50\n",
            "118/118 [==============================] - 4s 31ms/step - loss: 0.1017 - accuracy: 0.9734 - val_loss: 0.3108 - val_accuracy: 0.9252\n",
            "Epoch 47/50\n",
            "118/118 [==============================] - 4s 30ms/step - loss: 0.0642 - accuracy: 0.9770 - val_loss: 0.3031 - val_accuracy: 0.9344\n",
            "Epoch 48/50\n",
            "118/118 [==============================] - 4s 30ms/step - loss: 0.0705 - accuracy: 0.9735 - val_loss: 0.3486 - val_accuracy: 0.9359\n",
            "Epoch 49/50\n",
            "118/118 [==============================] - 4s 31ms/step - loss: 0.0565 - accuracy: 0.9788 - val_loss: 0.3541 - val_accuracy: 0.9267\n",
            "Epoch 50/50\n",
            "118/118 [==============================] - 4s 31ms/step - loss: 0.0615 - accuracy: 0.9827 - val_loss: 0.3208 - val_accuracy: 0.9298\n"
          ],
          "name": "stdout"
        }
      ]
    },
    {
      "cell_type": "markdown",
      "metadata": {
        "id": "v3YUewV5jd1k"
      },
      "source": [
        "###Custom Model GS"
      ]
    },
    {
      "cell_type": "code",
      "metadata": {
        "id": "yDdv1_E-9I8d"
      },
      "source": [
        "modelCNN_gs = create_custom_models(X_train_gs.shape[1:])"
      ],
      "execution_count": null,
      "outputs": []
    },
    {
      "cell_type": "code",
      "metadata": {
        "colab": {
          "base_uri": "https://localhost:8080/"
        },
        "id": "QfDb8UVLM-HQ",
        "outputId": "0e2a106f-308d-4ed0-a95e-0fd1ade4c0c8"
      },
      "source": [
        "history_modelCNN_gs = modelCNN_gs.fit(X_train_gs, y_train_gs, batch_size=batch_size, epochs=50, validation_data=(X_val_gs, y_val_gs))"
      ],
      "execution_count": null,
      "outputs": [
        {
          "output_type": "stream",
          "text": [
            "Epoch 1/50\n",
            "118/118 [==============================] - 5s 33ms/step - loss: 1.3245 - accuracy: 0.3527 - val_loss: 0.9319 - val_accuracy: 0.6092\n",
            "Epoch 2/50\n",
            "118/118 [==============================] - 4s 31ms/step - loss: 0.9971 - accuracy: 0.5740 - val_loss: 0.8034 - val_accuracy: 0.6702\n",
            "Epoch 3/50\n",
            "118/118 [==============================] - 4s 31ms/step - loss: 0.8448 - accuracy: 0.6523 - val_loss: 0.6770 - val_accuracy: 0.7359\n",
            "Epoch 4/50\n",
            "118/118 [==============================] - 4s 31ms/step - loss: 0.6812 - accuracy: 0.7095 - val_loss: 0.5726 - val_accuracy: 0.7634\n",
            "Epoch 5/50\n",
            "118/118 [==============================] - 4s 31ms/step - loss: 0.5977 - accuracy: 0.7505 - val_loss: 0.6053 - val_accuracy: 0.7389\n",
            "Epoch 6/50\n",
            "118/118 [==============================] - 4s 31ms/step - loss: 0.5898 - accuracy: 0.7607 - val_loss: 0.5706 - val_accuracy: 0.7481\n",
            "Epoch 7/50\n",
            "118/118 [==============================] - 4s 31ms/step - loss: 0.4635 - accuracy: 0.8195 - val_loss: 0.4589 - val_accuracy: 0.7985\n",
            "Epoch 8/50\n",
            "118/118 [==============================] - 4s 31ms/step - loss: 0.4257 - accuracy: 0.8280 - val_loss: 0.4482 - val_accuracy: 0.8183\n",
            "Epoch 9/50\n",
            "118/118 [==============================] - 4s 31ms/step - loss: 0.3507 - accuracy: 0.8641 - val_loss: 0.5597 - val_accuracy: 0.7710\n",
            "Epoch 10/50\n",
            "118/118 [==============================] - 4s 31ms/step - loss: 0.3239 - accuracy: 0.8758 - val_loss: 0.3736 - val_accuracy: 0.8656\n",
            "Epoch 11/50\n",
            "118/118 [==============================] - 4s 31ms/step - loss: 0.2695 - accuracy: 0.8946 - val_loss: 0.3611 - val_accuracy: 0.8611\n",
            "Epoch 12/50\n",
            "118/118 [==============================] - 4s 31ms/step - loss: 0.2465 - accuracy: 0.9072 - val_loss: 0.2980 - val_accuracy: 0.8840\n",
            "Epoch 13/50\n",
            "118/118 [==============================] - 4s 31ms/step - loss: 0.2031 - accuracy: 0.9234 - val_loss: 0.3153 - val_accuracy: 0.8931\n",
            "Epoch 14/50\n",
            "118/118 [==============================] - 4s 31ms/step - loss: 0.2083 - accuracy: 0.9223 - val_loss: 0.3292 - val_accuracy: 0.8809\n",
            "Epoch 15/50\n",
            "118/118 [==============================] - 4s 31ms/step - loss: 0.1527 - accuracy: 0.9465 - val_loss: 0.2763 - val_accuracy: 0.9130\n",
            "Epoch 16/50\n",
            "118/118 [==============================] - 4s 31ms/step - loss: 0.1570 - accuracy: 0.9373 - val_loss: 0.2437 - val_accuracy: 0.9099\n",
            "Epoch 17/50\n",
            "118/118 [==============================] - 4s 31ms/step - loss: 0.1246 - accuracy: 0.9595 - val_loss: 0.3019 - val_accuracy: 0.9038\n",
            "Epoch 18/50\n",
            "118/118 [==============================] - 4s 31ms/step - loss: 0.1498 - accuracy: 0.9490 - val_loss: 0.3165 - val_accuracy: 0.8992\n",
            "Epoch 19/50\n",
            "118/118 [==============================] - 4s 31ms/step - loss: 0.1287 - accuracy: 0.9587 - val_loss: 0.3175 - val_accuracy: 0.8870\n",
            "Epoch 20/50\n",
            "118/118 [==============================] - 4s 31ms/step - loss: 0.1297 - accuracy: 0.9551 - val_loss: 0.3033 - val_accuracy: 0.9084\n",
            "Epoch 21/50\n",
            "118/118 [==============================] - 4s 31ms/step - loss: 0.1158 - accuracy: 0.9602 - val_loss: 0.2899 - val_accuracy: 0.9069\n",
            "Epoch 22/50\n",
            "118/118 [==============================] - 4s 31ms/step - loss: 0.0885 - accuracy: 0.9681 - val_loss: 0.2485 - val_accuracy: 0.9267\n",
            "Epoch 23/50\n",
            "118/118 [==============================] - 4s 31ms/step - loss: 0.0841 - accuracy: 0.9681 - val_loss: 0.2567 - val_accuracy: 0.9237\n",
            "Epoch 24/50\n",
            "118/118 [==============================] - 4s 31ms/step - loss: 0.0664 - accuracy: 0.9780 - val_loss: 0.2861 - val_accuracy: 0.9160\n",
            "Epoch 25/50\n",
            "118/118 [==============================] - 4s 31ms/step - loss: 0.0717 - accuracy: 0.9760 - val_loss: 0.3623 - val_accuracy: 0.8794\n",
            "Epoch 26/50\n",
            "118/118 [==============================] - 4s 31ms/step - loss: 0.1094 - accuracy: 0.9601 - val_loss: 0.2747 - val_accuracy: 0.9282\n",
            "Epoch 27/50\n",
            "118/118 [==============================] - 4s 31ms/step - loss: 0.1078 - accuracy: 0.9608 - val_loss: 0.2525 - val_accuracy: 0.9237\n",
            "Epoch 28/50\n",
            "118/118 [==============================] - 4s 31ms/step - loss: 0.0639 - accuracy: 0.9790 - val_loss: 0.4367 - val_accuracy: 0.8779\n",
            "Epoch 29/50\n",
            "118/118 [==============================] - 4s 31ms/step - loss: 0.1381 - accuracy: 0.9600 - val_loss: 0.2673 - val_accuracy: 0.9099\n",
            "Epoch 30/50\n",
            "118/118 [==============================] - 4s 31ms/step - loss: 0.0549 - accuracy: 0.9864 - val_loss: 0.3381 - val_accuracy: 0.9130\n",
            "Epoch 31/50\n",
            "118/118 [==============================] - 4s 31ms/step - loss: 0.1032 - accuracy: 0.9684 - val_loss: 0.2900 - val_accuracy: 0.9160\n",
            "Epoch 32/50\n",
            "118/118 [==============================] - 4s 31ms/step - loss: 0.0690 - accuracy: 0.9714 - val_loss: 0.2589 - val_accuracy: 0.9359\n",
            "Epoch 33/50\n",
            "118/118 [==============================] - 4s 31ms/step - loss: 0.0720 - accuracy: 0.9799 - val_loss: 0.2864 - val_accuracy: 0.9298\n",
            "Epoch 34/50\n",
            "118/118 [==============================] - 4s 31ms/step - loss: 0.0516 - accuracy: 0.9829 - val_loss: 0.2070 - val_accuracy: 0.9267\n",
            "Epoch 35/50\n",
            "118/118 [==============================] - 4s 31ms/step - loss: 0.0477 - accuracy: 0.9835 - val_loss: 0.3309 - val_accuracy: 0.9252\n",
            "Epoch 36/50\n",
            "118/118 [==============================] - 4s 31ms/step - loss: 0.0632 - accuracy: 0.9812 - val_loss: 0.4026 - val_accuracy: 0.9084\n",
            "Epoch 37/50\n",
            "118/118 [==============================] - 4s 31ms/step - loss: 0.0927 - accuracy: 0.9739 - val_loss: 0.2634 - val_accuracy: 0.9160\n",
            "Epoch 38/50\n",
            "118/118 [==============================] - 4s 31ms/step - loss: 0.0711 - accuracy: 0.9704 - val_loss: 0.2524 - val_accuracy: 0.9298\n",
            "Epoch 39/50\n",
            "118/118 [==============================] - 4s 31ms/step - loss: 0.0318 - accuracy: 0.9899 - val_loss: 0.2749 - val_accuracy: 0.9298\n",
            "Epoch 40/50\n",
            "118/118 [==============================] - 4s 31ms/step - loss: 0.0670 - accuracy: 0.9830 - val_loss: 0.2926 - val_accuracy: 0.9206\n",
            "Epoch 41/50\n",
            "118/118 [==============================] - 4s 30ms/step - loss: 0.0427 - accuracy: 0.9866 - val_loss: 0.2752 - val_accuracy: 0.9206\n",
            "Epoch 42/50\n",
            "118/118 [==============================] - 4s 31ms/step - loss: 0.0634 - accuracy: 0.9786 - val_loss: 0.3592 - val_accuracy: 0.9084\n",
            "Epoch 43/50\n",
            "118/118 [==============================] - 4s 31ms/step - loss: 0.1200 - accuracy: 0.9615 - val_loss: 0.2601 - val_accuracy: 0.9145\n",
            "Epoch 44/50\n",
            "118/118 [==============================] - 4s 31ms/step - loss: 0.0394 - accuracy: 0.9869 - val_loss: 0.2835 - val_accuracy: 0.9206\n",
            "Epoch 45/50\n",
            "118/118 [==============================] - 4s 31ms/step - loss: 0.0749 - accuracy: 0.9741 - val_loss: 0.2939 - val_accuracy: 0.9252\n",
            "Epoch 46/50\n",
            "118/118 [==============================] - 4s 31ms/step - loss: 0.0450 - accuracy: 0.9836 - val_loss: 0.3429 - val_accuracy: 0.9237\n",
            "Epoch 47/50\n",
            "118/118 [==============================] - 4s 31ms/step - loss: 0.0445 - accuracy: 0.9838 - val_loss: 0.3484 - val_accuracy: 0.9191\n",
            "Epoch 48/50\n",
            "118/118 [==============================] - 4s 31ms/step - loss: 0.0571 - accuracy: 0.9829 - val_loss: 0.3360 - val_accuracy: 0.9160\n",
            "Epoch 49/50\n",
            "118/118 [==============================] - 4s 31ms/step - loss: 0.0550 - accuracy: 0.9840 - val_loss: 0.4273 - val_accuracy: 0.9099\n",
            "Epoch 50/50\n",
            "118/118 [==============================] - 4s 31ms/step - loss: 0.0745 - accuracy: 0.9753 - val_loss: 0.2908 - val_accuracy: 0.9130\n"
          ],
          "name": "stdout"
        }
      ]
    },
    {
      "cell_type": "markdown",
      "metadata": {
        "id": "7GNbJaU0jr5k"
      },
      "source": [
        "##Training VGG16"
      ]
    },
    {
      "cell_type": "markdown",
      "metadata": {
        "id": "U-tVpt_Rjw9u"
      },
      "source": [
        "###VGG16 RGB\n"
      ]
    },
    {
      "cell_type": "code",
      "metadata": {
        "id": "jP-LTCqc9VI9"
      },
      "source": [
        "modelVGG16_rgb = create_vgg_model(16,X_train_rgb.shape[1:])"
      ],
      "execution_count": null,
      "outputs": []
    },
    {
      "cell_type": "code",
      "metadata": {
        "colab": {
          "base_uri": "https://localhost:8080/"
        },
        "id": "HgU9qfACDrK0",
        "outputId": "5ffe0034-1df8-4902-decf-3dc04213c243"
      },
      "source": [
        "history_modelVGG16_rgb = modelVGG16_rgb.fit(X_train_rgb, y_train_rgb, batch_size=batch_size, epochs=50, validation_data=(X_val_rgb, y_val_rgb))"
      ],
      "execution_count": null,
      "outputs": [
        {
          "output_type": "stream",
          "text": [
            "Epoch 1/50\n",
            "118/118 [==============================] - 17s 134ms/step - loss: 1.3672 - accuracy: 0.2836 - val_loss: 1.3851 - val_accuracy: 0.2672\n",
            "Epoch 2/50\n",
            "118/118 [==============================] - 15s 129ms/step - loss: 1.3606 - accuracy: 0.2773 - val_loss: 1.3923 - val_accuracy: 0.2672\n",
            "Epoch 3/50\n",
            "118/118 [==============================] - 15s 127ms/step - loss: 1.3510 - accuracy: 0.2822 - val_loss: 1.3843 - val_accuracy: 0.2672\n",
            "Epoch 4/50\n",
            "118/118 [==============================] - 15s 125ms/step - loss: 1.3494 - accuracy: 0.2796 - val_loss: 1.3794 - val_accuracy: 0.2672\n",
            "Epoch 5/50\n",
            "118/118 [==============================] - 15s 125ms/step - loss: 1.3506 - accuracy: 0.2870 - val_loss: 1.3845 - val_accuracy: 0.2687\n",
            "Epoch 6/50\n",
            "118/118 [==============================] - 15s 126ms/step - loss: 1.3615 - accuracy: 0.2891 - val_loss: 1.3824 - val_accuracy: 0.2672\n",
            "Epoch 7/50\n",
            "118/118 [==============================] - 15s 127ms/step - loss: 1.3477 - accuracy: 0.2965 - val_loss: 1.3838 - val_accuracy: 0.2687\n",
            "Epoch 8/50\n",
            "118/118 [==============================] - 15s 127ms/step - loss: 1.3509 - accuracy: 0.2860 - val_loss: 1.3801 - val_accuracy: 0.2687\n",
            "Epoch 9/50\n",
            "118/118 [==============================] - 15s 126ms/step - loss: 1.3562 - accuracy: 0.2986 - val_loss: 1.3894 - val_accuracy: 0.2687\n",
            "Epoch 10/50\n",
            "118/118 [==============================] - 15s 126ms/step - loss: 1.3551 - accuracy: 0.2870 - val_loss: 1.3841 - val_accuracy: 0.2672\n",
            "Epoch 11/50\n",
            "118/118 [==============================] - 15s 126ms/step - loss: 1.3580 - accuracy: 0.2796 - val_loss: 1.3873 - val_accuracy: 0.2672\n",
            "Epoch 12/50\n",
            "118/118 [==============================] - 15s 126ms/step - loss: 1.3542 - accuracy: 0.2995 - val_loss: 1.3820 - val_accuracy: 0.2672\n",
            "Epoch 13/50\n",
            "118/118 [==============================] - 15s 126ms/step - loss: 1.3450 - accuracy: 0.2897 - val_loss: 1.3796 - val_accuracy: 0.2672\n",
            "Epoch 14/50\n",
            "118/118 [==============================] - 15s 124ms/step - loss: 1.3606 - accuracy: 0.2930 - val_loss: 1.3893 - val_accuracy: 0.2672\n",
            "Epoch 15/50\n",
            "118/118 [==============================] - 14s 123ms/step - loss: 1.3469 - accuracy: 0.3014 - val_loss: 1.3816 - val_accuracy: 0.2672\n",
            "Epoch 16/50\n",
            "118/118 [==============================] - 14s 123ms/step - loss: 1.3429 - accuracy: 0.2908 - val_loss: 1.3810 - val_accuracy: 0.2672\n",
            "Epoch 17/50\n",
            "118/118 [==============================] - 14s 123ms/step - loss: 1.3496 - accuracy: 0.3067 - val_loss: 1.3817 - val_accuracy: 0.2672\n",
            "Epoch 18/50\n",
            "118/118 [==============================] - 14s 122ms/step - loss: 1.3549 - accuracy: 0.3177 - val_loss: 1.3819 - val_accuracy: 0.2687\n",
            "Epoch 19/50\n",
            "118/118 [==============================] - 14s 122ms/step - loss: 1.3458 - accuracy: 0.3113 - val_loss: 1.3792 - val_accuracy: 0.2672\n",
            "Epoch 20/50\n",
            "118/118 [==============================] - 14s 122ms/step - loss: 1.3478 - accuracy: 0.2778 - val_loss: 1.3824 - val_accuracy: 0.2672\n",
            "Epoch 21/50\n",
            "118/118 [==============================] - 14s 122ms/step - loss: 1.3632 - accuracy: 0.2910 - val_loss: 1.3913 - val_accuracy: 0.2687\n",
            "Epoch 22/50\n",
            "118/118 [==============================] - 14s 122ms/step - loss: 1.3428 - accuracy: 0.2877 - val_loss: 1.3804 - val_accuracy: 0.2672\n",
            "Epoch 23/50\n",
            "118/118 [==============================] - 14s 122ms/step - loss: 1.3485 - accuracy: 0.2967 - val_loss: 1.3793 - val_accuracy: 0.2672\n",
            "Epoch 24/50\n",
            "118/118 [==============================] - 14s 122ms/step - loss: 1.3530 - accuracy: 0.3205 - val_loss: 1.3852 - val_accuracy: 0.2672\n",
            "Epoch 25/50\n",
            "118/118 [==============================] - 14s 122ms/step - loss: 1.3575 - accuracy: 0.2817 - val_loss: 1.3821 - val_accuracy: 0.2672\n",
            "Epoch 26/50\n",
            "118/118 [==============================] - 14s 122ms/step - loss: 1.3586 - accuracy: 0.2925 - val_loss: 1.3855 - val_accuracy: 0.2672\n",
            "Epoch 27/50\n",
            "118/118 [==============================] - 14s 122ms/step - loss: 1.3526 - accuracy: 0.2868 - val_loss: 1.3842 - val_accuracy: 0.2672\n",
            "Epoch 28/50\n",
            "118/118 [==============================] - 14s 122ms/step - loss: 1.3500 - accuracy: 0.2910 - val_loss: 1.3820 - val_accuracy: 0.2672\n",
            "Epoch 29/50\n",
            "118/118 [==============================] - 14s 122ms/step - loss: 1.3565 - accuracy: 0.3040 - val_loss: 1.3824 - val_accuracy: 0.2687\n",
            "Epoch 30/50\n",
            "118/118 [==============================] - 14s 122ms/step - loss: 1.3561 - accuracy: 0.2903 - val_loss: 1.3838 - val_accuracy: 0.2672\n",
            "Epoch 31/50\n",
            "118/118 [==============================] - 14s 122ms/step - loss: 1.3567 - accuracy: 0.3048 - val_loss: 1.3866 - val_accuracy: 0.2687\n",
            "Epoch 32/50\n",
            "118/118 [==============================] - 14s 122ms/step - loss: 1.3596 - accuracy: 0.2952 - val_loss: 1.3858 - val_accuracy: 0.2687\n",
            "Epoch 33/50\n",
            "118/118 [==============================] - 14s 123ms/step - loss: 1.3630 - accuracy: 0.2941 - val_loss: 1.3878 - val_accuracy: 0.2672\n",
            "Epoch 34/50\n",
            "118/118 [==============================] - 14s 122ms/step - loss: 1.3513 - accuracy: 0.3056 - val_loss: 1.3809 - val_accuracy: 0.2672\n",
            "Epoch 35/50\n",
            "118/118 [==============================] - 14s 122ms/step - loss: 1.3582 - accuracy: 0.2922 - val_loss: 1.3846 - val_accuracy: 0.2687\n",
            "Epoch 36/50\n",
            "118/118 [==============================] - 14s 122ms/step - loss: 1.3555 - accuracy: 0.2854 - val_loss: 1.3840 - val_accuracy: 0.2672\n",
            "Epoch 37/50\n",
            "118/118 [==============================] - 14s 122ms/step - loss: 1.3542 - accuracy: 0.2874 - val_loss: 1.3853 - val_accuracy: 0.2672\n",
            "Epoch 38/50\n",
            "118/118 [==============================] - 14s 122ms/step - loss: 1.3506 - accuracy: 0.2714 - val_loss: 1.3819 - val_accuracy: 0.2672\n",
            "Epoch 39/50\n",
            "118/118 [==============================] - 14s 122ms/step - loss: 1.3533 - accuracy: 0.2834 - val_loss: 1.3825 - val_accuracy: 0.2687\n",
            "Epoch 40/50\n",
            "118/118 [==============================] - 14s 123ms/step - loss: 1.3535 - accuracy: 0.2903 - val_loss: 1.3844 - val_accuracy: 0.2672\n",
            "Epoch 41/50\n",
            "118/118 [==============================] - 14s 122ms/step - loss: 1.3590 - accuracy: 0.3065 - val_loss: 1.3849 - val_accuracy: 0.2672\n",
            "Epoch 42/50\n",
            "118/118 [==============================] - 14s 122ms/step - loss: 1.3491 - accuracy: 0.3132 - val_loss: 1.3794 - val_accuracy: 0.2687\n",
            "Epoch 43/50\n",
            "118/118 [==============================] - 14s 123ms/step - loss: 1.3455 - accuracy: 0.2967 - val_loss: 1.3813 - val_accuracy: 0.2687\n",
            "Epoch 44/50\n",
            "118/118 [==============================] - 14s 122ms/step - loss: 1.3572 - accuracy: 0.2919 - val_loss: 1.3860 - val_accuracy: 0.2672\n",
            "Epoch 45/50\n",
            "118/118 [==============================] - 14s 123ms/step - loss: 1.3525 - accuracy: 0.2870 - val_loss: 1.3853 - val_accuracy: 0.2672\n",
            "Epoch 46/50\n",
            "118/118 [==============================] - 14s 122ms/step - loss: 1.3519 - accuracy: 0.2865 - val_loss: 1.3831 - val_accuracy: 0.2672\n",
            "Epoch 47/50\n",
            "118/118 [==============================] - 14s 122ms/step - loss: 1.3539 - accuracy: 0.3150 - val_loss: 1.3852 - val_accuracy: 0.2687\n",
            "Epoch 48/50\n",
            "118/118 [==============================] - 14s 123ms/step - loss: 1.3411 - accuracy: 0.3055 - val_loss: 1.3788 - val_accuracy: 0.2672\n",
            "Epoch 49/50\n",
            "118/118 [==============================] - 14s 122ms/step - loss: 1.3580 - accuracy: 0.3014 - val_loss: 1.3839 - val_accuracy: 0.2687\n",
            "Epoch 50/50\n",
            "118/118 [==============================] - 14s 122ms/step - loss: 1.3462 - accuracy: 0.2749 - val_loss: 1.3825 - val_accuracy: 0.2687\n"
          ],
          "name": "stdout"
        }
      ]
    },
    {
      "cell_type": "markdown",
      "metadata": {
        "id": "CLoq3_ZDj7uv"
      },
      "source": [
        "###VGG16 GS"
      ]
    },
    {
      "cell_type": "code",
      "metadata": {
        "id": "q3cS7QNi9eYE"
      },
      "source": [
        "modelVGG16_gs = create_vgg_model(16,X_train_gs.shape[1:])"
      ],
      "execution_count": null,
      "outputs": []
    },
    {
      "cell_type": "code",
      "metadata": {
        "colab": {
          "base_uri": "https://localhost:8080/"
        },
        "id": "OXTlM571CYYy",
        "outputId": "28dc9fdc-f4cf-49a7-91ae-8bfc524fc1c8"
      },
      "source": [
        "history_modelVGG16_gs = modelVGG16_gs.fit(X_train_gs, y_train_gs, batch_size=batch_size, epochs=50, validation_data=(X_val_gs, y_val_gs))"
      ],
      "execution_count": null,
      "outputs": [
        {
          "output_type": "stream",
          "text": [
            "Epoch 1/50\n",
            "118/118 [==============================] - 17s 133ms/step - loss: 1.3658 - accuracy: 0.2903 - val_loss: 1.3878 - val_accuracy: 0.2672\n",
            "Epoch 2/50\n",
            "118/118 [==============================] - 15s 129ms/step - loss: 1.3550 - accuracy: 0.2811 - val_loss: 1.3818 - val_accuracy: 0.2672\n",
            "Epoch 3/50\n",
            "118/118 [==============================] - 15s 129ms/step - loss: 1.3508 - accuracy: 0.2876 - val_loss: 1.3802 - val_accuracy: 0.2687\n",
            "Epoch 4/50\n",
            "118/118 [==============================] - 15s 129ms/step - loss: 1.3562 - accuracy: 0.2963 - val_loss: 1.3836 - val_accuracy: 0.2687\n",
            "Epoch 5/50\n",
            "118/118 [==============================] - 15s 129ms/step - loss: 1.3446 - accuracy: 0.2830 - val_loss: 1.3778 - val_accuracy: 0.2672\n",
            "Epoch 6/50\n",
            "118/118 [==============================] - 15s 129ms/step - loss: 1.3546 - accuracy: 0.2759 - val_loss: 1.3939 - val_accuracy: 0.2672\n",
            "Epoch 7/50\n",
            "118/118 [==============================] - 15s 129ms/step - loss: 1.3536 - accuracy: 0.3076 - val_loss: 1.3810 - val_accuracy: 0.2763\n",
            "Epoch 8/50\n",
            "118/118 [==============================] - 15s 129ms/step - loss: 1.3562 - accuracy: 0.2757 - val_loss: 1.3868 - val_accuracy: 0.2672\n",
            "Epoch 9/50\n",
            "118/118 [==============================] - 15s 129ms/step - loss: 1.3500 - accuracy: 0.3097 - val_loss: 1.3827 - val_accuracy: 0.2687\n",
            "Epoch 10/50\n",
            "118/118 [==============================] - 15s 129ms/step - loss: 1.3563 - accuracy: 0.2851 - val_loss: 1.3844 - val_accuracy: 0.2687\n",
            "Epoch 11/50\n",
            "118/118 [==============================] - 15s 129ms/step - loss: 1.3590 - accuracy: 0.2852 - val_loss: 1.3857 - val_accuracy: 0.2672\n",
            "Epoch 12/50\n",
            "118/118 [==============================] - 15s 129ms/step - loss: 1.3475 - accuracy: 0.2884 - val_loss: 1.3847 - val_accuracy: 0.2687\n",
            "Epoch 13/50\n",
            "118/118 [==============================] - 15s 129ms/step - loss: 1.3526 - accuracy: 0.3106 - val_loss: 1.3807 - val_accuracy: 0.2672\n",
            "Epoch 14/50\n",
            "118/118 [==============================] - 15s 128ms/step - loss: 1.3523 - accuracy: 0.2837 - val_loss: 1.3831 - val_accuracy: 0.2672\n",
            "Epoch 15/50\n",
            "118/118 [==============================] - 15s 129ms/step - loss: 1.3511 - accuracy: 0.2967 - val_loss: 1.3845 - val_accuracy: 0.2672\n",
            "Epoch 16/50\n",
            "118/118 [==============================] - 15s 129ms/step - loss: 1.3516 - accuracy: 0.3069 - val_loss: 1.3836 - val_accuracy: 0.2672\n",
            "Epoch 17/50\n",
            "118/118 [==============================] - 15s 126ms/step - loss: 1.3510 - accuracy: 0.2825 - val_loss: 1.3823 - val_accuracy: 0.2672\n",
            "Epoch 18/50\n",
            "118/118 [==============================] - 15s 124ms/step - loss: 1.3487 - accuracy: 0.3110 - val_loss: 1.3839 - val_accuracy: 0.2672\n",
            "Epoch 19/50\n",
            "118/118 [==============================] - 15s 124ms/step - loss: 1.3449 - accuracy: 0.3027 - val_loss: 1.3812 - val_accuracy: 0.2687\n",
            "Epoch 20/50\n",
            "118/118 [==============================] - 15s 124ms/step - loss: 1.3516 - accuracy: 0.2970 - val_loss: 1.3844 - val_accuracy: 0.2687\n",
            "Epoch 21/50\n",
            "118/118 [==============================] - 15s 124ms/step - loss: 1.3543 - accuracy: 0.2956 - val_loss: 1.3838 - val_accuracy: 0.2687\n",
            "Epoch 22/50\n",
            "118/118 [==============================] - 15s 124ms/step - loss: 1.3527 - accuracy: 0.2838 - val_loss: 1.3848 - val_accuracy: 0.2672\n",
            "Epoch 23/50\n",
            "118/118 [==============================] - 15s 124ms/step - loss: 1.3495 - accuracy: 0.2836 - val_loss: 1.3832 - val_accuracy: 0.2672\n",
            "Epoch 24/50\n",
            "118/118 [==============================] - 15s 124ms/step - loss: 1.3521 - accuracy: 0.2757 - val_loss: 1.3820 - val_accuracy: 0.2687\n",
            "Epoch 25/50\n",
            "118/118 [==============================] - 15s 124ms/step - loss: 1.3529 - accuracy: 0.2981 - val_loss: 1.3819 - val_accuracy: 0.2672\n",
            "Epoch 26/50\n",
            "118/118 [==============================] - 15s 124ms/step - loss: 1.3552 - accuracy: 0.2867 - val_loss: 1.3851 - val_accuracy: 0.2672\n",
            "Epoch 27/50\n",
            "118/118 [==============================] - 15s 124ms/step - loss: 1.3577 - accuracy: 0.2952 - val_loss: 1.3849 - val_accuracy: 0.2672\n",
            "Epoch 28/50\n",
            "118/118 [==============================] - 15s 124ms/step - loss: 1.3552 - accuracy: 0.2841 - val_loss: 1.3839 - val_accuracy: 0.2672\n",
            "Epoch 29/50\n",
            "118/118 [==============================] - 15s 124ms/step - loss: 1.3520 - accuracy: 0.2745 - val_loss: 1.3821 - val_accuracy: 0.2672\n",
            "Epoch 30/50\n",
            "118/118 [==============================] - 15s 124ms/step - loss: 1.3516 - accuracy: 0.2899 - val_loss: 1.3836 - val_accuracy: 0.2672\n",
            "Epoch 31/50\n",
            "118/118 [==============================] - 15s 124ms/step - loss: 1.3521 - accuracy: 0.2987 - val_loss: 1.3832 - val_accuracy: 0.2687\n",
            "Epoch 32/50\n",
            "118/118 [==============================] - 15s 124ms/step - loss: 1.3515 - accuracy: 0.2789 - val_loss: 1.3844 - val_accuracy: 0.2672\n",
            "Epoch 33/50\n",
            "118/118 [==============================] - 15s 124ms/step - loss: 1.3438 - accuracy: 0.3050 - val_loss: 1.3806 - val_accuracy: 0.2672\n",
            "Epoch 34/50\n",
            "118/118 [==============================] - 15s 124ms/step - loss: 1.3487 - accuracy: 0.3205 - val_loss: 1.3803 - val_accuracy: 0.2687\n",
            "Epoch 35/50\n",
            "118/118 [==============================] - 15s 124ms/step - loss: 1.3498 - accuracy: 0.2593 - val_loss: 1.3849 - val_accuracy: 0.2672\n",
            "Epoch 36/50\n",
            "118/118 [==============================] - 15s 124ms/step - loss: 1.3538 - accuracy: 0.2971 - val_loss: 1.3852 - val_accuracy: 0.2672\n",
            "Epoch 37/50\n",
            "118/118 [==============================] - 15s 124ms/step - loss: 1.3488 - accuracy: 0.3111 - val_loss: 1.3819 - val_accuracy: 0.2672\n",
            "Epoch 38/50\n",
            "118/118 [==============================] - 15s 124ms/step - loss: 1.3518 - accuracy: 0.3061 - val_loss: 1.3823 - val_accuracy: 0.2687\n",
            "Epoch 39/50\n",
            "118/118 [==============================] - 15s 124ms/step - loss: 1.3482 - accuracy: 0.3017 - val_loss: 1.3813 - val_accuracy: 0.2672\n",
            "Epoch 40/50\n",
            "118/118 [==============================] - 15s 124ms/step - loss: 1.3508 - accuracy: 0.2915 - val_loss: 1.3831 - val_accuracy: 0.2672\n",
            "Epoch 41/50\n",
            "118/118 [==============================] - 15s 124ms/step - loss: 1.3495 - accuracy: 0.2997 - val_loss: 1.3830 - val_accuracy: 0.2672\n",
            "Epoch 42/50\n",
            "118/118 [==============================] - 15s 124ms/step - loss: 1.3515 - accuracy: 0.3031 - val_loss: 1.3826 - val_accuracy: 0.2687\n",
            "Epoch 43/50\n",
            "118/118 [==============================] - 15s 124ms/step - loss: 1.3519 - accuracy: 0.3049 - val_loss: 1.3810 - val_accuracy: 0.2672\n",
            "Epoch 44/50\n",
            "118/118 [==============================] - 15s 124ms/step - loss: 1.3487 - accuracy: 0.2994 - val_loss: 1.3818 - val_accuracy: 0.2672\n",
            "Epoch 45/50\n",
            "118/118 [==============================] - 15s 124ms/step - loss: 1.3505 - accuracy: 0.2771 - val_loss: 1.3801 - val_accuracy: 0.2672\n",
            "Epoch 46/50\n",
            "118/118 [==============================] - 15s 124ms/step - loss: 1.3492 - accuracy: 0.2966 - val_loss: 1.3827 - val_accuracy: 0.2687\n",
            "Epoch 47/50\n",
            "118/118 [==============================] - 15s 124ms/step - loss: 1.3598 - accuracy: 0.2787 - val_loss: 1.3880 - val_accuracy: 0.2687\n",
            "Epoch 48/50\n",
            "118/118 [==============================] - 15s 124ms/step - loss: 1.3579 - accuracy: 0.2862 - val_loss: 1.3853 - val_accuracy: 0.2672\n",
            "Epoch 49/50\n",
            "118/118 [==============================] - 15s 124ms/step - loss: 1.3607 - accuracy: 0.3001 - val_loss: 1.3839 - val_accuracy: 0.2672\n",
            "Epoch 50/50\n",
            "118/118 [==============================] - 15s 124ms/step - loss: 1.3590 - accuracy: 0.2762 - val_loss: 1.3867 - val_accuracy: 0.2672\n"
          ],
          "name": "stdout"
        }
      ]
    },
    {
      "cell_type": "markdown",
      "metadata": {
        "id": "KNCMltDYVtw9"
      },
      "source": [
        "###VGG16 RGB With TFL"
      ]
    },
    {
      "cell_type": "code",
      "metadata": {
        "id": "Zg0jSaj6RXxQ"
      },
      "source": [
        "modelVGG16_tfl = create_vgg_model(16,X_train_rgb.shape[1:], True)"
      ],
      "execution_count": null,
      "outputs": []
    },
    {
      "cell_type": "code",
      "metadata": {
        "colab": {
          "base_uri": "https://localhost:8080/"
        },
        "id": "0jOgvYPIVtQY",
        "outputId": "88b2b0eb-6ca5-40b5-f9fe-3974bc36c959"
      },
      "source": [
        "history_modelVGG16_tfl = modelVGG16_tfl.fit(X_train_rgb, y_train_rgb, batch_size=batch_size, epochs=50, validation_data=(X_val_rgb, y_val_rgb))"
      ],
      "execution_count": null,
      "outputs": [
        {
          "output_type": "stream",
          "text": [
            "Epoch 1/50\n",
            "118/118 [==============================] - 7s 51ms/step - loss: 2.3429 - accuracy: 0.5188 - val_loss: 0.5019 - val_accuracy: 0.8137\n",
            "Epoch 2/50\n",
            "118/118 [==============================] - 6s 49ms/step - loss: 0.5051 - accuracy: 0.8061 - val_loss: 0.5182 - val_accuracy: 0.7954\n",
            "Epoch 3/50\n",
            "118/118 [==============================] - 6s 49ms/step - loss: 0.3471 - accuracy: 0.8623 - val_loss: 0.6735 - val_accuracy: 0.7542\n",
            "Epoch 4/50\n",
            "118/118 [==============================] - 6s 49ms/step - loss: 0.3285 - accuracy: 0.8726 - val_loss: 0.4028 - val_accuracy: 0.8504\n",
            "Epoch 5/50\n",
            "118/118 [==============================] - 6s 49ms/step - loss: 0.2910 - accuracy: 0.8901 - val_loss: 0.3268 - val_accuracy: 0.8840\n",
            "Epoch 6/50\n",
            "118/118 [==============================] - 6s 49ms/step - loss: 0.2334 - accuracy: 0.9117 - val_loss: 0.3478 - val_accuracy: 0.8931\n",
            "Epoch 7/50\n",
            "118/118 [==============================] - 6s 49ms/step - loss: 0.2190 - accuracy: 0.9207 - val_loss: 0.3892 - val_accuracy: 0.8641\n",
            "Epoch 8/50\n",
            "118/118 [==============================] - 6s 49ms/step - loss: 0.1817 - accuracy: 0.9326 - val_loss: 0.3340 - val_accuracy: 0.8992\n",
            "Epoch 9/50\n",
            "118/118 [==============================] - 6s 49ms/step - loss: 0.1516 - accuracy: 0.9462 - val_loss: 0.3075 - val_accuracy: 0.8962\n",
            "Epoch 10/50\n",
            "118/118 [==============================] - 6s 49ms/step - loss: 0.1428 - accuracy: 0.9490 - val_loss: 0.3396 - val_accuracy: 0.8992\n",
            "Epoch 11/50\n",
            "118/118 [==============================] - 6s 49ms/step - loss: 0.1667 - accuracy: 0.9332 - val_loss: 0.3228 - val_accuracy: 0.8885\n",
            "Epoch 12/50\n",
            "118/118 [==============================] - 6s 49ms/step - loss: 0.1410 - accuracy: 0.9466 - val_loss: 0.5362 - val_accuracy: 0.8443\n",
            "Epoch 13/50\n",
            "118/118 [==============================] - 6s 49ms/step - loss: 0.1036 - accuracy: 0.9634 - val_loss: 0.2964 - val_accuracy: 0.9099\n",
            "Epoch 14/50\n",
            "118/118 [==============================] - 6s 49ms/step - loss: 0.1129 - accuracy: 0.9599 - val_loss: 0.3079 - val_accuracy: 0.8992\n",
            "Epoch 15/50\n",
            "118/118 [==============================] - 6s 49ms/step - loss: 0.0813 - accuracy: 0.9694 - val_loss: 0.2690 - val_accuracy: 0.9221\n",
            "Epoch 16/50\n",
            "118/118 [==============================] - 6s 49ms/step - loss: 0.0807 - accuracy: 0.9665 - val_loss: 0.3886 - val_accuracy: 0.8763\n",
            "Epoch 17/50\n",
            "118/118 [==============================] - 6s 49ms/step - loss: 0.0776 - accuracy: 0.9701 - val_loss: 0.3077 - val_accuracy: 0.9176\n",
            "Epoch 18/50\n",
            "118/118 [==============================] - 6s 49ms/step - loss: 0.1073 - accuracy: 0.9546 - val_loss: 0.3038 - val_accuracy: 0.8977\n",
            "Epoch 19/50\n",
            "118/118 [==============================] - 6s 49ms/step - loss: 0.0871 - accuracy: 0.9661 - val_loss: 0.3161 - val_accuracy: 0.8901\n",
            "Epoch 20/50\n",
            "118/118 [==============================] - 6s 49ms/step - loss: 0.0860 - accuracy: 0.9685 - val_loss: 0.2706 - val_accuracy: 0.9130\n",
            "Epoch 21/50\n",
            "118/118 [==============================] - 6s 49ms/step - loss: 0.0728 - accuracy: 0.9713 - val_loss: 0.3222 - val_accuracy: 0.9176\n",
            "Epoch 22/50\n",
            "118/118 [==============================] - 6s 49ms/step - loss: 0.0757 - accuracy: 0.9747 - val_loss: 0.3335 - val_accuracy: 0.9176\n",
            "Epoch 23/50\n",
            "118/118 [==============================] - 6s 49ms/step - loss: 0.0710 - accuracy: 0.9743 - val_loss: 0.3090 - val_accuracy: 0.9267\n",
            "Epoch 24/50\n",
            "118/118 [==============================] - 6s 49ms/step - loss: 0.0749 - accuracy: 0.9701 - val_loss: 0.4253 - val_accuracy: 0.9160\n",
            "Epoch 25/50\n",
            "118/118 [==============================] - 6s 49ms/step - loss: 0.0888 - accuracy: 0.9628 - val_loss: 0.4906 - val_accuracy: 0.8870\n",
            "Epoch 26/50\n",
            "118/118 [==============================] - 6s 49ms/step - loss: 0.0929 - accuracy: 0.9636 - val_loss: 0.3608 - val_accuracy: 0.9267\n",
            "Epoch 27/50\n",
            "118/118 [==============================] - 6s 49ms/step - loss: 0.0379 - accuracy: 0.9859 - val_loss: 0.3377 - val_accuracy: 0.8977\n",
            "Epoch 28/50\n",
            "118/118 [==============================] - 6s 49ms/step - loss: 0.0654 - accuracy: 0.9731 - val_loss: 0.3083 - val_accuracy: 0.9221\n",
            "Epoch 29/50\n",
            "118/118 [==============================] - 6s 49ms/step - loss: 0.0468 - accuracy: 0.9783 - val_loss: 0.3235 - val_accuracy: 0.9145\n",
            "Epoch 30/50\n",
            "118/118 [==============================] - 6s 49ms/step - loss: 0.0910 - accuracy: 0.9629 - val_loss: 0.3389 - val_accuracy: 0.9176\n",
            "Epoch 31/50\n",
            "118/118 [==============================] - 6s 49ms/step - loss: 0.0645 - accuracy: 0.9760 - val_loss: 0.4406 - val_accuracy: 0.8855\n",
            "Epoch 32/50\n",
            "118/118 [==============================] - 6s 49ms/step - loss: 0.0645 - accuracy: 0.9732 - val_loss: 0.3396 - val_accuracy: 0.9267\n",
            "Epoch 33/50\n",
            "118/118 [==============================] - 6s 49ms/step - loss: 0.0612 - accuracy: 0.9788 - val_loss: 0.3720 - val_accuracy: 0.9252\n",
            "Epoch 34/50\n",
            "118/118 [==============================] - 6s 49ms/step - loss: 0.0722 - accuracy: 0.9747 - val_loss: 0.3356 - val_accuracy: 0.9282\n",
            "Epoch 35/50\n",
            "118/118 [==============================] - 6s 49ms/step - loss: 0.0439 - accuracy: 0.9856 - val_loss: 0.4661 - val_accuracy: 0.9130\n",
            "Epoch 36/50\n",
            "118/118 [==============================] - 6s 49ms/step - loss: 0.0589 - accuracy: 0.9788 - val_loss: 0.3606 - val_accuracy: 0.9282\n",
            "Epoch 37/50\n",
            "118/118 [==============================] - 6s 49ms/step - loss: 0.0306 - accuracy: 0.9905 - val_loss: 0.3470 - val_accuracy: 0.9221\n",
            "Epoch 38/50\n",
            "118/118 [==============================] - 6s 49ms/step - loss: 0.0227 - accuracy: 0.9918 - val_loss: 0.4818 - val_accuracy: 0.9115\n",
            "Epoch 39/50\n",
            "118/118 [==============================] - 6s 49ms/step - loss: 0.0609 - accuracy: 0.9795 - val_loss: 0.4625 - val_accuracy: 0.9069\n",
            "Epoch 40/50\n",
            "118/118 [==============================] - 6s 49ms/step - loss: 0.0754 - accuracy: 0.9732 - val_loss: 0.4129 - val_accuracy: 0.9053\n",
            "Epoch 41/50\n",
            "118/118 [==============================] - 6s 49ms/step - loss: 0.0366 - accuracy: 0.9888 - val_loss: 0.3835 - val_accuracy: 0.9252\n",
            "Epoch 42/50\n",
            "118/118 [==============================] - 6s 49ms/step - loss: 0.1744 - accuracy: 0.9505 - val_loss: 0.3491 - val_accuracy: 0.9282\n",
            "Epoch 43/50\n",
            "118/118 [==============================] - 6s 49ms/step - loss: 0.0459 - accuracy: 0.9843 - val_loss: 0.4096 - val_accuracy: 0.8992\n",
            "Epoch 44/50\n",
            "118/118 [==============================] - 6s 49ms/step - loss: 0.0827 - accuracy: 0.9678 - val_loss: 0.3730 - val_accuracy: 0.9359\n",
            "Epoch 45/50\n",
            "118/118 [==============================] - 6s 49ms/step - loss: 0.0522 - accuracy: 0.9774 - val_loss: 0.2921 - val_accuracy: 0.9282\n",
            "Epoch 46/50\n",
            "118/118 [==============================] - 6s 49ms/step - loss: 0.0386 - accuracy: 0.9848 - val_loss: 0.3871 - val_accuracy: 0.8962\n",
            "Epoch 47/50\n",
            "118/118 [==============================] - 6s 49ms/step - loss: 0.0329 - accuracy: 0.9866 - val_loss: 0.3412 - val_accuracy: 0.9282\n",
            "Epoch 48/50\n",
            "118/118 [==============================] - 6s 49ms/step - loss: 0.0173 - accuracy: 0.9937 - val_loss: 0.3222 - val_accuracy: 0.9374\n",
            "Epoch 49/50\n",
            "118/118 [==============================] - 6s 49ms/step - loss: 0.0311 - accuracy: 0.9890 - val_loss: 0.3819 - val_accuracy: 0.9344\n",
            "Epoch 50/50\n",
            "118/118 [==============================] - 6s 49ms/step - loss: 0.0586 - accuracy: 0.9759 - val_loss: 0.4138 - val_accuracy: 0.9145\n"
          ],
          "name": "stdout"
        }
      ]
    },
    {
      "cell_type": "markdown",
      "metadata": {
        "id": "N9_KIdYGkKAl"
      },
      "source": [
        "##Training VGG19"
      ]
    },
    {
      "cell_type": "markdown",
      "metadata": {
        "id": "5G9ECfOnj7tk"
      },
      "source": [
        "###VGG19 RGB"
      ]
    },
    {
      "cell_type": "code",
      "metadata": {
        "id": "2ieAbRXs9nNN"
      },
      "source": [
        "modelVGG19_rgb = create_vgg_model(19,X_train_rgb.shape[1:])"
      ],
      "execution_count": null,
      "outputs": []
    },
    {
      "cell_type": "code",
      "metadata": {
        "colab": {
          "base_uri": "https://localhost:8080/"
        },
        "id": "9KuRzLfZRUI4",
        "outputId": "a20bf92f-a05f-4964-cabb-502363763733"
      },
      "source": [
        "history_modelVGG19_rgb = modelVGG19_rgb.fit(X_train_rgb, y_train_rgb, batch_size=batch_size, epochs=50, validation_data=(X_val_rgb, y_val_rgb))"
      ],
      "execution_count": null,
      "outputs": [
        {
          "output_type": "stream",
          "text": [
            "Epoch 1/50\n",
            "118/118 [==============================] - 19s 151ms/step - loss: 1.3584 - accuracy: 0.2742 - val_loss: 1.3767 - val_accuracy: 0.2763\n",
            "Epoch 2/50\n",
            "118/118 [==============================] - 17s 148ms/step - loss: 1.3621 - accuracy: 0.2572 - val_loss: 1.4069 - val_accuracy: 0.2672\n",
            "Epoch 3/50\n",
            "118/118 [==============================] - 17s 148ms/step - loss: 1.3582 - accuracy: 0.2991 - val_loss: 1.3881 - val_accuracy: 0.2672\n",
            "Epoch 4/50\n",
            "118/118 [==============================] - 17s 148ms/step - loss: 1.3604 - accuracy: 0.2931 - val_loss: 1.3874 - val_accuracy: 0.2687\n",
            "Epoch 5/50\n",
            "118/118 [==============================] - 17s 148ms/step - loss: 1.3515 - accuracy: 0.2873 - val_loss: 1.3800 - val_accuracy: 0.2672\n",
            "Epoch 6/50\n",
            "118/118 [==============================] - 17s 148ms/step - loss: 1.3567 - accuracy: 0.2792 - val_loss: 1.3907 - val_accuracy: 0.2672\n",
            "Epoch 7/50\n",
            "118/118 [==============================] - 17s 148ms/step - loss: 1.3588 - accuracy: 0.2881 - val_loss: 1.3948 - val_accuracy: 0.2672\n",
            "Epoch 8/50\n",
            "118/118 [==============================] - 17s 148ms/step - loss: 1.3507 - accuracy: 0.2972 - val_loss: 1.3872 - val_accuracy: 0.2672\n",
            "Epoch 9/50\n",
            "118/118 [==============================] - 17s 148ms/step - loss: 1.3512 - accuracy: 0.3102 - val_loss: 1.3871 - val_accuracy: 0.2672\n",
            "Epoch 10/50\n",
            "118/118 [==============================] - 17s 148ms/step - loss: 1.3528 - accuracy: 0.2789 - val_loss: 1.3832 - val_accuracy: 0.2687\n",
            "Epoch 11/50\n",
            "118/118 [==============================] - 17s 148ms/step - loss: 1.3460 - accuracy: 0.2730 - val_loss: 1.3803 - val_accuracy: 0.2687\n",
            "Epoch 12/50\n",
            "118/118 [==============================] - 17s 148ms/step - loss: 1.3501 - accuracy: 0.2813 - val_loss: 1.3787 - val_accuracy: 0.2687\n",
            "Epoch 13/50\n",
            "118/118 [==============================] - 17s 148ms/step - loss: 1.3588 - accuracy: 0.2675 - val_loss: 1.3873 - val_accuracy: 0.2687\n",
            "Epoch 14/50\n",
            "118/118 [==============================] - 17s 148ms/step - loss: 1.3530 - accuracy: 0.2742 - val_loss: 1.3857 - val_accuracy: 0.2672\n",
            "Epoch 15/50\n",
            "118/118 [==============================] - 17s 148ms/step - loss: 1.3600 - accuracy: 0.2747 - val_loss: 1.3935 - val_accuracy: 0.2672\n",
            "Epoch 16/50\n",
            "118/118 [==============================] - 17s 148ms/step - loss: 1.3494 - accuracy: 0.3069 - val_loss: 1.3826 - val_accuracy: 0.2687\n",
            "Epoch 17/50\n",
            "118/118 [==============================] - 17s 148ms/step - loss: 1.3467 - accuracy: 0.3062 - val_loss: 1.3793 - val_accuracy: 0.2672\n",
            "Epoch 18/50\n",
            "118/118 [==============================] - 17s 147ms/step - loss: 1.3491 - accuracy: 0.2984 - val_loss: 1.3796 - val_accuracy: 0.2687\n",
            "Epoch 19/50\n",
            "118/118 [==============================] - 17s 148ms/step - loss: 1.3574 - accuracy: 0.2906 - val_loss: 1.3810 - val_accuracy: 0.2687\n",
            "Epoch 20/50\n",
            "118/118 [==============================] - 17s 148ms/step - loss: 1.3503 - accuracy: 0.3045 - val_loss: 1.3805 - val_accuracy: 0.2687\n",
            "Epoch 21/50\n",
            "118/118 [==============================] - 17s 148ms/step - loss: 1.3537 - accuracy: 0.2731 - val_loss: 1.3863 - val_accuracy: 0.2672\n",
            "Epoch 22/50\n",
            "118/118 [==============================] - 17s 148ms/step - loss: 1.3472 - accuracy: 0.2910 - val_loss: 1.3829 - val_accuracy: 0.2687\n",
            "Epoch 23/50\n",
            "118/118 [==============================] - 17s 148ms/step - loss: 1.3496 - accuracy: 0.2730 - val_loss: 1.3790 - val_accuracy: 0.2687\n",
            "Epoch 24/50\n",
            "118/118 [==============================] - 17s 148ms/step - loss: 1.3479 - accuracy: 0.3012 - val_loss: 1.3824 - val_accuracy: 0.2672\n",
            "Epoch 25/50\n",
            "118/118 [==============================] - 17s 148ms/step - loss: 1.3571 - accuracy: 0.3017 - val_loss: 1.3829 - val_accuracy: 0.2687\n",
            "Epoch 26/50\n",
            "118/118 [==============================] - 17s 148ms/step - loss: 1.3453 - accuracy: 0.3092 - val_loss: 1.3809 - val_accuracy: 0.2672\n",
            "Epoch 27/50\n",
            "118/118 [==============================] - 17s 148ms/step - loss: 1.3602 - accuracy: 0.2906 - val_loss: 1.3868 - val_accuracy: 0.2672\n",
            "Epoch 28/50\n",
            "118/118 [==============================] - 17s 148ms/step - loss: 1.3537 - accuracy: 0.2984 - val_loss: 1.3828 - val_accuracy: 0.2672\n",
            "Epoch 29/50\n",
            "118/118 [==============================] - 17s 148ms/step - loss: 1.3504 - accuracy: 0.3077 - val_loss: 1.3808 - val_accuracy: 0.2687\n",
            "Epoch 30/50\n",
            "118/118 [==============================] - 17s 148ms/step - loss: 1.3619 - accuracy: 0.2753 - val_loss: 1.3884 - val_accuracy: 0.2672\n",
            "Epoch 31/50\n",
            "118/118 [==============================] - 17s 148ms/step - loss: 1.3548 - accuracy: 0.3043 - val_loss: 1.3817 - val_accuracy: 0.2672\n",
            "Epoch 32/50\n",
            "118/118 [==============================] - 17s 148ms/step - loss: 1.3526 - accuracy: 0.2830 - val_loss: 1.3823 - val_accuracy: 0.2672\n",
            "Epoch 33/50\n",
            "118/118 [==============================] - 17s 148ms/step - loss: 1.3565 - accuracy: 0.3085 - val_loss: 1.3850 - val_accuracy: 0.2687\n",
            "Epoch 34/50\n",
            "118/118 [==============================] - 17s 148ms/step - loss: 1.3610 - accuracy: 0.2866 - val_loss: 1.3869 - val_accuracy: 0.2672\n",
            "Epoch 35/50\n",
            "118/118 [==============================] - 17s 148ms/step - loss: 1.3499 - accuracy: 0.2997 - val_loss: 1.3829 - val_accuracy: 0.2672\n",
            "Epoch 36/50\n",
            "118/118 [==============================] - 17s 148ms/step - loss: 1.3529 - accuracy: 0.2797 - val_loss: 1.3848 - val_accuracy: 0.2687\n",
            "Epoch 37/50\n",
            "118/118 [==============================] - 17s 148ms/step - loss: 1.3556 - accuracy: 0.2888 - val_loss: 1.3833 - val_accuracy: 0.2672\n",
            "Epoch 38/50\n",
            "118/118 [==============================] - 17s 148ms/step - loss: 1.3498 - accuracy: 0.2885 - val_loss: 1.3822 - val_accuracy: 0.2687\n",
            "Epoch 39/50\n",
            "118/118 [==============================] - 17s 148ms/step - loss: 1.3479 - accuracy: 0.2954 - val_loss: 1.3829 - val_accuracy: 0.2687\n",
            "Epoch 40/50\n",
            "118/118 [==============================] - 17s 148ms/step - loss: 1.3506 - accuracy: 0.2835 - val_loss: 1.3823 - val_accuracy: 0.2672\n",
            "Epoch 41/50\n",
            "118/118 [==============================] - 17s 148ms/step - loss: 1.3505 - accuracy: 0.3052 - val_loss: 1.3831 - val_accuracy: 0.2672\n",
            "Epoch 42/50\n",
            "118/118 [==============================] - 17s 148ms/step - loss: 1.3440 - accuracy: 0.2900 - val_loss: 1.3818 - val_accuracy: 0.2672\n",
            "Epoch 43/50\n",
            "118/118 [==============================] - 17s 148ms/step - loss: 1.3652 - accuracy: 0.2964 - val_loss: 1.3842 - val_accuracy: 0.2672\n",
            "Epoch 44/50\n",
            "118/118 [==============================] - 17s 148ms/step - loss: 1.3567 - accuracy: 0.2730 - val_loss: 1.3849 - val_accuracy: 0.2672\n",
            "Epoch 45/50\n",
            "118/118 [==============================] - 17s 148ms/step - loss: 1.3494 - accuracy: 0.2963 - val_loss: 1.3812 - val_accuracy: 0.2687\n",
            "Epoch 46/50\n",
            "118/118 [==============================] - 17s 147ms/step - loss: 1.3516 - accuracy: 0.2985 - val_loss: 1.3834 - val_accuracy: 0.2672\n",
            "Epoch 47/50\n",
            "118/118 [==============================] - 17s 147ms/step - loss: 1.3599 - accuracy: 0.2795 - val_loss: 1.3832 - val_accuracy: 0.2672\n",
            "Epoch 48/50\n",
            "118/118 [==============================] - 17s 148ms/step - loss: 1.3510 - accuracy: 0.2970 - val_loss: 1.3826 - val_accuracy: 0.2672\n",
            "Epoch 49/50\n",
            "118/118 [==============================] - 17s 148ms/step - loss: 1.3516 - accuracy: 0.2746 - val_loss: 1.3818 - val_accuracy: 0.2672\n",
            "Epoch 50/50\n",
            "118/118 [==============================] - 17s 148ms/step - loss: 1.3513 - accuracy: 0.3061 - val_loss: 1.3827 - val_accuracy: 0.2672\n"
          ],
          "name": "stdout"
        }
      ]
    },
    {
      "cell_type": "markdown",
      "metadata": {
        "id": "cM3IalbmkMwc"
      },
      "source": [
        "###VGG19 GS"
      ]
    },
    {
      "cell_type": "code",
      "metadata": {
        "id": "UPwsUeJa9r31"
      },
      "source": [
        "modelVGG19_gs = create_vgg_model(19,X_train_gs.shape[1:])"
      ],
      "execution_count": null,
      "outputs": []
    },
    {
      "cell_type": "code",
      "metadata": {
        "colab": {
          "base_uri": "https://localhost:8080/"
        },
        "id": "q0ZYQlqHRgeD",
        "outputId": "9d32a6c4-f012-452a-b4a2-ede6a745b9e1"
      },
      "source": [
        "history_modelVGG19_gs = modelVGG19_gs.fit(X_train_gs, y_train_gs, batch_size=batch_size, epochs=50, validation_data=(X_val_gs, y_val_gs))"
      ],
      "execution_count": null,
      "outputs": [
        {
          "output_type": "stream",
          "text": [
            "Epoch 1/50\n",
            "118/118 [==============================] - 19s 152ms/step - loss: 1.3712 - accuracy: 0.2810 - val_loss: 1.3981 - val_accuracy: 0.2672\n",
            "Epoch 2/50\n",
            "118/118 [==============================] - 17s 148ms/step - loss: 1.3537 - accuracy: 0.2950 - val_loss: 1.3868 - val_accuracy: 0.2672\n",
            "Epoch 3/50\n",
            "118/118 [==============================] - 18s 148ms/step - loss: 1.3497 - accuracy: 0.2931 - val_loss: 1.3862 - val_accuracy: 0.2672\n",
            "Epoch 4/50\n",
            "118/118 [==============================] - 17s 148ms/step - loss: 1.3579 - accuracy: 0.2965 - val_loss: 1.3880 - val_accuracy: 0.2672\n",
            "Epoch 5/50\n",
            "118/118 [==============================] - 17s 148ms/step - loss: 1.3579 - accuracy: 0.3026 - val_loss: 1.3792 - val_accuracy: 0.2763\n",
            "Epoch 6/50\n",
            "118/118 [==============================] - 17s 148ms/step - loss: 1.3502 - accuracy: 0.2676 - val_loss: 1.3816 - val_accuracy: 0.2687\n",
            "Epoch 7/50\n",
            "118/118 [==============================] - 17s 148ms/step - loss: 1.3575 - accuracy: 0.2639 - val_loss: 1.3826 - val_accuracy: 0.2672\n",
            "Epoch 8/50\n",
            "118/118 [==============================] - 17s 148ms/step - loss: 1.3647 - accuracy: 0.2942 - val_loss: 1.3893 - val_accuracy: 0.2687\n",
            "Epoch 9/50\n",
            "118/118 [==============================] - 17s 148ms/step - loss: 1.3489 - accuracy: 0.2985 - val_loss: 1.3833 - val_accuracy: 0.2672\n",
            "Epoch 10/50\n",
            "118/118 [==============================] - 17s 148ms/step - loss: 1.3572 - accuracy: 0.2810 - val_loss: 1.3883 - val_accuracy: 0.2672\n",
            "Epoch 11/50\n",
            "118/118 [==============================] - 17s 148ms/step - loss: 1.3503 - accuracy: 0.2853 - val_loss: 1.3802 - val_accuracy: 0.2672\n",
            "Epoch 12/50\n",
            "118/118 [==============================] - 17s 148ms/step - loss: 1.3556 - accuracy: 0.2927 - val_loss: 1.3847 - val_accuracy: 0.2687\n",
            "Epoch 13/50\n",
            "118/118 [==============================] - 17s 148ms/step - loss: 1.3595 - accuracy: 0.2795 - val_loss: 1.3828 - val_accuracy: 0.2687\n",
            "Epoch 14/50\n",
            "118/118 [==============================] - 17s 148ms/step - loss: 1.3464 - accuracy: 0.2736 - val_loss: 1.3822 - val_accuracy: 0.2672\n",
            "Epoch 15/50\n",
            "118/118 [==============================] - 17s 148ms/step - loss: 1.3455 - accuracy: 0.2799 - val_loss: 1.3791 - val_accuracy: 0.2672\n",
            "Epoch 16/50\n",
            "118/118 [==============================] - 17s 148ms/step - loss: 1.3441 - accuracy: 0.3080 - val_loss: 1.3786 - val_accuracy: 0.2672\n",
            "Epoch 17/50\n",
            "118/118 [==============================] - 17s 148ms/step - loss: 1.3540 - accuracy: 0.2879 - val_loss: 1.3834 - val_accuracy: 0.2672\n",
            "Epoch 18/50\n",
            "118/118 [==============================] - 17s 148ms/step - loss: 1.3586 - accuracy: 0.2838 - val_loss: 1.3836 - val_accuracy: 0.2672\n",
            "Epoch 19/50\n",
            "118/118 [==============================] - 17s 148ms/step - loss: 1.3519 - accuracy: 0.2926 - val_loss: 1.3830 - val_accuracy: 0.2672\n",
            "Epoch 20/50\n",
            "118/118 [==============================] - 17s 148ms/step - loss: 1.3509 - accuracy: 0.2994 - val_loss: 1.3834 - val_accuracy: 0.2672\n",
            "Epoch 21/50\n",
            "118/118 [==============================] - 17s 148ms/step - loss: 1.3484 - accuracy: 0.2686 - val_loss: 1.3847 - val_accuracy: 0.2672\n",
            "Epoch 22/50\n",
            "118/118 [==============================] - 17s 147ms/step - loss: 1.3419 - accuracy: 0.2908 - val_loss: 1.3817 - val_accuracy: 0.2672\n",
            "Epoch 23/50\n",
            "118/118 [==============================] - 17s 148ms/step - loss: 1.3413 - accuracy: 0.3097 - val_loss: 1.3800 - val_accuracy: 0.2687\n",
            "Epoch 24/50\n",
            "118/118 [==============================] - 17s 147ms/step - loss: 1.3576 - accuracy: 0.2809 - val_loss: 1.3860 - val_accuracy: 0.2672\n",
            "Epoch 25/50\n",
            "118/118 [==============================] - 17s 147ms/step - loss: 1.3497 - accuracy: 0.2986 - val_loss: 1.3846 - val_accuracy: 0.2672\n",
            "Epoch 26/50\n",
            "118/118 [==============================] - 17s 148ms/step - loss: 1.3492 - accuracy: 0.3022 - val_loss: 1.3823 - val_accuracy: 0.2672\n",
            "Epoch 27/50\n",
            "118/118 [==============================] - 17s 147ms/step - loss: 1.3477 - accuracy: 0.3038 - val_loss: 1.3813 - val_accuracy: 0.2672\n",
            "Epoch 28/50\n",
            "118/118 [==============================] - 17s 148ms/step - loss: 1.3522 - accuracy: 0.2856 - val_loss: 1.3820 - val_accuracy: 0.2672\n",
            "Epoch 29/50\n",
            "118/118 [==============================] - 17s 148ms/step - loss: 1.3474 - accuracy: 0.2967 - val_loss: 1.3819 - val_accuracy: 0.2672\n",
            "Epoch 30/50\n",
            "118/118 [==============================] - 17s 148ms/step - loss: 1.3532 - accuracy: 0.2814 - val_loss: 1.3832 - val_accuracy: 0.2672\n",
            "Epoch 31/50\n",
            "118/118 [==============================] - 17s 148ms/step - loss: 1.3518 - accuracy: 0.3002 - val_loss: 1.3828 - val_accuracy: 0.2672\n",
            "Epoch 32/50\n",
            "118/118 [==============================] - 17s 148ms/step - loss: 1.3542 - accuracy: 0.3057 - val_loss: 1.3827 - val_accuracy: 0.2672\n",
            "Epoch 33/50\n",
            "118/118 [==============================] - 17s 148ms/step - loss: 1.3536 - accuracy: 0.2642 - val_loss: 1.3839 - val_accuracy: 0.2672\n",
            "Epoch 34/50\n",
            "118/118 [==============================] - 17s 148ms/step - loss: 1.3556 - accuracy: 0.2957 - val_loss: 1.3850 - val_accuracy: 0.2672\n",
            "Epoch 35/50\n",
            "118/118 [==============================] - 17s 148ms/step - loss: 1.3582 - accuracy: 0.2820 - val_loss: 1.3847 - val_accuracy: 0.2672\n",
            "Epoch 36/50\n",
            "118/118 [==============================] - 17s 148ms/step - loss: 1.3620 - accuracy: 0.2798 - val_loss: 1.3878 - val_accuracy: 0.2672\n",
            "Epoch 37/50\n",
            "118/118 [==============================] - 17s 148ms/step - loss: 1.3561 - accuracy: 0.2963 - val_loss: 1.3827 - val_accuracy: 0.2672\n",
            "Epoch 38/50\n",
            "118/118 [==============================] - 17s 148ms/step - loss: 1.3567 - accuracy: 0.2866 - val_loss: 1.3861 - val_accuracy: 0.2672\n",
            "Epoch 39/50\n",
            "118/118 [==============================] - 17s 148ms/step - loss: 1.3580 - accuracy: 0.2723 - val_loss: 1.3827 - val_accuracy: 0.2672\n",
            "Epoch 40/50\n",
            "118/118 [==============================] - 17s 148ms/step - loss: 1.3548 - accuracy: 0.2736 - val_loss: 1.3855 - val_accuracy: 0.2672\n",
            "Epoch 41/50\n",
            "118/118 [==============================] - 17s 148ms/step - loss: 1.3483 - accuracy: 0.3199 - val_loss: 1.3831 - val_accuracy: 0.2672\n",
            "Epoch 42/50\n",
            "118/118 [==============================] - 17s 148ms/step - loss: 1.3504 - accuracy: 0.2858 - val_loss: 1.3819 - val_accuracy: 0.2672\n",
            "Epoch 43/50\n",
            "118/118 [==============================] - 17s 148ms/step - loss: 1.3514 - accuracy: 0.3000 - val_loss: 1.3817 - val_accuracy: 0.2672\n",
            "Epoch 44/50\n",
            "118/118 [==============================] - 17s 148ms/step - loss: 1.3569 - accuracy: 0.2725 - val_loss: 1.3843 - val_accuracy: 0.2672\n",
            "Epoch 45/50\n",
            "118/118 [==============================] - 17s 148ms/step - loss: 1.3452 - accuracy: 0.2879 - val_loss: 1.3830 - val_accuracy: 0.2672\n",
            "Epoch 46/50\n",
            "118/118 [==============================] - 17s 148ms/step - loss: 1.3554 - accuracy: 0.2942 - val_loss: 1.3852 - val_accuracy: 0.2672\n",
            "Epoch 47/50\n",
            "118/118 [==============================] - 17s 148ms/step - loss: 1.3550 - accuracy: 0.2850 - val_loss: 1.3842 - val_accuracy: 0.2672\n",
            "Epoch 48/50\n",
            "118/118 [==============================] - 17s 148ms/step - loss: 1.3555 - accuracy: 0.2893 - val_loss: 1.3839 - val_accuracy: 0.2672\n",
            "Epoch 49/50\n",
            "118/118 [==============================] - 17s 147ms/step - loss: 1.3483 - accuracy: 0.2972 - val_loss: 1.3829 - val_accuracy: 0.2672\n",
            "Epoch 50/50\n",
            "118/118 [==============================] - 17s 148ms/step - loss: 1.3591 - accuracy: 0.2898 - val_loss: 1.3847 - val_accuracy: 0.2672\n"
          ],
          "name": "stdout"
        }
      ]
    },
    {
      "cell_type": "markdown",
      "metadata": {
        "id": "wTleB1xxXmwV"
      },
      "source": [
        "###VGG19 RGB With TFL"
      ]
    },
    {
      "cell_type": "code",
      "metadata": {
        "id": "JgkHw-GB951X"
      },
      "source": [
        "modelVGG19_tfl = create_vgg_model(19,X_train_rgb.shape[1:],True)"
      ],
      "execution_count": null,
      "outputs": []
    },
    {
      "cell_type": "code",
      "metadata": {
        "colab": {
          "base_uri": "https://localhost:8080/"
        },
        "id": "5FsMqh4FXqml",
        "outputId": "040270a4-c561-4dea-c6ec-5efbc3bf22c4"
      },
      "source": [
        "history_modelVGG19_tfl = modelVGG19_tfl.fit(X_train_rgb, y_train_rgb, batch_size=batch_size, epochs=50, validation_data=(X_val_rgb, y_val_rgb))"
      ],
      "execution_count": null,
      "outputs": [
        {
          "output_type": "stream",
          "text": [
            "Epoch 1/50\n",
            "118/118 [==============================] - 8s 61ms/step - loss: 3.3892 - accuracy: 0.4601 - val_loss: 0.5966 - val_accuracy: 0.7481\n",
            "Epoch 2/50\n",
            "118/118 [==============================] - 7s 59ms/step - loss: 0.5768 - accuracy: 0.7680 - val_loss: 0.5263 - val_accuracy: 0.8061\n",
            "Epoch 3/50\n",
            "118/118 [==============================] - 7s 59ms/step - loss: 0.4854 - accuracy: 0.8090 - val_loss: 0.5029 - val_accuracy: 0.8321\n",
            "Epoch 4/50\n",
            "118/118 [==============================] - 7s 59ms/step - loss: 0.3726 - accuracy: 0.8500 - val_loss: 0.4091 - val_accuracy: 0.8565\n",
            "Epoch 5/50\n",
            "118/118 [==============================] - 7s 59ms/step - loss: 0.3766 - accuracy: 0.8506 - val_loss: 0.5865 - val_accuracy: 0.7969\n",
            "Epoch 6/50\n",
            "118/118 [==============================] - 7s 59ms/step - loss: 0.4225 - accuracy: 0.8415 - val_loss: 0.4012 - val_accuracy: 0.8443\n",
            "Epoch 7/50\n",
            "118/118 [==============================] - 7s 59ms/step - loss: 0.3049 - accuracy: 0.8803 - val_loss: 0.3336 - val_accuracy: 0.8870\n",
            "Epoch 8/50\n",
            "118/118 [==============================] - 7s 59ms/step - loss: 0.2647 - accuracy: 0.9014 - val_loss: 0.3841 - val_accuracy: 0.8656\n",
            "Epoch 9/50\n",
            "118/118 [==============================] - 7s 59ms/step - loss: 0.2155 - accuracy: 0.9233 - val_loss: 0.4300 - val_accuracy: 0.8641\n",
            "Epoch 10/50\n",
            "118/118 [==============================] - 7s 59ms/step - loss: 0.2268 - accuracy: 0.9161 - val_loss: 0.3761 - val_accuracy: 0.8794\n",
            "Epoch 11/50\n",
            "118/118 [==============================] - 7s 59ms/step - loss: 0.2236 - accuracy: 0.9118 - val_loss: 0.3672 - val_accuracy: 0.8565\n",
            "Epoch 12/50\n",
            "118/118 [==============================] - 7s 59ms/step - loss: 0.1901 - accuracy: 0.9232 - val_loss: 0.3438 - val_accuracy: 0.9008\n",
            "Epoch 13/50\n",
            "118/118 [==============================] - 7s 59ms/step - loss: 0.1695 - accuracy: 0.9367 - val_loss: 0.3565 - val_accuracy: 0.9038\n",
            "Epoch 14/50\n",
            "118/118 [==============================] - 7s 59ms/step - loss: 0.1802 - accuracy: 0.9295 - val_loss: 0.3838 - val_accuracy: 0.8718\n",
            "Epoch 15/50\n",
            "118/118 [==============================] - 7s 59ms/step - loss: 0.2030 - accuracy: 0.9226 - val_loss: 0.3369 - val_accuracy: 0.9008\n",
            "Epoch 16/50\n",
            "118/118 [==============================] - 7s 59ms/step - loss: 0.1611 - accuracy: 0.9394 - val_loss: 0.6841 - val_accuracy: 0.7573\n",
            "Epoch 17/50\n",
            "118/118 [==============================] - 7s 59ms/step - loss: 0.2376 - accuracy: 0.9150 - val_loss: 0.3130 - val_accuracy: 0.9115\n",
            "Epoch 18/50\n",
            "118/118 [==============================] - 7s 59ms/step - loss: 0.1307 - accuracy: 0.9513 - val_loss: 0.4080 - val_accuracy: 0.8916\n",
            "Epoch 19/50\n",
            "118/118 [==============================] - 7s 59ms/step - loss: 0.1172 - accuracy: 0.9567 - val_loss: 0.3844 - val_accuracy: 0.8977\n",
            "Epoch 20/50\n",
            "118/118 [==============================] - 7s 59ms/step - loss: 0.1374 - accuracy: 0.9488 - val_loss: 0.3543 - val_accuracy: 0.8992\n",
            "Epoch 21/50\n",
            "118/118 [==============================] - 7s 59ms/step - loss: 0.1479 - accuracy: 0.9417 - val_loss: 0.3520 - val_accuracy: 0.9053\n",
            "Epoch 22/50\n",
            "118/118 [==============================] - 7s 59ms/step - loss: 0.1349 - accuracy: 0.9496 - val_loss: 0.3699 - val_accuracy: 0.8977\n",
            "Epoch 23/50\n",
            "118/118 [==============================] - 7s 59ms/step - loss: 0.0846 - accuracy: 0.9685 - val_loss: 0.3842 - val_accuracy: 0.9008\n",
            "Epoch 24/50\n",
            "118/118 [==============================] - 7s 59ms/step - loss: 0.0748 - accuracy: 0.9747 - val_loss: 0.4164 - val_accuracy: 0.8702\n",
            "Epoch 25/50\n",
            "118/118 [==============================] - 7s 59ms/step - loss: 0.1249 - accuracy: 0.9568 - val_loss: 0.3729 - val_accuracy: 0.9099\n",
            "Epoch 26/50\n",
            "118/118 [==============================] - 7s 59ms/step - loss: 0.0882 - accuracy: 0.9749 - val_loss: 0.4152 - val_accuracy: 0.9008\n",
            "Epoch 27/50\n",
            "118/118 [==============================] - 7s 59ms/step - loss: 0.0794 - accuracy: 0.9738 - val_loss: 0.3710 - val_accuracy: 0.9115\n",
            "Epoch 28/50\n",
            "118/118 [==============================] - 7s 59ms/step - loss: 0.0761 - accuracy: 0.9724 - val_loss: 0.6046 - val_accuracy: 0.8443\n",
            "Epoch 29/50\n",
            "118/118 [==============================] - 7s 59ms/step - loss: 0.1285 - accuracy: 0.9496 - val_loss: 0.4079 - val_accuracy: 0.9023\n",
            "Epoch 30/50\n",
            "118/118 [==============================] - 7s 59ms/step - loss: 0.0638 - accuracy: 0.9744 - val_loss: 0.3724 - val_accuracy: 0.9160\n",
            "Epoch 31/50\n",
            "118/118 [==============================] - 7s 59ms/step - loss: 0.1016 - accuracy: 0.9697 - val_loss: 0.3342 - val_accuracy: 0.9160\n",
            "Epoch 32/50\n",
            "118/118 [==============================] - 7s 59ms/step - loss: 0.0649 - accuracy: 0.9777 - val_loss: 0.4270 - val_accuracy: 0.9023\n",
            "Epoch 33/50\n",
            "118/118 [==============================] - 7s 59ms/step - loss: 0.1202 - accuracy: 0.9495 - val_loss: 0.3829 - val_accuracy: 0.8992\n",
            "Epoch 34/50\n",
            "118/118 [==============================] - 7s 59ms/step - loss: 0.0786 - accuracy: 0.9752 - val_loss: 0.5306 - val_accuracy: 0.8748\n",
            "Epoch 35/50\n",
            "118/118 [==============================] - 7s 59ms/step - loss: 0.0905 - accuracy: 0.9633 - val_loss: 0.4714 - val_accuracy: 0.8870\n",
            "Epoch 36/50\n",
            "118/118 [==============================] - 7s 59ms/step - loss: 0.0605 - accuracy: 0.9745 - val_loss: 0.3445 - val_accuracy: 0.9206\n",
            "Epoch 37/50\n",
            "118/118 [==============================] - 7s 59ms/step - loss: 0.0648 - accuracy: 0.9785 - val_loss: 0.5587 - val_accuracy: 0.8824\n",
            "Epoch 38/50\n",
            "118/118 [==============================] - 7s 59ms/step - loss: 0.0640 - accuracy: 0.9749 - val_loss: 0.4032 - val_accuracy: 0.9130\n",
            "Epoch 39/50\n",
            "118/118 [==============================] - 7s 59ms/step - loss: 0.0838 - accuracy: 0.9669 - val_loss: 0.4618 - val_accuracy: 0.9038\n",
            "Epoch 40/50\n",
            "118/118 [==============================] - 7s 59ms/step - loss: 0.1259 - accuracy: 0.9505 - val_loss: 0.4300 - val_accuracy: 0.9160\n",
            "Epoch 41/50\n",
            "118/118 [==============================] - 7s 59ms/step - loss: 0.0770 - accuracy: 0.9738 - val_loss: 0.4859 - val_accuracy: 0.8733\n",
            "Epoch 42/50\n",
            "118/118 [==============================] - 7s 59ms/step - loss: 0.1158 - accuracy: 0.9612 - val_loss: 0.4153 - val_accuracy: 0.9130\n",
            "Epoch 43/50\n",
            "118/118 [==============================] - 7s 59ms/step - loss: 0.0465 - accuracy: 0.9869 - val_loss: 0.3739 - val_accuracy: 0.9176\n",
            "Epoch 44/50\n",
            "118/118 [==============================] - 7s 59ms/step - loss: 0.0397 - accuracy: 0.9855 - val_loss: 0.3338 - val_accuracy: 0.9298\n",
            "Epoch 45/50\n",
            "118/118 [==============================] - 7s 59ms/step - loss: 0.0332 - accuracy: 0.9888 - val_loss: 0.3842 - val_accuracy: 0.8901\n",
            "Epoch 46/50\n",
            "118/118 [==============================] - 7s 59ms/step - loss: 0.0781 - accuracy: 0.9640 - val_loss: 0.3999 - val_accuracy: 0.9191\n",
            "Epoch 47/50\n",
            "118/118 [==============================] - 7s 59ms/step - loss: 0.0392 - accuracy: 0.9843 - val_loss: 0.4786 - val_accuracy: 0.8962\n",
            "Epoch 48/50\n",
            "118/118 [==============================] - 7s 59ms/step - loss: 0.0602 - accuracy: 0.9741 - val_loss: 0.4430 - val_accuracy: 0.9084\n",
            "Epoch 49/50\n",
            "118/118 [==============================] - 7s 59ms/step - loss: 0.0931 - accuracy: 0.9659 - val_loss: 0.4168 - val_accuracy: 0.9038\n",
            "Epoch 50/50\n",
            "118/118 [==============================] - 7s 59ms/step - loss: 0.1068 - accuracy: 0.9540 - val_loss: 0.3511 - val_accuracy: 0.9130\n"
          ],
          "name": "stdout"
        }
      ]
    },
    {
      "cell_type": "markdown",
      "metadata": {
        "id": "DjjfrTZxlXr8"
      },
      "source": [
        "##Training Xception"
      ]
    },
    {
      "cell_type": "markdown",
      "metadata": {
        "id": "91iZB2g2mLHk"
      },
      "source": [
        "###Xception RGB"
      ]
    },
    {
      "cell_type": "code",
      "metadata": {
        "id": "BuD-E3ZZ-F-9"
      },
      "source": [
        "modelXception_rgb = create_Xception_model(X_train_rgb.shape[1:])"
      ],
      "execution_count": null,
      "outputs": []
    },
    {
      "cell_type": "code",
      "metadata": {
        "colab": {
          "base_uri": "https://localhost:8080/"
        },
        "id": "v0y3HX0kVflA",
        "outputId": "e95190e5-b116-4ef5-82fb-aabcc871eca9"
      },
      "source": [
        "history_modelXception_rgb = modelXception_rgb.fit(X_train_rgb, y_train_rgb, batch_size=batch_size, epochs=50, validation_data=(X_val_rgb, y_val_rgb))"
      ],
      "execution_count": null,
      "outputs": [
        {
          "output_type": "stream",
          "text": [
            "Epoch 1/50\n",
            "118/118 [==============================] - 72s 318ms/step - loss: 1.1886 - accuracy: 0.5276 - val_loss: 1.3863 - val_accuracy: 0.2763\n",
            "Epoch 2/50\n",
            "118/118 [==============================] - 35s 299ms/step - loss: 0.6221 - accuracy: 0.7597 - val_loss: 1.4031 - val_accuracy: 0.1878\n",
            "Epoch 3/50\n",
            "118/118 [==============================] - 35s 299ms/step - loss: 0.4488 - accuracy: 0.8239 - val_loss: 1.3842 - val_accuracy: 0.3145\n",
            "Epoch 4/50\n",
            "118/118 [==============================] - 35s 298ms/step - loss: 0.3818 - accuracy: 0.8646 - val_loss: 1.1427 - val_accuracy: 0.4641\n",
            "Epoch 5/50\n",
            "118/118 [==============================] - 35s 298ms/step - loss: 0.2876 - accuracy: 0.8937 - val_loss: 0.4978 - val_accuracy: 0.8275\n",
            "Epoch 6/50\n",
            "118/118 [==============================] - 35s 299ms/step - loss: 0.2492 - accuracy: 0.9112 - val_loss: 0.4151 - val_accuracy: 0.8534\n",
            "Epoch 7/50\n",
            "118/118 [==============================] - 35s 299ms/step - loss: 0.2375 - accuracy: 0.9148 - val_loss: 3.2910 - val_accuracy: 0.6168\n",
            "Epoch 8/50\n",
            "118/118 [==============================] - 35s 300ms/step - loss: 0.1605 - accuracy: 0.9298 - val_loss: 0.4728 - val_accuracy: 0.8565\n",
            "Epoch 9/50\n",
            "118/118 [==============================] - 35s 300ms/step - loss: 0.1098 - accuracy: 0.9602 - val_loss: 0.3763 - val_accuracy: 0.8977\n",
            "Epoch 10/50\n",
            "118/118 [==============================] - 35s 300ms/step - loss: 0.1155 - accuracy: 0.9610 - val_loss: 0.4335 - val_accuracy: 0.8611\n",
            "Epoch 11/50\n",
            "118/118 [==============================] - 35s 300ms/step - loss: 0.0694 - accuracy: 0.9723 - val_loss: 0.7301 - val_accuracy: 0.7969\n",
            "Epoch 12/50\n",
            "118/118 [==============================] - 35s 300ms/step - loss: 0.1002 - accuracy: 0.9697 - val_loss: 0.3381 - val_accuracy: 0.9237\n",
            "Epoch 13/50\n",
            "118/118 [==============================] - 35s 300ms/step - loss: 0.0548 - accuracy: 0.9826 - val_loss: 0.8100 - val_accuracy: 0.8183\n",
            "Epoch 14/50\n",
            "118/118 [==============================] - 35s 299ms/step - loss: 0.0819 - accuracy: 0.9743 - val_loss: 0.3267 - val_accuracy: 0.9252\n",
            "Epoch 15/50\n",
            "118/118 [==============================] - 35s 299ms/step - loss: 0.1069 - accuracy: 0.9613 - val_loss: 0.5974 - val_accuracy: 0.8641\n",
            "Epoch 16/50\n",
            "118/118 [==============================] - 35s 300ms/step - loss: 0.0994 - accuracy: 0.9709 - val_loss: 0.3715 - val_accuracy: 0.9237\n",
            "Epoch 17/50\n",
            "118/118 [==============================] - 35s 299ms/step - loss: 0.0575 - accuracy: 0.9829 - val_loss: 0.3023 - val_accuracy: 0.9298\n",
            "Epoch 18/50\n",
            "118/118 [==============================] - 35s 299ms/step - loss: 0.0327 - accuracy: 0.9893 - val_loss: 0.2513 - val_accuracy: 0.9252\n",
            "Epoch 19/50\n",
            "118/118 [==============================] - 35s 300ms/step - loss: 0.0443 - accuracy: 0.9868 - val_loss: 0.2971 - val_accuracy: 0.9344\n",
            "Epoch 20/50\n",
            "118/118 [==============================] - 35s 299ms/step - loss: 0.0322 - accuracy: 0.9894 - val_loss: 1.7822 - val_accuracy: 0.7176\n",
            "Epoch 21/50\n",
            "118/118 [==============================] - 35s 299ms/step - loss: 0.1677 - accuracy: 0.9611 - val_loss: 0.3591 - val_accuracy: 0.9145\n",
            "Epoch 22/50\n",
            "118/118 [==============================] - 35s 300ms/step - loss: 0.0720 - accuracy: 0.9757 - val_loss: 0.3926 - val_accuracy: 0.9160\n",
            "Epoch 23/50\n",
            "118/118 [==============================] - 35s 300ms/step - loss: 0.0680 - accuracy: 0.9810 - val_loss: 0.6681 - val_accuracy: 0.8748\n",
            "Epoch 24/50\n",
            "118/118 [==============================] - 35s 300ms/step - loss: 0.0424 - accuracy: 0.9857 - val_loss: 0.5697 - val_accuracy: 0.8901\n",
            "Epoch 25/50\n",
            "118/118 [==============================] - 35s 300ms/step - loss: 0.0406 - accuracy: 0.9889 - val_loss: 0.2631 - val_accuracy: 0.9435\n",
            "Epoch 26/50\n",
            "118/118 [==============================] - 35s 299ms/step - loss: 0.0359 - accuracy: 0.9900 - val_loss: 0.8992 - val_accuracy: 0.8305\n",
            "Epoch 27/50\n",
            "118/118 [==============================] - 35s 298ms/step - loss: 0.0531 - accuracy: 0.9781 - val_loss: 0.2900 - val_accuracy: 0.9298\n",
            "Epoch 28/50\n",
            "118/118 [==============================] - 35s 300ms/step - loss: 0.0201 - accuracy: 0.9933 - val_loss: 0.2249 - val_accuracy: 0.9389\n",
            "Epoch 29/50\n",
            "118/118 [==============================] - 35s 300ms/step - loss: 0.0051 - accuracy: 0.9991 - val_loss: 0.2266 - val_accuracy: 0.9405\n",
            "Epoch 30/50\n",
            "118/118 [==============================] - 35s 300ms/step - loss: 0.0132 - accuracy: 0.9961 - val_loss: 0.3602 - val_accuracy: 0.9084\n",
            "Epoch 31/50\n",
            "118/118 [==============================] - 35s 300ms/step - loss: 0.0635 - accuracy: 0.9789 - val_loss: 2.7518 - val_accuracy: 0.6931\n",
            "Epoch 32/50\n",
            "118/118 [==============================] - 35s 301ms/step - loss: 0.0694 - accuracy: 0.9681 - val_loss: 0.5831 - val_accuracy: 0.8809\n",
            "Epoch 33/50\n",
            "118/118 [==============================] - 35s 299ms/step - loss: 0.0351 - accuracy: 0.9874 - val_loss: 0.4567 - val_accuracy: 0.9084\n",
            "Epoch 34/50\n",
            "118/118 [==============================] - 35s 300ms/step - loss: 0.0620 - accuracy: 0.9793 - val_loss: 0.7823 - val_accuracy: 0.8580\n",
            "Epoch 35/50\n",
            "118/118 [==============================] - 35s 299ms/step - loss: 0.0197 - accuracy: 0.9929 - val_loss: 0.5083 - val_accuracy: 0.9053\n",
            "Epoch 36/50\n",
            "118/118 [==============================] - 35s 299ms/step - loss: 0.0111 - accuracy: 0.9976 - val_loss: 0.4629 - val_accuracy: 0.9221\n",
            "Epoch 37/50\n",
            "118/118 [==============================] - 35s 300ms/step - loss: 0.0094 - accuracy: 0.9979 - val_loss: 0.2293 - val_accuracy: 0.9374\n",
            "Epoch 38/50\n",
            "118/118 [==============================] - 35s 299ms/step - loss: 0.0034 - accuracy: 0.9992 - val_loss: 0.3011 - val_accuracy: 0.9374\n",
            "Epoch 39/50\n",
            "118/118 [==============================] - 35s 300ms/step - loss: 0.0277 - accuracy: 0.9918 - val_loss: 0.3847 - val_accuracy: 0.9145\n",
            "Epoch 40/50\n",
            "118/118 [==============================] - 35s 299ms/step - loss: 0.0336 - accuracy: 0.9889 - val_loss: 0.8273 - val_accuracy: 0.8153\n",
            "Epoch 41/50\n",
            "118/118 [==============================] - 35s 299ms/step - loss: 0.0955 - accuracy: 0.9693 - val_loss: 0.5375 - val_accuracy: 0.9084\n",
            "Epoch 42/50\n",
            "118/118 [==============================] - 35s 300ms/step - loss: 0.0631 - accuracy: 0.9794 - val_loss: 2.4774 - val_accuracy: 0.6687\n",
            "Epoch 43/50\n",
            "118/118 [==============================] - 35s 300ms/step - loss: 0.0598 - accuracy: 0.9838 - val_loss: 0.5345 - val_accuracy: 0.8779\n",
            "Epoch 44/50\n",
            "118/118 [==============================] - 35s 300ms/step - loss: 0.0082 - accuracy: 0.9979 - val_loss: 0.2706 - val_accuracy: 0.9389\n",
            "Epoch 45/50\n",
            "118/118 [==============================] - 35s 298ms/step - loss: 0.0059 - accuracy: 0.9983 - val_loss: 0.2466 - val_accuracy: 0.9481\n",
            "Epoch 46/50\n",
            "118/118 [==============================] - 35s 299ms/step - loss: 0.0030 - accuracy: 0.9993 - val_loss: 0.2637 - val_accuracy: 0.9389\n",
            "Epoch 47/50\n",
            "118/118 [==============================] - 35s 300ms/step - loss: 0.0021 - accuracy: 0.9992 - val_loss: 0.2783 - val_accuracy: 0.9405\n",
            "Epoch 48/50\n",
            "118/118 [==============================] - 35s 299ms/step - loss: 0.0036 - accuracy: 0.9984 - val_loss: 0.2703 - val_accuracy: 0.9420\n",
            "Epoch 49/50\n",
            "118/118 [==============================] - 35s 299ms/step - loss: 0.0016 - accuracy: 0.9996 - val_loss: 0.2893 - val_accuracy: 0.9420\n",
            "Epoch 50/50\n",
            "118/118 [==============================] - 35s 298ms/step - loss: 0.0025 - accuracy: 0.9988 - val_loss: 0.2842 - val_accuracy: 0.9435\n"
          ],
          "name": "stdout"
        }
      ]
    },
    {
      "cell_type": "markdown",
      "metadata": {
        "id": "G6mFixT1mP00"
      },
      "source": [
        "###Xception GS"
      ]
    },
    {
      "cell_type": "code",
      "metadata": {
        "id": "wxElYcQj-HA0"
      },
      "source": [
        "modelXception_gs = create_Xception_model(X_train_gs.shape[1:])"
      ],
      "execution_count": null,
      "outputs": []
    },
    {
      "cell_type": "code",
      "metadata": {
        "colab": {
          "base_uri": "https://localhost:8080/"
        },
        "id": "fbUGNaq1VGzQ",
        "outputId": "4788b12c-65e7-4e0f-ec4f-62487a0f44e4"
      },
      "source": [
        "history_modelXception_gs = modelXception_gs.fit(X_train_gs, y_train_gs, batch_size=batch_size, epochs=50, validation_data=(X_val_gs, y_val_gs))"
      ],
      "execution_count": null,
      "outputs": [
        {
          "output_type": "stream",
          "text": [
            "Epoch 1/50\n",
            "118/118 [==============================] - 41s 304ms/step - loss: 1.0815 - accuracy: 0.5534 - val_loss: 1.3851 - val_accuracy: 0.2763\n",
            "Epoch 2/50\n",
            "118/118 [==============================] - 35s 297ms/step - loss: 0.6507 - accuracy: 0.7635 - val_loss: 1.3886 - val_accuracy: 0.1878\n",
            "Epoch 3/50\n",
            "118/118 [==============================] - 35s 296ms/step - loss: 0.5171 - accuracy: 0.8114 - val_loss: 1.4023 - val_accuracy: 0.1878\n",
            "Epoch 4/50\n",
            "118/118 [==============================] - 35s 296ms/step - loss: 0.2544 - accuracy: 0.9088 - val_loss: 1.2516 - val_accuracy: 0.5130\n",
            "Epoch 5/50\n",
            "118/118 [==============================] - 35s 298ms/step - loss: 0.2417 - accuracy: 0.9180 - val_loss: 0.5754 - val_accuracy: 0.7557\n",
            "Epoch 6/50\n",
            "118/118 [==============================] - 35s 297ms/step - loss: 0.1954 - accuracy: 0.9312 - val_loss: 0.4815 - val_accuracy: 0.8458\n",
            "Epoch 7/50\n",
            "118/118 [==============================] - 35s 297ms/step - loss: 0.1702 - accuracy: 0.9385 - val_loss: 0.5408 - val_accuracy: 0.8519\n",
            "Epoch 8/50\n",
            "118/118 [==============================] - 35s 297ms/step - loss: 0.1486 - accuracy: 0.9470 - val_loss: 0.4270 - val_accuracy: 0.8748\n",
            "Epoch 9/50\n",
            "118/118 [==============================] - 35s 297ms/step - loss: 0.0876 - accuracy: 0.9718 - val_loss: 0.6375 - val_accuracy: 0.8519\n",
            "Epoch 10/50\n",
            "118/118 [==============================] - 35s 296ms/step - loss: 0.1230 - accuracy: 0.9586 - val_loss: 1.1249 - val_accuracy: 0.7206\n",
            "Epoch 11/50\n",
            "118/118 [==============================] - 35s 296ms/step - loss: 0.0936 - accuracy: 0.9652 - val_loss: 0.4543 - val_accuracy: 0.8901\n",
            "Epoch 12/50\n",
            "118/118 [==============================] - 35s 296ms/step - loss: 0.1071 - accuracy: 0.9680 - val_loss: 1.0979 - val_accuracy: 0.7863\n",
            "Epoch 13/50\n",
            "118/118 [==============================] - 35s 297ms/step - loss: 0.0825 - accuracy: 0.9759 - val_loss: 0.4698 - val_accuracy: 0.8733\n",
            "Epoch 14/50\n",
            "118/118 [==============================] - 35s 297ms/step - loss: 0.1261 - accuracy: 0.9638 - val_loss: 0.3915 - val_accuracy: 0.8977\n",
            "Epoch 15/50\n",
            "118/118 [==============================] - 35s 298ms/step - loss: 0.0790 - accuracy: 0.9728 - val_loss: 0.2876 - val_accuracy: 0.9099\n",
            "Epoch 16/50\n",
            "118/118 [==============================] - 35s 297ms/step - loss: 0.0380 - accuracy: 0.9898 - val_loss: 0.5710 - val_accuracy: 0.8656\n",
            "Epoch 17/50\n",
            "118/118 [==============================] - 35s 297ms/step - loss: 0.0360 - accuracy: 0.9867 - val_loss: 0.5214 - val_accuracy: 0.8870\n",
            "Epoch 18/50\n",
            "118/118 [==============================] - 35s 297ms/step - loss: 0.0402 - accuracy: 0.9863 - val_loss: 0.4142 - val_accuracy: 0.8885\n",
            "Epoch 19/50\n",
            "118/118 [==============================] - 35s 298ms/step - loss: 0.1208 - accuracy: 0.9655 - val_loss: 0.7304 - val_accuracy: 0.8290\n",
            "Epoch 20/50\n",
            "118/118 [==============================] - 35s 298ms/step - loss: 0.0915 - accuracy: 0.9717 - val_loss: 0.7179 - val_accuracy: 0.8641\n",
            "Epoch 21/50\n",
            "118/118 [==============================] - 35s 297ms/step - loss: 0.0796 - accuracy: 0.9783 - val_loss: 0.3321 - val_accuracy: 0.9237\n",
            "Epoch 22/50\n",
            "118/118 [==============================] - 35s 297ms/step - loss: 0.0231 - accuracy: 0.9929 - val_loss: 0.3260 - val_accuracy: 0.9191\n",
            "Epoch 23/50\n",
            "118/118 [==============================] - 35s 297ms/step - loss: 0.0108 - accuracy: 0.9962 - val_loss: 0.3862 - val_accuracy: 0.9145\n",
            "Epoch 24/50\n",
            "118/118 [==============================] - 35s 297ms/step - loss: 0.0349 - accuracy: 0.9902 - val_loss: 0.3584 - val_accuracy: 0.9130\n",
            "Epoch 25/50\n",
            "118/118 [==============================] - 35s 298ms/step - loss: 0.0096 - accuracy: 0.9959 - val_loss: 0.2845 - val_accuracy: 0.9237\n",
            "Epoch 26/50\n",
            "118/118 [==============================] - 35s 298ms/step - loss: 0.0177 - accuracy: 0.9944 - val_loss: 1.1938 - val_accuracy: 0.7847\n",
            "Epoch 27/50\n",
            "118/118 [==============================] - 35s 297ms/step - loss: 0.0951 - accuracy: 0.9761 - val_loss: 0.8419 - val_accuracy: 0.8550\n",
            "Epoch 28/50\n",
            "118/118 [==============================] - 35s 296ms/step - loss: 0.0508 - accuracy: 0.9849 - val_loss: 1.1876 - val_accuracy: 0.7863\n",
            "Epoch 29/50\n",
            "118/118 [==============================] - 35s 297ms/step - loss: 0.1170 - accuracy: 0.9653 - val_loss: 1.3058 - val_accuracy: 0.7771\n",
            "Epoch 30/50\n",
            "118/118 [==============================] - 35s 297ms/step - loss: 0.1037 - accuracy: 0.9704 - val_loss: 0.4700 - val_accuracy: 0.8885\n",
            "Epoch 31/50\n",
            "118/118 [==============================] - 35s 297ms/step - loss: 0.0238 - accuracy: 0.9940 - val_loss: 0.2809 - val_accuracy: 0.9252\n",
            "Epoch 32/50\n",
            "118/118 [==============================] - 35s 298ms/step - loss: 0.0081 - accuracy: 0.9973 - val_loss: 0.1837 - val_accuracy: 0.9557\n",
            "Epoch 33/50\n",
            "118/118 [==============================] - 35s 297ms/step - loss: 0.0089 - accuracy: 0.9965 - val_loss: 0.1884 - val_accuracy: 0.9496\n",
            "Epoch 34/50\n",
            "118/118 [==============================] - 35s 297ms/step - loss: 0.0036 - accuracy: 0.9985 - val_loss: 0.1766 - val_accuracy: 0.9511\n",
            "Epoch 35/50\n",
            "118/118 [==============================] - 35s 297ms/step - loss: 0.0043 - accuracy: 0.9974 - val_loss: 0.2148 - val_accuracy: 0.9496\n",
            "Epoch 36/50\n",
            "118/118 [==============================] - 35s 298ms/step - loss: 0.0032 - accuracy: 0.9989 - val_loss: 0.1897 - val_accuracy: 0.9527\n",
            "Epoch 37/50\n",
            "118/118 [==============================] - 35s 298ms/step - loss: 0.0025 - accuracy: 0.9983 - val_loss: 0.1956 - val_accuracy: 0.9481\n",
            "Epoch 38/50\n",
            "118/118 [==============================] - 35s 298ms/step - loss: 0.0042 - accuracy: 0.9988 - val_loss: 0.1912 - val_accuracy: 0.9511\n",
            "Epoch 39/50\n",
            "118/118 [==============================] - 35s 298ms/step - loss: 8.9581e-04 - accuracy: 0.9999 - val_loss: 0.2552 - val_accuracy: 0.9405\n",
            "Epoch 40/50\n",
            "118/118 [==============================] - 35s 297ms/step - loss: 0.0029 - accuracy: 0.9993 - val_loss: 0.2002 - val_accuracy: 0.9527\n",
            "Epoch 41/50\n",
            "118/118 [==============================] - 35s 298ms/step - loss: 0.0011 - accuracy: 0.9995 - val_loss: 0.2043 - val_accuracy: 0.9466\n",
            "Epoch 42/50\n",
            "118/118 [==============================] - 35s 297ms/step - loss: 0.0035 - accuracy: 0.9990 - val_loss: 0.1913 - val_accuracy: 0.9527\n",
            "Epoch 43/50\n",
            "118/118 [==============================] - 35s 299ms/step - loss: 0.0014 - accuracy: 0.9998 - val_loss: 0.2066 - val_accuracy: 0.9496\n",
            "Epoch 44/50\n",
            "118/118 [==============================] - 35s 296ms/step - loss: 0.0010 - accuracy: 0.9999 - val_loss: 0.2312 - val_accuracy: 0.9466\n",
            "Epoch 45/50\n",
            "118/118 [==============================] - 35s 297ms/step - loss: 0.0052 - accuracy: 0.9987 - val_loss: 0.3836 - val_accuracy: 0.9298\n",
            "Epoch 46/50\n",
            "118/118 [==============================] - 35s 298ms/step - loss: 0.0129 - accuracy: 0.9968 - val_loss: 1.2015 - val_accuracy: 0.8107\n",
            "Epoch 47/50\n",
            "118/118 [==============================] - 35s 298ms/step - loss: 0.4102 - accuracy: 0.8734 - val_loss: 1.2516 - val_accuracy: 0.7893\n",
            "Epoch 48/50\n",
            "118/118 [==============================] - 35s 297ms/step - loss: 0.1076 - accuracy: 0.9608 - val_loss: 0.5714 - val_accuracy: 0.8718\n",
            "Epoch 49/50\n",
            "118/118 [==============================] - 35s 296ms/step - loss: 0.0460 - accuracy: 0.9822 - val_loss: 0.3958 - val_accuracy: 0.9053\n",
            "Epoch 50/50\n",
            "118/118 [==============================] - 35s 297ms/step - loss: 0.0181 - accuracy: 0.9949 - val_loss: 0.2780 - val_accuracy: 0.9252\n"
          ],
          "name": "stdout"
        }
      ]
    },
    {
      "cell_type": "markdown",
      "metadata": {
        "id": "DebmhEwamaTL"
      },
      "source": [
        "###Xception RGB With TFL"
      ]
    },
    {
      "cell_type": "code",
      "metadata": {
        "id": "O8QIzUO2-Rid"
      },
      "source": [
        "modelXception_tfl = create_Xception_model(X_train_rgb.shape[1:], True)"
      ],
      "execution_count": null,
      "outputs": []
    },
    {
      "cell_type": "code",
      "metadata": {
        "colab": {
          "base_uri": "https://localhost:8080/"
        },
        "id": "W3Oh0-IQHQaW",
        "outputId": "ff719c72-b04b-4d2b-9b21-c3e377d8bb2c"
      },
      "source": [
        "history_modelXception_tfl = modelXception_tfl.fit(X_train_rgb, y_train_rgb, batch_size=batch_size, epochs=50, validation_data=(X_val_rgb, y_val_rgb))"
      ],
      "execution_count": null,
      "outputs": [
        {
          "output_type": "stream",
          "text": [
            "Epoch 1/50\n",
            "118/118 [==============================] - 44s 332ms/step - loss: 2.1118 - accuracy: 0.3214 - val_loss: 1.2237 - val_accuracy: 0.3985\n",
            "Epoch 2/50\n",
            "118/118 [==============================] - 39s 327ms/step - loss: 1.0497 - accuracy: 0.5059 - val_loss: 1.1448 - val_accuracy: 0.6244\n",
            "Epoch 3/50\n",
            "118/118 [==============================] - 39s 327ms/step - loss: 0.7656 - accuracy: 0.6562 - val_loss: 0.7166 - val_accuracy: 0.7481\n",
            "Epoch 4/50\n",
            "118/118 [==============================] - 39s 328ms/step - loss: 0.4401 - accuracy: 0.8580 - val_loss: 14.1155 - val_accuracy: 0.4794\n",
            "Epoch 5/50\n",
            "118/118 [==============================] - 39s 328ms/step - loss: 0.3691 - accuracy: 0.8853 - val_loss: 0.2595 - val_accuracy: 0.9252\n",
            "Epoch 6/50\n",
            "118/118 [==============================] - 39s 327ms/step - loss: 0.1873 - accuracy: 0.9493 - val_loss: 0.4482 - val_accuracy: 0.8183\n",
            "Epoch 7/50\n",
            "118/118 [==============================] - 39s 327ms/step - loss: 0.1349 - accuracy: 0.9639 - val_loss: 0.4750 - val_accuracy: 0.8718\n",
            "Epoch 8/50\n",
            "118/118 [==============================] - 39s 327ms/step - loss: 0.2773 - accuracy: 0.9264 - val_loss: 27.6831 - val_accuracy: 0.3313\n",
            "Epoch 9/50\n",
            "118/118 [==============================] - 39s 327ms/step - loss: 0.3718 - accuracy: 0.8956 - val_loss: 1.2791 - val_accuracy: 0.7298\n",
            "Epoch 10/50\n",
            "118/118 [==============================] - 39s 327ms/step - loss: 0.1265 - accuracy: 0.9585 - val_loss: 0.2242 - val_accuracy: 0.9237\n",
            "Epoch 11/50\n",
            "118/118 [==============================] - 38s 326ms/step - loss: 0.0899 - accuracy: 0.9684 - val_loss: 0.2313 - val_accuracy: 0.9389\n",
            "Epoch 12/50\n",
            "118/118 [==============================] - 39s 327ms/step - loss: 0.0554 - accuracy: 0.9811 - val_loss: 0.3212 - val_accuracy: 0.9145\n",
            "Epoch 13/50\n",
            "118/118 [==============================] - 38s 326ms/step - loss: 0.1038 - accuracy: 0.9769 - val_loss: 0.3372 - val_accuracy: 0.9145\n",
            "Epoch 14/50\n",
            "118/118 [==============================] - 39s 327ms/step - loss: 0.0450 - accuracy: 0.9896 - val_loss: 0.5208 - val_accuracy: 0.9008\n",
            "Epoch 15/50\n",
            "118/118 [==============================] - 39s 327ms/step - loss: 0.0857 - accuracy: 0.9735 - val_loss: 0.4349 - val_accuracy: 0.9053\n",
            "Epoch 16/50\n",
            "118/118 [==============================] - 39s 328ms/step - loss: 0.0938 - accuracy: 0.9799 - val_loss: 0.2764 - val_accuracy: 0.9481\n",
            "Epoch 17/50\n",
            "118/118 [==============================] - 39s 327ms/step - loss: 0.0191 - accuracy: 0.9947 - val_loss: 0.8870 - val_accuracy: 0.8168\n",
            "Epoch 18/50\n",
            "118/118 [==============================] - 39s 327ms/step - loss: 0.0694 - accuracy: 0.9806 - val_loss: 0.2971 - val_accuracy: 0.9115\n",
            "Epoch 19/50\n",
            "118/118 [==============================] - 39s 328ms/step - loss: 0.1309 - accuracy: 0.9772 - val_loss: 0.5597 - val_accuracy: 0.8550\n",
            "Epoch 20/50\n",
            "118/118 [==============================] - 39s 327ms/step - loss: 0.0596 - accuracy: 0.9811 - val_loss: 12.4681 - val_accuracy: 0.2092\n",
            "Epoch 21/50\n",
            "118/118 [==============================] - 38s 326ms/step - loss: 0.2295 - accuracy: 0.9350 - val_loss: 0.2307 - val_accuracy: 0.9359\n",
            "Epoch 22/50\n",
            "118/118 [==============================] - 38s 326ms/step - loss: 0.0544 - accuracy: 0.9907 - val_loss: 0.2098 - val_accuracy: 0.9405\n",
            "Epoch 23/50\n",
            "118/118 [==============================] - 38s 326ms/step - loss: 0.0455 - accuracy: 0.9880 - val_loss: 0.3017 - val_accuracy: 0.9115\n",
            "Epoch 24/50\n",
            "118/118 [==============================] - 38s 326ms/step - loss: 0.0695 - accuracy: 0.9814 - val_loss: 0.1933 - val_accuracy: 0.9420\n",
            "Epoch 25/50\n",
            "118/118 [==============================] - 38s 325ms/step - loss: 0.0351 - accuracy: 0.9921 - val_loss: 0.3531 - val_accuracy: 0.9282\n",
            "Epoch 26/50\n",
            "118/118 [==============================] - 38s 326ms/step - loss: 0.0374 - accuracy: 0.9880 - val_loss: 0.2481 - val_accuracy: 0.9420\n",
            "Epoch 27/50\n",
            "118/118 [==============================] - 39s 327ms/step - loss: 0.0436 - accuracy: 0.9883 - val_loss: 0.1710 - val_accuracy: 0.9603\n",
            "Epoch 28/50\n",
            "118/118 [==============================] - 38s 326ms/step - loss: 0.0259 - accuracy: 0.9908 - val_loss: 0.2188 - val_accuracy: 0.9466\n",
            "Epoch 29/50\n",
            "118/118 [==============================] - 38s 326ms/step - loss: 0.0179 - accuracy: 0.9935 - val_loss: 0.1918 - val_accuracy: 0.9603\n",
            "Epoch 30/50\n",
            "118/118 [==============================] - 39s 326ms/step - loss: 0.0178 - accuracy: 0.9958 - val_loss: 0.2531 - val_accuracy: 0.9435\n",
            "Epoch 31/50\n",
            "118/118 [==============================] - 38s 326ms/step - loss: 0.0248 - accuracy: 0.9960 - val_loss: 0.4739 - val_accuracy: 0.9145\n",
            "Epoch 32/50\n",
            "118/118 [==============================] - 39s 327ms/step - loss: 0.1058 - accuracy: 0.9745 - val_loss: 1.9168 - val_accuracy: 0.5496\n",
            "Epoch 33/50\n",
            "118/118 [==============================] - 39s 327ms/step - loss: 0.2356 - accuracy: 0.9374 - val_loss: 0.3623 - val_accuracy: 0.9130\n",
            "Epoch 34/50\n",
            "118/118 [==============================] - 39s 327ms/step - loss: 0.0475 - accuracy: 0.9840 - val_loss: 0.2459 - val_accuracy: 0.9389\n",
            "Epoch 35/50\n",
            "118/118 [==============================] - 39s 327ms/step - loss: 0.0631 - accuracy: 0.9859 - val_loss: 0.2336 - val_accuracy: 0.9298\n",
            "Epoch 36/50\n",
            "118/118 [==============================] - 39s 328ms/step - loss: 0.0420 - accuracy: 0.9898 - val_loss: 0.2615 - val_accuracy: 0.9359\n",
            "Epoch 37/50\n",
            "118/118 [==============================] - 39s 328ms/step - loss: 0.0289 - accuracy: 0.9917 - val_loss: 0.1834 - val_accuracy: 0.9603\n",
            "Epoch 38/50\n",
            "118/118 [==============================] - 38s 326ms/step - loss: 0.0245 - accuracy: 0.9977 - val_loss: 0.2683 - val_accuracy: 0.9313\n",
            "Epoch 39/50\n",
            "118/118 [==============================] - 38s 326ms/step - loss: 0.0356 - accuracy: 0.9937 - val_loss: 0.2733 - val_accuracy: 0.9344\n",
            "Epoch 40/50\n",
            "118/118 [==============================] - 39s 327ms/step - loss: 0.4117 - accuracy: 0.9456 - val_loss: 1.1994 - val_accuracy: 0.9130\n",
            "Epoch 41/50\n",
            "118/118 [==============================] - 38s 326ms/step - loss: 0.1158 - accuracy: 0.9726 - val_loss: 0.4208 - val_accuracy: 0.9145\n",
            "Epoch 42/50\n",
            "118/118 [==============================] - 39s 326ms/step - loss: 0.0806 - accuracy: 0.9780 - val_loss: 0.2512 - val_accuracy: 0.9527\n",
            "Epoch 43/50\n",
            "118/118 [==============================] - 38s 325ms/step - loss: 0.0571 - accuracy: 0.9816 - val_loss: 0.2164 - val_accuracy: 0.9481\n",
            "Epoch 44/50\n",
            "118/118 [==============================] - 38s 325ms/step - loss: 0.0105 - accuracy: 0.9967 - val_loss: 0.2624 - val_accuracy: 0.9359\n",
            "Epoch 45/50\n",
            "118/118 [==============================] - 38s 324ms/step - loss: 0.0260 - accuracy: 0.9882 - val_loss: 0.2744 - val_accuracy: 0.9389\n",
            "Epoch 46/50\n",
            "118/118 [==============================] - 38s 325ms/step - loss: 0.0309 - accuracy: 0.9897 - val_loss: 0.1925 - val_accuracy: 0.9542\n",
            "Epoch 47/50\n",
            "118/118 [==============================] - 38s 325ms/step - loss: 0.0058 - accuracy: 0.9990 - val_loss: 0.2119 - val_accuracy: 0.9588\n",
            "Epoch 48/50\n",
            "118/118 [==============================] - 38s 326ms/step - loss: 0.0036 - accuracy: 0.9990 - val_loss: 0.2384 - val_accuracy: 0.9542\n",
            "Epoch 49/50\n",
            "118/118 [==============================] - 38s 326ms/step - loss: 0.0082 - accuracy: 0.9979 - val_loss: 0.2356 - val_accuracy: 0.9557\n",
            "Epoch 50/50\n",
            "118/118 [==============================] - 38s 326ms/step - loss: 0.0068 - accuracy: 0.9982 - val_loss: 0.2206 - val_accuracy: 0.9573\n"
          ],
          "name": "stdout"
        }
      ]
    },
    {
      "cell_type": "markdown",
      "metadata": {
        "id": "XpRcjsgwmh0c"
      },
      "source": [
        "##Training ResNet"
      ]
    },
    {
      "cell_type": "markdown",
      "metadata": {
        "id": "66kWKnLummU0"
      },
      "source": [
        "### ResNet50 RGB"
      ]
    },
    {
      "cell_type": "code",
      "metadata": {
        "id": "4NVk0Hd-4B0A"
      },
      "source": [
        "modelResnet50_rgb = create_resnet_model(50,X_train_rgb.shape[1:])"
      ],
      "execution_count": null,
      "outputs": []
    },
    {
      "cell_type": "code",
      "metadata": {
        "colab": {
          "base_uri": "https://localhost:8080/"
        },
        "id": "t7_DqvBfTy05",
        "outputId": "7c074b16-d804-4975-8f17-8bb0ab8b2843"
      },
      "source": [
        "history_modelResnet50_rgb = modelResnet50_rgb.fit(X_train_rgb, y_train_rgb, batch_size=batch_size, epochs=50, validation_data=(X_val_rgb, y_val_rgb))"
      ],
      "execution_count": null,
      "outputs": [
        {
          "output_type": "stream",
          "text": [
            "Epoch 1/50\n",
            "118/118 [==============================] - 66s 250ms/step - loss: 2.1029 - accuracy: 0.5064 - val_loss: 2.0674 - val_accuracy: 0.2824\n",
            "Epoch 2/50\n",
            "118/118 [==============================] - 26s 221ms/step - loss: 0.8491 - accuracy: 0.6942 - val_loss: 2.5032 - val_accuracy: 0.2397\n",
            "Epoch 3/50\n",
            "118/118 [==============================] - 26s 221ms/step - loss: 0.6271 - accuracy: 0.7681 - val_loss: 1.8338 - val_accuracy: 0.3740\n",
            "Epoch 4/50\n",
            "118/118 [==============================] - 26s 222ms/step - loss: 0.5528 - accuracy: 0.7886 - val_loss: 1.8339 - val_accuracy: 0.3817\n",
            "Epoch 5/50\n",
            "118/118 [==============================] - 26s 221ms/step - loss: 0.4896 - accuracy: 0.8132 - val_loss: 0.6807 - val_accuracy: 0.7405\n",
            "Epoch 6/50\n",
            "118/118 [==============================] - 26s 222ms/step - loss: 0.3699 - accuracy: 0.8659 - val_loss: 0.5851 - val_accuracy: 0.8214\n",
            "Epoch 7/50\n",
            "118/118 [==============================] - 26s 222ms/step - loss: 0.3067 - accuracy: 0.8916 - val_loss: 1.4021 - val_accuracy: 0.7634\n",
            "Epoch 8/50\n",
            "118/118 [==============================] - 26s 221ms/step - loss: 0.2952 - accuracy: 0.8955 - val_loss: 1.2520 - val_accuracy: 0.7969\n",
            "Epoch 9/50\n",
            "118/118 [==============================] - 26s 221ms/step - loss: 0.2675 - accuracy: 0.9067 - val_loss: 1.0061 - val_accuracy: 0.7893\n",
            "Epoch 10/50\n",
            "118/118 [==============================] - 26s 221ms/step - loss: 0.2192 - accuracy: 0.9261 - val_loss: 0.7843 - val_accuracy: 0.7664\n",
            "Epoch 11/50\n",
            "118/118 [==============================] - 26s 222ms/step - loss: 0.1436 - accuracy: 0.9558 - val_loss: 0.9886 - val_accuracy: 0.7267\n",
            "Epoch 12/50\n",
            "118/118 [==============================] - 26s 222ms/step - loss: 0.1728 - accuracy: 0.9366 - val_loss: 0.5712 - val_accuracy: 0.8305\n",
            "Epoch 13/50\n",
            "118/118 [==============================] - 26s 222ms/step - loss: 0.1163 - accuracy: 0.9665 - val_loss: 0.5977 - val_accuracy: 0.7954\n",
            "Epoch 14/50\n",
            "118/118 [==============================] - 26s 221ms/step - loss: 0.1757 - accuracy: 0.9379 - val_loss: 0.5358 - val_accuracy: 0.8519\n",
            "Epoch 15/50\n",
            "118/118 [==============================] - 26s 221ms/step - loss: 0.1930 - accuracy: 0.9380 - val_loss: 1.0928 - val_accuracy: 0.7389\n",
            "Epoch 16/50\n",
            "118/118 [==============================] - 26s 222ms/step - loss: 0.1145 - accuracy: 0.9539 - val_loss: 0.5295 - val_accuracy: 0.8473\n",
            "Epoch 17/50\n",
            "118/118 [==============================] - 26s 222ms/step - loss: 0.1196 - accuracy: 0.9608 - val_loss: 0.7195 - val_accuracy: 0.8260\n",
            "Epoch 18/50\n",
            "118/118 [==============================] - 26s 222ms/step - loss: 0.0563 - accuracy: 0.9844 - val_loss: 7.5874 - val_accuracy: 0.3191\n",
            "Epoch 19/50\n",
            "118/118 [==============================] - 26s 221ms/step - loss: 0.0773 - accuracy: 0.9758 - val_loss: 0.7288 - val_accuracy: 0.8229\n",
            "Epoch 20/50\n",
            "118/118 [==============================] - 26s 221ms/step - loss: 0.0854 - accuracy: 0.9699 - val_loss: 0.7130 - val_accuracy: 0.8489\n",
            "Epoch 21/50\n",
            "118/118 [==============================] - 26s 221ms/step - loss: 0.0857 - accuracy: 0.9710 - val_loss: 0.6282 - val_accuracy: 0.8626\n",
            "Epoch 22/50\n",
            "118/118 [==============================] - 26s 221ms/step - loss: 0.1144 - accuracy: 0.9636 - val_loss: 0.3986 - val_accuracy: 0.8809\n",
            "Epoch 23/50\n",
            "118/118 [==============================] - 26s 221ms/step - loss: 0.0551 - accuracy: 0.9794 - val_loss: 0.3985 - val_accuracy: 0.9038\n",
            "Epoch 24/50\n",
            "118/118 [==============================] - 26s 220ms/step - loss: 0.0583 - accuracy: 0.9798 - val_loss: 0.8846 - val_accuracy: 0.7710\n",
            "Epoch 25/50\n",
            "118/118 [==============================] - 26s 221ms/step - loss: 0.0559 - accuracy: 0.9799 - val_loss: 0.4912 - val_accuracy: 0.8611\n",
            "Epoch 26/50\n",
            "118/118 [==============================] - 26s 221ms/step - loss: 0.0815 - accuracy: 0.9708 - val_loss: 1.6163 - val_accuracy: 0.7313\n",
            "Epoch 27/50\n",
            "118/118 [==============================] - 26s 221ms/step - loss: 0.1112 - accuracy: 0.9639 - val_loss: 121.8307 - val_accuracy: 0.2809\n",
            "Epoch 28/50\n",
            "118/118 [==============================] - 26s 221ms/step - loss: 0.1789 - accuracy: 0.9528 - val_loss: 1.2209 - val_accuracy: 0.7481\n",
            "Epoch 29/50\n",
            "118/118 [==============================] - 26s 221ms/step - loss: 0.0558 - accuracy: 0.9815 - val_loss: 4.1028 - val_accuracy: 0.7237\n",
            "Epoch 30/50\n",
            "118/118 [==============================] - 26s 220ms/step - loss: 0.0529 - accuracy: 0.9849 - val_loss: 0.8164 - val_accuracy: 0.8214\n",
            "Epoch 31/50\n",
            "118/118 [==============================] - 26s 220ms/step - loss: 0.1231 - accuracy: 0.9601 - val_loss: 0.4581 - val_accuracy: 0.8824\n",
            "Epoch 32/50\n",
            "118/118 [==============================] - 26s 220ms/step - loss: 0.0297 - accuracy: 0.9930 - val_loss: 0.3879 - val_accuracy: 0.8962\n",
            "Epoch 33/50\n",
            "118/118 [==============================] - 26s 221ms/step - loss: 0.0599 - accuracy: 0.9811 - val_loss: 0.5853 - val_accuracy: 0.8580\n",
            "Epoch 34/50\n",
            "118/118 [==============================] - 26s 220ms/step - loss: 0.0536 - accuracy: 0.9830 - val_loss: 1.7718 - val_accuracy: 0.7802\n",
            "Epoch 35/50\n",
            "118/118 [==============================] - 26s 221ms/step - loss: 0.2488 - accuracy: 0.9304 - val_loss: 6.3974 - val_accuracy: 0.6290\n",
            "Epoch 36/50\n",
            "118/118 [==============================] - 26s 220ms/step - loss: 0.1036 - accuracy: 0.9636 - val_loss: 0.5338 - val_accuracy: 0.9008\n",
            "Epoch 37/50\n",
            "118/118 [==============================] - 26s 220ms/step - loss: 0.0268 - accuracy: 0.9905 - val_loss: 0.5930 - val_accuracy: 0.8885\n",
            "Epoch 38/50\n",
            "118/118 [==============================] - 26s 219ms/step - loss: 0.0440 - accuracy: 0.9867 - val_loss: 0.3895 - val_accuracy: 0.8977\n",
            "Epoch 39/50\n",
            "118/118 [==============================] - 26s 220ms/step - loss: 0.0227 - accuracy: 0.9915 - val_loss: 0.3135 - val_accuracy: 0.9221\n",
            "Epoch 40/50\n",
            "118/118 [==============================] - 26s 220ms/step - loss: 0.0586 - accuracy: 0.9798 - val_loss: 0.4872 - val_accuracy: 0.9008\n",
            "Epoch 41/50\n",
            "118/118 [==============================] - 26s 221ms/step - loss: 0.0608 - accuracy: 0.9818 - val_loss: 0.8102 - val_accuracy: 0.8580\n",
            "Epoch 42/50\n",
            "118/118 [==============================] - 26s 221ms/step - loss: 0.0530 - accuracy: 0.9814 - val_loss: 2.3120 - val_accuracy: 0.6275\n",
            "Epoch 43/50\n",
            "118/118 [==============================] - 26s 221ms/step - loss: 0.0633 - accuracy: 0.9776 - val_loss: 0.8037 - val_accuracy: 0.8290\n",
            "Epoch 44/50\n",
            "118/118 [==============================] - 26s 221ms/step - loss: 0.0374 - accuracy: 0.9869 - val_loss: 2.2893 - val_accuracy: 0.6870\n",
            "Epoch 45/50\n",
            "118/118 [==============================] - 26s 221ms/step - loss: 0.1264 - accuracy: 0.9640 - val_loss: 0.5734 - val_accuracy: 0.8565\n",
            "Epoch 46/50\n",
            "118/118 [==============================] - 26s 221ms/step - loss: 0.0579 - accuracy: 0.9798 - val_loss: 0.4187 - val_accuracy: 0.8885\n",
            "Epoch 47/50\n",
            "118/118 [==============================] - 26s 221ms/step - loss: 0.0300 - accuracy: 0.9901 - val_loss: 0.4230 - val_accuracy: 0.9053\n",
            "Epoch 48/50\n",
            "118/118 [==============================] - 26s 221ms/step - loss: 0.0205 - accuracy: 0.9947 - val_loss: 0.2817 - val_accuracy: 0.9313\n",
            "Epoch 49/50\n",
            "118/118 [==============================] - 26s 221ms/step - loss: 0.0201 - accuracy: 0.9937 - val_loss: 0.6705 - val_accuracy: 0.8412\n",
            "Epoch 50/50\n",
            "118/118 [==============================] - 26s 222ms/step - loss: 0.0224 - accuracy: 0.9893 - val_loss: 0.9705 - val_accuracy: 0.8260\n"
          ],
          "name": "stdout"
        }
      ]
    },
    {
      "cell_type": "markdown",
      "metadata": {
        "id": "FrNgm0OHmsUL"
      },
      "source": [
        "###ResNet50 GS"
      ]
    },
    {
      "cell_type": "code",
      "metadata": {
        "id": "6dX0ffyo38mp"
      },
      "source": [
        "modelResnet50_gs = create_resnet_model(50,X_train_gs.shape[1:])"
      ],
      "execution_count": null,
      "outputs": []
    },
    {
      "cell_type": "code",
      "metadata": {
        "colab": {
          "base_uri": "https://localhost:8080/"
        },
        "id": "bUmsolEGUHqC",
        "outputId": "a7cd155a-9212-48f7-cc4c-234c121fe1d5"
      },
      "source": [
        "history_modelResnet50_gs = modelResnet50_gs.fit(X_train_gs, y_train_gs, batch_size=batch_size, epochs=50, validation_data=(X_val_gs, y_val_gs))"
      ],
      "execution_count": null,
      "outputs": [
        {
          "output_type": "stream",
          "text": [
            "Epoch 1/50\n",
            "118/118 [==============================] - 33s 228ms/step - loss: 2.5566 - accuracy: 0.4979 - val_loss: 1.8564 - val_accuracy: 0.2687\n",
            "Epoch 2/50\n",
            "118/118 [==============================] - 26s 218ms/step - loss: 0.7473 - accuracy: 0.7097 - val_loss: 3.8205 - val_accuracy: 0.2901\n",
            "Epoch 3/50\n",
            "118/118 [==============================] - 26s 218ms/step - loss: 0.6231 - accuracy: 0.7755 - val_loss: 3.2894 - val_accuracy: 0.1878\n",
            "Epoch 4/50\n",
            "118/118 [==============================] - 26s 218ms/step - loss: 0.5862 - accuracy: 0.8115 - val_loss: 3.7927 - val_accuracy: 0.2992\n",
            "Epoch 5/50\n",
            "118/118 [==============================] - 26s 217ms/step - loss: 0.4507 - accuracy: 0.8465 - val_loss: 1.0407 - val_accuracy: 0.5802\n",
            "Epoch 6/50\n",
            "118/118 [==============================] - 26s 218ms/step - loss: 0.3125 - accuracy: 0.8851 - val_loss: 1.3686 - val_accuracy: 0.7130\n",
            "Epoch 7/50\n",
            "118/118 [==============================] - 26s 218ms/step - loss: 0.2635 - accuracy: 0.9054 - val_loss: 1.1014 - val_accuracy: 0.6763\n",
            "Epoch 8/50\n",
            "118/118 [==============================] - 26s 218ms/step - loss: 0.2473 - accuracy: 0.9135 - val_loss: 0.4758 - val_accuracy: 0.8321\n",
            "Epoch 9/50\n",
            "118/118 [==============================] - 26s 219ms/step - loss: 0.1871 - accuracy: 0.9233 - val_loss: 2.8679 - val_accuracy: 0.7252\n",
            "Epoch 10/50\n",
            "118/118 [==============================] - 26s 219ms/step - loss: 0.2486 - accuracy: 0.9165 - val_loss: 0.4348 - val_accuracy: 0.8534\n",
            "Epoch 11/50\n",
            "118/118 [==============================] - 26s 218ms/step - loss: 0.1381 - accuracy: 0.9543 - val_loss: 0.6584 - val_accuracy: 0.8000\n",
            "Epoch 12/50\n",
            "118/118 [==============================] - 26s 220ms/step - loss: 0.1598 - accuracy: 0.9473 - val_loss: 0.6259 - val_accuracy: 0.8336\n",
            "Epoch 13/50\n",
            "118/118 [==============================] - 26s 219ms/step - loss: 0.1286 - accuracy: 0.9556 - val_loss: 0.8129 - val_accuracy: 0.7496\n",
            "Epoch 14/50\n",
            "118/118 [==============================] - 26s 218ms/step - loss: 0.1326 - accuracy: 0.9495 - val_loss: 0.8017 - val_accuracy: 0.7832\n",
            "Epoch 15/50\n",
            "118/118 [==============================] - 26s 218ms/step - loss: 0.0948 - accuracy: 0.9685 - val_loss: 0.7482 - val_accuracy: 0.8321\n",
            "Epoch 16/50\n",
            "118/118 [==============================] - 26s 219ms/step - loss: 0.1634 - accuracy: 0.9503 - val_loss: 0.4432 - val_accuracy: 0.8840\n",
            "Epoch 17/50\n",
            "118/118 [==============================] - 26s 219ms/step - loss: 0.0398 - accuracy: 0.9908 - val_loss: 0.7688 - val_accuracy: 0.8626\n",
            "Epoch 18/50\n",
            "118/118 [==============================] - 26s 218ms/step - loss: 0.0820 - accuracy: 0.9706 - val_loss: 6.1409 - val_accuracy: 0.6794\n",
            "Epoch 19/50\n",
            "118/118 [==============================] - 26s 217ms/step - loss: 0.0897 - accuracy: 0.9711 - val_loss: 0.3720 - val_accuracy: 0.8870\n",
            "Epoch 20/50\n",
            "118/118 [==============================] - 26s 218ms/step - loss: 0.1064 - accuracy: 0.9651 - val_loss: 0.3913 - val_accuracy: 0.9053\n",
            "Epoch 21/50\n",
            "118/118 [==============================] - 26s 218ms/step - loss: 0.1062 - accuracy: 0.9618 - val_loss: 0.5928 - val_accuracy: 0.8611\n",
            "Epoch 22/50\n",
            "118/118 [==============================] - 26s 219ms/step - loss: 0.0982 - accuracy: 0.9635 - val_loss: 0.7009 - val_accuracy: 0.8611\n",
            "Epoch 23/50\n",
            "118/118 [==============================] - 26s 219ms/step - loss: 0.1114 - accuracy: 0.9655 - val_loss: 0.6006 - val_accuracy: 0.8489\n",
            "Epoch 24/50\n",
            "118/118 [==============================] - 26s 220ms/step - loss: 0.0653 - accuracy: 0.9779 - val_loss: 2.4610 - val_accuracy: 0.7130\n",
            "Epoch 25/50\n",
            "118/118 [==============================] - 26s 220ms/step - loss: 0.0892 - accuracy: 0.9733 - val_loss: 3.1098 - val_accuracy: 0.7649\n",
            "Epoch 26/50\n",
            "118/118 [==============================] - 26s 220ms/step - loss: 0.0935 - accuracy: 0.9690 - val_loss: 0.5600 - val_accuracy: 0.8534\n",
            "Epoch 27/50\n",
            "118/118 [==============================] - 26s 219ms/step - loss: 0.0646 - accuracy: 0.9801 - val_loss: 0.5468 - val_accuracy: 0.8595\n",
            "Epoch 28/50\n",
            "118/118 [==============================] - 26s 220ms/step - loss: 0.1097 - accuracy: 0.9645 - val_loss: 0.5546 - val_accuracy: 0.8718\n",
            "Epoch 29/50\n",
            "118/118 [==============================] - 26s 219ms/step - loss: 0.0180 - accuracy: 0.9935 - val_loss: 0.3652 - val_accuracy: 0.9252\n",
            "Epoch 30/50\n",
            "118/118 [==============================] - 26s 218ms/step - loss: 0.0251 - accuracy: 0.9934 - val_loss: 0.3665 - val_accuracy: 0.9008\n",
            "Epoch 31/50\n",
            "118/118 [==============================] - 26s 219ms/step - loss: 0.0307 - accuracy: 0.9892 - val_loss: 0.6744 - val_accuracy: 0.8824\n",
            "Epoch 32/50\n",
            "118/118 [==============================] - 26s 218ms/step - loss: 0.1096 - accuracy: 0.9663 - val_loss: 1.2035 - val_accuracy: 0.8305\n",
            "Epoch 33/50\n",
            "118/118 [==============================] - 26s 219ms/step - loss: 0.1346 - accuracy: 0.9560 - val_loss: 11.8276 - val_accuracy: 0.5573\n",
            "Epoch 34/50\n",
            "118/118 [==============================] - 26s 218ms/step - loss: 0.1957 - accuracy: 0.9386 - val_loss: 2.3378 - val_accuracy: 0.6107\n",
            "Epoch 35/50\n",
            "118/118 [==============================] - 26s 218ms/step - loss: 0.0758 - accuracy: 0.9747 - val_loss: 0.8799 - val_accuracy: 0.7985\n",
            "Epoch 36/50\n",
            "118/118 [==============================] - 26s 219ms/step - loss: 0.1462 - accuracy: 0.9533 - val_loss: 1.1825 - val_accuracy: 0.7191\n",
            "Epoch 37/50\n",
            "118/118 [==============================] - 26s 219ms/step - loss: 0.1122 - accuracy: 0.9671 - val_loss: 0.5397 - val_accuracy: 0.8565\n",
            "Epoch 38/50\n",
            "118/118 [==============================] - 26s 219ms/step - loss: 0.0595 - accuracy: 0.9796 - val_loss: 0.5194 - val_accuracy: 0.8840\n",
            "Epoch 39/50\n",
            "118/118 [==============================] - 26s 218ms/step - loss: 0.0641 - accuracy: 0.9782 - val_loss: 0.3945 - val_accuracy: 0.9053\n",
            "Epoch 40/50\n",
            "118/118 [==============================] - 26s 219ms/step - loss: 0.0681 - accuracy: 0.9799 - val_loss: 0.6608 - val_accuracy: 0.8412\n",
            "Epoch 41/50\n",
            "118/118 [==============================] - 26s 219ms/step - loss: 0.1254 - accuracy: 0.9655 - val_loss: 0.5698 - val_accuracy: 0.8611\n",
            "Epoch 42/50\n",
            "118/118 [==============================] - 26s 219ms/step - loss: 0.0461 - accuracy: 0.9814 - val_loss: 0.4191 - val_accuracy: 0.9160\n",
            "Epoch 43/50\n",
            "118/118 [==============================] - 26s 219ms/step - loss: 0.0136 - accuracy: 0.9967 - val_loss: 0.3032 - val_accuracy: 0.9313\n",
            "Epoch 44/50\n",
            "118/118 [==============================] - 26s 220ms/step - loss: 0.0073 - accuracy: 0.9981 - val_loss: 0.2975 - val_accuracy: 0.9237\n",
            "Epoch 45/50\n",
            "118/118 [==============================] - 26s 219ms/step - loss: 0.0161 - accuracy: 0.9932 - val_loss: 0.2745 - val_accuracy: 0.9344\n",
            "Epoch 46/50\n",
            "118/118 [==============================] - 26s 218ms/step - loss: 0.0266 - accuracy: 0.9926 - val_loss: 2.7058 - val_accuracy: 0.5740\n",
            "Epoch 47/50\n",
            "118/118 [==============================] - 26s 217ms/step - loss: 0.1120 - accuracy: 0.9680 - val_loss: 0.2579 - val_accuracy: 0.9389\n",
            "Epoch 48/50\n",
            "118/118 [==============================] - 26s 218ms/step - loss: 0.0337 - accuracy: 0.9875 - val_loss: 0.2683 - val_accuracy: 0.9206\n",
            "Epoch 49/50\n",
            "118/118 [==============================] - 26s 218ms/step - loss: 0.0222 - accuracy: 0.9906 - val_loss: 0.3538 - val_accuracy: 0.9130\n",
            "Epoch 50/50\n",
            "118/118 [==============================] - 26s 217ms/step - loss: 0.0182 - accuracy: 0.9934 - val_loss: 1.7498 - val_accuracy: 0.7450\n"
          ],
          "name": "stdout"
        }
      ]
    },
    {
      "cell_type": "markdown",
      "metadata": {
        "id": "UPVf76uxmxnE"
      },
      "source": [
        "###ResNet50 RGB With TFL"
      ]
    },
    {
      "cell_type": "code",
      "metadata": {
        "id": "k4Kiulds4H8A",
        "colab": {
          "base_uri": "https://localhost:8080/"
        },
        "outputId": "db0c3a50-fdbe-47fa-ae58-04ba77363951"
      },
      "source": [
        "modelResnet50_tfl = create_resnet_model(50,X_train_rgb.shape[1:],True)"
      ],
      "execution_count": null,
      "outputs": [
        {
          "output_type": "stream",
          "text": [
            "Downloading data from https://storage.googleapis.com/tensorflow/keras-applications/resnet/resnet50_weights_tf_dim_ordering_tf_kernels_notop.h5\n",
            "94773248/94765736 [==============================] - 1s 0us/step\n"
          ],
          "name": "stdout"
        }
      ]
    },
    {
      "cell_type": "code",
      "metadata": {
        "colab": {
          "base_uri": "https://localhost:8080/"
        },
        "id": "IPZOHVDMUO7h",
        "outputId": "cec951ef-414f-4b53-bb8e-06d189d995a1"
      },
      "source": [
        "history_modelResnet50_tfl = modelResnet50_tfl.fit(X_train_rgb, y_train_rgb, batch_size=batch_size, epochs=50, validation_data=(X_val_rgb, y_val_rgb))"
      ],
      "execution_count": null,
      "outputs": [
        {
          "output_type": "stream",
          "text": [
            "Epoch 1/50\n",
            "118/118 [==============================] - 47s 122ms/step - loss: 2.6581 - accuracy: 0.3897 - val_loss: 1.0995 - val_accuracy: 0.5695\n",
            "Epoch 2/50\n",
            "118/118 [==============================] - 12s 102ms/step - loss: 1.0804 - accuracy: 0.5345 - val_loss: 0.9021 - val_accuracy: 0.6336\n",
            "Epoch 3/50\n",
            "118/118 [==============================] - 12s 102ms/step - loss: 0.9712 - accuracy: 0.5718 - val_loss: 0.8296 - val_accuracy: 0.7053\n",
            "Epoch 4/50\n",
            "118/118 [==============================] - 12s 103ms/step - loss: 0.8795 - accuracy: 0.6248 - val_loss: 0.9201 - val_accuracy: 0.6214\n",
            "Epoch 5/50\n",
            "118/118 [==============================] - 12s 104ms/step - loss: 0.8601 - accuracy: 0.6440 - val_loss: 0.8813 - val_accuracy: 0.6305\n",
            "Epoch 6/50\n",
            "118/118 [==============================] - 12s 104ms/step - loss: 0.8169 - accuracy: 0.6503 - val_loss: 0.7212 - val_accuracy: 0.7115\n",
            "Epoch 7/50\n",
            "118/118 [==============================] - 12s 104ms/step - loss: 0.7920 - accuracy: 0.6657 - val_loss: 0.7272 - val_accuracy: 0.7099\n",
            "Epoch 8/50\n",
            "118/118 [==============================] - 12s 104ms/step - loss: 0.7606 - accuracy: 0.6819 - val_loss: 0.7724 - val_accuracy: 0.7008\n",
            "Epoch 9/50\n",
            "118/118 [==============================] - 12s 104ms/step - loss: 0.7464 - accuracy: 0.6832 - val_loss: 0.7167 - val_accuracy: 0.7145\n",
            "Epoch 10/50\n",
            "118/118 [==============================] - 12s 104ms/step - loss: 0.7092 - accuracy: 0.6878 - val_loss: 0.7373 - val_accuracy: 0.7145\n",
            "Epoch 11/50\n",
            "118/118 [==============================] - 12s 105ms/step - loss: 0.7100 - accuracy: 0.6885 - val_loss: 0.6441 - val_accuracy: 0.7282\n",
            "Epoch 12/50\n",
            "118/118 [==============================] - 12s 104ms/step - loss: 0.6828 - accuracy: 0.7111 - val_loss: 0.6233 - val_accuracy: 0.7527\n",
            "Epoch 13/50\n",
            "118/118 [==============================] - 12s 104ms/step - loss: 0.6491 - accuracy: 0.7297 - val_loss: 0.6246 - val_accuracy: 0.7466\n",
            "Epoch 14/50\n",
            "118/118 [==============================] - 12s 104ms/step - loss: 0.6546 - accuracy: 0.7307 - val_loss: 0.6357 - val_accuracy: 0.7511\n",
            "Epoch 15/50\n",
            "118/118 [==============================] - 12s 104ms/step - loss: 0.6617 - accuracy: 0.7160 - val_loss: 0.6658 - val_accuracy: 0.7160\n",
            "Epoch 16/50\n",
            "118/118 [==============================] - 12s 104ms/step - loss: 0.6607 - accuracy: 0.7102 - val_loss: 0.5916 - val_accuracy: 0.7618\n",
            "Epoch 17/50\n",
            "118/118 [==============================] - 12s 104ms/step - loss: 0.6089 - accuracy: 0.7477 - val_loss: 0.6072 - val_accuracy: 0.7496\n",
            "Epoch 18/50\n",
            "118/118 [==============================] - 12s 104ms/step - loss: 0.6392 - accuracy: 0.7197 - val_loss: 0.6335 - val_accuracy: 0.7389\n",
            "Epoch 19/50\n",
            "118/118 [==============================] - 12s 104ms/step - loss: 0.6162 - accuracy: 0.7359 - val_loss: 0.5906 - val_accuracy: 0.7679\n",
            "Epoch 20/50\n",
            "118/118 [==============================] - 12s 104ms/step - loss: 0.5956 - accuracy: 0.7553 - val_loss: 0.6294 - val_accuracy: 0.7344\n",
            "Epoch 21/50\n",
            "118/118 [==============================] - 12s 104ms/step - loss: 0.5949 - accuracy: 0.7526 - val_loss: 0.6799 - val_accuracy: 0.7160\n",
            "Epoch 22/50\n",
            "118/118 [==============================] - 12s 104ms/step - loss: 0.5728 - accuracy: 0.7502 - val_loss: 0.6310 - val_accuracy: 0.7527\n",
            "Epoch 23/50\n",
            "118/118 [==============================] - 12s 104ms/step - loss: 0.6143 - accuracy: 0.7550 - val_loss: 0.5621 - val_accuracy: 0.7695\n",
            "Epoch 24/50\n",
            "118/118 [==============================] - 12s 104ms/step - loss: 0.5461 - accuracy: 0.7701 - val_loss: 0.6015 - val_accuracy: 0.7664\n",
            "Epoch 25/50\n",
            "118/118 [==============================] - 12s 104ms/step - loss: 0.5553 - accuracy: 0.7753 - val_loss: 0.5726 - val_accuracy: 0.7847\n",
            "Epoch 26/50\n",
            "118/118 [==============================] - 12s 104ms/step - loss: 0.5170 - accuracy: 0.7902 - val_loss: 0.5267 - val_accuracy: 0.7939\n",
            "Epoch 27/50\n",
            "118/118 [==============================] - 12s 103ms/step - loss: 0.5268 - accuracy: 0.7923 - val_loss: 0.5464 - val_accuracy: 0.7817\n",
            "Epoch 28/50\n",
            "118/118 [==============================] - 12s 104ms/step - loss: 0.5496 - accuracy: 0.7655 - val_loss: 0.6345 - val_accuracy: 0.7420\n",
            "Epoch 29/50\n",
            "118/118 [==============================] - 12s 104ms/step - loss: 0.5296 - accuracy: 0.7824 - val_loss: 0.5542 - val_accuracy: 0.7893\n",
            "Epoch 30/50\n",
            "118/118 [==============================] - 12s 105ms/step - loss: 0.5674 - accuracy: 0.7574 - val_loss: 0.6659 - val_accuracy: 0.7450\n",
            "Epoch 31/50\n",
            "118/118 [==============================] - 12s 104ms/step - loss: 0.5693 - accuracy: 0.7697 - val_loss: 0.5434 - val_accuracy: 0.7771\n",
            "Epoch 32/50\n",
            "118/118 [==============================] - 12s 104ms/step - loss: 0.5597 - accuracy: 0.7725 - val_loss: 0.5998 - val_accuracy: 0.7649\n",
            "Epoch 33/50\n",
            "118/118 [==============================] - 12s 104ms/step - loss: 0.5988 - accuracy: 0.7459 - val_loss: 0.5502 - val_accuracy: 0.7786\n",
            "Epoch 34/50\n",
            "118/118 [==============================] - 12s 104ms/step - loss: 0.5219 - accuracy: 0.7816 - val_loss: 0.5760 - val_accuracy: 0.7802\n",
            "Epoch 35/50\n",
            "118/118 [==============================] - 12s 104ms/step - loss: 0.5238 - accuracy: 0.7720 - val_loss: 0.5821 - val_accuracy: 0.7893\n",
            "Epoch 36/50\n",
            "118/118 [==============================] - 12s 104ms/step - loss: 0.5056 - accuracy: 0.7847 - val_loss: 0.5390 - val_accuracy: 0.7664\n",
            "Epoch 37/50\n",
            "118/118 [==============================] - 12s 104ms/step - loss: 0.4740 - accuracy: 0.8038 - val_loss: 0.5879 - val_accuracy: 0.7847\n",
            "Epoch 38/50\n",
            "118/118 [==============================] - 12s 104ms/step - loss: 0.5306 - accuracy: 0.7666 - val_loss: 0.6349 - val_accuracy: 0.7588\n",
            "Epoch 39/50\n",
            "118/118 [==============================] - 12s 104ms/step - loss: 0.4990 - accuracy: 0.7882 - val_loss: 0.5251 - val_accuracy: 0.8046\n",
            "Epoch 40/50\n",
            "118/118 [==============================] - 12s 105ms/step - loss: 0.4995 - accuracy: 0.7973 - val_loss: 0.4957 - val_accuracy: 0.8076\n",
            "Epoch 41/50\n",
            "118/118 [==============================] - 12s 104ms/step - loss: 0.4764 - accuracy: 0.7945 - val_loss: 0.5327 - val_accuracy: 0.7939\n",
            "Epoch 42/50\n",
            "118/118 [==============================] - 12s 104ms/step - loss: 0.4851 - accuracy: 0.7964 - val_loss: 0.5350 - val_accuracy: 0.8092\n",
            "Epoch 43/50\n",
            "118/118 [==============================] - 12s 104ms/step - loss: 0.4813 - accuracy: 0.7969 - val_loss: 0.4917 - val_accuracy: 0.8031\n",
            "Epoch 44/50\n",
            "118/118 [==============================] - 12s 104ms/step - loss: 0.4709 - accuracy: 0.7963 - val_loss: 0.4772 - val_accuracy: 0.8214\n",
            "Epoch 45/50\n",
            "118/118 [==============================] - 12s 104ms/step - loss: 0.4320 - accuracy: 0.8238 - val_loss: 0.4909 - val_accuracy: 0.8153\n",
            "Epoch 46/50\n",
            "118/118 [==============================] - 12s 104ms/step - loss: 0.4535 - accuracy: 0.8197 - val_loss: 0.4820 - val_accuracy: 0.8107\n",
            "Epoch 47/50\n",
            "118/118 [==============================] - 12s 104ms/step - loss: 0.4411 - accuracy: 0.8164 - val_loss: 0.6017 - val_accuracy: 0.7878\n",
            "Epoch 48/50\n",
            "118/118 [==============================] - 12s 104ms/step - loss: 0.4819 - accuracy: 0.7995 - val_loss: 0.5422 - val_accuracy: 0.8015\n",
            "Epoch 49/50\n",
            "118/118 [==============================] - 12s 104ms/step - loss: 0.4353 - accuracy: 0.8227 - val_loss: 0.4695 - val_accuracy: 0.8046\n",
            "Epoch 50/50\n",
            "118/118 [==============================] - 12s 104ms/step - loss: 0.4510 - accuracy: 0.8108 - val_loss: 0.5555 - val_accuracy: 0.7908\n"
          ],
          "name": "stdout"
        }
      ]
    },
    {
      "cell_type": "markdown",
      "metadata": {
        "id": "1ns725imm4jE"
      },
      "source": [
        "###ResNet101 RGB"
      ]
    },
    {
      "cell_type": "code",
      "metadata": {
        "id": "tzqJGHjr4J24"
      },
      "source": [
        "modelResnet101_rgb = create_resnet_model(101,X_train_rgb.shape[1:])"
      ],
      "execution_count": null,
      "outputs": []
    },
    {
      "cell_type": "code",
      "metadata": {
        "colab": {
          "base_uri": "https://localhost:8080/"
        },
        "id": "B3gbge46b2sW",
        "outputId": "81321e42-6915-4884-b3b7-b5184accab4f"
      },
      "source": [
        "history_modelResnet101_rgb = modelResnet101_rgb.fit(X_train_rgb, y_train_rgb, batch_size=batch_size, epochs=50, validation_data=(X_val_rgb, y_val_rgb))"
      ],
      "execution_count": null,
      "outputs": [
        {
          "output_type": "stream",
          "text": [
            "Epoch 1/50\n",
            "118/118 [==============================] - 60s 405ms/step - loss: 2.0884 - accuracy: 0.5013 - val_loss: 1.9570 - val_accuracy: 0.2763\n",
            "Epoch 2/50\n",
            "118/118 [==============================] - 46s 389ms/step - loss: 0.9522 - accuracy: 0.6589 - val_loss: 2.4215 - val_accuracy: 0.3344\n",
            "Epoch 3/50\n",
            "118/118 [==============================] - 46s 388ms/step - loss: 0.6811 - accuracy: 0.7339 - val_loss: 1.7757 - val_accuracy: 0.3282\n",
            "Epoch 4/50\n",
            "118/118 [==============================] - 46s 387ms/step - loss: 0.6196 - accuracy: 0.7483 - val_loss: 1.3825 - val_accuracy: 0.5542\n",
            "Epoch 5/50\n",
            "118/118 [==============================] - 46s 388ms/step - loss: 0.5508 - accuracy: 0.7707 - val_loss: 1.2517 - val_accuracy: 0.6351\n",
            "Epoch 6/50\n",
            "118/118 [==============================] - 46s 388ms/step - loss: 0.4652 - accuracy: 0.8386 - val_loss: 4.4101 - val_accuracy: 0.6794\n",
            "Epoch 7/50\n",
            "118/118 [==============================] - 46s 388ms/step - loss: 0.3641 - accuracy: 0.8780 - val_loss: 2.7389 - val_accuracy: 0.7328\n",
            "Epoch 8/50\n",
            "118/118 [==============================] - 46s 389ms/step - loss: 0.3419 - accuracy: 0.8864 - val_loss: 0.9645 - val_accuracy: 0.8580\n",
            "Epoch 9/50\n",
            "118/118 [==============================] - 46s 389ms/step - loss: 0.2092 - accuracy: 0.9323 - val_loss: 1.1381 - val_accuracy: 0.6061\n",
            "Epoch 10/50\n",
            "118/118 [==============================] - 46s 388ms/step - loss: 0.3542 - accuracy: 0.8774 - val_loss: 1.0561 - val_accuracy: 0.7053\n",
            "Epoch 11/50\n",
            "118/118 [==============================] - 46s 389ms/step - loss: 0.3585 - accuracy: 0.8904 - val_loss: 40.1515 - val_accuracy: 0.3344\n",
            "Epoch 12/50\n",
            "118/118 [==============================] - 46s 389ms/step - loss: 0.2925 - accuracy: 0.8989 - val_loss: 0.7803 - val_accuracy: 0.7557\n",
            "Epoch 13/50\n",
            "118/118 [==============================] - 46s 389ms/step - loss: 0.1405 - accuracy: 0.9515 - val_loss: 1.4395 - val_accuracy: 0.7557\n",
            "Epoch 14/50\n",
            "118/118 [==============================] - 46s 389ms/step - loss: 0.1229 - accuracy: 0.9630 - val_loss: 1.9389 - val_accuracy: 0.7084\n",
            "Epoch 15/50\n",
            "118/118 [==============================] - 46s 389ms/step - loss: 0.1499 - accuracy: 0.9428 - val_loss: 0.5616 - val_accuracy: 0.8336\n",
            "Epoch 16/50\n",
            "118/118 [==============================] - 46s 389ms/step - loss: 0.1319 - accuracy: 0.9579 - val_loss: 0.8846 - val_accuracy: 0.8153\n",
            "Epoch 17/50\n",
            "118/118 [==============================] - 46s 389ms/step - loss: 0.0907 - accuracy: 0.9701 - val_loss: 0.3433 - val_accuracy: 0.8870\n",
            "Epoch 18/50\n",
            "118/118 [==============================] - 46s 389ms/step - loss: 0.0832 - accuracy: 0.9687 - val_loss: 17.1310 - val_accuracy: 0.6183\n",
            "Epoch 19/50\n",
            "118/118 [==============================] - 46s 389ms/step - loss: 0.1857 - accuracy: 0.9310 - val_loss: 18.0860 - val_accuracy: 0.5649\n",
            "Epoch 20/50\n",
            "118/118 [==============================] - 46s 389ms/step - loss: 0.1552 - accuracy: 0.9451 - val_loss: 31.9269 - val_accuracy: 0.6427\n",
            "Epoch 21/50\n",
            "118/118 [==============================] - 46s 388ms/step - loss: 0.4814 - accuracy: 0.8339 - val_loss: 6206.2734 - val_accuracy: 0.2687\n",
            "Epoch 22/50\n",
            "118/118 [==============================] - 46s 389ms/step - loss: 0.5484 - accuracy: 0.8005 - val_loss: 1.0505 - val_accuracy: 0.6718\n",
            "Epoch 23/50\n",
            "118/118 [==============================] - 46s 390ms/step - loss: 0.2895 - accuracy: 0.8918 - val_loss: 0.5926 - val_accuracy: 0.8061\n",
            "Epoch 24/50\n",
            "118/118 [==============================] - 46s 391ms/step - loss: 0.2202 - accuracy: 0.9258 - val_loss: 0.7366 - val_accuracy: 0.7924\n",
            "Epoch 25/50\n",
            "118/118 [==============================] - 46s 391ms/step - loss: 0.0732 - accuracy: 0.9747 - val_loss: 2.0135 - val_accuracy: 0.6427\n",
            "Epoch 26/50\n",
            "118/118 [==============================] - 46s 390ms/step - loss: 0.1823 - accuracy: 0.9360 - val_loss: 0.5025 - val_accuracy: 0.8718\n",
            "Epoch 27/50\n",
            "118/118 [==============================] - 46s 390ms/step - loss: 0.1441 - accuracy: 0.9512 - val_loss: 1.5823 - val_accuracy: 0.7588\n",
            "Epoch 28/50\n",
            "118/118 [==============================] - 46s 390ms/step - loss: 0.1776 - accuracy: 0.9499 - val_loss: 0.4092 - val_accuracy: 0.8840\n",
            "Epoch 29/50\n",
            "118/118 [==============================] - 46s 390ms/step - loss: 0.1092 - accuracy: 0.9601 - val_loss: 0.5047 - val_accuracy: 0.8458\n",
            "Epoch 30/50\n",
            "118/118 [==============================] - 46s 391ms/step - loss: 0.0352 - accuracy: 0.9916 - val_loss: 0.3601 - val_accuracy: 0.8931\n",
            "Epoch 31/50\n",
            "118/118 [==============================] - 46s 390ms/step - loss: 0.0968 - accuracy: 0.9639 - val_loss: 0.4655 - val_accuracy: 0.8794\n",
            "Epoch 32/50\n",
            "118/118 [==============================] - 46s 390ms/step - loss: 0.0655 - accuracy: 0.9794 - val_loss: 1.6360 - val_accuracy: 0.6611\n",
            "Epoch 33/50\n",
            "118/118 [==============================] - 46s 390ms/step - loss: 0.0987 - accuracy: 0.9657 - val_loss: 0.3743 - val_accuracy: 0.8885\n",
            "Epoch 34/50\n",
            "118/118 [==============================] - 46s 391ms/step - loss: 0.0505 - accuracy: 0.9856 - val_loss: 0.2683 - val_accuracy: 0.9313\n",
            "Epoch 35/50\n",
            "118/118 [==============================] - 46s 390ms/step - loss: 0.0118 - accuracy: 0.9952 - val_loss: 0.3473 - val_accuracy: 0.9099\n",
            "Epoch 36/50\n",
            "118/118 [==============================] - 46s 389ms/step - loss: 0.0249 - accuracy: 0.9934 - val_loss: 0.2743 - val_accuracy: 0.9282\n",
            "Epoch 37/50\n",
            "118/118 [==============================] - 46s 391ms/step - loss: 0.0103 - accuracy: 0.9983 - val_loss: 0.2583 - val_accuracy: 0.9313\n",
            "Epoch 38/50\n",
            "118/118 [==============================] - 46s 389ms/step - loss: 0.0524 - accuracy: 0.9824 - val_loss: 2.3822 - val_accuracy: 0.6122\n",
            "Epoch 39/50\n",
            "118/118 [==============================] - 46s 390ms/step - loss: 0.1741 - accuracy: 0.9355 - val_loss: 4.6723 - val_accuracy: 0.7298\n",
            "Epoch 40/50\n",
            "118/118 [==============================] - 46s 390ms/step - loss: 0.0651 - accuracy: 0.9765 - val_loss: 0.4781 - val_accuracy: 0.8672\n",
            "Epoch 41/50\n",
            "118/118 [==============================] - 46s 390ms/step - loss: 0.0676 - accuracy: 0.9785 - val_loss: 2.5185 - val_accuracy: 0.6763\n",
            "Epoch 42/50\n",
            "118/118 [==============================] - 46s 389ms/step - loss: 0.1650 - accuracy: 0.9592 - val_loss: 7.6254 - val_accuracy: 0.6061\n",
            "Epoch 43/50\n",
            "118/118 [==============================] - 46s 389ms/step - loss: 0.0921 - accuracy: 0.9724 - val_loss: 0.5453 - val_accuracy: 0.8779\n",
            "Epoch 44/50\n",
            "118/118 [==============================] - 46s 389ms/step - loss: 0.0294 - accuracy: 0.9909 - val_loss: 0.7109 - val_accuracy: 0.8122\n",
            "Epoch 45/50\n",
            "118/118 [==============================] - 46s 388ms/step - loss: 0.0601 - accuracy: 0.9814 - val_loss: 0.5906 - val_accuracy: 0.8641\n",
            "Epoch 46/50\n",
            "118/118 [==============================] - 46s 390ms/step - loss: 0.0827 - accuracy: 0.9744 - val_loss: 0.8067 - val_accuracy: 0.8290\n",
            "Epoch 47/50\n",
            "118/118 [==============================] - 46s 390ms/step - loss: 0.0552 - accuracy: 0.9808 - val_loss: 0.5862 - val_accuracy: 0.8626\n",
            "Epoch 48/50\n",
            "118/118 [==============================] - 46s 390ms/step - loss: 0.0208 - accuracy: 0.9937 - val_loss: 0.2872 - val_accuracy: 0.9176\n",
            "Epoch 49/50\n",
            "118/118 [==============================] - 46s 391ms/step - loss: 0.0066 - accuracy: 0.9979 - val_loss: 0.3007 - val_accuracy: 0.9191\n",
            "Epoch 50/50\n",
            "118/118 [==============================] - 46s 391ms/step - loss: 0.0297 - accuracy: 0.9904 - val_loss: 1.0469 - val_accuracy: 0.8153\n"
          ],
          "name": "stdout"
        }
      ]
    },
    {
      "cell_type": "markdown",
      "metadata": {
        "id": "C0wd3A2Xm_Fo"
      },
      "source": [
        "###ResNet101 GS"
      ]
    },
    {
      "cell_type": "code",
      "metadata": {
        "id": "fhCkQMOi4NdP"
      },
      "source": [
        "modelResnet101_gs = create_resnet_model(101,X_train_gs.shape[1:])"
      ],
      "execution_count": null,
      "outputs": []
    },
    {
      "cell_type": "code",
      "metadata": {
        "colab": {
          "base_uri": "https://localhost:8080/"
        },
        "id": "qy2Naonpb78U",
        "outputId": "c0cb1855-9f56-46ae-e086-3e657e2cb36a"
      },
      "source": [
        "history_modelResnet101_gs = modelResnet101_gs.fit(X_train_gs, y_train_gs, batch_size=batch_size, epochs=50, validation_data=(X_val_gs, y_val_gs))"
      ],
      "execution_count": null,
      "outputs": [
        {
          "output_type": "stream",
          "text": [
            "Epoch 1/50\n",
            "118/118 [==============================] - 64s 196ms/step - loss: 1.5170 - accuracy: 0.5070 - val_loss: 2.6855 - val_accuracy: 0.2763\n",
            "Epoch 2/50\n",
            "118/118 [==============================] - 19s 161ms/step - loss: 0.9750 - accuracy: 0.6445 - val_loss: 3.0250 - val_accuracy: 0.2748\n",
            "Epoch 3/50\n",
            "118/118 [==============================] - 19s 158ms/step - loss: 0.7778 - accuracy: 0.6988 - val_loss: 1.9279 - val_accuracy: 0.2779\n",
            "Epoch 4/50\n",
            "118/118 [==============================] - 19s 158ms/step - loss: 0.6614 - accuracy: 0.7425 - val_loss: 1.6401 - val_accuracy: 0.3557\n",
            "Epoch 5/50\n",
            "118/118 [==============================] - 19s 160ms/step - loss: 0.5795 - accuracy: 0.7798 - val_loss: 2.1343 - val_accuracy: 0.4031\n",
            "Epoch 6/50\n",
            "118/118 [==============================] - 20s 171ms/step - loss: 0.4772 - accuracy: 0.8231 - val_loss: 1.1920 - val_accuracy: 0.5221\n",
            "Epoch 7/50\n",
            "118/118 [==============================] - 19s 160ms/step - loss: 0.4129 - accuracy: 0.8498 - val_loss: 0.9269 - val_accuracy: 0.7023\n",
            "Epoch 8/50\n",
            "118/118 [==============================] - 20s 171ms/step - loss: 0.3535 - accuracy: 0.8702 - val_loss: 0.3730 - val_accuracy: 0.8702\n",
            "Epoch 9/50\n",
            "118/118 [==============================] - 19s 159ms/step - loss: 0.3281 - accuracy: 0.8816 - val_loss: 2.1804 - val_accuracy: 0.7695\n",
            "Epoch 10/50\n",
            "118/118 [==============================] - 19s 160ms/step - loss: 0.2671 - accuracy: 0.9011 - val_loss: 1.7821 - val_accuracy: 0.7389\n",
            "Epoch 11/50\n",
            "118/118 [==============================] - 20s 171ms/step - loss: 0.3436 - accuracy: 0.8774 - val_loss: 103.7414 - val_accuracy: 0.3511\n",
            "Epoch 12/50\n",
            "118/118 [==============================] - 19s 159ms/step - loss: 0.3745 - accuracy: 0.8681 - val_loss: 387.4565 - val_accuracy: 0.1924\n",
            "Epoch 13/50\n",
            "118/118 [==============================] - 20s 170ms/step - loss: 0.4811 - accuracy: 0.8210 - val_loss: 1.2547 - val_accuracy: 0.6595\n",
            "Epoch 14/50\n",
            "118/118 [==============================] - 20s 171ms/step - loss: 0.3382 - accuracy: 0.8795 - val_loss: 0.3697 - val_accuracy: 0.8824\n",
            "Epoch 15/50\n",
            "118/118 [==============================] - 19s 160ms/step - loss: 0.2073 - accuracy: 0.9325 - val_loss: 9.3508 - val_accuracy: 0.3206\n",
            "Epoch 16/50\n",
            "118/118 [==============================] - 19s 160ms/step - loss: 0.1526 - accuracy: 0.9453 - val_loss: 0.4287 - val_accuracy: 0.8656\n",
            "Epoch 17/50\n",
            "118/118 [==============================] - 20s 171ms/step - loss: 0.1296 - accuracy: 0.9563 - val_loss: 1.4505 - val_accuracy: 0.7969\n",
            "Epoch 18/50\n",
            "118/118 [==============================] - 19s 161ms/step - loss: 0.2353 - accuracy: 0.9228 - val_loss: 8.9766 - val_accuracy: 0.3740\n",
            "Epoch 19/50\n",
            "118/118 [==============================] - 20s 171ms/step - loss: 0.1264 - accuracy: 0.9605 - val_loss: 0.5562 - val_accuracy: 0.8321\n",
            "Epoch 20/50\n",
            "118/118 [==============================] - 19s 160ms/step - loss: 0.1394 - accuracy: 0.9516 - val_loss: 0.9258 - val_accuracy: 0.8153\n",
            "Epoch 21/50\n",
            "118/118 [==============================] - 19s 161ms/step - loss: 0.1105 - accuracy: 0.9618 - val_loss: 0.8157 - val_accuracy: 0.8550\n",
            "Epoch 22/50\n",
            "118/118 [==============================] - 19s 161ms/step - loss: 0.2765 - accuracy: 0.9190 - val_loss: 2628.6455 - val_accuracy: 0.2687\n",
            "Epoch 23/50\n",
            "118/118 [==============================] - 19s 161ms/step - loss: 0.2510 - accuracy: 0.9134 - val_loss: 143.6675 - val_accuracy: 0.4992\n",
            "Epoch 24/50\n",
            "118/118 [==============================] - 19s 160ms/step - loss: 0.1405 - accuracy: 0.9521 - val_loss: 0.3897 - val_accuracy: 0.8641\n",
            "Epoch 25/50\n",
            "118/118 [==============================] - 20s 171ms/step - loss: 0.1202 - accuracy: 0.9627 - val_loss: 1.1879 - val_accuracy: 0.8473\n",
            "Epoch 26/50\n",
            "118/118 [==============================] - 19s 160ms/step - loss: 0.0610 - accuracy: 0.9818 - val_loss: 0.4165 - val_accuracy: 0.8748\n",
            "Epoch 27/50\n",
            "118/118 [==============================] - 20s 171ms/step - loss: 0.1352 - accuracy: 0.9504 - val_loss: 0.4395 - val_accuracy: 0.8702\n",
            "Epoch 28/50\n",
            "118/118 [==============================] - 20s 170ms/step - loss: 0.1541 - accuracy: 0.9495 - val_loss: 1.1895 - val_accuracy: 0.7786\n",
            "Epoch 29/50\n",
            "118/118 [==============================] - 19s 160ms/step - loss: 0.1431 - accuracy: 0.9529 - val_loss: 5.7749 - val_accuracy: 0.7008\n",
            "Epoch 30/50\n",
            "118/118 [==============================] - 19s 160ms/step - loss: 0.0774 - accuracy: 0.9720 - val_loss: 0.8341 - val_accuracy: 0.8168\n",
            "Epoch 31/50\n",
            "118/118 [==============================] - 20s 170ms/step - loss: 0.0916 - accuracy: 0.9644 - val_loss: 6.8226 - val_accuracy: 0.7099\n",
            "Epoch 32/50\n",
            "118/118 [==============================] - 19s 160ms/step - loss: 0.0801 - accuracy: 0.9720 - val_loss: 1.4459 - val_accuracy: 0.8260\n",
            "Epoch 33/50\n",
            "118/118 [==============================] - 19s 160ms/step - loss: 0.1158 - accuracy: 0.9605 - val_loss: 0.7093 - val_accuracy: 0.7985\n",
            "Epoch 34/50\n",
            "118/118 [==============================] - 19s 160ms/step - loss: 0.1043 - accuracy: 0.9686 - val_loss: 0.8963 - val_accuracy: 0.8443\n",
            "Epoch 35/50\n",
            "118/118 [==============================] - 19s 160ms/step - loss: 0.0474 - accuracy: 0.9839 - val_loss: 0.4952 - val_accuracy: 0.8733\n",
            "Epoch 36/50\n",
            "118/118 [==============================] - 20s 170ms/step - loss: 0.0552 - accuracy: 0.9784 - val_loss: 0.5220 - val_accuracy: 0.8794\n",
            "Epoch 37/50\n",
            "118/118 [==============================] - 19s 160ms/step - loss: 0.0570 - accuracy: 0.9792 - val_loss: 12.3836 - val_accuracy: 0.7374\n",
            "Epoch 38/50\n",
            "118/118 [==============================] - 19s 159ms/step - loss: 0.1352 - accuracy: 0.9571 - val_loss: 0.6844 - val_accuracy: 0.8382\n",
            "Epoch 39/50\n",
            "118/118 [==============================] - 20s 170ms/step - loss: 0.1678 - accuracy: 0.9470 - val_loss: 0.8443 - val_accuracy: 0.7557\n",
            "Epoch 40/50\n",
            "118/118 [==============================] - 20s 171ms/step - loss: 0.1142 - accuracy: 0.9584 - val_loss: 6.2185 - val_accuracy: 0.7328\n",
            "Epoch 41/50\n",
            "118/118 [==============================] - 19s 160ms/step - loss: 0.0885 - accuracy: 0.9707 - val_loss: 1.3625 - val_accuracy: 0.8183\n",
            "Epoch 42/50\n",
            "118/118 [==============================] - 19s 161ms/step - loss: 0.0378 - accuracy: 0.9868 - val_loss: 0.4263 - val_accuracy: 0.8901\n",
            "Epoch 43/50\n",
            "118/118 [==============================] - 20s 170ms/step - loss: 0.0245 - accuracy: 0.9941 - val_loss: 0.3924 - val_accuracy: 0.9053\n",
            "Epoch 44/50\n",
            "118/118 [==============================] - 19s 160ms/step - loss: 0.0605 - accuracy: 0.9801 - val_loss: 19.5283 - val_accuracy: 0.4061\n",
            "Epoch 45/50\n",
            "118/118 [==============================] - 19s 161ms/step - loss: 0.2028 - accuracy: 0.9291 - val_loss: 1.7089 - val_accuracy: 0.8168\n",
            "Epoch 46/50\n",
            "118/118 [==============================] - 19s 160ms/step - loss: 0.0383 - accuracy: 0.9877 - val_loss: 0.3562 - val_accuracy: 0.9145\n",
            "Epoch 47/50\n",
            "118/118 [==============================] - 20s 170ms/step - loss: 0.0669 - accuracy: 0.9771 - val_loss: 0.4864 - val_accuracy: 0.8992\n",
            "Epoch 48/50\n",
            "118/118 [==============================] - 20s 170ms/step - loss: 0.0355 - accuracy: 0.9894 - val_loss: 0.2898 - val_accuracy: 0.9328\n",
            "Epoch 49/50\n",
            "118/118 [==============================] - 19s 160ms/step - loss: 0.0082 - accuracy: 0.9975 - val_loss: 0.3353 - val_accuracy: 0.9099\n",
            "Epoch 50/50\n",
            "118/118 [==============================] - 19s 160ms/step - loss: 0.0343 - accuracy: 0.9881 - val_loss: 0.4719 - val_accuracy: 0.8794\n"
          ],
          "name": "stdout"
        }
      ]
    },
    {
      "cell_type": "markdown",
      "metadata": {
        "id": "gZ1mAGKanLSM"
      },
      "source": [
        "###ResNet101 RGB With TFL"
      ]
    },
    {
      "cell_type": "code",
      "metadata": {
        "id": "LYMo5XZu4QK5",
        "colab": {
          "base_uri": "https://localhost:8080/"
        },
        "outputId": "e6e5cc9a-b987-4d87-9e25-1432d0287779"
      },
      "source": [
        "modelResnet101_tfl = create_resnet_model(101,X_train_rgb.shape[1:],True)"
      ],
      "execution_count": null,
      "outputs": [
        {
          "output_type": "stream",
          "text": [
            "Downloading data from https://storage.googleapis.com/tensorflow/keras-applications/resnet/resnet101_weights_tf_dim_ordering_tf_kernels_notop.h5\n",
            "171450368/171446536 [==============================] - 4s 0us/step\n"
          ],
          "name": "stdout"
        }
      ]
    },
    {
      "cell_type": "code",
      "metadata": {
        "colab": {
          "base_uri": "https://localhost:8080/"
        },
        "id": "ws3vDLSpb_1d",
        "outputId": "aeb220fb-761f-438e-8a05-19723784f4fd"
      },
      "source": [
        "history_modelResnet101_tfl = modelResnet101_tfl.fit(X_train_rgb, y_train_rgb, batch_size=batch_size, epochs=50, validation_data=(X_val_rgb, y_val_rgb))"
      ],
      "execution_count": null,
      "outputs": [
        {
          "output_type": "stream",
          "text": [
            "Epoch 1/50\n",
            "118/118 [==============================] - 27s 177ms/step - loss: 2.3523 - accuracy: 0.3340 - val_loss: 0.9916 - val_accuracy: 0.5695\n",
            "Epoch 2/50\n",
            "118/118 [==============================] - 19s 160ms/step - loss: 0.9634 - accuracy: 0.5999 - val_loss: 0.9104 - val_accuracy: 0.5985\n",
            "Epoch 3/50\n",
            "118/118 [==============================] - 19s 160ms/step - loss: 0.8680 - accuracy: 0.6313 - val_loss: 0.8473 - val_accuracy: 0.6198\n",
            "Epoch 4/50\n",
            "118/118 [==============================] - 19s 160ms/step - loss: 0.8103 - accuracy: 0.6761 - val_loss: 0.7520 - val_accuracy: 0.6855\n",
            "Epoch 5/50\n",
            "118/118 [==============================] - 19s 160ms/step - loss: 0.7768 - accuracy: 0.6910 - val_loss: 0.7211 - val_accuracy: 0.7191\n",
            "Epoch 6/50\n",
            "118/118 [==============================] - 19s 160ms/step - loss: 0.7603 - accuracy: 0.6846 - val_loss: 0.7680 - val_accuracy: 0.6931\n",
            "Epoch 7/50\n",
            "118/118 [==============================] - 19s 160ms/step - loss: 0.7035 - accuracy: 0.6893 - val_loss: 0.6558 - val_accuracy: 0.7420\n",
            "Epoch 8/50\n",
            "118/118 [==============================] - 19s 160ms/step - loss: 0.6458 - accuracy: 0.7330 - val_loss: 0.6303 - val_accuracy: 0.7511\n",
            "Epoch 9/50\n",
            "118/118 [==============================] - 19s 160ms/step - loss: 0.6372 - accuracy: 0.7449 - val_loss: 0.6396 - val_accuracy: 0.7344\n",
            "Epoch 10/50\n",
            "118/118 [==============================] - 19s 160ms/step - loss: 0.6624 - accuracy: 0.7256 - val_loss: 0.7100 - val_accuracy: 0.7084\n",
            "Epoch 11/50\n",
            "118/118 [==============================] - 19s 160ms/step - loss: 0.6581 - accuracy: 0.7205 - val_loss: 0.6132 - val_accuracy: 0.7573\n",
            "Epoch 12/50\n",
            "118/118 [==============================] - 19s 160ms/step - loss: 0.6313 - accuracy: 0.7333 - val_loss: 0.5970 - val_accuracy: 0.7496\n",
            "Epoch 13/50\n",
            "118/118 [==============================] - 19s 160ms/step - loss: 0.5831 - accuracy: 0.7629 - val_loss: 0.6218 - val_accuracy: 0.7695\n",
            "Epoch 14/50\n",
            "118/118 [==============================] - 19s 160ms/step - loss: 0.5955 - accuracy: 0.7506 - val_loss: 0.5761 - val_accuracy: 0.7710\n",
            "Epoch 15/50\n",
            "118/118 [==============================] - 19s 160ms/step - loss: 0.5961 - accuracy: 0.7599 - val_loss: 0.5464 - val_accuracy: 0.7908\n",
            "Epoch 16/50\n",
            "118/118 [==============================] - 19s 160ms/step - loss: 0.5802 - accuracy: 0.7732 - val_loss: 0.5511 - val_accuracy: 0.7969\n",
            "Epoch 17/50\n",
            "118/118 [==============================] - 19s 160ms/step - loss: 0.5542 - accuracy: 0.7745 - val_loss: 0.5393 - val_accuracy: 0.7740\n",
            "Epoch 18/50\n",
            "118/118 [==============================] - 19s 160ms/step - loss: 0.5225 - accuracy: 0.7887 - val_loss: 0.5148 - val_accuracy: 0.8076\n",
            "Epoch 19/50\n",
            "118/118 [==============================] - 19s 160ms/step - loss: 0.5453 - accuracy: 0.7626 - val_loss: 0.5667 - val_accuracy: 0.7802\n",
            "Epoch 20/50\n",
            "118/118 [==============================] - 19s 160ms/step - loss: 0.5427 - accuracy: 0.7676 - val_loss: 0.5372 - val_accuracy: 0.7969\n",
            "Epoch 21/50\n",
            "118/118 [==============================] - 19s 160ms/step - loss: 0.4935 - accuracy: 0.7883 - val_loss: 0.5113 - val_accuracy: 0.8092\n",
            "Epoch 22/50\n",
            "118/118 [==============================] - 19s 160ms/step - loss: 0.5056 - accuracy: 0.8031 - val_loss: 0.5353 - val_accuracy: 0.7954\n",
            "Epoch 23/50\n",
            "118/118 [==============================] - 19s 159ms/step - loss: 0.4724 - accuracy: 0.8120 - val_loss: 0.5028 - val_accuracy: 0.8061\n",
            "Epoch 24/50\n",
            "118/118 [==============================] - 19s 159ms/step - loss: 0.4208 - accuracy: 0.8477 - val_loss: 0.5319 - val_accuracy: 0.7924\n",
            "Epoch 25/50\n",
            "118/118 [==============================] - 19s 159ms/step - loss: 0.4599 - accuracy: 0.8182 - val_loss: 0.4931 - val_accuracy: 0.8137\n",
            "Epoch 26/50\n",
            "118/118 [==============================] - 19s 160ms/step - loss: 0.4876 - accuracy: 0.8018 - val_loss: 0.6190 - val_accuracy: 0.7588\n",
            "Epoch 27/50\n",
            "118/118 [==============================] - 19s 160ms/step - loss: 0.5037 - accuracy: 0.7940 - val_loss: 0.6191 - val_accuracy: 0.7756\n",
            "Epoch 28/50\n",
            "118/118 [==============================] - 19s 159ms/step - loss: 0.4778 - accuracy: 0.8019 - val_loss: 0.5269 - val_accuracy: 0.7939\n",
            "Epoch 29/50\n",
            "118/118 [==============================] - 19s 160ms/step - loss: 0.4199 - accuracy: 0.8322 - val_loss: 0.5421 - val_accuracy: 0.7939\n",
            "Epoch 30/50\n",
            "118/118 [==============================] - 19s 160ms/step - loss: 0.4233 - accuracy: 0.8352 - val_loss: 0.5360 - val_accuracy: 0.8214\n",
            "Epoch 31/50\n",
            "118/118 [==============================] - 19s 160ms/step - loss: 0.4394 - accuracy: 0.8288 - val_loss: 0.5928 - val_accuracy: 0.7771\n",
            "Epoch 32/50\n",
            "118/118 [==============================] - 19s 160ms/step - loss: 0.4391 - accuracy: 0.8283 - val_loss: 0.7004 - val_accuracy: 0.7710\n",
            "Epoch 33/50\n",
            "118/118 [==============================] - 19s 160ms/step - loss: 0.4716 - accuracy: 0.8200 - val_loss: 0.5004 - val_accuracy: 0.8107\n",
            "Epoch 34/50\n",
            "118/118 [==============================] - 19s 160ms/step - loss: 0.3855 - accuracy: 0.8571 - val_loss: 0.4764 - val_accuracy: 0.8260\n",
            "Epoch 35/50\n",
            "118/118 [==============================] - 19s 160ms/step - loss: 0.4111 - accuracy: 0.8317 - val_loss: 0.5601 - val_accuracy: 0.7893\n",
            "Epoch 36/50\n",
            "118/118 [==============================] - 19s 160ms/step - loss: 0.3922 - accuracy: 0.8436 - val_loss: 0.5017 - val_accuracy: 0.7924\n",
            "Epoch 37/50\n",
            "118/118 [==============================] - 19s 160ms/step - loss: 0.4359 - accuracy: 0.8277 - val_loss: 0.5618 - val_accuracy: 0.8000\n",
            "Epoch 38/50\n",
            "118/118 [==============================] - 19s 159ms/step - loss: 0.4578 - accuracy: 0.8226 - val_loss: 0.4804 - val_accuracy: 0.8275\n",
            "Epoch 39/50\n",
            "118/118 [==============================] - 19s 159ms/step - loss: 0.3970 - accuracy: 0.8370 - val_loss: 0.4703 - val_accuracy: 0.8305\n",
            "Epoch 40/50\n",
            "118/118 [==============================] - 19s 159ms/step - loss: 0.3926 - accuracy: 0.8480 - val_loss: 0.4808 - val_accuracy: 0.8321\n",
            "Epoch 41/50\n",
            "118/118 [==============================] - 19s 160ms/step - loss: 0.3634 - accuracy: 0.8504 - val_loss: 0.4870 - val_accuracy: 0.8290\n",
            "Epoch 42/50\n",
            "118/118 [==============================] - 19s 160ms/step - loss: 0.3969 - accuracy: 0.8441 - val_loss: 0.5107 - val_accuracy: 0.8168\n",
            "Epoch 43/50\n",
            "118/118 [==============================] - 19s 160ms/step - loss: 0.3827 - accuracy: 0.8466 - val_loss: 0.4807 - val_accuracy: 0.8214\n",
            "Epoch 44/50\n",
            "118/118 [==============================] - 19s 160ms/step - loss: 0.4027 - accuracy: 0.8278 - val_loss: 0.5889 - val_accuracy: 0.7893\n",
            "Epoch 45/50\n",
            "118/118 [==============================] - 19s 160ms/step - loss: 0.3893 - accuracy: 0.8399 - val_loss: 0.4913 - val_accuracy: 0.8260\n",
            "Epoch 46/50\n",
            "118/118 [==============================] - 19s 159ms/step - loss: 0.3866 - accuracy: 0.8462 - val_loss: 0.5178 - val_accuracy: 0.8000\n",
            "Epoch 47/50\n",
            "118/118 [==============================] - 19s 160ms/step - loss: 0.3792 - accuracy: 0.8613 - val_loss: 0.4756 - val_accuracy: 0.8305\n",
            "Epoch 48/50\n",
            "118/118 [==============================] - 19s 160ms/step - loss: 0.3547 - accuracy: 0.8550 - val_loss: 0.4555 - val_accuracy: 0.8458\n",
            "Epoch 49/50\n",
            "118/118 [==============================] - 19s 159ms/step - loss: 0.3416 - accuracy: 0.8647 - val_loss: 0.4731 - val_accuracy: 0.8427\n",
            "Epoch 50/50\n",
            "118/118 [==============================] - 19s 159ms/step - loss: 0.3793 - accuracy: 0.8551 - val_loss: 0.4772 - val_accuracy: 0.8412\n"
          ],
          "name": "stdout"
        }
      ]
    },
    {
      "cell_type": "markdown",
      "metadata": {
        "id": "Ysg6OAqQnQ6j"
      },
      "source": [
        "###ResNet152 RGB"
      ]
    },
    {
      "cell_type": "code",
      "metadata": {
        "id": "aR3hmpMa4SxH"
      },
      "source": [
        "modelResnet152_rgb = create_resnet_model(152,X_train_rgb.shape[1:])"
      ],
      "execution_count": null,
      "outputs": []
    },
    {
      "cell_type": "code",
      "metadata": {
        "colab": {
          "base_uri": "https://localhost:8080/"
        },
        "id": "4clBDMhKdjJM",
        "outputId": "5e1174f2-d027-4b91-c537-9ab18e35e5d4"
      },
      "source": [
        "history_modelResnet152_rgb = modelResnet152_rgb.fit(X_train_rgb, y_train_rgb, batch_size=batch_size, epochs=50, validation_data=(X_val_rgb, y_val_rgb))"
      ],
      "execution_count": null,
      "outputs": [
        {
          "output_type": "stream",
          "text": [
            "Epoch 1/50\n",
            "118/118 [==============================] - 75s 242ms/step - loss: 2.4100 - accuracy: 0.3409 - val_loss: 1.8966 - val_accuracy: 0.2687\n",
            "Epoch 2/50\n",
            "118/118 [==============================] - 25s 212ms/step - loss: 1.1044 - accuracy: 0.5806 - val_loss: 1.5514 - val_accuracy: 0.3038\n",
            "Epoch 3/50\n",
            "118/118 [==============================] - 25s 215ms/step - loss: 0.9546 - accuracy: 0.6388 - val_loss: 1.5411 - val_accuracy: 0.3771\n",
            "Epoch 4/50\n",
            "118/118 [==============================] - 26s 217ms/step - loss: 0.7871 - accuracy: 0.6800 - val_loss: 1.2768 - val_accuracy: 0.4733\n",
            "Epoch 5/50\n",
            "118/118 [==============================] - 26s 218ms/step - loss: 0.6692 - accuracy: 0.7362 - val_loss: 3.7066 - val_accuracy: 0.4962\n",
            "Epoch 6/50\n",
            "118/118 [==============================] - 26s 219ms/step - loss: 0.6625 - accuracy: 0.7434 - val_loss: 2.7766 - val_accuracy: 0.4947\n",
            "Epoch 7/50\n",
            "118/118 [==============================] - 26s 220ms/step - loss: 0.5947 - accuracy: 0.7746 - val_loss: 2.7100 - val_accuracy: 0.5542\n",
            "Epoch 8/50\n",
            "118/118 [==============================] - 26s 220ms/step - loss: 0.4874 - accuracy: 0.8190 - val_loss: 2.1055 - val_accuracy: 0.7679\n",
            "Epoch 9/50\n",
            "118/118 [==============================] - 26s 221ms/step - loss: 0.4354 - accuracy: 0.8462 - val_loss: 1.1168 - val_accuracy: 0.6580\n",
            "Epoch 10/50\n",
            "118/118 [==============================] - 26s 222ms/step - loss: 0.4260 - accuracy: 0.8543 - val_loss: 1.4294 - val_accuracy: 0.7328\n",
            "Epoch 11/50\n",
            "118/118 [==============================] - 26s 222ms/step - loss: 0.3663 - accuracy: 0.8637 - val_loss: 6.0424 - val_accuracy: 0.6076\n",
            "Epoch 12/50\n",
            "118/118 [==============================] - 26s 222ms/step - loss: 0.2748 - accuracy: 0.9024 - val_loss: 1.1326 - val_accuracy: 0.6534\n",
            "Epoch 13/50\n",
            "118/118 [==============================] - 26s 223ms/step - loss: 0.2416 - accuracy: 0.9208 - val_loss: 0.6387 - val_accuracy: 0.8122\n",
            "Epoch 14/50\n",
            "118/118 [==============================] - 26s 223ms/step - loss: 0.1791 - accuracy: 0.9512 - val_loss: 6.1958 - val_accuracy: 0.6840\n",
            "Epoch 15/50\n",
            "118/118 [==============================] - 26s 223ms/step - loss: 0.1772 - accuracy: 0.9362 - val_loss: 0.6978 - val_accuracy: 0.7649\n",
            "Epoch 16/50\n",
            "118/118 [==============================] - 26s 223ms/step - loss: 0.2114 - accuracy: 0.9163 - val_loss: 1.6339 - val_accuracy: 0.7450\n",
            "Epoch 17/50\n",
            "118/118 [==============================] - 26s 223ms/step - loss: 0.2067 - accuracy: 0.9287 - val_loss: 1.3612 - val_accuracy: 0.7634\n",
            "Epoch 18/50\n",
            "118/118 [==============================] - 26s 223ms/step - loss: 0.1676 - accuracy: 0.9416 - val_loss: 0.6375 - val_accuracy: 0.8107\n",
            "Epoch 19/50\n",
            "118/118 [==============================] - 26s 223ms/step - loss: 0.1338 - accuracy: 0.9517 - val_loss: 0.7153 - val_accuracy: 0.7908\n",
            "Epoch 20/50\n",
            "118/118 [==============================] - 26s 223ms/step - loss: 0.1121 - accuracy: 0.9648 - val_loss: 10.9555 - val_accuracy: 0.5847\n",
            "Epoch 21/50\n",
            "118/118 [==============================] - 26s 223ms/step - loss: 0.1413 - accuracy: 0.9520 - val_loss: 0.8579 - val_accuracy: 0.7908\n",
            "Epoch 22/50\n",
            "118/118 [==============================] - 26s 223ms/step - loss: 0.1234 - accuracy: 0.9585 - val_loss: 0.5842 - val_accuracy: 0.8168\n",
            "Epoch 23/50\n",
            "118/118 [==============================] - 26s 224ms/step - loss: 0.1462 - accuracy: 0.9495 - val_loss: 0.9957 - val_accuracy: 0.7557\n",
            "Epoch 24/50\n",
            "118/118 [==============================] - 26s 224ms/step - loss: 0.0814 - accuracy: 0.9746 - val_loss: 0.9219 - val_accuracy: 0.7496\n",
            "Epoch 25/50\n",
            "118/118 [==============================] - 26s 224ms/step - loss: 0.3159 - accuracy: 0.9023 - val_loss: 6868.8779 - val_accuracy: 0.2672\n",
            "Epoch 26/50\n",
            "118/118 [==============================] - 26s 224ms/step - loss: 0.6634 - accuracy: 0.7635 - val_loss: 29.5437 - val_accuracy: 0.3176\n",
            "Epoch 27/50\n",
            "118/118 [==============================] - 26s 223ms/step - loss: 0.4026 - accuracy: 0.8567 - val_loss: 0.3529 - val_accuracy: 0.8534\n",
            "Epoch 28/50\n",
            "118/118 [==============================] - 26s 223ms/step - loss: 0.1275 - accuracy: 0.9543 - val_loss: 0.8039 - val_accuracy: 0.8107\n",
            "Epoch 29/50\n",
            "118/118 [==============================] - 26s 223ms/step - loss: 0.0798 - accuracy: 0.9777 - val_loss: 0.4085 - val_accuracy: 0.8687\n",
            "Epoch 30/50\n",
            "118/118 [==============================] - 26s 223ms/step - loss: 0.0662 - accuracy: 0.9723 - val_loss: 2.2412 - val_accuracy: 0.7618\n",
            "Epoch 31/50\n",
            "118/118 [==============================] - 26s 223ms/step - loss: 0.0951 - accuracy: 0.9676 - val_loss: 0.3455 - val_accuracy: 0.8947\n",
            "Epoch 32/50\n",
            "118/118 [==============================] - 26s 223ms/step - loss: 0.0740 - accuracy: 0.9743 - val_loss: 0.5292 - val_accuracy: 0.8519\n",
            "Epoch 33/50\n",
            "118/118 [==============================] - 26s 223ms/step - loss: 0.1168 - accuracy: 0.9650 - val_loss: 0.6428 - val_accuracy: 0.8137\n",
            "Epoch 34/50\n",
            "118/118 [==============================] - 26s 223ms/step - loss: 0.1011 - accuracy: 0.9631 - val_loss: 0.4182 - val_accuracy: 0.8687\n",
            "Epoch 35/50\n",
            "118/118 [==============================] - 26s 224ms/step - loss: 0.0543 - accuracy: 0.9802 - val_loss: 1.1248 - val_accuracy: 0.7511\n",
            "Epoch 36/50\n",
            "118/118 [==============================] - 26s 224ms/step - loss: 0.1317 - accuracy: 0.9565 - val_loss: 0.8114 - val_accuracy: 0.7969\n",
            "Epoch 37/50\n",
            "118/118 [==============================] - 26s 224ms/step - loss: 0.0363 - accuracy: 0.9872 - val_loss: 1.0628 - val_accuracy: 0.7557\n",
            "Epoch 38/50\n",
            "118/118 [==============================] - 26s 223ms/step - loss: 0.0485 - accuracy: 0.9853 - val_loss: 0.3144 - val_accuracy: 0.9130\n",
            "Epoch 39/50\n",
            "118/118 [==============================] - 26s 223ms/step - loss: 0.0910 - accuracy: 0.9729 - val_loss: 0.6552 - val_accuracy: 0.8107\n",
            "Epoch 40/50\n",
            "118/118 [==============================] - 26s 224ms/step - loss: 0.0969 - accuracy: 0.9659 - val_loss: 0.9624 - val_accuracy: 0.7420\n",
            "Epoch 41/50\n",
            "118/118 [==============================] - 26s 223ms/step - loss: 0.0564 - accuracy: 0.9822 - val_loss: 0.4401 - val_accuracy: 0.8870\n",
            "Epoch 42/50\n",
            "118/118 [==============================] - 26s 223ms/step - loss: 0.0776 - accuracy: 0.9716 - val_loss: 0.4677 - val_accuracy: 0.8748\n",
            "Epoch 43/50\n",
            "118/118 [==============================] - 26s 224ms/step - loss: 0.1451 - accuracy: 0.9530 - val_loss: 0.7309 - val_accuracy: 0.7740\n",
            "Epoch 44/50\n",
            "118/118 [==============================] - 26s 224ms/step - loss: 0.0990 - accuracy: 0.9681 - val_loss: 0.4632 - val_accuracy: 0.8824\n",
            "Epoch 45/50\n",
            "118/118 [==============================] - 26s 223ms/step - loss: 0.0937 - accuracy: 0.9722 - val_loss: 1.8335 - val_accuracy: 0.7023\n",
            "Epoch 46/50\n",
            "118/118 [==============================] - 26s 223ms/step - loss: 0.0716 - accuracy: 0.9728 - val_loss: 0.6643 - val_accuracy: 0.8718\n",
            "Epoch 47/50\n",
            "118/118 [==============================] - 26s 223ms/step - loss: 0.0405 - accuracy: 0.9896 - val_loss: 0.4085 - val_accuracy: 0.9053\n",
            "Epoch 48/50\n",
            "118/118 [==============================] - 26s 223ms/step - loss: 0.0321 - accuracy: 0.9895 - val_loss: 0.5292 - val_accuracy: 0.8580\n",
            "Epoch 49/50\n",
            "118/118 [==============================] - 26s 223ms/step - loss: 0.0599 - accuracy: 0.9820 - val_loss: 0.8668 - val_accuracy: 0.7588\n",
            "Epoch 50/50\n",
            "118/118 [==============================] - 26s 224ms/step - loss: 0.0548 - accuracy: 0.9804 - val_loss: 0.5576 - val_accuracy: 0.8412\n"
          ],
          "name": "stdout"
        }
      ]
    },
    {
      "cell_type": "markdown",
      "metadata": {
        "id": "PmpsPizTndI1"
      },
      "source": [
        "###ResNet152 GS"
      ]
    },
    {
      "cell_type": "code",
      "metadata": {
        "id": "qshGNdBR4Wb_"
      },
      "source": [
        "modelResnet152_gs = create_resnet_model(152,X_train_gs.shape[1:])"
      ],
      "execution_count": null,
      "outputs": []
    },
    {
      "cell_type": "code",
      "metadata": {
        "colab": {
          "base_uri": "https://localhost:8080/"
        },
        "id": "-i5EuyLLdnQ8",
        "outputId": "b65bb4b0-fcd4-4ebf-a80e-23c8d3b84f6e"
      },
      "source": [
        "history_modelResnet152_gs = modelResnet152_gs.fit(X_train_gs, y_train_gs, batch_size=batch_size, epochs=50, validation_data=(X_val_gs, y_val_gs))"
      ],
      "execution_count": null,
      "outputs": [
        {
          "output_type": "stream",
          "text": [
            "Epoch 1/50\n",
            "118/118 [==============================] - 42s 240ms/step - loss: 2.6168 - accuracy: 0.3892 - val_loss: 2.6105 - val_accuracy: 0.2687\n",
            "Epoch 2/50\n",
            "118/118 [==============================] - 26s 218ms/step - loss: 1.0801 - accuracy: 0.5826 - val_loss: 2.4967 - val_accuracy: 0.2565\n",
            "Epoch 3/50\n",
            "118/118 [==============================] - 26s 219ms/step - loss: 0.7936 - accuracy: 0.7002 - val_loss: 3.6857 - val_accuracy: 0.2687\n",
            "Epoch 4/50\n",
            "118/118 [==============================] - 26s 220ms/step - loss: 0.7205 - accuracy: 0.7271 - val_loss: 2.4323 - val_accuracy: 0.3328\n",
            "Epoch 5/50\n",
            "118/118 [==============================] - 26s 220ms/step - loss: 0.6495 - accuracy: 0.7524 - val_loss: 2.0148 - val_accuracy: 0.3985\n",
            "Epoch 6/50\n",
            "118/118 [==============================] - 26s 220ms/step - loss: 0.5190 - accuracy: 0.8030 - val_loss: 0.8678 - val_accuracy: 0.7023\n",
            "Epoch 7/50\n",
            "118/118 [==============================] - 26s 221ms/step - loss: 0.4649 - accuracy: 0.8193 - val_loss: 17.0255 - val_accuracy: 0.7634\n",
            "Epoch 8/50\n",
            "118/118 [==============================] - 26s 221ms/step - loss: 0.4514 - accuracy: 0.8419 - val_loss: 1.8967 - val_accuracy: 0.5725\n",
            "Epoch 9/50\n",
            "118/118 [==============================] - 26s 221ms/step - loss: 0.4772 - accuracy: 0.8276 - val_loss: 2.6699 - val_accuracy: 0.3466\n",
            "Epoch 10/50\n",
            "118/118 [==============================] - 26s 221ms/step - loss: 0.6713 - accuracy: 0.7488 - val_loss: 6.1432 - val_accuracy: 0.5481\n",
            "Epoch 11/50\n",
            "118/118 [==============================] - 26s 221ms/step - loss: 0.3497 - accuracy: 0.8622 - val_loss: 0.6538 - val_accuracy: 0.7740\n",
            "Epoch 12/50\n",
            "118/118 [==============================] - 26s 222ms/step - loss: 0.2838 - accuracy: 0.8916 - val_loss: 0.7429 - val_accuracy: 0.7664\n",
            "Epoch 13/50\n",
            "118/118 [==============================] - 26s 222ms/step - loss: 0.2636 - accuracy: 0.9077 - val_loss: 1.3534 - val_accuracy: 0.6992\n",
            "Epoch 14/50\n",
            "118/118 [==============================] - 26s 222ms/step - loss: 0.2739 - accuracy: 0.9031 - val_loss: 0.7151 - val_accuracy: 0.7756\n",
            "Epoch 15/50\n",
            "118/118 [==============================] - 26s 222ms/step - loss: 0.1851 - accuracy: 0.9310 - val_loss: 0.8917 - val_accuracy: 0.7405\n",
            "Epoch 16/50\n",
            "118/118 [==============================] - 26s 222ms/step - loss: 0.2724 - accuracy: 0.9128 - val_loss: 0.5810 - val_accuracy: 0.8321\n",
            "Epoch 17/50\n",
            "118/118 [==============================] - 26s 222ms/step - loss: 0.1976 - accuracy: 0.9311 - val_loss: 1.0759 - val_accuracy: 0.7084\n",
            "Epoch 18/50\n",
            "118/118 [==============================] - 26s 221ms/step - loss: 0.2156 - accuracy: 0.9258 - val_loss: 0.8813 - val_accuracy: 0.7344\n",
            "Epoch 19/50\n",
            "118/118 [==============================] - 26s 221ms/step - loss: 0.1898 - accuracy: 0.9347 - val_loss: 0.6287 - val_accuracy: 0.8198\n",
            "Epoch 20/50\n",
            "118/118 [==============================] - 26s 221ms/step - loss: 0.1357 - accuracy: 0.9532 - val_loss: 0.7261 - val_accuracy: 0.7786\n",
            "Epoch 21/50\n",
            "118/118 [==============================] - 26s 221ms/step - loss: 0.2896 - accuracy: 0.9082 - val_loss: 26.0752 - val_accuracy: 0.3573\n",
            "Epoch 22/50\n",
            "118/118 [==============================] - 26s 221ms/step - loss: 0.2223 - accuracy: 0.9192 - val_loss: 0.9628 - val_accuracy: 0.7481\n",
            "Epoch 23/50\n",
            "118/118 [==============================] - 26s 221ms/step - loss: 0.1443 - accuracy: 0.9534 - val_loss: 0.6085 - val_accuracy: 0.8351\n",
            "Epoch 24/50\n",
            "118/118 [==============================] - 26s 221ms/step - loss: 0.2079 - accuracy: 0.9307 - val_loss: 1.1252 - val_accuracy: 0.7084\n",
            "Epoch 25/50\n",
            "118/118 [==============================] - 26s 221ms/step - loss: 0.1211 - accuracy: 0.9635 - val_loss: 2.3367 - val_accuracy: 0.7313\n",
            "Epoch 26/50\n",
            "118/118 [==============================] - 26s 221ms/step - loss: 0.1492 - accuracy: 0.9493 - val_loss: 0.6185 - val_accuracy: 0.8290\n",
            "Epoch 27/50\n",
            "118/118 [==============================] - 26s 221ms/step - loss: 0.0826 - accuracy: 0.9727 - val_loss: 0.9553 - val_accuracy: 0.7405\n",
            "Epoch 28/50\n",
            "118/118 [==============================] - 26s 221ms/step - loss: 0.1331 - accuracy: 0.9565 - val_loss: 0.8598 - val_accuracy: 0.7466\n",
            "Epoch 29/50\n",
            "118/118 [==============================] - 26s 221ms/step - loss: 0.1260 - accuracy: 0.9619 - val_loss: 0.4854 - val_accuracy: 0.8824\n",
            "Epoch 30/50\n",
            "118/118 [==============================] - 26s 222ms/step - loss: 0.0663 - accuracy: 0.9792 - val_loss: 0.6078 - val_accuracy: 0.8519\n",
            "Epoch 31/50\n",
            "118/118 [==============================] - 26s 222ms/step - loss: 0.0890 - accuracy: 0.9731 - val_loss: 1.1717 - val_accuracy: 0.7130\n",
            "Epoch 32/50\n",
            "118/118 [==============================] - 26s 221ms/step - loss: 0.0984 - accuracy: 0.9650 - val_loss: 0.4649 - val_accuracy: 0.8901\n",
            "Epoch 33/50\n",
            "118/118 [==============================] - 26s 221ms/step - loss: 0.0689 - accuracy: 0.9754 - val_loss: 1.4141 - val_accuracy: 0.6412\n",
            "Epoch 34/50\n",
            "118/118 [==============================] - 26s 221ms/step - loss: 0.2919 - accuracy: 0.9032 - val_loss: 0.7993 - val_accuracy: 0.7634\n",
            "Epoch 35/50\n",
            "118/118 [==============================] - 26s 221ms/step - loss: 0.1626 - accuracy: 0.9462 - val_loss: 0.5756 - val_accuracy: 0.8702\n",
            "Epoch 36/50\n",
            "118/118 [==============================] - 26s 221ms/step - loss: 0.1359 - accuracy: 0.9602 - val_loss: 0.5570 - val_accuracy: 0.8473\n",
            "Epoch 37/50\n",
            "118/118 [==============================] - 26s 221ms/step - loss: 0.0767 - accuracy: 0.9721 - val_loss: 0.3456 - val_accuracy: 0.8977\n",
            "Epoch 38/50\n",
            "118/118 [==============================] - 26s 221ms/step - loss: 0.0362 - accuracy: 0.9866 - val_loss: 0.8473 - val_accuracy: 0.8137\n",
            "Epoch 39/50\n",
            "118/118 [==============================] - 26s 221ms/step - loss: 0.1298 - accuracy: 0.9546 - val_loss: 0.4423 - val_accuracy: 0.8840\n",
            "Epoch 40/50\n",
            "118/118 [==============================] - 26s 221ms/step - loss: 0.0434 - accuracy: 0.9834 - val_loss: 0.5849 - val_accuracy: 0.8366\n",
            "Epoch 41/50\n",
            "118/118 [==============================] - 26s 221ms/step - loss: 0.0848 - accuracy: 0.9741 - val_loss: 0.9983 - val_accuracy: 0.7573\n",
            "Epoch 42/50\n",
            "118/118 [==============================] - 26s 221ms/step - loss: 0.1148 - accuracy: 0.9572 - val_loss: 0.5278 - val_accuracy: 0.8870\n",
            "Epoch 43/50\n",
            "118/118 [==============================] - 26s 221ms/step - loss: 0.0532 - accuracy: 0.9775 - val_loss: 0.3873 - val_accuracy: 0.8855\n",
            "Epoch 44/50\n",
            "118/118 [==============================] - 26s 221ms/step - loss: 0.0611 - accuracy: 0.9806 - val_loss: 1.0676 - val_accuracy: 0.7084\n",
            "Epoch 45/50\n",
            "118/118 [==============================] - 26s 221ms/step - loss: 0.0662 - accuracy: 0.9779 - val_loss: 0.4754 - val_accuracy: 0.8870\n",
            "Epoch 46/50\n",
            "118/118 [==============================] - 26s 221ms/step - loss: 0.0767 - accuracy: 0.9730 - val_loss: 0.8173 - val_accuracy: 0.7496\n",
            "Epoch 47/50\n",
            "118/118 [==============================] - 26s 222ms/step - loss: 0.0760 - accuracy: 0.9745 - val_loss: 9.1961 - val_accuracy: 0.5588\n",
            "Epoch 48/50\n",
            "118/118 [==============================] - 26s 221ms/step - loss: 0.8406 - accuracy: 0.7659 - val_loss: 68.2155 - val_accuracy: 0.2702\n",
            "Epoch 49/50\n",
            "118/118 [==============================] - 26s 221ms/step - loss: 0.3589 - accuracy: 0.8619 - val_loss: 0.8887 - val_accuracy: 0.7053\n",
            "Epoch 50/50\n",
            "118/118 [==============================] - 26s 221ms/step - loss: 0.1255 - accuracy: 0.9574 - val_loss: 1.1275 - val_accuracy: 0.7420\n"
          ],
          "name": "stdout"
        }
      ]
    },
    {
      "cell_type": "markdown",
      "metadata": {
        "id": "HxYz-1Rbng2u"
      },
      "source": [
        "###ResNet152 RGB With TFL"
      ]
    },
    {
      "cell_type": "code",
      "metadata": {
        "id": "kIDb9wUj4Z-o",
        "colab": {
          "base_uri": "https://localhost:8080/"
        },
        "outputId": "00a66bf0-dd6d-4bc8-8bb0-e4b19eb9c196"
      },
      "source": [
        "modelResnet152_tfl = create_resnet_model(152,X_train_rgb.shape[1:],True)"
      ],
      "execution_count": null,
      "outputs": [
        {
          "output_type": "stream",
          "text": [
            "Downloading data from https://storage.googleapis.com/tensorflow/keras-applications/resnet/resnet152_weights_tf_dim_ordering_tf_kernels_notop.h5\n",
            "234700800/234698864 [==============================] - 12s 0us/step\n"
          ],
          "name": "stdout"
        }
      ]
    },
    {
      "cell_type": "code",
      "metadata": {
        "colab": {
          "base_uri": "https://localhost:8080/"
        },
        "id": "hqxLmdXkdrRX",
        "outputId": "937fce98-065c-4d26-bc6b-f1de1c7efb32"
      },
      "source": [
        "history_modelResnet152_tfl = modelResnet152_tfl.fit(X_train_rgb, y_train_rgb, batch_size=batch_size, epochs=50, validation_data=(X_val_rgb, y_val_rgb))"
      ],
      "execution_count": null,
      "outputs": [
        {
          "output_type": "stream",
          "text": [
            "Epoch 1/50\n",
            "118/118 [==============================] - 38s 240ms/step - loss: 2.0955 - accuracy: 0.4070 - val_loss: 1.0972 - val_accuracy: 0.5649\n",
            "Epoch 2/50\n",
            "118/118 [==============================] - 25s 213ms/step - loss: 0.9986 - accuracy: 0.5681 - val_loss: 0.8639 - val_accuracy: 0.6687\n",
            "Epoch 3/50\n",
            "118/118 [==============================] - 25s 214ms/step - loss: 0.8942 - accuracy: 0.6179 - val_loss: 0.8712 - val_accuracy: 0.6763\n",
            "Epoch 4/50\n",
            "118/118 [==============================] - 25s 214ms/step - loss: 0.8228 - accuracy: 0.6507 - val_loss: 0.8126 - val_accuracy: 0.6489\n",
            "Epoch 5/50\n",
            "118/118 [==============================] - 25s 215ms/step - loss: 0.7941 - accuracy: 0.6732 - val_loss: 0.8091 - val_accuracy: 0.6931\n",
            "Epoch 6/50\n",
            "118/118 [==============================] - 25s 214ms/step - loss: 0.8023 - accuracy: 0.6864 - val_loss: 0.7010 - val_accuracy: 0.7313\n",
            "Epoch 7/50\n",
            "118/118 [==============================] - 25s 214ms/step - loss: 0.7307 - accuracy: 0.7107 - val_loss: 0.8675 - val_accuracy: 0.6489\n",
            "Epoch 8/50\n",
            "118/118 [==============================] - 25s 214ms/step - loss: 0.7588 - accuracy: 0.7029 - val_loss: 0.7100 - val_accuracy: 0.7282\n",
            "Epoch 9/50\n",
            "118/118 [==============================] - 25s 214ms/step - loss: 0.7306 - accuracy: 0.6853 - val_loss: 0.6422 - val_accuracy: 0.7466\n",
            "Epoch 10/50\n",
            "118/118 [==============================] - 25s 214ms/step - loss: 0.7173 - accuracy: 0.6919 - val_loss: 0.6732 - val_accuracy: 0.7313\n",
            "Epoch 11/50\n",
            "118/118 [==============================] - 25s 215ms/step - loss: 0.6338 - accuracy: 0.7412 - val_loss: 0.6589 - val_accuracy: 0.7298\n",
            "Epoch 12/50\n",
            "118/118 [==============================] - 25s 214ms/step - loss: 0.6414 - accuracy: 0.7385 - val_loss: 0.6665 - val_accuracy: 0.7282\n",
            "Epoch 13/50\n",
            "118/118 [==============================] - 25s 214ms/step - loss: 0.6365 - accuracy: 0.7372 - val_loss: 0.6368 - val_accuracy: 0.7435\n",
            "Epoch 14/50\n",
            "118/118 [==============================] - 25s 214ms/step - loss: 0.5899 - accuracy: 0.7503 - val_loss: 0.6001 - val_accuracy: 0.7603\n",
            "Epoch 15/50\n",
            "118/118 [==============================] - 25s 215ms/step - loss: 0.5779 - accuracy: 0.7780 - val_loss: 0.6354 - val_accuracy: 0.7389\n",
            "Epoch 16/50\n",
            "118/118 [==============================] - 25s 214ms/step - loss: 0.5786 - accuracy: 0.7708 - val_loss: 0.6552 - val_accuracy: 0.7511\n",
            "Epoch 17/50\n",
            "118/118 [==============================] - 25s 214ms/step - loss: 0.5983 - accuracy: 0.7596 - val_loss: 0.6376 - val_accuracy: 0.7618\n",
            "Epoch 18/50\n",
            "118/118 [==============================] - 25s 214ms/step - loss: 0.5721 - accuracy: 0.7757 - val_loss: 0.5788 - val_accuracy: 0.7908\n",
            "Epoch 19/50\n",
            "118/118 [==============================] - 25s 214ms/step - loss: 0.5315 - accuracy: 0.7852 - val_loss: 0.5323 - val_accuracy: 0.7893\n",
            "Epoch 20/50\n",
            "118/118 [==============================] - 25s 214ms/step - loss: 0.5259 - accuracy: 0.7873 - val_loss: 0.5913 - val_accuracy: 0.7710\n",
            "Epoch 21/50\n",
            "118/118 [==============================] - 25s 214ms/step - loss: 0.5678 - accuracy: 0.7662 - val_loss: 0.5366 - val_accuracy: 0.7786\n",
            "Epoch 22/50\n",
            "118/118 [==============================] - 25s 215ms/step - loss: 0.4964 - accuracy: 0.8055 - val_loss: 0.5563 - val_accuracy: 0.7924\n",
            "Epoch 23/50\n",
            "118/118 [==============================] - 25s 214ms/step - loss: 0.4937 - accuracy: 0.8060 - val_loss: 0.5470 - val_accuracy: 0.7725\n",
            "Epoch 24/50\n",
            "118/118 [==============================] - 25s 215ms/step - loss: 0.5512 - accuracy: 0.7798 - val_loss: 0.5449 - val_accuracy: 0.7786\n",
            "Epoch 25/50\n",
            "118/118 [==============================] - 25s 214ms/step - loss: 0.4704 - accuracy: 0.8136 - val_loss: 0.5205 - val_accuracy: 0.8031\n",
            "Epoch 26/50\n",
            "118/118 [==============================] - 25s 214ms/step - loss: 0.4744 - accuracy: 0.8117 - val_loss: 0.5560 - val_accuracy: 0.7878\n",
            "Epoch 27/50\n",
            "118/118 [==============================] - 25s 215ms/step - loss: 0.5065 - accuracy: 0.7989 - val_loss: 0.5336 - val_accuracy: 0.7939\n",
            "Epoch 28/50\n",
            "118/118 [==============================] - 25s 214ms/step - loss: 0.4591 - accuracy: 0.8234 - val_loss: 0.6091 - val_accuracy: 0.7450\n",
            "Epoch 29/50\n",
            "118/118 [==============================] - 25s 215ms/step - loss: 0.4846 - accuracy: 0.7943 - val_loss: 0.5242 - val_accuracy: 0.7985\n",
            "Epoch 30/50\n",
            "118/118 [==============================] - 25s 214ms/step - loss: 0.4467 - accuracy: 0.8233 - val_loss: 0.5511 - val_accuracy: 0.7878\n",
            "Epoch 31/50\n",
            "118/118 [==============================] - 25s 214ms/step - loss: 0.4518 - accuracy: 0.8240 - val_loss: 0.5868 - val_accuracy: 0.7695\n",
            "Epoch 32/50\n",
            "118/118 [==============================] - 25s 215ms/step - loss: 0.4433 - accuracy: 0.8220 - val_loss: 0.6192 - val_accuracy: 0.7420\n",
            "Epoch 33/50\n",
            "118/118 [==============================] - 25s 214ms/step - loss: 0.4326 - accuracy: 0.8200 - val_loss: 0.6197 - val_accuracy: 0.7374\n",
            "Epoch 34/50\n",
            "118/118 [==============================] - 25s 214ms/step - loss: 0.4525 - accuracy: 0.8224 - val_loss: 0.5275 - val_accuracy: 0.7802\n",
            "Epoch 35/50\n",
            "118/118 [==============================] - 25s 215ms/step - loss: 0.4262 - accuracy: 0.8265 - val_loss: 0.5477 - val_accuracy: 0.7969\n",
            "Epoch 36/50\n",
            "118/118 [==============================] - 25s 215ms/step - loss: 0.4517 - accuracy: 0.8234 - val_loss: 0.4755 - val_accuracy: 0.8290\n",
            "Epoch 37/50\n",
            "118/118 [==============================] - 25s 215ms/step - loss: 0.3961 - accuracy: 0.8472 - val_loss: 0.5349 - val_accuracy: 0.8031\n",
            "Epoch 38/50\n",
            "118/118 [==============================] - 25s 214ms/step - loss: 0.3842 - accuracy: 0.8492 - val_loss: 0.5798 - val_accuracy: 0.7878\n",
            "Epoch 39/50\n",
            "118/118 [==============================] - 25s 214ms/step - loss: 0.4440 - accuracy: 0.8240 - val_loss: 0.4901 - val_accuracy: 0.8107\n",
            "Epoch 40/50\n",
            "118/118 [==============================] - 25s 214ms/step - loss: 0.3887 - accuracy: 0.8396 - val_loss: 0.4803 - val_accuracy: 0.8137\n",
            "Epoch 41/50\n",
            "118/118 [==============================] - 25s 215ms/step - loss: 0.3967 - accuracy: 0.8430 - val_loss: 0.4671 - val_accuracy: 0.8214\n",
            "Epoch 42/50\n",
            "118/118 [==============================] - 25s 214ms/step - loss: 0.3608 - accuracy: 0.8526 - val_loss: 0.4737 - val_accuracy: 0.8244\n",
            "Epoch 43/50\n",
            "118/118 [==============================] - 25s 215ms/step - loss: 0.3889 - accuracy: 0.8478 - val_loss: 0.5958 - val_accuracy: 0.7740\n",
            "Epoch 44/50\n",
            "118/118 [==============================] - 25s 215ms/step - loss: 0.4081 - accuracy: 0.8400 - val_loss: 0.4927 - val_accuracy: 0.8061\n",
            "Epoch 45/50\n",
            "118/118 [==============================] - 25s 215ms/step - loss: 0.3615 - accuracy: 0.8661 - val_loss: 0.5784 - val_accuracy: 0.8015\n",
            "Epoch 46/50\n",
            "118/118 [==============================] - 25s 215ms/step - loss: 0.3979 - accuracy: 0.8363 - val_loss: 0.4761 - val_accuracy: 0.8260\n",
            "Epoch 47/50\n",
            "118/118 [==============================] - 25s 215ms/step - loss: 0.3386 - accuracy: 0.8642 - val_loss: 0.5118 - val_accuracy: 0.8275\n",
            "Epoch 48/50\n",
            "118/118 [==============================] - 25s 214ms/step - loss: 0.3589 - accuracy: 0.8553 - val_loss: 0.7416 - val_accuracy: 0.7237\n",
            "Epoch 49/50\n",
            "118/118 [==============================] - 25s 215ms/step - loss: 0.3865 - accuracy: 0.8480 - val_loss: 0.5121 - val_accuracy: 0.8092\n",
            "Epoch 50/50\n",
            "118/118 [==============================] - 25s 215ms/step - loss: 0.3522 - accuracy: 0.8563 - val_loss: 0.5111 - val_accuracy: 0.8076\n"
          ],
          "name": "stdout"
        }
      ]
    },
    {
      "cell_type": "markdown",
      "metadata": {
        "id": "tIvpw81RnqPr"
      },
      "source": [
        "##Training ResNetV2"
      ]
    },
    {
      "cell_type": "markdown",
      "metadata": {
        "id": "3JaJ4UaEnszd"
      },
      "source": [
        "###ResNet50V2 RGB"
      ]
    },
    {
      "cell_type": "code",
      "metadata": {
        "id": "WumsaluW4hxI"
      },
      "source": [
        "modelResnet50V2_rgb = create_resnetv2_model(50,X_train_rgb.shape[1:])"
      ],
      "execution_count": null,
      "outputs": []
    },
    {
      "cell_type": "code",
      "metadata": {
        "colab": {
          "base_uri": "https://localhost:8080/"
        },
        "id": "wEIVhg4p6cBR",
        "outputId": "177c6a57-b2fa-45c9-fae2-e2d541d0c28e"
      },
      "source": [
        "history_modelResnet50V2_rgb = modelResnet50V2_rgb.fit(X_train_rgb, y_train_rgb, batch_size=batch_size, epochs=50, validation_data=(X_val_rgb, y_val_rgb))"
      ],
      "execution_count": null,
      "outputs": [
        {
          "output_type": "stream",
          "text": [
            "Epoch 1/50\n",
            "118/118 [==============================] - 17s 102ms/step - loss: 1.4714 - accuracy: 0.5371 - val_loss: 1.7915 - val_accuracy: 0.3282\n",
            "Epoch 2/50\n",
            "118/118 [==============================] - 10s 86ms/step - loss: 0.7591 - accuracy: 0.6815 - val_loss: 3.3619 - val_accuracy: 0.2824\n",
            "Epoch 3/50\n",
            "118/118 [==============================] - 10s 87ms/step - loss: 0.6514 - accuracy: 0.7600 - val_loss: 1.0565 - val_accuracy: 0.5878\n",
            "Epoch 4/50\n",
            "118/118 [==============================] - 10s 88ms/step - loss: 0.4630 - accuracy: 0.8165 - val_loss: 2.7358 - val_accuracy: 0.4916\n",
            "Epoch 5/50\n",
            "118/118 [==============================] - 10s 88ms/step - loss: 0.3957 - accuracy: 0.8461 - val_loss: 1.1343 - val_accuracy: 0.6061\n",
            "Epoch 6/50\n",
            "118/118 [==============================] - 10s 88ms/step - loss: 0.3087 - accuracy: 0.8873 - val_loss: 1.2149 - val_accuracy: 0.6061\n",
            "Epoch 7/50\n",
            "118/118 [==============================] - 10s 89ms/step - loss: 0.1900 - accuracy: 0.9442 - val_loss: 2.1061 - val_accuracy: 0.6321\n",
            "Epoch 8/50\n",
            "118/118 [==============================] - 10s 89ms/step - loss: 0.2297 - accuracy: 0.9172 - val_loss: 0.5458 - val_accuracy: 0.8214\n",
            "Epoch 9/50\n",
            "118/118 [==============================] - 10s 88ms/step - loss: 0.1364 - accuracy: 0.9541 - val_loss: 0.5509 - val_accuracy: 0.8153\n",
            "Epoch 10/50\n",
            "118/118 [==============================] - 10s 88ms/step - loss: 0.1288 - accuracy: 0.9569 - val_loss: 1.9178 - val_accuracy: 0.5496\n",
            "Epoch 11/50\n",
            "118/118 [==============================] - 10s 88ms/step - loss: 0.1943 - accuracy: 0.9342 - val_loss: 0.7001 - val_accuracy: 0.8015\n",
            "Epoch 12/50\n",
            "118/118 [==============================] - 10s 88ms/step - loss: 0.0873 - accuracy: 0.9722 - val_loss: 0.4637 - val_accuracy: 0.8412\n",
            "Epoch 13/50\n",
            "118/118 [==============================] - 10s 89ms/step - loss: 0.0869 - accuracy: 0.9708 - val_loss: 1.1331 - val_accuracy: 0.7206\n",
            "Epoch 14/50\n",
            "118/118 [==============================] - 10s 89ms/step - loss: 0.1270 - accuracy: 0.9508 - val_loss: 0.6081 - val_accuracy: 0.8229\n",
            "Epoch 15/50\n",
            "118/118 [==============================] - 10s 89ms/step - loss: 0.0755 - accuracy: 0.9743 - val_loss: 0.4824 - val_accuracy: 0.8626\n",
            "Epoch 16/50\n",
            "118/118 [==============================] - 11s 89ms/step - loss: 0.0685 - accuracy: 0.9737 - val_loss: 0.6400 - val_accuracy: 0.8595\n",
            "Epoch 17/50\n",
            "118/118 [==============================] - 11s 90ms/step - loss: 0.1203 - accuracy: 0.9560 - val_loss: 0.9657 - val_accuracy: 0.7573\n",
            "Epoch 18/50\n",
            "118/118 [==============================] - 11s 90ms/step - loss: 0.0319 - accuracy: 0.9898 - val_loss: 0.4004 - val_accuracy: 0.8626\n",
            "Epoch 19/50\n",
            "118/118 [==============================] - 11s 90ms/step - loss: 0.1082 - accuracy: 0.9655 - val_loss: 0.3286 - val_accuracy: 0.9099\n",
            "Epoch 20/50\n",
            "118/118 [==============================] - 11s 90ms/step - loss: 0.0472 - accuracy: 0.9850 - val_loss: 0.3784 - val_accuracy: 0.8977\n",
            "Epoch 21/50\n",
            "118/118 [==============================] - 11s 90ms/step - loss: 0.0294 - accuracy: 0.9870 - val_loss: 0.4559 - val_accuracy: 0.9099\n",
            "Epoch 22/50\n",
            "118/118 [==============================] - 11s 90ms/step - loss: 0.0230 - accuracy: 0.9918 - val_loss: 0.6060 - val_accuracy: 0.8687\n",
            "Epoch 23/50\n",
            "118/118 [==============================] - 11s 90ms/step - loss: 0.0640 - accuracy: 0.9801 - val_loss: 2.5586 - val_accuracy: 0.5481\n",
            "Epoch 24/50\n",
            "118/118 [==============================] - 11s 90ms/step - loss: 0.0781 - accuracy: 0.9692 - val_loss: 0.6829 - val_accuracy: 0.8580\n",
            "Epoch 25/50\n",
            "118/118 [==============================] - 11s 90ms/step - loss: 0.0617 - accuracy: 0.9790 - val_loss: 0.5307 - val_accuracy: 0.8321\n",
            "Epoch 26/50\n",
            "118/118 [==============================] - 11s 90ms/step - loss: 0.0454 - accuracy: 0.9834 - val_loss: 0.4684 - val_accuracy: 0.8794\n",
            "Epoch 27/50\n",
            "118/118 [==============================] - 11s 90ms/step - loss: 0.0777 - accuracy: 0.9732 - val_loss: 0.7960 - val_accuracy: 0.8550\n",
            "Epoch 28/50\n",
            "118/118 [==============================] - 11s 90ms/step - loss: 0.0557 - accuracy: 0.9797 - val_loss: 1.1498 - val_accuracy: 0.8061\n",
            "Epoch 29/50\n",
            "118/118 [==============================] - 11s 91ms/step - loss: 0.0658 - accuracy: 0.9813 - val_loss: 1.2170 - val_accuracy: 0.7435\n",
            "Epoch 30/50\n",
            "118/118 [==============================] - 11s 91ms/step - loss: 0.0610 - accuracy: 0.9766 - val_loss: 1.5003 - val_accuracy: 0.7618\n",
            "Epoch 31/50\n",
            "118/118 [==============================] - 11s 91ms/step - loss: 0.0482 - accuracy: 0.9804 - val_loss: 0.2950 - val_accuracy: 0.9282\n",
            "Epoch 32/50\n",
            "118/118 [==============================] - 11s 91ms/step - loss: 0.0178 - accuracy: 0.9957 - val_loss: 0.3400 - val_accuracy: 0.9282\n",
            "Epoch 33/50\n",
            "118/118 [==============================] - 11s 91ms/step - loss: 0.0071 - accuracy: 0.9972 - val_loss: 0.4118 - val_accuracy: 0.9206\n",
            "Epoch 34/50\n",
            "118/118 [==============================] - 11s 91ms/step - loss: 0.0338 - accuracy: 0.9868 - val_loss: 0.5632 - val_accuracy: 0.8824\n",
            "Epoch 35/50\n",
            "118/118 [==============================] - 11s 91ms/step - loss: 0.0518 - accuracy: 0.9814 - val_loss: 0.4604 - val_accuracy: 0.8916\n",
            "Epoch 36/50\n",
            "118/118 [==============================] - 11s 91ms/step - loss: 0.0498 - accuracy: 0.9828 - val_loss: 0.2988 - val_accuracy: 0.9252\n",
            "Epoch 37/50\n",
            "118/118 [==============================] - 11s 91ms/step - loss: 0.0299 - accuracy: 0.9917 - val_loss: 0.6251 - val_accuracy: 0.8687\n",
            "Epoch 38/50\n",
            "118/118 [==============================] - 11s 91ms/step - loss: 0.0684 - accuracy: 0.9757 - val_loss: 0.7426 - val_accuracy: 0.8397\n",
            "Epoch 39/50\n",
            "118/118 [==============================] - 11s 91ms/step - loss: 0.0448 - accuracy: 0.9867 - val_loss: 0.4377 - val_accuracy: 0.8977\n",
            "Epoch 40/50\n",
            "118/118 [==============================] - 11s 91ms/step - loss: 0.0626 - accuracy: 0.9770 - val_loss: 0.5972 - val_accuracy: 0.8519\n",
            "Epoch 41/50\n",
            "118/118 [==============================] - 11s 91ms/step - loss: 0.0358 - accuracy: 0.9902 - val_loss: 0.4842 - val_accuracy: 0.8824\n",
            "Epoch 42/50\n",
            "118/118 [==============================] - 11s 91ms/step - loss: 0.0151 - accuracy: 0.9966 - val_loss: 0.4026 - val_accuracy: 0.9008\n",
            "Epoch 43/50\n",
            "118/118 [==============================] - 11s 91ms/step - loss: 0.0173 - accuracy: 0.9928 - val_loss: 0.3023 - val_accuracy: 0.9252\n",
            "Epoch 44/50\n",
            "118/118 [==============================] - 11s 91ms/step - loss: 0.0050 - accuracy: 0.9992 - val_loss: 0.3376 - val_accuracy: 0.9282\n",
            "Epoch 45/50\n",
            "118/118 [==============================] - 11s 91ms/step - loss: 0.0033 - accuracy: 0.9993 - val_loss: 0.2983 - val_accuracy: 0.9313\n",
            "Epoch 46/50\n",
            "118/118 [==============================] - 11s 91ms/step - loss: 0.0370 - accuracy: 0.9918 - val_loss: 1.3363 - val_accuracy: 0.7954\n",
            "Epoch 47/50\n",
            "118/118 [==============================] - 11s 91ms/step - loss: 0.0677 - accuracy: 0.9760 - val_loss: 0.5961 - val_accuracy: 0.8504\n",
            "Epoch 48/50\n",
            "118/118 [==============================] - 11s 91ms/step - loss: 0.0569 - accuracy: 0.9836 - val_loss: 0.6197 - val_accuracy: 0.8672\n",
            "Epoch 49/50\n",
            "118/118 [==============================] - 11s 91ms/step - loss: 0.0425 - accuracy: 0.9807 - val_loss: 0.3784 - val_accuracy: 0.9160\n",
            "Epoch 50/50\n",
            "118/118 [==============================] - 11s 91ms/step - loss: 0.0265 - accuracy: 0.9892 - val_loss: 0.6784 - val_accuracy: 0.8489\n"
          ],
          "name": "stdout"
        }
      ]
    },
    {
      "cell_type": "markdown",
      "metadata": {
        "id": "o8WGvQyhn-CM"
      },
      "source": [
        "###ResNet50V2 GS"
      ]
    },
    {
      "cell_type": "code",
      "metadata": {
        "id": "IgAVRtMy4k3Y"
      },
      "source": [
        "modelResnet50V2_gs = create_resnetv2_model(50,X_train_gs.shape[1:])"
      ],
      "execution_count": null,
      "outputs": []
    },
    {
      "cell_type": "code",
      "metadata": {
        "colab": {
          "base_uri": "https://localhost:8080/"
        },
        "id": "R1cwV-I5Ae0q",
        "outputId": "d556468b-9eef-4b48-ffc5-08a50c6dc17b"
      },
      "source": [
        "history_modelResnet50V2_gs = modelResnet50V2_gs.fit(X_train_gs, y_train_gs, batch_size=batch_size, epochs=50, validation_data=(X_val_gs, y_val_gs))"
      ],
      "execution_count": null,
      "outputs": [
        {
          "output_type": "stream",
          "text": [
            "Epoch 1/50\n",
            "118/118 [==============================] - 15s 94ms/step - loss: 1.3017 - accuracy: 0.5293 - val_loss: 4.8743 - val_accuracy: 0.2763\n",
            "Epoch 2/50\n",
            "118/118 [==============================] - 10s 88ms/step - loss: 0.7735 - accuracy: 0.6916 - val_loss: 4.1203 - val_accuracy: 0.2763\n",
            "Epoch 3/50\n",
            "118/118 [==============================] - 10s 88ms/step - loss: 0.6134 - accuracy: 0.7683 - val_loss: 2.6956 - val_accuracy: 0.2504\n",
            "Epoch 4/50\n",
            "118/118 [==============================] - 10s 88ms/step - loss: 0.4944 - accuracy: 0.8026 - val_loss: 1.3632 - val_accuracy: 0.4626\n",
            "Epoch 5/50\n",
            "118/118 [==============================] - 10s 88ms/step - loss: 0.3767 - accuracy: 0.8581 - val_loss: 1.3442 - val_accuracy: 0.5145\n",
            "Epoch 6/50\n",
            "118/118 [==============================] - 10s 88ms/step - loss: 0.3589 - accuracy: 0.8684 - val_loss: 0.6405 - val_accuracy: 0.8107\n",
            "Epoch 7/50\n",
            "118/118 [==============================] - 10s 88ms/step - loss: 0.2435 - accuracy: 0.9133 - val_loss: 0.7959 - val_accuracy: 0.7435\n",
            "Epoch 8/50\n",
            "118/118 [==============================] - 10s 88ms/step - loss: 0.1946 - accuracy: 0.9339 - val_loss: 0.8123 - val_accuracy: 0.7359\n",
            "Epoch 9/50\n",
            "118/118 [==============================] - 10s 88ms/step - loss: 0.1955 - accuracy: 0.9253 - val_loss: 0.6137 - val_accuracy: 0.7863\n",
            "Epoch 10/50\n",
            "118/118 [==============================] - 10s 88ms/step - loss: 0.0960 - accuracy: 0.9635 - val_loss: 1.6074 - val_accuracy: 0.6748\n",
            "Epoch 11/50\n",
            "118/118 [==============================] - 10s 88ms/step - loss: 0.1422 - accuracy: 0.9517 - val_loss: 0.6468 - val_accuracy: 0.7924\n",
            "Epoch 12/50\n",
            "118/118 [==============================] - 10s 88ms/step - loss: 0.0910 - accuracy: 0.9706 - val_loss: 0.6252 - val_accuracy: 0.8382\n",
            "Epoch 13/50\n",
            "118/118 [==============================] - 10s 88ms/step - loss: 0.1405 - accuracy: 0.9493 - val_loss: 0.6893 - val_accuracy: 0.8015\n",
            "Epoch 14/50\n",
            "118/118 [==============================] - 10s 88ms/step - loss: 0.0689 - accuracy: 0.9752 - val_loss: 0.8404 - val_accuracy: 0.7817\n",
            "Epoch 15/50\n",
            "118/118 [==============================] - 10s 88ms/step - loss: 0.1325 - accuracy: 0.9557 - val_loss: 0.4250 - val_accuracy: 0.8824\n",
            "Epoch 16/50\n",
            "118/118 [==============================] - 10s 88ms/step - loss: 0.0741 - accuracy: 0.9728 - val_loss: 0.5916 - val_accuracy: 0.8489\n",
            "Epoch 17/50\n",
            "118/118 [==============================] - 10s 88ms/step - loss: 0.0570 - accuracy: 0.9814 - val_loss: 0.3486 - val_accuracy: 0.9038\n",
            "Epoch 18/50\n",
            "118/118 [==============================] - 10s 88ms/step - loss: 0.0489 - accuracy: 0.9864 - val_loss: 0.4527 - val_accuracy: 0.8473\n",
            "Epoch 19/50\n",
            "118/118 [==============================] - 10s 88ms/step - loss: 0.0574 - accuracy: 0.9844 - val_loss: 0.6473 - val_accuracy: 0.8611\n",
            "Epoch 20/50\n",
            "118/118 [==============================] - 10s 87ms/step - loss: 0.0345 - accuracy: 0.9900 - val_loss: 0.7712 - val_accuracy: 0.7939\n",
            "Epoch 21/50\n",
            "118/118 [==============================] - 10s 88ms/step - loss: 0.0794 - accuracy: 0.9692 - val_loss: 0.6058 - val_accuracy: 0.8382\n",
            "Epoch 22/50\n",
            "118/118 [==============================] - 10s 88ms/step - loss: 0.0709 - accuracy: 0.9790 - val_loss: 0.5791 - val_accuracy: 0.8489\n",
            "Epoch 23/50\n",
            "118/118 [==============================] - 10s 88ms/step - loss: 0.0815 - accuracy: 0.9748 - val_loss: 0.6360 - val_accuracy: 0.8443\n",
            "Epoch 24/50\n",
            "118/118 [==============================] - 10s 88ms/step - loss: 0.0609 - accuracy: 0.9779 - val_loss: 0.4954 - val_accuracy: 0.8550\n",
            "Epoch 25/50\n",
            "118/118 [==============================] - 10s 88ms/step - loss: 0.0517 - accuracy: 0.9856 - val_loss: 0.7870 - val_accuracy: 0.8321\n",
            "Epoch 26/50\n",
            "118/118 [==============================] - 10s 88ms/step - loss: 0.0722 - accuracy: 0.9752 - val_loss: 0.5479 - val_accuracy: 0.8779\n",
            "Epoch 27/50\n",
            "118/118 [==============================] - 10s 88ms/step - loss: 0.0202 - accuracy: 0.9945 - val_loss: 0.6168 - val_accuracy: 0.8595\n",
            "Epoch 28/50\n",
            "118/118 [==============================] - 10s 88ms/step - loss: 0.0360 - accuracy: 0.9890 - val_loss: 1.0118 - val_accuracy: 0.8061\n",
            "Epoch 29/50\n",
            "118/118 [==============================] - 10s 88ms/step - loss: 0.0727 - accuracy: 0.9759 - val_loss: 0.6412 - val_accuracy: 0.8733\n",
            "Epoch 30/50\n",
            "118/118 [==============================] - 10s 88ms/step - loss: 0.0602 - accuracy: 0.9768 - val_loss: 0.4400 - val_accuracy: 0.9084\n",
            "Epoch 31/50\n",
            "118/118 [==============================] - 10s 88ms/step - loss: 0.0454 - accuracy: 0.9845 - val_loss: 0.4823 - val_accuracy: 0.8947\n",
            "Epoch 32/50\n",
            "118/118 [==============================] - 10s 88ms/step - loss: 0.0525 - accuracy: 0.9824 - val_loss: 0.5374 - val_accuracy: 0.8916\n",
            "Epoch 33/50\n",
            "118/118 [==============================] - 10s 88ms/step - loss: 0.0475 - accuracy: 0.9881 - val_loss: 0.4353 - val_accuracy: 0.8962\n",
            "Epoch 34/50\n",
            "118/118 [==============================] - 10s 88ms/step - loss: 0.0462 - accuracy: 0.9842 - val_loss: 0.4754 - val_accuracy: 0.8580\n",
            "Epoch 35/50\n",
            "118/118 [==============================] - 10s 88ms/step - loss: 0.0268 - accuracy: 0.9897 - val_loss: 0.6997 - val_accuracy: 0.8641\n",
            "Epoch 36/50\n",
            "118/118 [==============================] - 10s 88ms/step - loss: 0.0422 - accuracy: 0.9866 - val_loss: 0.6175 - val_accuracy: 0.8931\n",
            "Epoch 37/50\n",
            "118/118 [==============================] - 10s 88ms/step - loss: 0.0521 - accuracy: 0.9851 - val_loss: 1.2183 - val_accuracy: 0.7725\n",
            "Epoch 38/50\n",
            "118/118 [==============================] - 10s 88ms/step - loss: 0.0427 - accuracy: 0.9845 - val_loss: 0.4118 - val_accuracy: 0.9069\n",
            "Epoch 39/50\n",
            "118/118 [==============================] - 10s 88ms/step - loss: 0.0235 - accuracy: 0.9901 - val_loss: 0.5276 - val_accuracy: 0.8672\n",
            "Epoch 40/50\n",
            "118/118 [==============================] - 10s 88ms/step - loss: 0.0557 - accuracy: 0.9783 - val_loss: 0.6216 - val_accuracy: 0.8397\n",
            "Epoch 41/50\n",
            "118/118 [==============================] - 10s 88ms/step - loss: 0.0585 - accuracy: 0.9821 - val_loss: 0.8332 - val_accuracy: 0.8214\n",
            "Epoch 42/50\n",
            "118/118 [==============================] - 10s 88ms/step - loss: 0.0683 - accuracy: 0.9703 - val_loss: 0.7010 - val_accuracy: 0.8489\n",
            "Epoch 43/50\n",
            "118/118 [==============================] - 10s 88ms/step - loss: 0.0513 - accuracy: 0.9812 - val_loss: 0.6774 - val_accuracy: 0.8611\n",
            "Epoch 44/50\n",
            "118/118 [==============================] - 10s 88ms/step - loss: 0.0329 - accuracy: 0.9900 - val_loss: 0.3130 - val_accuracy: 0.9176\n",
            "Epoch 45/50\n",
            "118/118 [==============================] - 10s 88ms/step - loss: 0.0040 - accuracy: 0.9987 - val_loss: 0.3458 - val_accuracy: 0.9252\n",
            "Epoch 46/50\n",
            "118/118 [==============================] - 10s 88ms/step - loss: 0.0026 - accuracy: 0.9997 - val_loss: 0.3547 - val_accuracy: 0.9206\n",
            "Epoch 47/50\n",
            "118/118 [==============================] - 10s 88ms/step - loss: 0.0076 - accuracy: 0.9978 - val_loss: 0.7646 - val_accuracy: 0.8183\n",
            "Epoch 48/50\n",
            "118/118 [==============================] - 10s 88ms/step - loss: 0.0297 - accuracy: 0.9912 - val_loss: 0.7546 - val_accuracy: 0.8458\n",
            "Epoch 49/50\n",
            "118/118 [==============================] - 10s 88ms/step - loss: 0.0946 - accuracy: 0.9724 - val_loss: 0.6224 - val_accuracy: 0.8870\n",
            "Epoch 50/50\n",
            "118/118 [==============================] - 10s 88ms/step - loss: 0.0462 - accuracy: 0.9828 - val_loss: 0.6407 - val_accuracy: 0.8443\n"
          ],
          "name": "stdout"
        }
      ]
    },
    {
      "cell_type": "markdown",
      "metadata": {
        "id": "ZCh4LGudnsgj"
      },
      "source": [
        "###ResNet50V2 RGB With TFL"
      ]
    },
    {
      "cell_type": "code",
      "metadata": {
        "id": "Hg7NvzSa4pKH",
        "colab": {
          "base_uri": "https://localhost:8080/"
        },
        "outputId": "9d0f4365-dff3-4e03-bc4d-320b13416937"
      },
      "source": [
        "modelResnet50V2_tfl = create_resnetv2_model(50,X_train_rgb.shape[1:],True)"
      ],
      "execution_count": null,
      "outputs": [
        {
          "output_type": "stream",
          "text": [
            "Downloading data from https://storage.googleapis.com/tensorflow/keras-applications/resnet/resnet50v2_weights_tf_dim_ordering_tf_kernels_notop.h5\n",
            "94674944/94668760 [==============================] - 2s 0us/step\n"
          ],
          "name": "stdout"
        }
      ]
    },
    {
      "cell_type": "code",
      "metadata": {
        "colab": {
          "base_uri": "https://localhost:8080/"
        },
        "id": "hc1Tx6pbnW8a",
        "outputId": "070461ee-2c1e-4e51-9704-01ef352a34b2"
      },
      "source": [
        "history_modelResnet50V2_tfl = modelResnet50V2_tfl.fit(X_train_rgb, y_train_rgb, batch_size=batch_size, epochs=50, validation_data=(X_val_rgb, y_val_rgb))"
      ],
      "execution_count": null,
      "outputs": [
        {
          "output_type": "stream",
          "text": [
            "Epoch 1/50\n",
            "118/118 [==============================] - 17s 111ms/step - loss: 24.7389 - accuracy: 0.6024 - val_loss: 2.4253 - val_accuracy: 0.7573\n",
            "Epoch 2/50\n",
            "118/118 [==============================] - 11s 95ms/step - loss: 1.1766 - accuracy: 0.8352 - val_loss: 0.7016 - val_accuracy: 0.8397\n",
            "Epoch 3/50\n",
            "118/118 [==============================] - 11s 96ms/step - loss: 0.2498 - accuracy: 0.9140 - val_loss: 0.4732 - val_accuracy: 0.8672\n",
            "Epoch 4/50\n",
            "118/118 [==============================] - 11s 95ms/step - loss: 0.1628 - accuracy: 0.9471 - val_loss: 0.7773 - val_accuracy: 0.8489\n",
            "Epoch 5/50\n",
            "118/118 [==============================] - 11s 96ms/step - loss: 0.2254 - accuracy: 0.9521 - val_loss: 0.7099 - val_accuracy: 0.8702\n",
            "Epoch 6/50\n",
            "118/118 [==============================] - 11s 96ms/step - loss: 0.2154 - accuracy: 0.9552 - val_loss: 0.6458 - val_accuracy: 0.8855\n",
            "Epoch 7/50\n",
            "118/118 [==============================] - 11s 96ms/step - loss: 0.1268 - accuracy: 0.9628 - val_loss: 0.8055 - val_accuracy: 0.8580\n",
            "Epoch 8/50\n",
            "118/118 [==============================] - 11s 96ms/step - loss: 0.2492 - accuracy: 0.9327 - val_loss: 0.5989 - val_accuracy: 0.8809\n",
            "Epoch 9/50\n",
            "118/118 [==============================] - 11s 96ms/step - loss: 0.1444 - accuracy: 0.9669 - val_loss: 0.7162 - val_accuracy: 0.8748\n",
            "Epoch 10/50\n",
            "118/118 [==============================] - 11s 96ms/step - loss: 0.1326 - accuracy: 0.9661 - val_loss: 0.7319 - val_accuracy: 0.8824\n",
            "Epoch 11/50\n",
            "118/118 [==============================] - 11s 96ms/step - loss: 0.2392 - accuracy: 0.9472 - val_loss: 1.0689 - val_accuracy: 0.8718\n",
            "Epoch 12/50\n",
            "118/118 [==============================] - 11s 97ms/step - loss: 0.1713 - accuracy: 0.9588 - val_loss: 0.6377 - val_accuracy: 0.8824\n",
            "Epoch 13/50\n",
            "118/118 [==============================] - 11s 97ms/step - loss: 0.1462 - accuracy: 0.9510 - val_loss: 0.9359 - val_accuracy: 0.8565\n",
            "Epoch 14/50\n",
            "118/118 [==============================] - 11s 96ms/step - loss: 0.2184 - accuracy: 0.9527 - val_loss: 1.1222 - val_accuracy: 0.8534\n",
            "Epoch 15/50\n",
            "118/118 [==============================] - 11s 96ms/step - loss: 0.2211 - accuracy: 0.9539 - val_loss: 0.9640 - val_accuracy: 0.8718\n",
            "Epoch 16/50\n",
            "118/118 [==============================] - 11s 97ms/step - loss: 0.2673 - accuracy: 0.9596 - val_loss: 0.7519 - val_accuracy: 0.8931\n",
            "Epoch 17/50\n",
            "118/118 [==============================] - 11s 96ms/step - loss: 0.2209 - accuracy: 0.9507 - val_loss: 0.8913 - val_accuracy: 0.8794\n",
            "Epoch 18/50\n",
            "118/118 [==============================] - 11s 97ms/step - loss: 0.1942 - accuracy: 0.9640 - val_loss: 1.2084 - val_accuracy: 0.8840\n",
            "Epoch 19/50\n",
            "118/118 [==============================] - 11s 97ms/step - loss: 0.3605 - accuracy: 0.9510 - val_loss: 1.2330 - val_accuracy: 0.8718\n",
            "Epoch 20/50\n",
            "118/118 [==============================] - 11s 97ms/step - loss: 0.1915 - accuracy: 0.9617 - val_loss: 0.9622 - val_accuracy: 0.8931\n",
            "Epoch 21/50\n",
            "118/118 [==============================] - 11s 97ms/step - loss: 0.2205 - accuracy: 0.9668 - val_loss: 1.4911 - val_accuracy: 0.8870\n",
            "Epoch 22/50\n",
            "118/118 [==============================] - 11s 97ms/step - loss: 0.3622 - accuracy: 0.9562 - val_loss: 1.1811 - val_accuracy: 0.8885\n",
            "Epoch 23/50\n",
            "118/118 [==============================] - 11s 98ms/step - loss: 0.1378 - accuracy: 0.9732 - val_loss: 1.4413 - val_accuracy: 0.8794\n",
            "Epoch 24/50\n",
            "118/118 [==============================] - 11s 97ms/step - loss: 0.2845 - accuracy: 0.9594 - val_loss: 1.4457 - val_accuracy: 0.8824\n",
            "Epoch 25/50\n",
            "118/118 [==============================] - 11s 97ms/step - loss: 0.1880 - accuracy: 0.9751 - val_loss: 1.3759 - val_accuracy: 0.8916\n",
            "Epoch 26/50\n",
            "118/118 [==============================] - 11s 97ms/step - loss: 0.1643 - accuracy: 0.9764 - val_loss: 1.3214 - val_accuracy: 0.9008\n",
            "Epoch 27/50\n",
            "118/118 [==============================] - 11s 97ms/step - loss: 0.2049 - accuracy: 0.9648 - val_loss: 1.8287 - val_accuracy: 0.8931\n",
            "Epoch 28/50\n",
            "118/118 [==============================] - 11s 97ms/step - loss: 0.2903 - accuracy: 0.9684 - val_loss: 2.3306 - val_accuracy: 0.8763\n",
            "Epoch 29/50\n",
            "118/118 [==============================] - 11s 97ms/step - loss: 0.4058 - accuracy: 0.9622 - val_loss: 2.0804 - val_accuracy: 0.8916\n",
            "Epoch 30/50\n",
            "118/118 [==============================] - 11s 97ms/step - loss: 0.4453 - accuracy: 0.9569 - val_loss: 1.3913 - val_accuracy: 0.9053\n",
            "Epoch 31/50\n",
            "118/118 [==============================] - 11s 96ms/step - loss: 0.2877 - accuracy: 0.9654 - val_loss: 2.7125 - val_accuracy: 0.8641\n",
            "Epoch 32/50\n",
            "118/118 [==============================] - 11s 96ms/step - loss: 0.2875 - accuracy: 0.9671 - val_loss: 2.2115 - val_accuracy: 0.8794\n",
            "Epoch 33/50\n",
            "118/118 [==============================] - 11s 97ms/step - loss: 0.3774 - accuracy: 0.9664 - val_loss: 2.1041 - val_accuracy: 0.8840\n",
            "Epoch 34/50\n",
            "118/118 [==============================] - 11s 96ms/step - loss: 0.2327 - accuracy: 0.9754 - val_loss: 1.9045 - val_accuracy: 0.8962\n",
            "Epoch 35/50\n",
            "118/118 [==============================] - 11s 97ms/step - loss: 0.1905 - accuracy: 0.9775 - val_loss: 1.7317 - val_accuracy: 0.8885\n",
            "Epoch 36/50\n",
            "118/118 [==============================] - 11s 96ms/step - loss: 0.1120 - accuracy: 0.9867 - val_loss: 2.9535 - val_accuracy: 0.8824\n",
            "Epoch 37/50\n",
            "118/118 [==============================] - 11s 96ms/step - loss: 0.2618 - accuracy: 0.9771 - val_loss: 1.9556 - val_accuracy: 0.8855\n",
            "Epoch 38/50\n",
            "118/118 [==============================] - 11s 96ms/step - loss: 0.2041 - accuracy: 0.9733 - val_loss: 2.1099 - val_accuracy: 0.8870\n",
            "Epoch 39/50\n",
            "118/118 [==============================] - 11s 96ms/step - loss: 0.3190 - accuracy: 0.9739 - val_loss: 1.7568 - val_accuracy: 0.8947\n",
            "Epoch 40/50\n",
            "118/118 [==============================] - 11s 96ms/step - loss: 0.1068 - accuracy: 0.9849 - val_loss: 1.6981 - val_accuracy: 0.9008\n",
            "Epoch 41/50\n",
            "118/118 [==============================] - 11s 96ms/step - loss: 0.0701 - accuracy: 0.9918 - val_loss: 1.8752 - val_accuracy: 0.8855\n",
            "Epoch 42/50\n",
            "118/118 [==============================] - 11s 96ms/step - loss: 0.1479 - accuracy: 0.9829 - val_loss: 1.5042 - val_accuracy: 0.8870\n",
            "Epoch 43/50\n",
            "118/118 [==============================] - 11s 96ms/step - loss: 0.1938 - accuracy: 0.9773 - val_loss: 1.9745 - val_accuracy: 0.8947\n",
            "Epoch 44/50\n",
            "118/118 [==============================] - 11s 96ms/step - loss: 0.1240 - accuracy: 0.9860 - val_loss: 1.6094 - val_accuracy: 0.8992\n",
            "Epoch 45/50\n",
            "118/118 [==============================] - 11s 96ms/step - loss: 0.1234 - accuracy: 0.9848 - val_loss: 1.4978 - val_accuracy: 0.9053\n",
            "Epoch 46/50\n",
            "118/118 [==============================] - 11s 97ms/step - loss: 0.0523 - accuracy: 0.9919 - val_loss: 1.9067 - val_accuracy: 0.9008\n",
            "Epoch 47/50\n",
            "118/118 [==============================] - 11s 97ms/step - loss: 0.2119 - accuracy: 0.9786 - val_loss: 2.0850 - val_accuracy: 0.9023\n",
            "Epoch 48/50\n",
            "118/118 [==============================] - 11s 96ms/step - loss: 0.1309 - accuracy: 0.9808 - val_loss: 3.1856 - val_accuracy: 0.8748\n",
            "Epoch 49/50\n",
            "118/118 [==============================] - 11s 97ms/step - loss: 0.2482 - accuracy: 0.9810 - val_loss: 2.7708 - val_accuracy: 0.9053\n",
            "Epoch 50/50\n",
            "118/118 [==============================] - 11s 96ms/step - loss: 0.5840 - accuracy: 0.9688 - val_loss: 3.3792 - val_accuracy: 0.8824\n"
          ],
          "name": "stdout"
        }
      ]
    },
    {
      "cell_type": "markdown",
      "metadata": {
        "id": "REnN6XxXpPrG"
      },
      "source": [
        "###ResNet101V2 RGB"
      ]
    },
    {
      "cell_type": "code",
      "metadata": {
        "id": "i6fhdiux4sLg"
      },
      "source": [
        "modelResnet101V2_rgb = create_resnetv2_model(101,X_train_rgb.shape[1:])"
      ],
      "execution_count": null,
      "outputs": []
    },
    {
      "cell_type": "code",
      "metadata": {
        "colab": {
          "base_uri": "https://localhost:8080/"
        },
        "id": "lwC5mZYjpfa9",
        "outputId": "1ce9ec52-871a-4960-ac47-602d2076f768"
      },
      "source": [
        "history_modelResnet101V2_rgb = modelResnet101V2_rgb.fit(X_train_rgb, y_train_rgb, batch_size=batch_size, epochs=50, validation_data=(X_val_rgb, y_val_rgb))"
      ],
      "execution_count": null,
      "outputs": [
        {
          "output_type": "stream",
          "text": [
            "Epoch 1/50\n",
            "118/118 [==============================] - 29s 164ms/step - loss: 1.5738 - accuracy: 0.4805 - val_loss: 1.7696 - val_accuracy: 0.3298\n",
            "Epoch 2/50\n",
            "118/118 [==============================] - 18s 153ms/step - loss: 0.8379 - accuracy: 0.6514 - val_loss: 1.5939 - val_accuracy: 0.5099\n",
            "Epoch 3/50\n",
            "118/118 [==============================] - 18s 153ms/step - loss: 0.7409 - accuracy: 0.6981 - val_loss: 1.9052 - val_accuracy: 0.3603\n",
            "Epoch 4/50\n",
            "118/118 [==============================] - 18s 155ms/step - loss: 0.5940 - accuracy: 0.7727 - val_loss: 7.6741 - val_accuracy: 0.6046\n",
            "Epoch 5/50\n",
            "118/118 [==============================] - 18s 155ms/step - loss: 0.5218 - accuracy: 0.8059 - val_loss: 2.0784 - val_accuracy: 0.4901\n",
            "Epoch 6/50\n",
            "118/118 [==============================] - 18s 156ms/step - loss: 0.4138 - accuracy: 0.8399 - val_loss: 0.6322 - val_accuracy: 0.7328\n",
            "Epoch 7/50\n",
            "118/118 [==============================] - 19s 157ms/step - loss: 0.3382 - accuracy: 0.8774 - val_loss: 1.8304 - val_accuracy: 0.6824\n",
            "Epoch 8/50\n",
            "118/118 [==============================] - 19s 157ms/step - loss: 0.3314 - accuracy: 0.8761 - val_loss: 0.7158 - val_accuracy: 0.7511\n",
            "Epoch 9/50\n",
            "118/118 [==============================] - 19s 157ms/step - loss: 0.2928 - accuracy: 0.8937 - val_loss: 2.3922 - val_accuracy: 0.7115\n",
            "Epoch 10/50\n",
            "118/118 [==============================] - 19s 157ms/step - loss: 0.2265 - accuracy: 0.9315 - val_loss: 1.2267 - val_accuracy: 0.6809\n",
            "Epoch 11/50\n",
            "118/118 [==============================] - 19s 158ms/step - loss: 0.2500 - accuracy: 0.9037 - val_loss: 1.3660 - val_accuracy: 0.6977\n",
            "Epoch 12/50\n",
            "118/118 [==============================] - 19s 158ms/step - loss: 0.1877 - accuracy: 0.9315 - val_loss: 1.7255 - val_accuracy: 0.6229\n",
            "Epoch 13/50\n",
            "118/118 [==============================] - 19s 159ms/step - loss: 0.1629 - accuracy: 0.9432 - val_loss: 1.0783 - val_accuracy: 0.6824\n",
            "Epoch 14/50\n",
            "118/118 [==============================] - 19s 159ms/step - loss: 0.1617 - accuracy: 0.9461 - val_loss: 0.4117 - val_accuracy: 0.8534\n",
            "Epoch 15/50\n",
            "118/118 [==============================] - 19s 158ms/step - loss: 0.1439 - accuracy: 0.9429 - val_loss: 1.2756 - val_accuracy: 0.6687\n",
            "Epoch 16/50\n",
            "118/118 [==============================] - 19s 158ms/step - loss: 0.1406 - accuracy: 0.9525 - val_loss: 1.0542 - val_accuracy: 0.7634\n",
            "Epoch 17/50\n",
            "118/118 [==============================] - 19s 159ms/step - loss: 0.1405 - accuracy: 0.9561 - val_loss: 1.0069 - val_accuracy: 0.7695\n",
            "Epoch 18/50\n",
            "118/118 [==============================] - 19s 159ms/step - loss: 0.1076 - accuracy: 0.9637 - val_loss: 0.5128 - val_accuracy: 0.8763\n",
            "Epoch 19/50\n",
            "118/118 [==============================] - 19s 159ms/step - loss: 0.0949 - accuracy: 0.9688 - val_loss: 1.4206 - val_accuracy: 0.6855\n",
            "Epoch 20/50\n",
            "118/118 [==============================] - 19s 159ms/step - loss: 0.1038 - accuracy: 0.9600 - val_loss: 2.4128 - val_accuracy: 0.6397\n",
            "Epoch 21/50\n",
            "118/118 [==============================] - 19s 158ms/step - loss: 0.1432 - accuracy: 0.9510 - val_loss: 0.6077 - val_accuracy: 0.8534\n",
            "Epoch 22/50\n",
            "118/118 [==============================] - 19s 158ms/step - loss: 0.0686 - accuracy: 0.9779 - val_loss: 0.5292 - val_accuracy: 0.8275\n",
            "Epoch 23/50\n",
            "118/118 [==============================] - 19s 158ms/step - loss: 0.0809 - accuracy: 0.9670 - val_loss: 1.1515 - val_accuracy: 0.7405\n",
            "Epoch 24/50\n",
            "118/118 [==============================] - 19s 158ms/step - loss: 0.1157 - accuracy: 0.9637 - val_loss: 0.3073 - val_accuracy: 0.9282\n",
            "Epoch 25/50\n",
            "118/118 [==============================] - 19s 158ms/step - loss: 0.0592 - accuracy: 0.9782 - val_loss: 0.4576 - val_accuracy: 0.8763\n",
            "Epoch 26/50\n",
            "118/118 [==============================] - 19s 158ms/step - loss: 0.0716 - accuracy: 0.9832 - val_loss: 6.3180 - val_accuracy: 0.4092\n",
            "Epoch 27/50\n",
            "118/118 [==============================] - 19s 158ms/step - loss: 0.1504 - accuracy: 0.9448 - val_loss: 0.3998 - val_accuracy: 0.8748\n",
            "Epoch 28/50\n",
            "118/118 [==============================] - 19s 158ms/step - loss: 0.0330 - accuracy: 0.9909 - val_loss: 0.6133 - val_accuracy: 0.8321\n",
            "Epoch 29/50\n",
            "118/118 [==============================] - 19s 158ms/step - loss: 0.0912 - accuracy: 0.9621 - val_loss: 1.0734 - val_accuracy: 0.7863\n",
            "Epoch 30/50\n",
            "118/118 [==============================] - 19s 159ms/step - loss: 0.0880 - accuracy: 0.9756 - val_loss: 0.8488 - val_accuracy: 0.8336\n",
            "Epoch 31/50\n",
            "118/118 [==============================] - 19s 159ms/step - loss: 0.1010 - accuracy: 0.9665 - val_loss: 2.8791 - val_accuracy: 0.4687\n",
            "Epoch 32/50\n",
            "118/118 [==============================] - 19s 159ms/step - loss: 0.0935 - accuracy: 0.9685 - val_loss: 0.3630 - val_accuracy: 0.9145\n",
            "Epoch 33/50\n",
            "118/118 [==============================] - 19s 158ms/step - loss: 0.0783 - accuracy: 0.9760 - val_loss: 0.5904 - val_accuracy: 0.8366\n",
            "Epoch 34/50\n",
            "118/118 [==============================] - 19s 159ms/step - loss: 0.0528 - accuracy: 0.9824 - val_loss: 0.3182 - val_accuracy: 0.9298\n",
            "Epoch 35/50\n",
            "118/118 [==============================] - 19s 159ms/step - loss: 0.0243 - accuracy: 0.9947 - val_loss: 0.5951 - val_accuracy: 0.8748\n",
            "Epoch 36/50\n",
            "118/118 [==============================] - 19s 159ms/step - loss: 0.0705 - accuracy: 0.9746 - val_loss: 0.6725 - val_accuracy: 0.8443\n",
            "Epoch 37/50\n",
            "118/118 [==============================] - 19s 159ms/step - loss: 0.0468 - accuracy: 0.9839 - val_loss: 0.4400 - val_accuracy: 0.9298\n",
            "Epoch 38/50\n",
            "118/118 [==============================] - 19s 159ms/step - loss: 0.0247 - accuracy: 0.9926 - val_loss: 0.3933 - val_accuracy: 0.8931\n",
            "Epoch 39/50\n",
            "118/118 [==============================] - 19s 159ms/step - loss: 0.0434 - accuracy: 0.9871 - val_loss: 0.5196 - val_accuracy: 0.8992\n",
            "Epoch 40/50\n",
            "118/118 [==============================] - 19s 159ms/step - loss: 0.0417 - accuracy: 0.9870 - val_loss: 3.5488 - val_accuracy: 0.5817\n",
            "Epoch 41/50\n",
            "118/118 [==============================] - 19s 159ms/step - loss: 0.0705 - accuracy: 0.9745 - val_loss: 1.1112 - val_accuracy: 0.7511\n",
            "Epoch 42/50\n",
            "118/118 [==============================] - 19s 159ms/step - loss: 0.0642 - accuracy: 0.9734 - val_loss: 0.6901 - val_accuracy: 0.8443\n",
            "Epoch 43/50\n",
            "118/118 [==============================] - 19s 159ms/step - loss: 0.0399 - accuracy: 0.9902 - val_loss: 0.4379 - val_accuracy: 0.9145\n",
            "Epoch 44/50\n",
            "118/118 [==============================] - 19s 159ms/step - loss: 0.0411 - accuracy: 0.9849 - val_loss: 0.4809 - val_accuracy: 0.8840\n",
            "Epoch 45/50\n",
            "118/118 [==============================] - 19s 159ms/step - loss: 0.0577 - accuracy: 0.9829 - val_loss: 0.3871 - val_accuracy: 0.9267\n",
            "Epoch 46/50\n",
            "118/118 [==============================] - 19s 159ms/step - loss: 0.0181 - accuracy: 0.9953 - val_loss: 0.4049 - val_accuracy: 0.9099\n",
            "Epoch 47/50\n",
            "118/118 [==============================] - 19s 159ms/step - loss: 0.0276 - accuracy: 0.9909 - val_loss: 0.7135 - val_accuracy: 0.8351\n",
            "Epoch 48/50\n",
            "118/118 [==============================] - 19s 158ms/step - loss: 0.0724 - accuracy: 0.9764 - val_loss: 0.6101 - val_accuracy: 0.8870\n",
            "Epoch 49/50\n",
            "118/118 [==============================] - 19s 159ms/step - loss: 0.0654 - accuracy: 0.9787 - val_loss: 0.5059 - val_accuracy: 0.8931\n",
            "Epoch 50/50\n",
            "118/118 [==============================] - 19s 159ms/step - loss: 0.0363 - accuracy: 0.9864 - val_loss: 1.3590 - val_accuracy: 0.7053\n"
          ],
          "name": "stdout"
        }
      ]
    },
    {
      "cell_type": "markdown",
      "metadata": {
        "id": "buNLFdSEpUpC"
      },
      "source": [
        "###ResNet101V2 GS"
      ]
    },
    {
      "cell_type": "code",
      "metadata": {
        "id": "YJ_0V75I4vwI"
      },
      "source": [
        "modelResnet101V2_gs = create_resnetv2_model(101,X_train_gs.shape[1:])"
      ],
      "execution_count": null,
      "outputs": []
    },
    {
      "cell_type": "code",
      "metadata": {
        "colab": {
          "base_uri": "https://localhost:8080/"
        },
        "id": "7tf-TWwyps32",
        "outputId": "b6b74163-ff10-46b6-9b95-066e24d651ac"
      },
      "source": [
        "history_modelResnet101V2_gs = modelResnet101V2_gs.fit(X_train_gs, y_train_gs, batch_size=batch_size, epochs=50, validation_data=(X_val_gs, y_val_gs))"
      ],
      "execution_count": null,
      "outputs": [
        {
          "output_type": "stream",
          "text": [
            "Epoch 1/50\n",
            "118/118 [==============================] - 31s 158ms/step - loss: 1.3476 - accuracy: 0.4913 - val_loss: 2.3165 - val_accuracy: 0.1878\n",
            "Epoch 2/50\n",
            "118/118 [==============================] - 17s 147ms/step - loss: 0.7937 - accuracy: 0.6755 - val_loss: 2.8813 - val_accuracy: 0.2916\n",
            "Epoch 3/50\n",
            "118/118 [==============================] - 18s 149ms/step - loss: 0.6546 - accuracy: 0.7198 - val_loss: 2.6529 - val_accuracy: 0.3527\n",
            "Epoch 4/50\n",
            "118/118 [==============================] - 18s 150ms/step - loss: 0.5113 - accuracy: 0.7881 - val_loss: 1.5344 - val_accuracy: 0.5618\n",
            "Epoch 5/50\n",
            "118/118 [==============================] - 18s 151ms/step - loss: 0.4519 - accuracy: 0.8214 - val_loss: 0.7132 - val_accuracy: 0.7328\n",
            "Epoch 6/50\n",
            "118/118 [==============================] - 18s 152ms/step - loss: 0.3594 - accuracy: 0.8563 - val_loss: 1.4206 - val_accuracy: 0.5649\n",
            "Epoch 7/50\n",
            "118/118 [==============================] - 18s 152ms/step - loss: 0.3242 - accuracy: 0.8808 - val_loss: 0.7994 - val_accuracy: 0.7099\n",
            "Epoch 8/50\n",
            "118/118 [==============================] - 18s 152ms/step - loss: 0.2654 - accuracy: 0.9044 - val_loss: 0.4601 - val_accuracy: 0.8366\n",
            "Epoch 9/50\n",
            "118/118 [==============================] - 18s 153ms/step - loss: 0.2019 - accuracy: 0.9212 - val_loss: 0.9233 - val_accuracy: 0.7069\n",
            "Epoch 10/50\n",
            "118/118 [==============================] - 18s 153ms/step - loss: 0.1707 - accuracy: 0.9358 - val_loss: 0.8782 - val_accuracy: 0.7145\n",
            "Epoch 11/50\n",
            "118/118 [==============================] - 18s 154ms/step - loss: 0.1784 - accuracy: 0.9345 - val_loss: 0.3556 - val_accuracy: 0.8824\n",
            "Epoch 12/50\n",
            "118/118 [==============================] - 18s 154ms/step - loss: 0.1573 - accuracy: 0.9471 - val_loss: 0.6170 - val_accuracy: 0.7954\n",
            "Epoch 13/50\n",
            "118/118 [==============================] - 18s 154ms/step - loss: 0.1566 - accuracy: 0.9465 - val_loss: 0.5553 - val_accuracy: 0.8626\n",
            "Epoch 14/50\n",
            "118/118 [==============================] - 18s 155ms/step - loss: 0.1127 - accuracy: 0.9609 - val_loss: 0.4614 - val_accuracy: 0.8565\n",
            "Epoch 15/50\n",
            "118/118 [==============================] - 18s 155ms/step - loss: 0.1114 - accuracy: 0.9625 - val_loss: 0.8409 - val_accuracy: 0.7603\n",
            "Epoch 16/50\n",
            "118/118 [==============================] - 18s 155ms/step - loss: 0.0964 - accuracy: 0.9639 - val_loss: 1.5189 - val_accuracy: 0.6229\n",
            "Epoch 17/50\n",
            "118/118 [==============================] - 18s 155ms/step - loss: 0.1004 - accuracy: 0.9591 - val_loss: 0.5968 - val_accuracy: 0.8611\n",
            "Epoch 18/50\n",
            "118/118 [==============================] - 18s 156ms/step - loss: 0.1009 - accuracy: 0.9646 - val_loss: 1.6497 - val_accuracy: 0.6550\n",
            "Epoch 19/50\n",
            "118/118 [==============================] - 18s 155ms/step - loss: 0.0837 - accuracy: 0.9753 - val_loss: 0.4470 - val_accuracy: 0.8916\n",
            "Epoch 20/50\n",
            "118/118 [==============================] - 18s 156ms/step - loss: 0.0601 - accuracy: 0.9805 - val_loss: 0.5638 - val_accuracy: 0.8534\n",
            "Epoch 21/50\n",
            "118/118 [==============================] - 18s 156ms/step - loss: 0.1290 - accuracy: 0.9550 - val_loss: 0.9606 - val_accuracy: 0.8305\n",
            "Epoch 22/50\n",
            "118/118 [==============================] - 18s 156ms/step - loss: 0.0795 - accuracy: 0.9731 - val_loss: 0.4797 - val_accuracy: 0.8702\n",
            "Epoch 23/50\n",
            "118/118 [==============================] - 18s 156ms/step - loss: 0.0631 - accuracy: 0.9806 - val_loss: 0.4288 - val_accuracy: 0.9038\n",
            "Epoch 24/50\n",
            "118/118 [==============================] - 18s 156ms/step - loss: 0.0441 - accuracy: 0.9886 - val_loss: 0.5591 - val_accuracy: 0.8504\n",
            "Epoch 25/50\n",
            "118/118 [==============================] - 18s 156ms/step - loss: 0.0561 - accuracy: 0.9855 - val_loss: 1.1484 - val_accuracy: 0.7969\n",
            "Epoch 26/50\n",
            "118/118 [==============================] - 18s 156ms/step - loss: 0.1481 - accuracy: 0.9579 - val_loss: 1.9404 - val_accuracy: 0.6641\n",
            "Epoch 27/50\n",
            "118/118 [==============================] - 18s 156ms/step - loss: 0.0712 - accuracy: 0.9776 - val_loss: 1.2201 - val_accuracy: 0.7527\n",
            "Epoch 28/50\n",
            "118/118 [==============================] - 18s 156ms/step - loss: 0.0632 - accuracy: 0.9778 - val_loss: 0.6411 - val_accuracy: 0.8779\n",
            "Epoch 29/50\n",
            "118/118 [==============================] - 18s 156ms/step - loss: 0.0664 - accuracy: 0.9801 - val_loss: 0.3698 - val_accuracy: 0.9099\n",
            "Epoch 30/50\n",
            "118/118 [==============================] - 18s 156ms/step - loss: 0.0233 - accuracy: 0.9924 - val_loss: 1.4269 - val_accuracy: 0.7557\n",
            "Epoch 31/50\n",
            "118/118 [==============================] - 18s 156ms/step - loss: 0.0443 - accuracy: 0.9831 - val_loss: 1.0547 - val_accuracy: 0.8122\n",
            "Epoch 32/50\n",
            "118/118 [==============================] - 18s 157ms/step - loss: 0.0980 - accuracy: 0.9677 - val_loss: 0.4591 - val_accuracy: 0.8824\n",
            "Epoch 33/50\n",
            "118/118 [==============================] - 18s 156ms/step - loss: 0.0534 - accuracy: 0.9850 - val_loss: 0.3957 - val_accuracy: 0.9115\n",
            "Epoch 34/50\n",
            "118/118 [==============================] - 18s 156ms/step - loss: 0.0412 - accuracy: 0.9902 - val_loss: 0.8089 - val_accuracy: 0.8061\n",
            "Epoch 35/50\n",
            "118/118 [==============================] - 18s 156ms/step - loss: 0.0435 - accuracy: 0.9872 - val_loss: 0.4157 - val_accuracy: 0.9145\n",
            "Epoch 36/50\n",
            "118/118 [==============================] - 18s 156ms/step - loss: 0.0337 - accuracy: 0.9903 - val_loss: 3.4245 - val_accuracy: 0.6229\n",
            "Epoch 37/50\n",
            "118/118 [==============================] - 18s 156ms/step - loss: 0.0503 - accuracy: 0.9866 - val_loss: 1.0957 - val_accuracy: 0.7618\n",
            "Epoch 38/50\n",
            "118/118 [==============================] - 18s 155ms/step - loss: 0.0497 - accuracy: 0.9859 - val_loss: 0.5726 - val_accuracy: 0.8855\n",
            "Epoch 39/50\n",
            "118/118 [==============================] - 18s 156ms/step - loss: 0.0588 - accuracy: 0.9793 - val_loss: 1.8692 - val_accuracy: 0.6550\n",
            "Epoch 40/50\n",
            "118/118 [==============================] - 18s 155ms/step - loss: 0.0474 - accuracy: 0.9833 - val_loss: 0.5185 - val_accuracy: 0.8840\n",
            "Epoch 41/50\n",
            "118/118 [==============================] - 18s 156ms/step - loss: 0.0305 - accuracy: 0.9937 - val_loss: 0.3741 - val_accuracy: 0.9023\n",
            "Epoch 42/50\n",
            "118/118 [==============================] - 18s 156ms/step - loss: 0.0260 - accuracy: 0.9921 - val_loss: 0.7869 - val_accuracy: 0.8137\n",
            "Epoch 43/50\n",
            "118/118 [==============================] - 18s 156ms/step - loss: 0.0842 - accuracy: 0.9731 - val_loss: 0.5316 - val_accuracy: 0.8824\n",
            "Epoch 44/50\n",
            "118/118 [==============================] - 18s 156ms/step - loss: 0.0420 - accuracy: 0.9892 - val_loss: 0.5302 - val_accuracy: 0.8901\n",
            "Epoch 45/50\n",
            "118/118 [==============================] - 18s 156ms/step - loss: 0.0426 - accuracy: 0.9888 - val_loss: 0.4911 - val_accuracy: 0.8870\n",
            "Epoch 46/50\n",
            "118/118 [==============================] - 18s 156ms/step - loss: 0.0255 - accuracy: 0.9923 - val_loss: 1.6318 - val_accuracy: 0.7634\n",
            "Epoch 47/50\n",
            "118/118 [==============================] - 18s 156ms/step - loss: 0.0610 - accuracy: 0.9824 - val_loss: 0.5090 - val_accuracy: 0.8824\n",
            "Epoch 48/50\n",
            "118/118 [==============================] - 18s 156ms/step - loss: 0.0202 - accuracy: 0.9934 - val_loss: 0.3308 - val_accuracy: 0.9160\n",
            "Epoch 49/50\n",
            "118/118 [==============================] - 18s 156ms/step - loss: 0.0099 - accuracy: 0.9972 - val_loss: 0.4920 - val_accuracy: 0.8824\n",
            "Epoch 50/50\n",
            "118/118 [==============================] - 18s 156ms/step - loss: 0.0217 - accuracy: 0.9912 - val_loss: 1.2223 - val_accuracy: 0.6901\n"
          ],
          "name": "stdout"
        }
      ]
    },
    {
      "cell_type": "markdown",
      "metadata": {
        "id": "o7dgek1KpYJa"
      },
      "source": [
        "###ResNet101V2 RGB With TFL"
      ]
    },
    {
      "cell_type": "code",
      "metadata": {
        "id": "vVtFRcDB40c4",
        "colab": {
          "base_uri": "https://localhost:8080/"
        },
        "outputId": "29438243-6db2-41db-80c3-04f71af78b5c"
      },
      "source": [
        "modelResnet101V2_tfl = create_resnetv2_model(101,X_train_rgb.shape[1:],True)"
      ],
      "execution_count": null,
      "outputs": [
        {
          "output_type": "stream",
          "text": [
            "Downloading data from https://storage.googleapis.com/tensorflow/keras-applications/resnet/resnet101v2_weights_tf_dim_ordering_tf_kernels_notop.h5\n",
            "171319296/171317808 [==============================] - 3s 0us/step\n"
          ],
          "name": "stdout"
        }
      ]
    },
    {
      "cell_type": "code",
      "metadata": {
        "colab": {
          "base_uri": "https://localhost:8080/"
        },
        "id": "G54tTuKxp5PD",
        "outputId": "da7cf7ff-840a-432a-fd11-ea703ed623b7"
      },
      "source": [
        "history_modelResnet101V2_tfl = modelResnet101V2_tfl.fit(X_train_rgb, y_train_rgb, batch_size=batch_size, epochs=50, validation_data=(X_val_rgb, y_val_rgb))"
      ],
      "execution_count": null,
      "outputs": [
        {
          "output_type": "stream",
          "text": [
            "Epoch 1/50\n",
            "118/118 [==============================] - 31s 170ms/step - loss: 20.7154 - accuracy: 0.5840 - val_loss: 1.6242 - val_accuracy: 0.8198\n",
            "Epoch 2/50\n",
            "118/118 [==============================] - 18s 153ms/step - loss: 0.9118 - accuracy: 0.8609 - val_loss: 0.8391 - val_accuracy: 0.8595\n",
            "Epoch 3/50\n",
            "118/118 [==============================] - 18s 153ms/step - loss: 0.4441 - accuracy: 0.9100 - val_loss: 0.9325 - val_accuracy: 0.8473\n",
            "Epoch 4/50\n",
            "118/118 [==============================] - 18s 153ms/step - loss: 0.3071 - accuracy: 0.9289 - val_loss: 0.6900 - val_accuracy: 0.8626\n",
            "Epoch 5/50\n",
            "118/118 [==============================] - 18s 153ms/step - loss: 0.1441 - accuracy: 0.9658 - val_loss: 0.8115 - val_accuracy: 0.8718\n",
            "Epoch 6/50\n",
            "118/118 [==============================] - 18s 154ms/step - loss: 0.1944 - accuracy: 0.9476 - val_loss: 1.3576 - val_accuracy: 0.8565\n",
            "Epoch 7/50\n",
            "118/118 [==============================] - 18s 154ms/step - loss: 0.2355 - accuracy: 0.9505 - val_loss: 0.9607 - val_accuracy: 0.8702\n",
            "Epoch 8/50\n",
            "118/118 [==============================] - 18s 153ms/step - loss: 0.2976 - accuracy: 0.9317 - val_loss: 0.9213 - val_accuracy: 0.8855\n",
            "Epoch 9/50\n",
            "118/118 [==============================] - 18s 154ms/step - loss: 0.3347 - accuracy: 0.9468 - val_loss: 0.9583 - val_accuracy: 0.8794\n",
            "Epoch 10/50\n",
            "118/118 [==============================] - 18s 153ms/step - loss: 0.1715 - accuracy: 0.9587 - val_loss: 1.2541 - val_accuracy: 0.8519\n",
            "Epoch 11/50\n",
            "118/118 [==============================] - 18s 153ms/step - loss: 0.2218 - accuracy: 0.9643 - val_loss: 0.9252 - val_accuracy: 0.8794\n",
            "Epoch 12/50\n",
            "118/118 [==============================] - 18s 153ms/step - loss: 0.1625 - accuracy: 0.9642 - val_loss: 0.7433 - val_accuracy: 0.8870\n",
            "Epoch 13/50\n",
            "118/118 [==============================] - 18s 154ms/step - loss: 0.1179 - accuracy: 0.9748 - val_loss: 1.1546 - val_accuracy: 0.8870\n",
            "Epoch 14/50\n",
            "118/118 [==============================] - 18s 154ms/step - loss: 0.1980 - accuracy: 0.9667 - val_loss: 1.2573 - val_accuracy: 0.8702\n",
            "Epoch 15/50\n",
            "118/118 [==============================] - 18s 154ms/step - loss: 0.1653 - accuracy: 0.9716 - val_loss: 2.1320 - val_accuracy: 0.8733\n",
            "Epoch 16/50\n",
            "118/118 [==============================] - 18s 153ms/step - loss: 0.4022 - accuracy: 0.9453 - val_loss: 2.0612 - val_accuracy: 0.8473\n",
            "Epoch 17/50\n",
            "118/118 [==============================] - 18s 154ms/step - loss: 0.6809 - accuracy: 0.9310 - val_loss: 1.6204 - val_accuracy: 0.8809\n",
            "Epoch 18/50\n",
            "118/118 [==============================] - 18s 154ms/step - loss: 0.4836 - accuracy: 0.9609 - val_loss: 2.7040 - val_accuracy: 0.8504\n",
            "Epoch 19/50\n",
            "118/118 [==============================] - 18s 154ms/step - loss: 0.5827 - accuracy: 0.9543 - val_loss: 1.7970 - val_accuracy: 0.8794\n",
            "Epoch 20/50\n",
            "118/118 [==============================] - 18s 153ms/step - loss: 0.3856 - accuracy: 0.9592 - val_loss: 2.5592 - val_accuracy: 0.8611\n",
            "Epoch 21/50\n",
            "118/118 [==============================] - 18s 153ms/step - loss: 0.4176 - accuracy: 0.9606 - val_loss: 2.1990 - val_accuracy: 0.8702\n",
            "Epoch 22/50\n",
            "118/118 [==============================] - 18s 153ms/step - loss: 0.2299 - accuracy: 0.9753 - val_loss: 2.1177 - val_accuracy: 0.8962\n",
            "Epoch 23/50\n",
            "118/118 [==============================] - 18s 153ms/step - loss: 0.5552 - accuracy: 0.9614 - val_loss: 2.1178 - val_accuracy: 0.8870\n",
            "Epoch 24/50\n",
            "118/118 [==============================] - 18s 153ms/step - loss: 0.2372 - accuracy: 0.9768 - val_loss: 2.2021 - val_accuracy: 0.8870\n",
            "Epoch 25/50\n",
            "118/118 [==============================] - 18s 153ms/step - loss: 0.2497 - accuracy: 0.9703 - val_loss: 1.9091 - val_accuracy: 0.9038\n",
            "Epoch 26/50\n",
            "118/118 [==============================] - 18s 153ms/step - loss: 0.2334 - accuracy: 0.9772 - val_loss: 3.3722 - val_accuracy: 0.8931\n",
            "Epoch 27/50\n",
            "118/118 [==============================] - 18s 154ms/step - loss: 0.3687 - accuracy: 0.9731 - val_loss: 1.8200 - val_accuracy: 0.8977\n",
            "Epoch 28/50\n",
            "118/118 [==============================] - 18s 153ms/step - loss: 0.1323 - accuracy: 0.9854 - val_loss: 1.6990 - val_accuracy: 0.9008\n",
            "Epoch 29/50\n",
            "118/118 [==============================] - 18s 152ms/step - loss: 0.2092 - accuracy: 0.9796 - val_loss: 2.0099 - val_accuracy: 0.8962\n",
            "Epoch 30/50\n",
            "118/118 [==============================] - 18s 153ms/step - loss: 0.0488 - accuracy: 0.9908 - val_loss: 2.1531 - val_accuracy: 0.9099\n",
            "Epoch 31/50\n",
            "118/118 [==============================] - 18s 152ms/step - loss: 0.0553 - accuracy: 0.9932 - val_loss: 2.6669 - val_accuracy: 0.8885\n",
            "Epoch 32/50\n",
            "118/118 [==============================] - 18s 153ms/step - loss: 0.1555 - accuracy: 0.9819 - val_loss: 2.0953 - val_accuracy: 0.9038\n",
            "Epoch 33/50\n",
            "118/118 [==============================] - 18s 153ms/step - loss: 0.1841 - accuracy: 0.9813 - val_loss: 2.7997 - val_accuracy: 0.8931\n",
            "Epoch 34/50\n",
            "118/118 [==============================] - 18s 152ms/step - loss: 0.2177 - accuracy: 0.9810 - val_loss: 3.5316 - val_accuracy: 0.8687\n",
            "Epoch 35/50\n",
            "118/118 [==============================] - 18s 153ms/step - loss: 0.2704 - accuracy: 0.9788 - val_loss: 3.4609 - val_accuracy: 0.8718\n",
            "Epoch 36/50\n",
            "118/118 [==============================] - 18s 153ms/step - loss: 0.2349 - accuracy: 0.9829 - val_loss: 4.3707 - val_accuracy: 0.8458\n",
            "Epoch 37/50\n",
            "118/118 [==============================] - 18s 153ms/step - loss: 0.4747 - accuracy: 0.9764 - val_loss: 5.3240 - val_accuracy: 0.8595\n",
            "Epoch 38/50\n",
            "118/118 [==============================] - 18s 154ms/step - loss: 0.6439 - accuracy: 0.9612 - val_loss: 5.0691 - val_accuracy: 0.8840\n",
            "Epoch 39/50\n",
            "118/118 [==============================] - 18s 154ms/step - loss: 0.5383 - accuracy: 0.9625 - val_loss: 4.9740 - val_accuracy: 0.8672\n",
            "Epoch 40/50\n",
            "118/118 [==============================] - 18s 154ms/step - loss: 1.0509 - accuracy: 0.9613 - val_loss: 5.0929 - val_accuracy: 0.8748\n",
            "Epoch 41/50\n",
            "118/118 [==============================] - 18s 153ms/step - loss: 0.6056 - accuracy: 0.9736 - val_loss: 5.1896 - val_accuracy: 0.8687\n",
            "Epoch 42/50\n",
            "118/118 [==============================] - 18s 153ms/step - loss: 0.3136 - accuracy: 0.9851 - val_loss: 4.5770 - val_accuracy: 0.8855\n",
            "Epoch 43/50\n",
            "118/118 [==============================] - 18s 152ms/step - loss: 0.3358 - accuracy: 0.9845 - val_loss: 4.3834 - val_accuracy: 0.8992\n",
            "Epoch 44/50\n",
            "118/118 [==============================] - 18s 153ms/step - loss: 0.2814 - accuracy: 0.9841 - val_loss: 4.0380 - val_accuracy: 0.8779\n",
            "Epoch 45/50\n",
            "118/118 [==============================] - 18s 153ms/step - loss: 0.1784 - accuracy: 0.9882 - val_loss: 4.2397 - val_accuracy: 0.8794\n",
            "Epoch 46/50\n",
            "118/118 [==============================] - 18s 153ms/step - loss: 0.3594 - accuracy: 0.9840 - val_loss: 4.9118 - val_accuracy: 0.9023\n",
            "Epoch 47/50\n",
            "118/118 [==============================] - 18s 153ms/step - loss: 0.3075 - accuracy: 0.9829 - val_loss: 4.0609 - val_accuracy: 0.8916\n",
            "Epoch 48/50\n",
            "118/118 [==============================] - 18s 153ms/step - loss: 0.2809 - accuracy: 0.9871 - val_loss: 3.6500 - val_accuracy: 0.8947\n",
            "Epoch 49/50\n",
            "118/118 [==============================] - 18s 153ms/step - loss: 0.1430 - accuracy: 0.9913 - val_loss: 4.2258 - val_accuracy: 0.9023\n",
            "Epoch 50/50\n",
            "118/118 [==============================] - 18s 154ms/step - loss: 0.1076 - accuracy: 0.9922 - val_loss: 3.9527 - val_accuracy: 0.9008\n"
          ],
          "name": "stdout"
        }
      ]
    },
    {
      "cell_type": "markdown",
      "metadata": {
        "id": "jH4XxsR34mTx"
      },
      "source": [
        "###ResNet152V2 RGB"
      ]
    },
    {
      "cell_type": "code",
      "metadata": {
        "id": "f7VtlN0I45tI"
      },
      "source": [
        "modelResnet152V2_rgb = create_resnetv2_model(152,X_train_rgb.shape[1:])"
      ],
      "execution_count": null,
      "outputs": []
    },
    {
      "cell_type": "code",
      "metadata": {
        "colab": {
          "base_uri": "https://localhost:8080/"
        },
        "id": "AyAOeW8j4iba",
        "outputId": "20e53190-b739-49b0-daf6-93f088dd4ce2"
      },
      "source": [
        "history_modelResnet152V2_rgb = modelResnet152V2_rgb.fit(X_train_rgb, y_train_rgb, batch_size=batch_size, epochs=50, validation_data=(X_val_rgb, y_val_rgb))"
      ],
      "execution_count": null,
      "outputs": [
        {
          "output_type": "stream",
          "text": [
            "Epoch 1/50\n",
            "118/118 [==============================] - 41s 236ms/step - loss: 1.3627 - accuracy: 0.4712 - val_loss: 1.8150 - val_accuracy: 0.1053\n",
            "Epoch 2/50\n",
            "118/118 [==============================] - 26s 219ms/step - loss: 0.9226 - accuracy: 0.6130 - val_loss: 1.9842 - val_accuracy: 0.2595\n",
            "Epoch 3/50\n",
            "118/118 [==============================] - 26s 222ms/step - loss: 0.7331 - accuracy: 0.7063 - val_loss: 1.5257 - val_accuracy: 0.2885\n",
            "Epoch 4/50\n",
            "118/118 [==============================] - 26s 224ms/step - loss: 0.6204 - accuracy: 0.7581 - val_loss: 5.9772 - val_accuracy: 0.3786\n",
            "Epoch 5/50\n",
            "118/118 [==============================] - 26s 224ms/step - loss: 0.6671 - accuracy: 0.7392 - val_loss: 1.0292 - val_accuracy: 0.5908\n",
            "Epoch 6/50\n",
            "118/118 [==============================] - 27s 225ms/step - loss: 0.5179 - accuracy: 0.7945 - val_loss: 0.6718 - val_accuracy: 0.7282\n",
            "Epoch 7/50\n",
            "118/118 [==============================] - 27s 225ms/step - loss: 0.4229 - accuracy: 0.8299 - val_loss: 0.7404 - val_accuracy: 0.7115\n",
            "Epoch 8/50\n",
            "118/118 [==============================] - 27s 226ms/step - loss: 0.3723 - accuracy: 0.8644 - val_loss: 0.6136 - val_accuracy: 0.7618\n",
            "Epoch 9/50\n",
            "118/118 [==============================] - 27s 227ms/step - loss: 0.2931 - accuracy: 0.8895 - val_loss: 0.7796 - val_accuracy: 0.7389\n",
            "Epoch 10/50\n",
            "118/118 [==============================] - 27s 227ms/step - loss: 0.2739 - accuracy: 0.8978 - val_loss: 1.2794 - val_accuracy: 0.6672\n",
            "Epoch 11/50\n",
            "118/118 [==============================] - 27s 227ms/step - loss: 0.2468 - accuracy: 0.9093 - val_loss: 1.4437 - val_accuracy: 0.7038\n",
            "Epoch 12/50\n",
            "118/118 [==============================] - 27s 227ms/step - loss: 0.2748 - accuracy: 0.9066 - val_loss: 0.7309 - val_accuracy: 0.7450\n",
            "Epoch 13/50\n",
            "118/118 [==============================] - 27s 228ms/step - loss: 0.2074 - accuracy: 0.9284 - val_loss: 0.5440 - val_accuracy: 0.8244\n",
            "Epoch 14/50\n",
            "118/118 [==============================] - 27s 228ms/step - loss: 0.1804 - accuracy: 0.9388 - val_loss: 0.5205 - val_accuracy: 0.8366\n",
            "Epoch 15/50\n",
            "118/118 [==============================] - 27s 228ms/step - loss: 0.1192 - accuracy: 0.9570 - val_loss: 14.2632 - val_accuracy: 0.4809\n",
            "Epoch 16/50\n",
            "118/118 [==============================] - 27s 228ms/step - loss: 0.1041 - accuracy: 0.9611 - val_loss: 5.1047 - val_accuracy: 0.5771\n",
            "Epoch 17/50\n",
            "118/118 [==============================] - 27s 228ms/step - loss: 0.1415 - accuracy: 0.9506 - val_loss: 0.5351 - val_accuracy: 0.8382\n",
            "Epoch 18/50\n",
            "118/118 [==============================] - 27s 228ms/step - loss: 0.0957 - accuracy: 0.9653 - val_loss: 0.5487 - val_accuracy: 0.8366\n",
            "Epoch 19/50\n",
            "118/118 [==============================] - 27s 228ms/step - loss: 0.1497 - accuracy: 0.9536 - val_loss: 0.7583 - val_accuracy: 0.7863\n",
            "Epoch 20/50\n",
            "118/118 [==============================] - 27s 228ms/step - loss: 0.1619 - accuracy: 0.9457 - val_loss: 1.3607 - val_accuracy: 0.7344\n",
            "Epoch 21/50\n",
            "118/118 [==============================] - 27s 228ms/step - loss: 0.1325 - accuracy: 0.9483 - val_loss: 0.9538 - val_accuracy: 0.7557\n",
            "Epoch 22/50\n",
            "118/118 [==============================] - 27s 228ms/step - loss: 0.0949 - accuracy: 0.9650 - val_loss: 0.7248 - val_accuracy: 0.8321\n",
            "Epoch 23/50\n",
            "118/118 [==============================] - 27s 228ms/step - loss: 0.1006 - accuracy: 0.9660 - val_loss: 0.5914 - val_accuracy: 0.8580\n",
            "Epoch 24/50\n",
            "118/118 [==============================] - 27s 228ms/step - loss: 0.0783 - accuracy: 0.9733 - val_loss: 0.7493 - val_accuracy: 0.7939\n",
            "Epoch 25/50\n",
            "118/118 [==============================] - 27s 228ms/step - loss: 0.1057 - accuracy: 0.9636 - val_loss: 1.5583 - val_accuracy: 0.6153\n",
            "Epoch 26/50\n",
            "118/118 [==============================] - 27s 228ms/step - loss: 0.0711 - accuracy: 0.9758 - val_loss: 0.8982 - val_accuracy: 0.7511\n",
            "Epoch 27/50\n",
            "118/118 [==============================] - 27s 228ms/step - loss: 0.1025 - accuracy: 0.9667 - val_loss: 0.4742 - val_accuracy: 0.8718\n",
            "Epoch 28/50\n",
            "118/118 [==============================] - 27s 228ms/step - loss: 0.1446 - accuracy: 0.9491 - val_loss: 1.3569 - val_accuracy: 0.6916\n",
            "Epoch 29/50\n",
            "118/118 [==============================] - 27s 228ms/step - loss: 0.0780 - accuracy: 0.9767 - val_loss: 0.4851 - val_accuracy: 0.8855\n",
            "Epoch 30/50\n",
            "118/118 [==============================] - 27s 228ms/step - loss: 0.0232 - accuracy: 0.9943 - val_loss: 0.7226 - val_accuracy: 0.8168\n",
            "Epoch 31/50\n",
            "118/118 [==============================] - 27s 228ms/step - loss: 0.0595 - accuracy: 0.9824 - val_loss: 0.4464 - val_accuracy: 0.8855\n",
            "Epoch 32/50\n",
            "118/118 [==============================] - 27s 228ms/step - loss: 0.0378 - accuracy: 0.9885 - val_loss: 2.9783 - val_accuracy: 0.5588\n",
            "Epoch 33/50\n",
            "118/118 [==============================] - 27s 228ms/step - loss: 0.0863 - accuracy: 0.9722 - val_loss: 0.4184 - val_accuracy: 0.8702\n",
            "Epoch 34/50\n",
            "118/118 [==============================] - 27s 228ms/step - loss: 0.0423 - accuracy: 0.9881 - val_loss: 0.4354 - val_accuracy: 0.9008\n",
            "Epoch 35/50\n",
            "118/118 [==============================] - 27s 228ms/step - loss: 0.0585 - accuracy: 0.9819 - val_loss: 0.8024 - val_accuracy: 0.8137\n",
            "Epoch 36/50\n",
            "118/118 [==============================] - 27s 227ms/step - loss: 0.0700 - accuracy: 0.9740 - val_loss: 0.8658 - val_accuracy: 0.8443\n",
            "Epoch 37/50\n",
            "118/118 [==============================] - 27s 228ms/step - loss: 0.1223 - accuracy: 0.9620 - val_loss: 0.4703 - val_accuracy: 0.8855\n",
            "Epoch 38/50\n",
            "118/118 [==============================] - 27s 228ms/step - loss: 0.0470 - accuracy: 0.9847 - val_loss: 0.4526 - val_accuracy: 0.8855\n",
            "Epoch 39/50\n",
            "118/118 [==============================] - 27s 228ms/step - loss: 0.0473 - accuracy: 0.9856 - val_loss: 0.4838 - val_accuracy: 0.8809\n",
            "Epoch 40/50\n",
            "118/118 [==============================] - 27s 228ms/step - loss: 0.0151 - accuracy: 0.9951 - val_loss: 0.3753 - val_accuracy: 0.9084\n",
            "Epoch 41/50\n",
            "118/118 [==============================] - 27s 228ms/step - loss: 0.0748 - accuracy: 0.9697 - val_loss: 1.4172 - val_accuracy: 0.7847\n",
            "Epoch 42/50\n",
            "118/118 [==============================] - 27s 228ms/step - loss: 0.0392 - accuracy: 0.9904 - val_loss: 0.4815 - val_accuracy: 0.8901\n",
            "Epoch 43/50\n",
            "118/118 [==============================] - 27s 228ms/step - loss: 0.0115 - accuracy: 0.9966 - val_loss: 0.3446 - val_accuracy: 0.9130\n",
            "Epoch 44/50\n",
            "118/118 [==============================] - 27s 228ms/step - loss: 0.0180 - accuracy: 0.9968 - val_loss: 0.2993 - val_accuracy: 0.9115\n",
            "Epoch 45/50\n",
            "118/118 [==============================] - 27s 228ms/step - loss: 0.0273 - accuracy: 0.9905 - val_loss: 0.9004 - val_accuracy: 0.8076\n",
            "Epoch 46/50\n",
            "118/118 [==============================] - 27s 228ms/step - loss: 0.0690 - accuracy: 0.9802 - val_loss: 0.5756 - val_accuracy: 0.8580\n",
            "Epoch 47/50\n",
            "118/118 [==============================] - 27s 228ms/step - loss: 0.0430 - accuracy: 0.9859 - val_loss: 0.5205 - val_accuracy: 0.8702\n",
            "Epoch 48/50\n",
            "118/118 [==============================] - 27s 228ms/step - loss: 0.1165 - accuracy: 0.9613 - val_loss: 0.6406 - val_accuracy: 0.8458\n",
            "Epoch 49/50\n",
            "118/118 [==============================] - 27s 228ms/step - loss: 0.1024 - accuracy: 0.9670 - val_loss: 0.3553 - val_accuracy: 0.9237\n",
            "Epoch 50/50\n",
            "118/118 [==============================] - 27s 228ms/step - loss: 0.0621 - accuracy: 0.9782 - val_loss: 0.6305 - val_accuracy: 0.8641\n"
          ],
          "name": "stdout"
        }
      ]
    },
    {
      "cell_type": "markdown",
      "metadata": {
        "id": "FbMhFIRL4yrQ"
      },
      "source": [
        "###ResNet152V2 GS"
      ]
    },
    {
      "cell_type": "code",
      "metadata": {
        "id": "UvvnrPpn48Oo"
      },
      "source": [
        "modelResnet152V2_gs = create_resnetv2_model(152,X_train_gs.shape[1:])"
      ],
      "execution_count": null,
      "outputs": []
    },
    {
      "cell_type": "code",
      "metadata": {
        "colab": {
          "base_uri": "https://localhost:8080/"
        },
        "id": "gwpAo61P4_zI",
        "outputId": "7100ad92-0790-4cd1-e766-84e70c5a73c0"
      },
      "source": [
        "history_modelResnet152V2_gs = modelResnet152V2_gs.fit(X_train_gs, y_train_gs, batch_size=batch_size, epochs=50, validation_data=(X_val_gs, y_val_gs))"
      ],
      "execution_count": null,
      "outputs": [
        {
          "output_type": "stream",
          "text": [
            "Epoch 1/50\n",
            "118/118 [==============================] - 41s 241ms/step - loss: 1.4671 - accuracy: 0.4858 - val_loss: 1.8781 - val_accuracy: 0.2763\n",
            "Epoch 2/50\n",
            "118/118 [==============================] - 26s 222ms/step - loss: 0.7750 - accuracy: 0.6946 - val_loss: 2.5507 - val_accuracy: 0.3099\n",
            "Epoch 3/50\n",
            "118/118 [==============================] - 26s 223ms/step - loss: 0.6520 - accuracy: 0.7615 - val_loss: 3.8708 - val_accuracy: 0.1679\n",
            "Epoch 4/50\n",
            "118/118 [==============================] - 26s 224ms/step - loss: 0.5199 - accuracy: 0.8008 - val_loss: 1.6486 - val_accuracy: 0.3298\n",
            "Epoch 5/50\n",
            "118/118 [==============================] - 26s 224ms/step - loss: 0.4509 - accuracy: 0.8372 - val_loss: 11.7862 - val_accuracy: 0.3145\n",
            "Epoch 6/50\n",
            "118/118 [==============================] - 26s 224ms/step - loss: 0.4711 - accuracy: 0.8237 - val_loss: 0.9531 - val_accuracy: 0.7023\n",
            "Epoch 7/50\n",
            "118/118 [==============================] - 26s 225ms/step - loss: 0.3147 - accuracy: 0.8879 - val_loss: 2.3541 - val_accuracy: 0.5252\n",
            "Epoch 8/50\n",
            "118/118 [==============================] - 27s 225ms/step - loss: 0.2450 - accuracy: 0.9114 - val_loss: 0.5202 - val_accuracy: 0.8336\n",
            "Epoch 9/50\n",
            "118/118 [==============================] - 27s 225ms/step - loss: 0.2696 - accuracy: 0.9066 - val_loss: 9.0438 - val_accuracy: 0.2748\n",
            "Epoch 10/50\n",
            "118/118 [==============================] - 27s 225ms/step - loss: 0.2421 - accuracy: 0.9157 - val_loss: 0.7721 - val_accuracy: 0.7130\n",
            "Epoch 11/50\n",
            "118/118 [==============================] - 27s 225ms/step - loss: 0.1960 - accuracy: 0.9280 - val_loss: 1.3607 - val_accuracy: 0.6840\n",
            "Epoch 12/50\n",
            "118/118 [==============================] - 27s 225ms/step - loss: 0.1734 - accuracy: 0.9361 - val_loss: 0.9976 - val_accuracy: 0.7191\n",
            "Epoch 13/50\n",
            "118/118 [==============================] - 27s 225ms/step - loss: 0.1731 - accuracy: 0.9444 - val_loss: 1.5399 - val_accuracy: 0.6840\n",
            "Epoch 14/50\n",
            "118/118 [==============================] - 27s 225ms/step - loss: 0.1858 - accuracy: 0.9336 - val_loss: 0.8464 - val_accuracy: 0.7603\n",
            "Epoch 15/50\n",
            "118/118 [==============================] - 27s 225ms/step - loss: 0.1392 - accuracy: 0.9494 - val_loss: 1.3595 - val_accuracy: 0.7435\n",
            "Epoch 16/50\n",
            "118/118 [==============================] - 27s 225ms/step - loss: 0.0909 - accuracy: 0.9684 - val_loss: 0.4215 - val_accuracy: 0.8656\n",
            "Epoch 17/50\n",
            "118/118 [==============================] - 27s 225ms/step - loss: 0.0888 - accuracy: 0.9642 - val_loss: 0.6851 - val_accuracy: 0.7893\n",
            "Epoch 18/50\n",
            "118/118 [==============================] - 27s 225ms/step - loss: 0.1062 - accuracy: 0.9553 - val_loss: 1.5102 - val_accuracy: 0.7542\n",
            "Epoch 19/50\n",
            "118/118 [==============================] - 27s 225ms/step - loss: 0.1149 - accuracy: 0.9660 - val_loss: 0.5567 - val_accuracy: 0.8351\n",
            "Epoch 20/50\n",
            "118/118 [==============================] - 27s 225ms/step - loss: 0.0809 - accuracy: 0.9744 - val_loss: 0.6191 - val_accuracy: 0.8366\n",
            "Epoch 21/50\n",
            "118/118 [==============================] - 27s 225ms/step - loss: 0.0529 - accuracy: 0.9802 - val_loss: 2.4264 - val_accuracy: 0.6076\n",
            "Epoch 22/50\n",
            "118/118 [==============================] - 27s 225ms/step - loss: 0.1143 - accuracy: 0.9617 - val_loss: 0.3995 - val_accuracy: 0.8992\n",
            "Epoch 23/50\n",
            "118/118 [==============================] - 27s 225ms/step - loss: 0.0897 - accuracy: 0.9730 - val_loss: 0.5846 - val_accuracy: 0.8427\n",
            "Epoch 24/50\n",
            "118/118 [==============================] - 27s 225ms/step - loss: 0.0808 - accuracy: 0.9762 - val_loss: 1.0068 - val_accuracy: 0.7740\n",
            "Epoch 25/50\n",
            "118/118 [==============================] - 27s 226ms/step - loss: 0.1081 - accuracy: 0.9632 - val_loss: 0.6976 - val_accuracy: 0.8412\n",
            "Epoch 26/50\n",
            "118/118 [==============================] - 27s 225ms/step - loss: 0.1072 - accuracy: 0.9641 - val_loss: 1.1380 - val_accuracy: 0.7924\n",
            "Epoch 27/50\n",
            "118/118 [==============================] - 27s 225ms/step - loss: 0.1060 - accuracy: 0.9631 - val_loss: 0.3749 - val_accuracy: 0.8977\n",
            "Epoch 28/50\n",
            "118/118 [==============================] - 27s 225ms/step - loss: 0.0305 - accuracy: 0.9892 - val_loss: 0.6076 - val_accuracy: 0.8412\n",
            "Epoch 29/50\n",
            "118/118 [==============================] - 27s 225ms/step - loss: 0.0461 - accuracy: 0.9850 - val_loss: 0.7696 - val_accuracy: 0.8321\n",
            "Epoch 30/50\n",
            "118/118 [==============================] - 27s 225ms/step - loss: 0.0968 - accuracy: 0.9591 - val_loss: 0.7067 - val_accuracy: 0.8229\n",
            "Epoch 31/50\n",
            "118/118 [==============================] - 27s 225ms/step - loss: 0.0503 - accuracy: 0.9844 - val_loss: 0.4845 - val_accuracy: 0.8687\n",
            "Epoch 32/50\n",
            "118/118 [==============================] - 27s 225ms/step - loss: 0.0457 - accuracy: 0.9845 - val_loss: 0.5457 - val_accuracy: 0.8489\n",
            "Epoch 33/50\n",
            "118/118 [==============================] - 27s 225ms/step - loss: 0.0363 - accuracy: 0.9897 - val_loss: 0.6975 - val_accuracy: 0.8275\n",
            "Epoch 34/50\n",
            "118/118 [==============================] - 27s 225ms/step - loss: 0.0649 - accuracy: 0.9719 - val_loss: 1.3690 - val_accuracy: 0.7237\n",
            "Epoch 35/50\n",
            "118/118 [==============================] - 27s 226ms/step - loss: 0.0456 - accuracy: 0.9860 - val_loss: 0.4890 - val_accuracy: 0.8962\n",
            "Epoch 36/50\n",
            "118/118 [==============================] - 27s 226ms/step - loss: 0.0452 - accuracy: 0.9855 - val_loss: 1.2836 - val_accuracy: 0.7969\n",
            "Epoch 37/50\n",
            "118/118 [==============================] - 27s 226ms/step - loss: 0.0790 - accuracy: 0.9769 - val_loss: 0.5103 - val_accuracy: 0.9145\n",
            "Epoch 38/50\n",
            "118/118 [==============================] - 27s 226ms/step - loss: 0.0792 - accuracy: 0.9676 - val_loss: 0.3618 - val_accuracy: 0.9160\n",
            "Epoch 39/50\n",
            "118/118 [==============================] - 27s 226ms/step - loss: 0.0730 - accuracy: 0.9762 - val_loss: 0.5737 - val_accuracy: 0.8626\n",
            "Epoch 40/50\n",
            "118/118 [==============================] - 27s 226ms/step - loss: 0.0373 - accuracy: 0.9880 - val_loss: 1.3168 - val_accuracy: 0.6992\n",
            "Epoch 41/50\n",
            "118/118 [==============================] - 27s 226ms/step - loss: 0.0416 - accuracy: 0.9841 - val_loss: 0.3662 - val_accuracy: 0.9084\n",
            "Epoch 42/50\n",
            "118/118 [==============================] - 27s 225ms/step - loss: 0.0839 - accuracy: 0.9732 - val_loss: 1.1337 - val_accuracy: 0.7389\n",
            "Epoch 43/50\n",
            "118/118 [==============================] - 27s 225ms/step - loss: 0.0853 - accuracy: 0.9710 - val_loss: 1.5979 - val_accuracy: 0.7847\n",
            "Epoch 44/50\n",
            "118/118 [==============================] - 27s 226ms/step - loss: 0.0710 - accuracy: 0.9738 - val_loss: 0.5518 - val_accuracy: 0.8870\n",
            "Epoch 45/50\n",
            "118/118 [==============================] - 27s 226ms/step - loss: 0.0284 - accuracy: 0.9880 - val_loss: 0.3937 - val_accuracy: 0.9191\n",
            "Epoch 46/50\n",
            "118/118 [==============================] - 27s 226ms/step - loss: 0.0343 - accuracy: 0.9889 - val_loss: 0.8182 - val_accuracy: 0.8336\n",
            "Epoch 47/50\n",
            "118/118 [==============================] - 27s 226ms/step - loss: 0.0398 - accuracy: 0.9883 - val_loss: 0.8459 - val_accuracy: 0.8290\n",
            "Epoch 48/50\n",
            "118/118 [==============================] - 27s 225ms/step - loss: 0.0569 - accuracy: 0.9801 - val_loss: 0.7586 - val_accuracy: 0.8397\n",
            "Epoch 49/50\n",
            "118/118 [==============================] - 27s 226ms/step - loss: 0.0330 - accuracy: 0.9878 - val_loss: 0.9623 - val_accuracy: 0.8000\n",
            "Epoch 50/50\n",
            "118/118 [==============================] - 27s 226ms/step - loss: 0.1143 - accuracy: 0.9600 - val_loss: 0.5158 - val_accuracy: 0.8672\n"
          ],
          "name": "stdout"
        }
      ]
    },
    {
      "cell_type": "markdown",
      "metadata": {
        "id": "ECqUEE0W4025"
      },
      "source": [
        "###ResNet152V2 RGB With TFL"
      ]
    },
    {
      "cell_type": "code",
      "metadata": {
        "id": "D5QqZaZW5AcY",
        "colab": {
          "base_uri": "https://localhost:8080/"
        },
        "outputId": "e84832a5-16ef-4ba2-a79b-70e294d03dc9"
      },
      "source": [
        "modelResnet152V2_tfl = create_resnetv2_model(152,X_train_rgb.shape[1:],True)"
      ],
      "execution_count": null,
      "outputs": [
        {
          "output_type": "stream",
          "text": [
            "Downloading data from https://storage.googleapis.com/tensorflow/keras-applications/resnet/resnet152v2_weights_tf_dim_ordering_tf_kernels_notop.h5\n",
            "234553344/234545216 [==============================] - 3s 0us/step\n"
          ],
          "name": "stdout"
        }
      ]
    },
    {
      "cell_type": "code",
      "metadata": {
        "colab": {
          "base_uri": "https://localhost:8080/"
        },
        "id": "QxsJBW0X5T-w",
        "outputId": "11d255d2-f155-44b3-f83a-0743faf11782"
      },
      "source": [
        "history_modelResnet152V2_tfl = modelResnet152V2_tfl.fit(X_train_rgb, y_train_rgb, batch_size=batch_size, epochs=50, validation_data=(X_val_rgb, y_val_rgb))"
      ],
      "execution_count": null,
      "outputs": [
        {
          "output_type": "stream",
          "text": [
            "Epoch 1/50\n",
            "118/118 [==============================] - 40s 238ms/step - loss: 18.3001 - accuracy: 0.5669 - val_loss: 0.9730 - val_accuracy: 0.8336\n",
            "Epoch 2/50\n",
            "118/118 [==============================] - 25s 210ms/step - loss: 0.5376 - accuracy: 0.8583 - val_loss: 0.4679 - val_accuracy: 0.8565\n",
            "Epoch 3/50\n",
            "118/118 [==============================] - 25s 211ms/step - loss: 0.2618 - accuracy: 0.9231 - val_loss: 0.5098 - val_accuracy: 0.8809\n",
            "Epoch 4/50\n",
            "118/118 [==============================] - 25s 211ms/step - loss: 0.1992 - accuracy: 0.9369 - val_loss: 0.4700 - val_accuracy: 0.8855\n",
            "Epoch 5/50\n",
            "118/118 [==============================] - 25s 211ms/step - loss: 0.1124 - accuracy: 0.9594 - val_loss: 0.6277 - val_accuracy: 0.8855\n",
            "Epoch 6/50\n",
            "118/118 [==============================] - 25s 211ms/step - loss: 0.1165 - accuracy: 0.9630 - val_loss: 0.6767 - val_accuracy: 0.8626\n",
            "Epoch 7/50\n",
            "118/118 [==============================] - 25s 211ms/step - loss: 0.0944 - accuracy: 0.9624 - val_loss: 0.5334 - val_accuracy: 0.8931\n",
            "Epoch 8/50\n",
            "118/118 [==============================] - 25s 212ms/step - loss: 0.1296 - accuracy: 0.9654 - val_loss: 0.7383 - val_accuracy: 0.8702\n",
            "Epoch 9/50\n",
            "118/118 [==============================] - 25s 211ms/step - loss: 0.1969 - accuracy: 0.9559 - val_loss: 0.7058 - val_accuracy: 0.8840\n",
            "Epoch 10/50\n",
            "118/118 [==============================] - 25s 211ms/step - loss: 0.2301 - accuracy: 0.9392 - val_loss: 0.9828 - val_accuracy: 0.8687\n",
            "Epoch 11/50\n",
            "118/118 [==============================] - 25s 210ms/step - loss: 0.5114 - accuracy: 0.9214 - val_loss: 1.6730 - val_accuracy: 0.8076\n",
            "Epoch 12/50\n",
            "118/118 [==============================] - 25s 211ms/step - loss: 0.4559 - accuracy: 0.9241 - val_loss: 1.0743 - val_accuracy: 0.8504\n",
            "Epoch 13/50\n",
            "118/118 [==============================] - 25s 211ms/step - loss: 0.2908 - accuracy: 0.9365 - val_loss: 1.0065 - val_accuracy: 0.8473\n",
            "Epoch 14/50\n",
            "118/118 [==============================] - 25s 211ms/step - loss: 0.1835 - accuracy: 0.9586 - val_loss: 0.7450 - val_accuracy: 0.8916\n",
            "Epoch 15/50\n",
            "118/118 [==============================] - 25s 212ms/step - loss: 0.1467 - accuracy: 0.9663 - val_loss: 0.8157 - val_accuracy: 0.8779\n",
            "Epoch 16/50\n",
            "118/118 [==============================] - 25s 211ms/step - loss: 0.1746 - accuracy: 0.9700 - val_loss: 1.4273 - val_accuracy: 0.8382\n",
            "Epoch 17/50\n",
            "118/118 [==============================] - 25s 211ms/step - loss: 0.3410 - accuracy: 0.9508 - val_loss: 1.1871 - val_accuracy: 0.8702\n",
            "Epoch 18/50\n",
            "118/118 [==============================] - 25s 211ms/step - loss: 0.1173 - accuracy: 0.9788 - val_loss: 0.6830 - val_accuracy: 0.9038\n",
            "Epoch 19/50\n",
            "118/118 [==============================] - 25s 210ms/step - loss: 0.0527 - accuracy: 0.9868 - val_loss: 0.8873 - val_accuracy: 0.8824\n",
            "Epoch 20/50\n",
            "118/118 [==============================] - 25s 211ms/step - loss: 0.1692 - accuracy: 0.9688 - val_loss: 0.8496 - val_accuracy: 0.9038\n",
            "Epoch 21/50\n",
            "118/118 [==============================] - 25s 212ms/step - loss: 0.1080 - accuracy: 0.9769 - val_loss: 1.2601 - val_accuracy: 0.8870\n",
            "Epoch 22/50\n",
            "118/118 [==============================] - 25s 211ms/step - loss: 0.2475 - accuracy: 0.9595 - val_loss: 1.2145 - val_accuracy: 0.8901\n",
            "Epoch 23/50\n",
            "118/118 [==============================] - 25s 211ms/step - loss: 0.1838 - accuracy: 0.9695 - val_loss: 1.4911 - val_accuracy: 0.8565\n",
            "Epoch 24/50\n",
            "118/118 [==============================] - 25s 211ms/step - loss: 0.2934 - accuracy: 0.9535 - val_loss: 1.4688 - val_accuracy: 0.8763\n",
            "Epoch 25/50\n",
            "118/118 [==============================] - 25s 211ms/step - loss: 0.2195 - accuracy: 0.9665 - val_loss: 1.5067 - val_accuracy: 0.8947\n",
            "Epoch 26/50\n",
            "118/118 [==============================] - 25s 212ms/step - loss: 0.2812 - accuracy: 0.9679 - val_loss: 1.6581 - val_accuracy: 0.8763\n",
            "Epoch 27/50\n",
            "118/118 [==============================] - 25s 212ms/step - loss: 0.2446 - accuracy: 0.9583 - val_loss: 1.4820 - val_accuracy: 0.8947\n",
            "Epoch 28/50\n",
            "118/118 [==============================] - 25s 211ms/step - loss: 0.1137 - accuracy: 0.9836 - val_loss: 1.2412 - val_accuracy: 0.8977\n",
            "Epoch 29/50\n",
            "118/118 [==============================] - 25s 211ms/step - loss: 0.1786 - accuracy: 0.9755 - val_loss: 1.2506 - val_accuracy: 0.9069\n",
            "Epoch 30/50\n",
            "118/118 [==============================] - 25s 211ms/step - loss: 0.1858 - accuracy: 0.9766 - val_loss: 1.3446 - val_accuracy: 0.8916\n",
            "Epoch 31/50\n",
            "118/118 [==============================] - 25s 211ms/step - loss: 0.2212 - accuracy: 0.9730 - val_loss: 1.2787 - val_accuracy: 0.9008\n",
            "Epoch 32/50\n",
            "118/118 [==============================] - 25s 211ms/step - loss: 0.0983 - accuracy: 0.9879 - val_loss: 1.7396 - val_accuracy: 0.8779\n",
            "Epoch 33/50\n",
            "118/118 [==============================] - 25s 211ms/step - loss: 0.1603 - accuracy: 0.9781 - val_loss: 1.4627 - val_accuracy: 0.8947\n",
            "Epoch 34/50\n",
            "118/118 [==============================] - 25s 212ms/step - loss: 0.0948 - accuracy: 0.9874 - val_loss: 1.6787 - val_accuracy: 0.9053\n",
            "Epoch 35/50\n",
            "118/118 [==============================] - 25s 211ms/step - loss: 0.1154 - accuracy: 0.9840 - val_loss: 1.3780 - val_accuracy: 0.9038\n",
            "Epoch 36/50\n",
            "118/118 [==============================] - 25s 211ms/step - loss: 0.3449 - accuracy: 0.9729 - val_loss: 2.3835 - val_accuracy: 0.8794\n",
            "Epoch 37/50\n",
            "118/118 [==============================] - 25s 212ms/step - loss: 0.4163 - accuracy: 0.9641 - val_loss: 3.2089 - val_accuracy: 0.8580\n",
            "Epoch 38/50\n",
            "118/118 [==============================] - 25s 211ms/step - loss: 0.4113 - accuracy: 0.9656 - val_loss: 2.9658 - val_accuracy: 0.8977\n",
            "Epoch 39/50\n",
            "118/118 [==============================] - 25s 212ms/step - loss: 0.1912 - accuracy: 0.9844 - val_loss: 2.0147 - val_accuracy: 0.9023\n",
            "Epoch 40/50\n",
            "118/118 [==============================] - 25s 211ms/step - loss: 0.2586 - accuracy: 0.9774 - val_loss: 2.5683 - val_accuracy: 0.9008\n",
            "Epoch 41/50\n",
            "118/118 [==============================] - 25s 211ms/step - loss: 0.1698 - accuracy: 0.9796 - val_loss: 2.0339 - val_accuracy: 0.9053\n",
            "Epoch 42/50\n",
            "118/118 [==============================] - 25s 211ms/step - loss: 0.2125 - accuracy: 0.9789 - val_loss: 2.2574 - val_accuracy: 0.9084\n",
            "Epoch 43/50\n",
            "118/118 [==============================] - 25s 211ms/step - loss: 0.1159 - accuracy: 0.9881 - val_loss: 1.7657 - val_accuracy: 0.9115\n",
            "Epoch 44/50\n",
            "118/118 [==============================] - 25s 211ms/step - loss: 0.1153 - accuracy: 0.9892 - val_loss: 1.9996 - val_accuracy: 0.8992\n",
            "Epoch 45/50\n",
            "118/118 [==============================] - 25s 212ms/step - loss: 0.2166 - accuracy: 0.9835 - val_loss: 1.8501 - val_accuracy: 0.9038\n",
            "Epoch 46/50\n",
            "118/118 [==============================] - 25s 211ms/step - loss: 0.2694 - accuracy: 0.9735 - val_loss: 2.3593 - val_accuracy: 0.8992\n",
            "Epoch 47/50\n",
            "118/118 [==============================] - 25s 212ms/step - loss: 0.2448 - accuracy: 0.9824 - val_loss: 3.6941 - val_accuracy: 0.8718\n",
            "Epoch 48/50\n",
            "118/118 [==============================] - 25s 211ms/step - loss: 0.5165 - accuracy: 0.9683 - val_loss: 3.4963 - val_accuracy: 0.8779\n",
            "Epoch 49/50\n",
            "118/118 [==============================] - 25s 211ms/step - loss: 0.2861 - accuracy: 0.9772 - val_loss: 3.4047 - val_accuracy: 0.8840\n",
            "Epoch 50/50\n",
            "118/118 [==============================] - 25s 212ms/step - loss: 0.1959 - accuracy: 0.9827 - val_loss: 2.6223 - val_accuracy: 0.8855\n"
          ],
          "name": "stdout"
        }
      ]
    },
    {
      "cell_type": "markdown",
      "metadata": {
        "id": "Lw_dOA5SFlMr"
      },
      "source": [
        "#Training With Data Augmentation"
      ]
    },
    {
      "cell_type": "code",
      "metadata": {
        "id": "s0AJrnLwFDS8"
      },
      "source": [
        "from keras.preprocessing.image import ImageDataGenerator\n",
        "datagen = ImageDataGenerator(\n",
        "    rotation_range=10,\n",
        "    zoom_range=[0.5,1.0],\n",
        "    width_shift_range=0.15,  \n",
        "    height_shift_range=0.15,  \n",
        "    horizontal_flip=True\n",
        ") "
      ],
      "execution_count": null,
      "outputs": []
    },
    {
      "cell_type": "code",
      "metadata": {
        "id": "Pbd-aFbLId7q"
      },
      "source": [
        "X_train_gs_da = X_train_gs.copy()\n",
        "X_train_rgb_da = X_train_rgb.copy()\n",
        "datagen.fit(X_train_gs_da)\n",
        "datagen.fit(X_train_rgb_da)"
      ],
      "execution_count": null,
      "outputs": []
    },
    {
      "cell_type": "markdown",
      "metadata": {
        "id": "V_s0kf-2y5O3"
      },
      "source": [
        "##Training Custom Model"
      ]
    },
    {
      "cell_type": "markdown",
      "metadata": {
        "id": "8HxpVMLnLbwy"
      },
      "source": [
        "###Custom Model RGB"
      ]
    },
    {
      "cell_type": "code",
      "metadata": {
        "id": "sGd9zKPXN5O5"
      },
      "source": [
        "modelCNN_rgb_da = create_custom_models(X_train_rgb.shape[1:])"
      ],
      "execution_count": null,
      "outputs": []
    },
    {
      "cell_type": "code",
      "metadata": {
        "colab": {
          "base_uri": "https://localhost:8080/"
        },
        "id": "d-1jd4Z9JC9y",
        "outputId": "9af7bdbc-4ae1-436c-9002-762ec97c5615"
      },
      "source": [
        "history_modelCNN_rgb_da = modelCNN_rgb_da.fit(datagen.flow(X_train_rgb_da, y_train_rgb, batch_size=batch_size), epochs=50, validation_data=(X_val_rgb, y_val_rgb))"
      ],
      "execution_count": null,
      "outputs": [
        {
          "output_type": "stream",
          "text": [
            "Epoch 1/50\n",
            "118/118 [==============================] - 11s 85ms/step - loss: 1.3769 - accuracy: 0.3224 - val_loss: 1.3251 - val_accuracy: 0.3588\n",
            "Epoch 2/50\n",
            "118/118 [==============================] - 10s 82ms/step - loss: 1.2856 - accuracy: 0.3596 - val_loss: 1.3226 - val_accuracy: 0.2992\n",
            "Epoch 3/50\n",
            "118/118 [==============================] - 10s 82ms/step - loss: 1.2472 - accuracy: 0.4116 - val_loss: 1.2398 - val_accuracy: 0.4855\n",
            "Epoch 4/50\n",
            "118/118 [==============================] - 10s 82ms/step - loss: 1.1825 - accuracy: 0.4673 - val_loss: 1.2704 - val_accuracy: 0.3832\n",
            "Epoch 5/50\n",
            "118/118 [==============================] - 10s 82ms/step - loss: 1.1944 - accuracy: 0.4753 - val_loss: 1.2693 - val_accuracy: 0.3893\n",
            "Epoch 6/50\n",
            "118/118 [==============================] - 11s 94ms/step - loss: 1.1673 - accuracy: 0.4776 - val_loss: 1.1315 - val_accuracy: 0.4321\n",
            "Epoch 7/50\n",
            "118/118 [==============================] - 10s 83ms/step - loss: 1.1299 - accuracy: 0.4884 - val_loss: 1.0913 - val_accuracy: 0.4779\n",
            "Epoch 8/50\n",
            "118/118 [==============================] - 10s 82ms/step - loss: 1.0659 - accuracy: 0.5307 - val_loss: 1.0726 - val_accuracy: 0.5053\n",
            "Epoch 9/50\n",
            "118/118 [==============================] - 10s 82ms/step - loss: 1.0563 - accuracy: 0.5380 - val_loss: 1.1261 - val_accuracy: 0.4641\n",
            "Epoch 10/50\n",
            "118/118 [==============================] - 10s 81ms/step - loss: 1.0535 - accuracy: 0.5309 - val_loss: 0.9331 - val_accuracy: 0.6153\n",
            "Epoch 11/50\n",
            "118/118 [==============================] - 10s 81ms/step - loss: 1.0196 - accuracy: 0.5405 - val_loss: 0.8913 - val_accuracy: 0.6427\n",
            "Epoch 12/50\n",
            "118/118 [==============================] - 10s 81ms/step - loss: 1.0132 - accuracy: 0.5592 - val_loss: 0.9513 - val_accuracy: 0.5802\n",
            "Epoch 13/50\n",
            "118/118 [==============================] - 10s 82ms/step - loss: 0.9613 - accuracy: 0.5840 - val_loss: 0.9864 - val_accuracy: 0.5985\n",
            "Epoch 14/50\n",
            "118/118 [==============================] - 10s 82ms/step - loss: 0.9320 - accuracy: 0.5840 - val_loss: 1.0239 - val_accuracy: 0.5985\n",
            "Epoch 15/50\n",
            "118/118 [==============================] - 10s 82ms/step - loss: 0.9539 - accuracy: 0.5859 - val_loss: 0.7501 - val_accuracy: 0.7176\n",
            "Epoch 16/50\n",
            "118/118 [==============================] - 10s 82ms/step - loss: 0.8858 - accuracy: 0.6131 - val_loss: 0.7524 - val_accuracy: 0.7115\n",
            "Epoch 17/50\n",
            "118/118 [==============================] - 10s 81ms/step - loss: 0.9002 - accuracy: 0.6162 - val_loss: 0.8017 - val_accuracy: 0.6916\n",
            "Epoch 18/50\n",
            "118/118 [==============================] - 10s 81ms/step - loss: 0.8991 - accuracy: 0.6194 - val_loss: 0.9175 - val_accuracy: 0.6534\n",
            "Epoch 19/50\n",
            "118/118 [==============================] - 10s 81ms/step - loss: 0.8924 - accuracy: 0.6159 - val_loss: 0.7436 - val_accuracy: 0.7160\n",
            "Epoch 20/50\n",
            "118/118 [==============================] - 10s 82ms/step - loss: 0.8597 - accuracy: 0.6284 - val_loss: 1.0808 - val_accuracy: 0.5893\n",
            "Epoch 21/50\n",
            "118/118 [==============================] - 10s 81ms/step - loss: 0.8067 - accuracy: 0.6570 - val_loss: 0.7478 - val_accuracy: 0.6947\n",
            "Epoch 22/50\n",
            "118/118 [==============================] - 10s 82ms/step - loss: 0.7854 - accuracy: 0.6720 - val_loss: 0.7250 - val_accuracy: 0.6962\n",
            "Epoch 23/50\n",
            "118/118 [==============================] - 10s 82ms/step - loss: 0.8445 - accuracy: 0.6480 - val_loss: 0.8984 - val_accuracy: 0.6351\n",
            "Epoch 24/50\n",
            "118/118 [==============================] - 10s 81ms/step - loss: 0.8139 - accuracy: 0.6421 - val_loss: 0.6764 - val_accuracy: 0.7298\n",
            "Epoch 25/50\n",
            "118/118 [==============================] - 10s 81ms/step - loss: 0.7942 - accuracy: 0.6721 - val_loss: 0.6319 - val_accuracy: 0.7756\n",
            "Epoch 26/50\n",
            "118/118 [==============================] - 10s 81ms/step - loss: 0.7718 - accuracy: 0.6769 - val_loss: 0.7335 - val_accuracy: 0.7435\n",
            "Epoch 27/50\n",
            "118/118 [==============================] - 10s 81ms/step - loss: 0.7481 - accuracy: 0.6829 - val_loss: 0.6677 - val_accuracy: 0.7527\n",
            "Epoch 28/50\n",
            "118/118 [==============================] - 10s 81ms/step - loss: 0.7866 - accuracy: 0.6743 - val_loss: 0.5833 - val_accuracy: 0.7649\n",
            "Epoch 29/50\n",
            "118/118 [==============================] - 10s 81ms/step - loss: 0.7175 - accuracy: 0.7111 - val_loss: 0.6220 - val_accuracy: 0.7618\n",
            "Epoch 30/50\n",
            "118/118 [==============================] - 10s 82ms/step - loss: 0.7406 - accuracy: 0.6894 - val_loss: 0.6355 - val_accuracy: 0.7527\n",
            "Epoch 31/50\n",
            "118/118 [==============================] - 10s 82ms/step - loss: 0.7116 - accuracy: 0.7090 - val_loss: 0.6016 - val_accuracy: 0.7740\n",
            "Epoch 32/50\n",
            "118/118 [==============================] - 10s 81ms/step - loss: 0.6851 - accuracy: 0.7134 - val_loss: 0.5632 - val_accuracy: 0.7939\n",
            "Epoch 33/50\n",
            "118/118 [==============================] - 10s 81ms/step - loss: 0.7163 - accuracy: 0.7060 - val_loss: 0.5814 - val_accuracy: 0.7832\n",
            "Epoch 34/50\n",
            "118/118 [==============================] - 10s 82ms/step - loss: 0.6753 - accuracy: 0.7237 - val_loss: 0.6767 - val_accuracy: 0.7496\n",
            "Epoch 35/50\n",
            "118/118 [==============================] - 10s 81ms/step - loss: 0.6122 - accuracy: 0.7488 - val_loss: 0.5568 - val_accuracy: 0.7802\n",
            "Epoch 36/50\n",
            "118/118 [==============================] - 10s 82ms/step - loss: 0.6777 - accuracy: 0.7312 - val_loss: 0.5483 - val_accuracy: 0.8015\n",
            "Epoch 37/50\n",
            "118/118 [==============================] - 10s 82ms/step - loss: 0.6024 - accuracy: 0.7589 - val_loss: 0.5578 - val_accuracy: 0.7679\n",
            "Epoch 38/50\n",
            "118/118 [==============================] - 10s 82ms/step - loss: 0.6664 - accuracy: 0.7259 - val_loss: 0.5424 - val_accuracy: 0.8000\n",
            "Epoch 39/50\n",
            "118/118 [==============================] - 10s 83ms/step - loss: 0.6007 - accuracy: 0.7540 - val_loss: 0.5136 - val_accuracy: 0.8183\n",
            "Epoch 40/50\n",
            "118/118 [==============================] - 10s 82ms/step - loss: 0.5789 - accuracy: 0.7608 - val_loss: 0.6018 - val_accuracy: 0.7420\n",
            "Epoch 41/50\n",
            "118/118 [==============================] - 10s 81ms/step - loss: 0.6197 - accuracy: 0.7524 - val_loss: 0.5962 - val_accuracy: 0.7588\n",
            "Epoch 42/50\n",
            "118/118 [==============================] - 10s 81ms/step - loss: 0.5826 - accuracy: 0.7553 - val_loss: 0.5692 - val_accuracy: 0.7588\n",
            "Epoch 43/50\n",
            "118/118 [==============================] - 10s 82ms/step - loss: 0.5731 - accuracy: 0.7833 - val_loss: 0.5115 - val_accuracy: 0.8061\n",
            "Epoch 44/50\n",
            "118/118 [==============================] - 10s 82ms/step - loss: 0.5516 - accuracy: 0.7968 - val_loss: 0.5997 - val_accuracy: 0.7679\n",
            "Epoch 45/50\n",
            "118/118 [==============================] - 10s 82ms/step - loss: 0.5501 - accuracy: 0.7850 - val_loss: 0.4815 - val_accuracy: 0.8275\n",
            "Epoch 46/50\n",
            "118/118 [==============================] - 10s 81ms/step - loss: 0.5574 - accuracy: 0.7809 - val_loss: 0.5406 - val_accuracy: 0.7908\n",
            "Epoch 47/50\n",
            "118/118 [==============================] - 10s 82ms/step - loss: 0.5830 - accuracy: 0.7864 - val_loss: 0.5182 - val_accuracy: 0.8107\n",
            "Epoch 48/50\n",
            "118/118 [==============================] - 10s 81ms/step - loss: 0.5908 - accuracy: 0.7596 - val_loss: 0.4849 - val_accuracy: 0.8107\n",
            "Epoch 49/50\n",
            "118/118 [==============================] - 10s 81ms/step - loss: 0.5634 - accuracy: 0.7665 - val_loss: 0.4893 - val_accuracy: 0.8214\n",
            "Epoch 50/50\n",
            "118/118 [==============================] - 9s 80ms/step - loss: 0.5546 - accuracy: 0.8010 - val_loss: 0.4426 - val_accuracy: 0.8229\n"
          ],
          "name": "stdout"
        }
      ]
    },
    {
      "cell_type": "markdown",
      "metadata": {
        "id": "2T4DAoRGNFZx"
      },
      "source": [
        "###Custom Model GS"
      ]
    },
    {
      "cell_type": "code",
      "metadata": {
        "id": "xNW0FsnqOBby"
      },
      "source": [
        "modelCNN_gs_da = create_custom_models(X_train_gs.shape[1:])"
      ],
      "execution_count": null,
      "outputs": []
    },
    {
      "cell_type": "code",
      "metadata": {
        "colab": {
          "base_uri": "https://localhost:8080/"
        },
        "id": "1RyKQLW_OD59",
        "outputId": "6121cadd-1479-49fd-98c6-04b9eb31269c"
      },
      "source": [
        "history_modelCNN_gs_da = modelCNN_gs_da.fit(datagen.flow(X_train_gs_da, y_train_gs, batch_size=batch_size), epochs=50, validation_data=(X_val_gs, y_val_gs))"
      ],
      "execution_count": null,
      "outputs": [
        {
          "output_type": "stream",
          "text": [
            "Epoch 1/50\n",
            "118/118 [==============================] - 6s 42ms/step - loss: 1.3681 - accuracy: 0.2872 - val_loss: 1.3036 - val_accuracy: 0.3023\n",
            "Epoch 2/50\n",
            "118/118 [==============================] - 5s 39ms/step - loss: 1.2579 - accuracy: 0.3926 - val_loss: 1.2194 - val_accuracy: 0.3267\n",
            "Epoch 3/50\n",
            "118/118 [==============================] - 5s 39ms/step - loss: 1.2463 - accuracy: 0.3978 - val_loss: 1.2025 - val_accuracy: 0.3908\n",
            "Epoch 4/50\n",
            "118/118 [==============================] - 5s 39ms/step - loss: 1.2056 - accuracy: 0.4489 - val_loss: 1.2496 - val_accuracy: 0.3450\n",
            "Epoch 5/50\n",
            "118/118 [==============================] - 5s 39ms/step - loss: 1.1589 - accuracy: 0.4712 - val_loss: 1.2236 - val_accuracy: 0.3863\n",
            "Epoch 6/50\n",
            "118/118 [==============================] - 5s 39ms/step - loss: 1.1595 - accuracy: 0.4695 - val_loss: 1.0786 - val_accuracy: 0.5374\n",
            "Epoch 7/50\n",
            "118/118 [==============================] - 5s 39ms/step - loss: 1.1768 - accuracy: 0.4576 - val_loss: 1.1039 - val_accuracy: 0.5084\n",
            "Epoch 8/50\n",
            "118/118 [==============================] - 5s 39ms/step - loss: 1.1096 - accuracy: 0.5165 - val_loss: 1.1084 - val_accuracy: 0.4504\n",
            "Epoch 9/50\n",
            "118/118 [==============================] - 5s 39ms/step - loss: 1.1082 - accuracy: 0.4989 - val_loss: 0.9675 - val_accuracy: 0.6198\n",
            "Epoch 10/50\n",
            "118/118 [==============================] - 5s 39ms/step - loss: 1.0987 - accuracy: 0.5202 - val_loss: 0.9127 - val_accuracy: 0.6656\n",
            "Epoch 11/50\n",
            "118/118 [==============================] - 5s 39ms/step - loss: 1.0166 - accuracy: 0.5292 - val_loss: 0.9192 - val_accuracy: 0.6550\n",
            "Epoch 12/50\n",
            "118/118 [==============================] - 5s 39ms/step - loss: 1.0227 - accuracy: 0.5677 - val_loss: 0.8389 - val_accuracy: 0.6977\n",
            "Epoch 13/50\n",
            "118/118 [==============================] - 5s 39ms/step - loss: 0.9801 - accuracy: 0.5896 - val_loss: 1.0302 - val_accuracy: 0.5176\n",
            "Epoch 14/50\n",
            "118/118 [==============================] - 5s 39ms/step - loss: 0.9533 - accuracy: 0.5997 - val_loss: 0.9931 - val_accuracy: 0.5969\n",
            "Epoch 15/50\n",
            "118/118 [==============================] - 5s 39ms/step - loss: 0.9484 - accuracy: 0.6025 - val_loss: 0.7217 - val_accuracy: 0.7344\n",
            "Epoch 16/50\n",
            "118/118 [==============================] - 5s 39ms/step - loss: 0.9295 - accuracy: 0.6175 - val_loss: 0.8226 - val_accuracy: 0.6687\n",
            "Epoch 17/50\n",
            "118/118 [==============================] - 5s 39ms/step - loss: 0.9026 - accuracy: 0.6158 - val_loss: 1.3703 - val_accuracy: 0.4275\n",
            "Epoch 18/50\n",
            "118/118 [==============================] - 5s 39ms/step - loss: 0.8133 - accuracy: 0.6598 - val_loss: 0.9312 - val_accuracy: 0.6153\n",
            "Epoch 19/50\n",
            "118/118 [==============================] - 5s 39ms/step - loss: 0.8144 - accuracy: 0.6668 - val_loss: 0.7707 - val_accuracy: 0.6992\n",
            "Epoch 20/50\n",
            "118/118 [==============================] - 5s 39ms/step - loss: 0.8177 - accuracy: 0.6734 - val_loss: 0.6501 - val_accuracy: 0.7389\n",
            "Epoch 21/50\n",
            "118/118 [==============================] - 5s 39ms/step - loss: 0.7824 - accuracy: 0.6969 - val_loss: 0.6912 - val_accuracy: 0.7282\n",
            "Epoch 22/50\n",
            "118/118 [==============================] - 5s 39ms/step - loss: 0.7529 - accuracy: 0.6971 - val_loss: 1.0210 - val_accuracy: 0.5618\n",
            "Epoch 23/50\n",
            "118/118 [==============================] - 5s 39ms/step - loss: 0.7645 - accuracy: 0.6878 - val_loss: 0.6633 - val_accuracy: 0.7267\n",
            "Epoch 24/50\n",
            "118/118 [==============================] - 5s 39ms/step - loss: 0.7204 - accuracy: 0.6936 - val_loss: 0.5772 - val_accuracy: 0.7771\n",
            "Epoch 25/50\n",
            "118/118 [==============================] - 5s 39ms/step - loss: 0.7445 - accuracy: 0.6949 - val_loss: 0.5983 - val_accuracy: 0.7298\n",
            "Epoch 26/50\n",
            "118/118 [==============================] - 5s 39ms/step - loss: 0.7107 - accuracy: 0.7238 - val_loss: 0.5872 - val_accuracy: 0.7786\n",
            "Epoch 27/50\n",
            "118/118 [==============================] - 5s 39ms/step - loss: 0.6554 - accuracy: 0.7349 - val_loss: 0.7426 - val_accuracy: 0.6992\n",
            "Epoch 28/50\n",
            "118/118 [==============================] - 5s 39ms/step - loss: 0.6676 - accuracy: 0.7231 - val_loss: 0.8354 - val_accuracy: 0.6489\n",
            "Epoch 29/50\n",
            "118/118 [==============================] - 5s 39ms/step - loss: 0.7049 - accuracy: 0.7159 - val_loss: 0.6609 - val_accuracy: 0.7420\n",
            "Epoch 30/50\n",
            "118/118 [==============================] - 5s 39ms/step - loss: 0.7093 - accuracy: 0.7053 - val_loss: 0.8359 - val_accuracy: 0.6672\n",
            "Epoch 31/50\n",
            "118/118 [==============================] - 5s 39ms/step - loss: 0.6423 - accuracy: 0.7473 - val_loss: 0.6618 - val_accuracy: 0.7588\n",
            "Epoch 32/50\n",
            "118/118 [==============================] - 5s 39ms/step - loss: 0.6539 - accuracy: 0.7425 - val_loss: 0.5850 - val_accuracy: 0.7786\n",
            "Epoch 33/50\n",
            "118/118 [==============================] - 5s 39ms/step - loss: 0.6224 - accuracy: 0.7567 - val_loss: 0.5760 - val_accuracy: 0.7939\n",
            "Epoch 34/50\n",
            "118/118 [==============================] - 5s 39ms/step - loss: 0.5910 - accuracy: 0.7846 - val_loss: 0.7523 - val_accuracy: 0.7130\n",
            "Epoch 35/50\n",
            "118/118 [==============================] - 5s 39ms/step - loss: 0.5779 - accuracy: 0.7696 - val_loss: 0.5236 - val_accuracy: 0.8000\n",
            "Epoch 36/50\n",
            "118/118 [==============================] - 5s 39ms/step - loss: 0.6146 - accuracy: 0.7459 - val_loss: 0.6302 - val_accuracy: 0.7649\n",
            "Epoch 37/50\n",
            "118/118 [==============================] - 5s 39ms/step - loss: 0.6414 - accuracy: 0.7452 - val_loss: 0.9277 - val_accuracy: 0.6473\n",
            "Epoch 38/50\n",
            "118/118 [==============================] - 5s 39ms/step - loss: 0.5880 - accuracy: 0.7611 - val_loss: 0.5473 - val_accuracy: 0.7908\n",
            "Epoch 39/50\n",
            "118/118 [==============================] - 5s 39ms/step - loss: 0.6030 - accuracy: 0.7533 - val_loss: 0.7083 - val_accuracy: 0.7359\n",
            "Epoch 40/50\n",
            "118/118 [==============================] - 5s 39ms/step - loss: 0.5769 - accuracy: 0.7716 - val_loss: 0.5259 - val_accuracy: 0.7954\n",
            "Epoch 41/50\n",
            "118/118 [==============================] - 5s 39ms/step - loss: 0.5597 - accuracy: 0.7732 - val_loss: 0.5735 - val_accuracy: 0.7695\n",
            "Epoch 42/50\n",
            "118/118 [==============================] - 5s 39ms/step - loss: 0.5528 - accuracy: 0.7894 - val_loss: 0.5650 - val_accuracy: 0.7954\n",
            "Epoch 43/50\n",
            "118/118 [==============================] - 5s 39ms/step - loss: 0.5797 - accuracy: 0.7852 - val_loss: 0.5382 - val_accuracy: 0.7985\n",
            "Epoch 44/50\n",
            "118/118 [==============================] - 5s 39ms/step - loss: 0.5299 - accuracy: 0.7829 - val_loss: 0.6941 - val_accuracy: 0.7481\n",
            "Epoch 45/50\n",
            "118/118 [==============================] - 5s 39ms/step - loss: 0.6000 - accuracy: 0.7573 - val_loss: 0.7614 - val_accuracy: 0.7405\n",
            "Epoch 46/50\n",
            "118/118 [==============================] - 5s 39ms/step - loss: 0.5674 - accuracy: 0.7814 - val_loss: 0.7301 - val_accuracy: 0.7191\n",
            "Epoch 47/50\n",
            "118/118 [==============================] - 5s 39ms/step - loss: 0.5290 - accuracy: 0.7966 - val_loss: 0.8282 - val_accuracy: 0.6809\n",
            "Epoch 48/50\n",
            "118/118 [==============================] - 5s 40ms/step - loss: 0.5234 - accuracy: 0.7883 - val_loss: 0.5106 - val_accuracy: 0.7985\n",
            "Epoch 49/50\n",
            "118/118 [==============================] - 5s 39ms/step - loss: 0.5451 - accuracy: 0.7863 - val_loss: 0.5445 - val_accuracy: 0.7954\n",
            "Epoch 50/50\n",
            "118/118 [==============================] - 5s 39ms/step - loss: 0.5276 - accuracy: 0.7990 - val_loss: 0.5343 - val_accuracy: 0.8076\n"
          ],
          "name": "stdout"
        }
      ]
    },
    {
      "cell_type": "markdown",
      "metadata": {
        "id": "NqxVJ2l9dkZX"
      },
      "source": [
        "##Training VGG16"
      ]
    },
    {
      "cell_type": "markdown",
      "metadata": {
        "id": "h_0rA7uczH2X"
      },
      "source": [
        "###VGG16 RGB"
      ]
    },
    {
      "cell_type": "code",
      "metadata": {
        "id": "5LHhHVFu2mKu"
      },
      "source": [
        "modelVGG16_rgb_da = create_vgg_model(16,X_train_rgb.shape[1:])"
      ],
      "execution_count": null,
      "outputs": []
    },
    {
      "cell_type": "code",
      "metadata": {
        "colab": {
          "base_uri": "https://localhost:8080/"
        },
        "id": "ZEALX-cad31v",
        "outputId": "7a4c06b9-96b5-4304-e568-6dbbc311d7f8"
      },
      "source": [
        "history_modelVGG16_rgb_da = modelVGG16_rgb_da.fit(datagen.flow(X_train_rgb_da, y_train_rgb, batch_size=batch_size), epochs=50, validation_data=(X_val_rgb, y_val_rgb))"
      ],
      "execution_count": null,
      "outputs": [
        {
          "output_type": "stream",
          "text": [
            "Epoch 1/50\n",
            "118/118 [==============================] - 59s 191ms/step - loss: 1.3634 - accuracy: 0.3043 - val_loss: 1.3867 - val_accuracy: 0.2672\n",
            "Epoch 2/50\n",
            "118/118 [==============================] - 15s 123ms/step - loss: 1.3465 - accuracy: 0.3161 - val_loss: 1.3777 - val_accuracy: 0.2687\n",
            "Epoch 3/50\n",
            "118/118 [==============================] - 14s 122ms/step - loss: 1.3583 - accuracy: 0.2963 - val_loss: 1.3860 - val_accuracy: 0.2763\n",
            "Epoch 4/50\n",
            "118/118 [==============================] - 14s 122ms/step - loss: 1.3503 - accuracy: 0.2927 - val_loss: 1.3823 - val_accuracy: 0.2687\n",
            "Epoch 5/50\n",
            "118/118 [==============================] - 14s 123ms/step - loss: 1.3549 - accuracy: 0.2918 - val_loss: 1.3832 - val_accuracy: 0.2687\n",
            "Epoch 6/50\n",
            "118/118 [==============================] - 15s 123ms/step - loss: 1.3488 - accuracy: 0.2988 - val_loss: 1.3847 - val_accuracy: 0.2687\n",
            "Epoch 7/50\n",
            "118/118 [==============================] - 15s 123ms/step - loss: 1.3593 - accuracy: 0.2733 - val_loss: 1.3891 - val_accuracy: 0.2672\n",
            "Epoch 8/50\n",
            "118/118 [==============================] - 15s 123ms/step - loss: 1.3519 - accuracy: 0.2943 - val_loss: 1.3860 - val_accuracy: 0.2672\n",
            "Epoch 9/50\n",
            "118/118 [==============================] - 15s 123ms/step - loss: 1.3527 - accuracy: 0.2949 - val_loss: 1.3852 - val_accuracy: 0.2687\n",
            "Epoch 10/50\n",
            "118/118 [==============================] - 14s 122ms/step - loss: 1.3502 - accuracy: 0.2898 - val_loss: 1.3839 - val_accuracy: 0.2672\n",
            "Epoch 11/50\n",
            "118/118 [==============================] - 14s 122ms/step - loss: 1.3496 - accuracy: 0.2879 - val_loss: 1.3812 - val_accuracy: 0.2687\n",
            "Epoch 12/50\n",
            "118/118 [==============================] - 15s 123ms/step - loss: 1.3518 - accuracy: 0.2907 - val_loss: 1.3846 - val_accuracy: 0.2672\n",
            "Epoch 13/50\n",
            "118/118 [==============================] - 15s 124ms/step - loss: 1.3580 - accuracy: 0.2752 - val_loss: 1.3902 - val_accuracy: 0.2687\n",
            "Epoch 14/50\n",
            "118/118 [==============================] - 15s 124ms/step - loss: 1.3558 - accuracy: 0.3024 - val_loss: 1.3860 - val_accuracy: 0.2672\n",
            "Epoch 15/50\n",
            "118/118 [==============================] - 15s 123ms/step - loss: 1.3588 - accuracy: 0.2853 - val_loss: 1.3798 - val_accuracy: 0.2687\n",
            "Epoch 16/50\n",
            "118/118 [==============================] - 14s 122ms/step - loss: 1.3580 - accuracy: 0.2902 - val_loss: 1.3810 - val_accuracy: 0.2687\n",
            "Epoch 17/50\n",
            "118/118 [==============================] - 14s 122ms/step - loss: 1.3491 - accuracy: 0.2943 - val_loss: 1.3814 - val_accuracy: 0.2672\n",
            "Epoch 18/50\n",
            "118/118 [==============================] - 14s 122ms/step - loss: 1.3531 - accuracy: 0.3027 - val_loss: 1.3821 - val_accuracy: 0.2687\n",
            "Epoch 19/50\n",
            "118/118 [==============================] - 14s 122ms/step - loss: 1.3553 - accuracy: 0.2716 - val_loss: 1.3818 - val_accuracy: 0.2672\n",
            "Epoch 20/50\n",
            "118/118 [==============================] - 14s 122ms/step - loss: 1.3487 - accuracy: 0.3028 - val_loss: 1.3809 - val_accuracy: 0.2687\n",
            "Epoch 21/50\n",
            "118/118 [==============================] - 14s 122ms/step - loss: 1.3543 - accuracy: 0.2909 - val_loss: 1.3863 - val_accuracy: 0.2687\n",
            "Epoch 22/50\n",
            "118/118 [==============================] - 14s 122ms/step - loss: 1.3461 - accuracy: 0.2983 - val_loss: 1.3841 - val_accuracy: 0.2672\n",
            "Epoch 23/50\n",
            "118/118 [==============================] - 14s 122ms/step - loss: 1.3596 - accuracy: 0.2985 - val_loss: 1.3813 - val_accuracy: 0.2687\n",
            "Epoch 24/50\n",
            "118/118 [==============================] - 14s 122ms/step - loss: 1.3594 - accuracy: 0.2866 - val_loss: 1.3831 - val_accuracy: 0.2672\n",
            "Epoch 25/50\n",
            "118/118 [==============================] - 14s 120ms/step - loss: 1.3495 - accuracy: 0.2957 - val_loss: 1.3823 - val_accuracy: 0.2672\n",
            "Epoch 26/50\n",
            "118/118 [==============================] - 14s 120ms/step - loss: 1.3582 - accuracy: 0.2821 - val_loss: 1.3826 - val_accuracy: 0.2687\n",
            "Epoch 27/50\n",
            "118/118 [==============================] - 14s 120ms/step - loss: 1.3573 - accuracy: 0.3021 - val_loss: 1.3822 - val_accuracy: 0.2672\n",
            "Epoch 28/50\n",
            "118/118 [==============================] - 14s 120ms/step - loss: 1.3478 - accuracy: 0.2962 - val_loss: 1.3817 - val_accuracy: 0.2672\n",
            "Epoch 29/50\n",
            "118/118 [==============================] - 14s 119ms/step - loss: 1.3426 - accuracy: 0.2839 - val_loss: 1.3806 - val_accuracy: 0.2672\n",
            "Epoch 30/50\n",
            "118/118 [==============================] - 14s 119ms/step - loss: 1.3512 - accuracy: 0.2986 - val_loss: 1.3825 - val_accuracy: 0.2672\n",
            "Epoch 31/50\n",
            "118/118 [==============================] - 14s 120ms/step - loss: 1.3594 - accuracy: 0.2661 - val_loss: 1.3878 - val_accuracy: 0.2672\n",
            "Epoch 32/50\n",
            "118/118 [==============================] - 14s 120ms/step - loss: 1.3564 - accuracy: 0.2834 - val_loss: 1.3842 - val_accuracy: 0.2672\n",
            "Epoch 33/50\n",
            "118/118 [==============================] - 14s 120ms/step - loss: 1.3576 - accuracy: 0.3164 - val_loss: 1.3865 - val_accuracy: 0.2687\n",
            "Epoch 34/50\n",
            "118/118 [==============================] - 14s 120ms/step - loss: 1.3473 - accuracy: 0.2855 - val_loss: 1.3830 - val_accuracy: 0.2672\n",
            "Epoch 35/50\n",
            "118/118 [==============================] - 14s 120ms/step - loss: 1.3492 - accuracy: 0.2837 - val_loss: 1.3815 - val_accuracy: 0.2672\n",
            "Epoch 36/50\n",
            "118/118 [==============================] - 14s 120ms/step - loss: 1.3539 - accuracy: 0.3039 - val_loss: 1.3838 - val_accuracy: 0.2672\n",
            "Epoch 37/50\n",
            "118/118 [==============================] - 14s 120ms/step - loss: 1.3485 - accuracy: 0.2931 - val_loss: 1.3829 - val_accuracy: 0.2672\n",
            "Epoch 38/50\n",
            "118/118 [==============================] - 14s 120ms/step - loss: 1.3490 - accuracy: 0.2881 - val_loss: 1.3830 - val_accuracy: 0.2672\n",
            "Epoch 39/50\n",
            "118/118 [==============================] - 14s 120ms/step - loss: 1.3535 - accuracy: 0.2838 - val_loss: 1.3810 - val_accuracy: 0.2687\n",
            "Epoch 40/50\n",
            "118/118 [==============================] - 14s 120ms/step - loss: 1.3486 - accuracy: 0.3011 - val_loss: 1.3806 - val_accuracy: 0.2672\n",
            "Epoch 41/50\n",
            "118/118 [==============================] - 14s 120ms/step - loss: 1.3561 - accuracy: 0.2920 - val_loss: 1.3851 - val_accuracy: 0.2672\n",
            "Epoch 42/50\n",
            "118/118 [==============================] - 14s 120ms/step - loss: 1.3518 - accuracy: 0.2872 - val_loss: 1.3842 - val_accuracy: 0.2672\n",
            "Epoch 43/50\n",
            "118/118 [==============================] - 14s 120ms/step - loss: 1.3497 - accuracy: 0.3080 - val_loss: 1.3828 - val_accuracy: 0.2672\n",
            "Epoch 44/50\n",
            "118/118 [==============================] - 14s 120ms/step - loss: 1.3509 - accuracy: 0.2867 - val_loss: 1.3828 - val_accuracy: 0.2672\n",
            "Epoch 45/50\n",
            "118/118 [==============================] - 14s 120ms/step - loss: 1.3521 - accuracy: 0.2820 - val_loss: 1.3814 - val_accuracy: 0.2672\n",
            "Epoch 46/50\n",
            "118/118 [==============================] - 14s 120ms/step - loss: 1.3522 - accuracy: 0.2996 - val_loss: 1.3831 - val_accuracy: 0.2672\n",
            "Epoch 47/50\n",
            "118/118 [==============================] - 14s 120ms/step - loss: 1.3512 - accuracy: 0.2992 - val_loss: 1.3853 - val_accuracy: 0.2672\n",
            "Epoch 48/50\n",
            "118/118 [==============================] - 14s 120ms/step - loss: 1.3601 - accuracy: 0.2859 - val_loss: 1.3864 - val_accuracy: 0.2672\n",
            "Epoch 49/50\n",
            "118/118 [==============================] - 14s 120ms/step - loss: 1.3486 - accuracy: 0.2901 - val_loss: 1.3817 - val_accuracy: 0.2672\n",
            "Epoch 50/50\n",
            "118/118 [==============================] - 14s 120ms/step - loss: 1.3545 - accuracy: 0.2970 - val_loss: 1.3837 - val_accuracy: 0.2672\n"
          ],
          "name": "stdout"
        }
      ]
    },
    {
      "cell_type": "markdown",
      "metadata": {
        "id": "kyFHNmogzOmW"
      },
      "source": [
        "###VGG16 GS"
      ]
    },
    {
      "cell_type": "code",
      "metadata": {
        "id": "p6RgSAuF2oJG"
      },
      "source": [
        "modelVGG16_gs_da = create_vgg_model(16,X_train_gs.shape[1:])"
      ],
      "execution_count": null,
      "outputs": []
    },
    {
      "cell_type": "code",
      "metadata": {
        "colab": {
          "base_uri": "https://localhost:8080/"
        },
        "id": "gC4-oL_gd4yW",
        "outputId": "bcea6551-1dd7-4d94-d6dd-0d7d7a107cc6"
      },
      "source": [
        "history_modelVGG16_gs_da = modelVGG16_gs_da.fit(datagen.flow(X_train_gs_da, y_train_gs, batch_size=batch_size), epochs=50, validation_data=(X_val_gs, y_val_gs))"
      ],
      "execution_count": null,
      "outputs": [
        {
          "output_type": "stream",
          "text": [
            "Epoch 1/50\n",
            "118/118 [==============================] - 16s 128ms/step - loss: 1.3616 - accuracy: 0.2739 - val_loss: 1.3861 - val_accuracy: 0.2687\n",
            "Epoch 2/50\n",
            "118/118 [==============================] - 15s 123ms/step - loss: 1.3543 - accuracy: 0.2716 - val_loss: 1.3763 - val_accuracy: 0.2763\n",
            "Epoch 3/50\n",
            "118/118 [==============================] - 15s 123ms/step - loss: 1.3587 - accuracy: 0.2777 - val_loss: 1.3908 - val_accuracy: 0.2687\n",
            "Epoch 4/50\n",
            "118/118 [==============================] - 15s 123ms/step - loss: 1.3443 - accuracy: 0.2717 - val_loss: 1.3842 - val_accuracy: 0.2672\n",
            "Epoch 5/50\n",
            "118/118 [==============================] - 15s 123ms/step - loss: 1.3555 - accuracy: 0.2916 - val_loss: 1.3842 - val_accuracy: 0.2672\n",
            "Epoch 6/50\n",
            "118/118 [==============================] - 15s 123ms/step - loss: 1.3602 - accuracy: 0.2883 - val_loss: 1.3855 - val_accuracy: 0.2687\n",
            "Epoch 7/50\n",
            "118/118 [==============================] - 14s 123ms/step - loss: 1.3520 - accuracy: 0.2865 - val_loss: 1.3835 - val_accuracy: 0.2672\n",
            "Epoch 8/50\n",
            "118/118 [==============================] - 15s 123ms/step - loss: 1.3495 - accuracy: 0.2941 - val_loss: 1.3827 - val_accuracy: 0.2687\n",
            "Epoch 9/50\n",
            "118/118 [==============================] - 15s 123ms/step - loss: 1.3612 - accuracy: 0.2683 - val_loss: 1.3943 - val_accuracy: 0.2672\n",
            "Epoch 10/50\n",
            "118/118 [==============================] - 14s 123ms/step - loss: 1.3457 - accuracy: 0.2832 - val_loss: 1.3797 - val_accuracy: 0.2672\n",
            "Epoch 11/50\n",
            "118/118 [==============================] - 15s 123ms/step - loss: 1.3540 - accuracy: 0.2733 - val_loss: 1.3852 - val_accuracy: 0.2763\n",
            "Epoch 12/50\n",
            "118/118 [==============================] - 14s 123ms/step - loss: 1.3536 - accuracy: 0.2838 - val_loss: 1.3831 - val_accuracy: 0.2672\n",
            "Epoch 13/50\n",
            "118/118 [==============================] - 15s 123ms/step - loss: 1.3597 - accuracy: 0.2798 - val_loss: 1.3854 - val_accuracy: 0.2687\n",
            "Epoch 14/50\n",
            "118/118 [==============================] - 15s 123ms/step - loss: 1.3547 - accuracy: 0.2836 - val_loss: 1.3861 - val_accuracy: 0.2687\n",
            "Epoch 15/50\n",
            "118/118 [==============================] - 15s 123ms/step - loss: 1.3437 - accuracy: 0.2981 - val_loss: 1.3811 - val_accuracy: 0.2672\n",
            "Epoch 16/50\n",
            "118/118 [==============================] - 14s 123ms/step - loss: 1.3575 - accuracy: 0.2858 - val_loss: 1.3886 - val_accuracy: 0.2672\n",
            "Epoch 17/50\n",
            "118/118 [==============================] - 14s 123ms/step - loss: 1.3619 - accuracy: 0.2740 - val_loss: 1.3915 - val_accuracy: 0.2672\n",
            "Epoch 18/50\n",
            "118/118 [==============================] - 15s 123ms/step - loss: 1.3530 - accuracy: 0.3013 - val_loss: 1.3812 - val_accuracy: 0.2672\n",
            "Epoch 19/50\n",
            "118/118 [==============================] - 14s 123ms/step - loss: 1.3581 - accuracy: 0.2704 - val_loss: 1.3848 - val_accuracy: 0.2672\n",
            "Epoch 20/50\n",
            "118/118 [==============================] - 14s 122ms/step - loss: 1.3542 - accuracy: 0.2872 - val_loss: 1.3863 - val_accuracy: 0.2672\n",
            "Epoch 21/50\n",
            "118/118 [==============================] - 15s 123ms/step - loss: 1.3513 - accuracy: 0.3026 - val_loss: 1.3836 - val_accuracy: 0.2687\n",
            "Epoch 22/50\n",
            "118/118 [==============================] - 15s 123ms/step - loss: 1.3506 - accuracy: 0.3052 - val_loss: 1.3843 - val_accuracy: 0.2687\n",
            "Epoch 23/50\n",
            "118/118 [==============================] - 15s 123ms/step - loss: 1.3622 - accuracy: 0.2866 - val_loss: 1.3895 - val_accuracy: 0.2672\n",
            "Epoch 24/50\n",
            "118/118 [==============================] - 14s 123ms/step - loss: 1.3436 - accuracy: 0.3043 - val_loss: 1.3804 - val_accuracy: 0.2672\n",
            "Epoch 25/50\n",
            "118/118 [==============================] - 14s 123ms/step - loss: 1.3477 - accuracy: 0.3008 - val_loss: 1.3823 - val_accuracy: 0.2672\n",
            "Epoch 26/50\n",
            "118/118 [==============================] - 14s 123ms/step - loss: 1.3541 - accuracy: 0.2827 - val_loss: 1.3838 - val_accuracy: 0.2672\n",
            "Epoch 27/50\n",
            "118/118 [==============================] - 14s 123ms/step - loss: 1.3483 - accuracy: 0.2945 - val_loss: 1.3834 - val_accuracy: 0.2687\n",
            "Epoch 28/50\n",
            "118/118 [==============================] - 14s 123ms/step - loss: 1.3565 - accuracy: 0.2829 - val_loss: 1.3815 - val_accuracy: 0.2672\n",
            "Epoch 29/50\n",
            "118/118 [==============================] - 14s 123ms/step - loss: 1.3523 - accuracy: 0.2778 - val_loss: 1.3831 - val_accuracy: 0.2672\n",
            "Epoch 30/50\n",
            "118/118 [==============================] - 14s 123ms/step - loss: 1.3525 - accuracy: 0.2886 - val_loss: 1.3831 - val_accuracy: 0.2672\n",
            "Epoch 31/50\n",
            "118/118 [==============================] - 14s 123ms/step - loss: 1.3566 - accuracy: 0.2816 - val_loss: 1.3812 - val_accuracy: 0.2672\n",
            "Epoch 32/50\n",
            "118/118 [==============================] - 15s 123ms/step - loss: 1.3488 - accuracy: 0.2954 - val_loss: 1.3831 - val_accuracy: 0.2672\n",
            "Epoch 33/50\n",
            "118/118 [==============================] - 15s 123ms/step - loss: 1.3497 - accuracy: 0.3033 - val_loss: 1.3832 - val_accuracy: 0.2672\n",
            "Epoch 34/50\n",
            "118/118 [==============================] - 14s 123ms/step - loss: 1.3557 - accuracy: 0.2720 - val_loss: 1.3848 - val_accuracy: 0.2672\n",
            "Epoch 35/50\n",
            "118/118 [==============================] - 14s 123ms/step - loss: 1.3534 - accuracy: 0.2920 - val_loss: 1.3853 - val_accuracy: 0.2672\n",
            "Epoch 36/50\n",
            "118/118 [==============================] - 15s 123ms/step - loss: 1.3602 - accuracy: 0.3004 - val_loss: 1.3848 - val_accuracy: 0.2687\n",
            "Epoch 37/50\n",
            "118/118 [==============================] - 15s 123ms/step - loss: 1.3519 - accuracy: 0.2884 - val_loss: 1.3843 - val_accuracy: 0.2687\n",
            "Epoch 38/50\n",
            "118/118 [==============================] - 14s 123ms/step - loss: 1.3528 - accuracy: 0.2897 - val_loss: 1.3835 - val_accuracy: 0.2672\n",
            "Epoch 39/50\n",
            "118/118 [==============================] - 15s 123ms/step - loss: 1.3507 - accuracy: 0.2796 - val_loss: 1.3814 - val_accuracy: 0.2672\n",
            "Epoch 40/50\n",
            "118/118 [==============================] - 15s 123ms/step - loss: 1.3515 - accuracy: 0.2869 - val_loss: 1.3841 - val_accuracy: 0.2672\n",
            "Epoch 41/50\n",
            "118/118 [==============================] - 14s 123ms/step - loss: 1.3542 - accuracy: 0.2838 - val_loss: 1.3828 - val_accuracy: 0.2672\n",
            "Epoch 42/50\n",
            "118/118 [==============================] - 14s 123ms/step - loss: 1.3576 - accuracy: 0.2704 - val_loss: 1.3816 - val_accuracy: 0.2672\n",
            "Epoch 43/50\n",
            "118/118 [==============================] - 14s 123ms/step - loss: 1.3472 - accuracy: 0.3000 - val_loss: 1.3831 - val_accuracy: 0.2672\n",
            "Epoch 44/50\n",
            "118/118 [==============================] - 14s 123ms/step - loss: 1.3581 - accuracy: 0.2834 - val_loss: 1.3865 - val_accuracy: 0.2672\n",
            "Epoch 45/50\n",
            "118/118 [==============================] - 14s 123ms/step - loss: 1.3535 - accuracy: 0.2850 - val_loss: 1.3847 - val_accuracy: 0.2672\n",
            "Epoch 46/50\n",
            "118/118 [==============================] - 15s 123ms/step - loss: 1.3479 - accuracy: 0.2985 - val_loss: 1.3804 - val_accuracy: 0.2672\n",
            "Epoch 47/50\n",
            "118/118 [==============================] - 15s 123ms/step - loss: 1.3532 - accuracy: 0.2962 - val_loss: 1.3859 - val_accuracy: 0.2687\n",
            "Epoch 48/50\n",
            "118/118 [==============================] - 15s 123ms/step - loss: 1.3549 - accuracy: 0.2958 - val_loss: 1.3835 - val_accuracy: 0.2672\n",
            "Epoch 49/50\n",
            "118/118 [==============================] - 15s 123ms/step - loss: 1.3535 - accuracy: 0.3088 - val_loss: 1.3851 - val_accuracy: 0.2672\n",
            "Epoch 50/50\n",
            "118/118 [==============================] - 14s 123ms/step - loss: 1.3524 - accuracy: 0.2745 - val_loss: 1.3856 - val_accuracy: 0.2672\n"
          ],
          "name": "stdout"
        }
      ]
    },
    {
      "cell_type": "markdown",
      "metadata": {
        "id": "h0Z2DKKJzUaF"
      },
      "source": [
        "###VGG16 RGB With TFL"
      ]
    },
    {
      "cell_type": "code",
      "metadata": {
        "id": "OdZAtUPz2rvV",
        "colab": {
          "base_uri": "https://localhost:8080/"
        },
        "outputId": "d053e77b-0dc0-4aaa-9a6c-913834d6c0e4"
      },
      "source": [
        "modelVGG16_tfl_da = create_vgg_model(16,X_train_rgb.shape[1:],True)"
      ],
      "execution_count": null,
      "outputs": [
        {
          "output_type": "stream",
          "text": [
            "Downloading data from https://storage.googleapis.com/tensorflow/keras-applications/vgg16/vgg16_weights_tf_dim_ordering_tf_kernels_notop.h5\n",
            "58892288/58889256 [==============================] - 1s 0us/step\n"
          ],
          "name": "stdout"
        }
      ]
    },
    {
      "cell_type": "code",
      "metadata": {
        "colab": {
          "base_uri": "https://localhost:8080/"
        },
        "id": "pCANWTBPeEov",
        "outputId": "f4649fa0-6ffe-4043-f80b-735c800856e6"
      },
      "source": [
        "history_modelVGG16_tfl_da = modelVGG16_tfl_da.fit(datagen.flow(X_train_rgb_da, y_train_rgb, batch_size=batch_size), epochs=50, validation_data=(X_val_rgb, y_val_rgb))"
      ],
      "execution_count": null,
      "outputs": [
        {
          "output_type": "stream",
          "text": [
            "Epoch 1/50\n",
            "118/118 [==============================] - 11s 86ms/step - loss: 2.6388 - accuracy: 0.4566 - val_loss: 1.0025 - val_accuracy: 0.5298\n",
            "Epoch 2/50\n",
            "118/118 [==============================] - 10s 85ms/step - loss: 0.8795 - accuracy: 0.6336 - val_loss: 0.6881 - val_accuracy: 0.7313\n",
            "Epoch 3/50\n",
            "118/118 [==============================] - 10s 84ms/step - loss: 0.7329 - accuracy: 0.7124 - val_loss: 0.6676 - val_accuracy: 0.7344\n",
            "Epoch 4/50\n",
            "118/118 [==============================] - 10s 84ms/step - loss: 0.8096 - accuracy: 0.6668 - val_loss: 0.7659 - val_accuracy: 0.6611\n",
            "Epoch 5/50\n",
            "118/118 [==============================] - 10s 83ms/step - loss: 0.6770 - accuracy: 0.7230 - val_loss: 0.8316 - val_accuracy: 0.6458\n",
            "Epoch 6/50\n",
            "118/118 [==============================] - 10s 83ms/step - loss: 0.6856 - accuracy: 0.7267 - val_loss: 0.6937 - val_accuracy: 0.7130\n",
            "Epoch 7/50\n",
            "118/118 [==============================] - 10s 83ms/step - loss: 0.6998 - accuracy: 0.7199 - val_loss: 0.5573 - val_accuracy: 0.7847\n",
            "Epoch 8/50\n",
            "118/118 [==============================] - 10s 84ms/step - loss: 0.6437 - accuracy: 0.7530 - val_loss: 0.6290 - val_accuracy: 0.7618\n",
            "Epoch 9/50\n",
            "118/118 [==============================] - 10s 83ms/step - loss: 0.6446 - accuracy: 0.7568 - val_loss: 0.6070 - val_accuracy: 0.7481\n",
            "Epoch 10/50\n",
            "118/118 [==============================] - 10s 84ms/step - loss: 0.6694 - accuracy: 0.7316 - val_loss: 0.6802 - val_accuracy: 0.7252\n",
            "Epoch 11/50\n",
            "118/118 [==============================] - 10s 84ms/step - loss: 0.6193 - accuracy: 0.7541 - val_loss: 0.5790 - val_accuracy: 0.7710\n",
            "Epoch 12/50\n",
            "118/118 [==============================] - 10s 83ms/step - loss: 0.6064 - accuracy: 0.7584 - val_loss: 0.5027 - val_accuracy: 0.7954\n",
            "Epoch 13/50\n",
            "118/118 [==============================] - 10s 85ms/step - loss: 0.5565 - accuracy: 0.7851 - val_loss: 0.5665 - val_accuracy: 0.7847\n",
            "Epoch 14/50\n",
            "118/118 [==============================] - 10s 84ms/step - loss: 0.6306 - accuracy: 0.7404 - val_loss: 0.5370 - val_accuracy: 0.7985\n",
            "Epoch 15/50\n",
            "118/118 [==============================] - 10s 84ms/step - loss: 0.5772 - accuracy: 0.7738 - val_loss: 0.4943 - val_accuracy: 0.8244\n",
            "Epoch 16/50\n",
            "118/118 [==============================] - 10s 85ms/step - loss: 0.6003 - accuracy: 0.7558 - val_loss: 0.4724 - val_accuracy: 0.8076\n",
            "Epoch 17/50\n",
            "118/118 [==============================] - 10s 84ms/step - loss: 0.5791 - accuracy: 0.7685 - val_loss: 0.5202 - val_accuracy: 0.7954\n",
            "Epoch 18/50\n",
            "118/118 [==============================] - 10s 85ms/step - loss: 0.5830 - accuracy: 0.7665 - val_loss: 0.5225 - val_accuracy: 0.7954\n",
            "Epoch 19/50\n",
            "118/118 [==============================] - 10s 85ms/step - loss: 0.5540 - accuracy: 0.7833 - val_loss: 0.5275 - val_accuracy: 0.8061\n",
            "Epoch 20/50\n",
            "118/118 [==============================] - 10s 84ms/step - loss: 0.5659 - accuracy: 0.7769 - val_loss: 0.4820 - val_accuracy: 0.8214\n",
            "Epoch 21/50\n",
            "118/118 [==============================] - 10s 84ms/step - loss: 0.5485 - accuracy: 0.7819 - val_loss: 0.5187 - val_accuracy: 0.8137\n",
            "Epoch 22/50\n",
            "118/118 [==============================] - 10s 84ms/step - loss: 0.5339 - accuracy: 0.7970 - val_loss: 0.4998 - val_accuracy: 0.8015\n",
            "Epoch 23/50\n",
            "118/118 [==============================] - 10s 83ms/step - loss: 0.5460 - accuracy: 0.7859 - val_loss: 0.5355 - val_accuracy: 0.7954\n",
            "Epoch 24/50\n",
            "118/118 [==============================] - 10s 84ms/step - loss: 0.5646 - accuracy: 0.7833 - val_loss: 0.4758 - val_accuracy: 0.8076\n",
            "Epoch 25/50\n",
            "118/118 [==============================] - 10s 83ms/step - loss: 0.5583 - accuracy: 0.7665 - val_loss: 0.4781 - val_accuracy: 0.8214\n",
            "Epoch 26/50\n",
            "118/118 [==============================] - 10s 83ms/step - loss: 0.5069 - accuracy: 0.7927 - val_loss: 0.5566 - val_accuracy: 0.7802\n",
            "Epoch 27/50\n",
            "118/118 [==============================] - 10s 84ms/step - loss: 0.5622 - accuracy: 0.7705 - val_loss: 0.4386 - val_accuracy: 0.8351\n",
            "Epoch 28/50\n",
            "118/118 [==============================] - 10s 83ms/step - loss: 0.5236 - accuracy: 0.7998 - val_loss: 0.4882 - val_accuracy: 0.8229\n",
            "Epoch 29/50\n",
            "118/118 [==============================] - 10s 83ms/step - loss: 0.5203 - accuracy: 0.7958 - val_loss: 0.4622 - val_accuracy: 0.8305\n",
            "Epoch 30/50\n",
            "118/118 [==============================] - 10s 83ms/step - loss: 0.5322 - accuracy: 0.7771 - val_loss: 0.5451 - val_accuracy: 0.7863\n",
            "Epoch 31/50\n",
            "118/118 [==============================] - 10s 84ms/step - loss: 0.5024 - accuracy: 0.7985 - val_loss: 0.4748 - val_accuracy: 0.8046\n",
            "Epoch 32/50\n",
            "118/118 [==============================] - 10s 83ms/step - loss: 0.4797 - accuracy: 0.8078 - val_loss: 0.6345 - val_accuracy: 0.7435\n",
            "Epoch 33/50\n",
            "118/118 [==============================] - 10s 84ms/step - loss: 0.5035 - accuracy: 0.8019 - val_loss: 0.4639 - val_accuracy: 0.8260\n",
            "Epoch 34/50\n",
            "118/118 [==============================] - 10s 84ms/step - loss: 0.4771 - accuracy: 0.8104 - val_loss: 0.4456 - val_accuracy: 0.8214\n",
            "Epoch 35/50\n",
            "118/118 [==============================] - 10s 84ms/step - loss: 0.5061 - accuracy: 0.7968 - val_loss: 0.4686 - val_accuracy: 0.8168\n",
            "Epoch 36/50\n",
            "118/118 [==============================] - 10s 83ms/step - loss: 0.4742 - accuracy: 0.8081 - val_loss: 0.4585 - val_accuracy: 0.8244\n",
            "Epoch 37/50\n",
            "118/118 [==============================] - 10s 83ms/step - loss: 0.5061 - accuracy: 0.8015 - val_loss: 0.4335 - val_accuracy: 0.8351\n",
            "Epoch 38/50\n",
            "118/118 [==============================] - 10s 84ms/step - loss: 0.4862 - accuracy: 0.8085 - val_loss: 0.4727 - val_accuracy: 0.8290\n",
            "Epoch 39/50\n",
            "118/118 [==============================] - 10s 84ms/step - loss: 0.4929 - accuracy: 0.8141 - val_loss: 0.4449 - val_accuracy: 0.8412\n",
            "Epoch 40/50\n",
            "118/118 [==============================] - 10s 83ms/step - loss: 0.5045 - accuracy: 0.8081 - val_loss: 0.4335 - val_accuracy: 0.8397\n",
            "Epoch 41/50\n",
            "118/118 [==============================] - 10s 84ms/step - loss: 0.4654 - accuracy: 0.8178 - val_loss: 0.4747 - val_accuracy: 0.8260\n",
            "Epoch 42/50\n",
            "118/118 [==============================] - 10s 83ms/step - loss: 0.4658 - accuracy: 0.8270 - val_loss: 0.5144 - val_accuracy: 0.7954\n",
            "Epoch 43/50\n",
            "118/118 [==============================] - 10s 84ms/step - loss: 0.5201 - accuracy: 0.7829 - val_loss: 0.4136 - val_accuracy: 0.8382\n",
            "Epoch 44/50\n",
            "118/118 [==============================] - 10s 84ms/step - loss: 0.4279 - accuracy: 0.8291 - val_loss: 0.4376 - val_accuracy: 0.8397\n",
            "Epoch 45/50\n",
            "118/118 [==============================] - 10s 84ms/step - loss: 0.5074 - accuracy: 0.8095 - val_loss: 0.4474 - val_accuracy: 0.8427\n",
            "Epoch 46/50\n",
            "118/118 [==============================] - 10s 84ms/step - loss: 0.4486 - accuracy: 0.8213 - val_loss: 0.5164 - val_accuracy: 0.8015\n",
            "Epoch 47/50\n",
            "118/118 [==============================] - 10s 84ms/step - loss: 0.4461 - accuracy: 0.8272 - val_loss: 0.4120 - val_accuracy: 0.8550\n",
            "Epoch 48/50\n",
            "118/118 [==============================] - 10s 84ms/step - loss: 0.4476 - accuracy: 0.8275 - val_loss: 0.4654 - val_accuracy: 0.8305\n",
            "Epoch 49/50\n",
            "118/118 [==============================] - 10s 83ms/step - loss: 0.4593 - accuracy: 0.8182 - val_loss: 0.4289 - val_accuracy: 0.8473\n",
            "Epoch 50/50\n",
            "118/118 [==============================] - 10s 84ms/step - loss: 0.4894 - accuracy: 0.7999 - val_loss: 0.4266 - val_accuracy: 0.8458\n"
          ],
          "name": "stdout"
        }
      ]
    },
    {
      "cell_type": "markdown",
      "metadata": {
        "id": "oO50jzJcdufv"
      },
      "source": [
        "##Training VGG19"
      ]
    },
    {
      "cell_type": "markdown",
      "metadata": {
        "id": "Z0g774nqzfGu"
      },
      "source": [
        "###VGG19 RGB"
      ]
    },
    {
      "cell_type": "code",
      "metadata": {
        "id": "P6hdrh042uyF"
      },
      "source": [
        "modelVGG19_rgb_da = create_vgg_model(19,X_train_rgb.shape[1:])"
      ],
      "execution_count": null,
      "outputs": []
    },
    {
      "cell_type": "code",
      "metadata": {
        "colab": {
          "base_uri": "https://localhost:8080/"
        },
        "id": "P12DowhLe9lf",
        "outputId": "6dae51f2-035e-497a-eba2-7d32c495dd43"
      },
      "source": [
        "history_modelVGG19_rgb_da = modelVGG19_rgb_da.fit(datagen.flow(X_train_rgb_da, y_train_rgb, batch_size=batch_size), epochs=50, validation_data=(X_val_rgb, y_val_rgb))"
      ],
      "execution_count": null,
      "outputs": [
        {
          "output_type": "stream",
          "text": [
            "Epoch 1/50\n",
            "118/118 [==============================] - 18s 148ms/step - loss: 1.3605 - accuracy: 0.2921 - val_loss: 1.3827 - val_accuracy: 0.2672\n",
            "Epoch 2/50\n",
            "118/118 [==============================] - 17s 144ms/step - loss: 1.3497 - accuracy: 0.2920 - val_loss: 1.3824 - val_accuracy: 0.2672\n",
            "Epoch 3/50\n",
            "118/118 [==============================] - 17s 144ms/step - loss: 1.3552 - accuracy: 0.2924 - val_loss: 1.3864 - val_accuracy: 0.2687\n",
            "Epoch 4/50\n",
            "118/118 [==============================] - 17s 144ms/step - loss: 1.3422 - accuracy: 0.3021 - val_loss: 1.3806 - val_accuracy: 0.2687\n",
            "Epoch 5/50\n",
            "118/118 [==============================] - 17s 144ms/step - loss: 1.3587 - accuracy: 0.2979 - val_loss: 1.3970 - val_accuracy: 0.2672\n",
            "Epoch 6/50\n",
            "118/118 [==============================] - 17s 144ms/step - loss: 1.3529 - accuracy: 0.2785 - val_loss: 1.3917 - val_accuracy: 0.2672\n",
            "Epoch 7/50\n",
            "118/118 [==============================] - 17s 144ms/step - loss: 1.3644 - accuracy: 0.2854 - val_loss: 1.3958 - val_accuracy: 0.2672\n",
            "Epoch 8/50\n",
            "118/118 [==============================] - 17s 144ms/step - loss: 1.3576 - accuracy: 0.2941 - val_loss: 1.3839 - val_accuracy: 0.2763\n",
            "Epoch 9/50\n",
            "118/118 [==============================] - 17s 144ms/step - loss: 1.3594 - accuracy: 0.2777 - val_loss: 1.3799 - val_accuracy: 0.2672\n",
            "Epoch 10/50\n",
            "118/118 [==============================] - 17s 144ms/step - loss: 1.3527 - accuracy: 0.2997 - val_loss: 1.3837 - val_accuracy: 0.2672\n",
            "Epoch 11/50\n",
            "118/118 [==============================] - 17s 143ms/step - loss: 1.3589 - accuracy: 0.2869 - val_loss: 1.3891 - val_accuracy: 0.2687\n",
            "Epoch 12/50\n",
            "118/118 [==============================] - 17s 144ms/step - loss: 1.3503 - accuracy: 0.3023 - val_loss: 1.3790 - val_accuracy: 0.2687\n",
            "Epoch 13/50\n",
            "118/118 [==============================] - 17s 144ms/step - loss: 1.3547 - accuracy: 0.2802 - val_loss: 1.3854 - val_accuracy: 0.2672\n",
            "Epoch 14/50\n",
            "118/118 [==============================] - 17s 143ms/step - loss: 1.3565 - accuracy: 0.3064 - val_loss: 1.3824 - val_accuracy: 0.2672\n",
            "Epoch 15/50\n",
            "118/118 [==============================] - 17s 143ms/step - loss: 1.3490 - accuracy: 0.3006 - val_loss: 1.3860 - val_accuracy: 0.2672\n",
            "Epoch 16/50\n",
            "118/118 [==============================] - 17s 144ms/step - loss: 1.3520 - accuracy: 0.3026 - val_loss: 1.3825 - val_accuracy: 0.2763\n",
            "Epoch 17/50\n",
            "118/118 [==============================] - 17s 144ms/step - loss: 1.3465 - accuracy: 0.2947 - val_loss: 1.3807 - val_accuracy: 0.2687\n",
            "Epoch 18/50\n",
            "118/118 [==============================] - 17s 143ms/step - loss: 1.3508 - accuracy: 0.3050 - val_loss: 1.3826 - val_accuracy: 0.2672\n",
            "Epoch 19/50\n",
            "118/118 [==============================] - 17s 144ms/step - loss: 1.3573 - accuracy: 0.2798 - val_loss: 1.3829 - val_accuracy: 0.2672\n",
            "Epoch 20/50\n",
            "118/118 [==============================] - 17s 144ms/step - loss: 1.3534 - accuracy: 0.2956 - val_loss: 1.3827 - val_accuracy: 0.2672\n",
            "Epoch 21/50\n",
            "118/118 [==============================] - 17s 144ms/step - loss: 1.3484 - accuracy: 0.2932 - val_loss: 1.3803 - val_accuracy: 0.2687\n",
            "Epoch 22/50\n",
            "118/118 [==============================] - 17s 144ms/step - loss: 1.3527 - accuracy: 0.3050 - val_loss: 1.3840 - val_accuracy: 0.2672\n",
            "Epoch 23/50\n",
            "118/118 [==============================] - 17s 144ms/step - loss: 1.3513 - accuracy: 0.2790 - val_loss: 1.3834 - val_accuracy: 0.2672\n",
            "Epoch 24/50\n",
            "118/118 [==============================] - 17s 144ms/step - loss: 1.3503 - accuracy: 0.3142 - val_loss: 1.3805 - val_accuracy: 0.2687\n",
            "Epoch 25/50\n",
            "118/118 [==============================] - 17s 144ms/step - loss: 1.3521 - accuracy: 0.2965 - val_loss: 1.3832 - val_accuracy: 0.2672\n",
            "Epoch 26/50\n",
            "118/118 [==============================] - 17s 144ms/step - loss: 1.3526 - accuracy: 0.2853 - val_loss: 1.3839 - val_accuracy: 0.2672\n",
            "Epoch 27/50\n",
            "118/118 [==============================] - 17s 144ms/step - loss: 1.3481 - accuracy: 0.2852 - val_loss: 1.3825 - val_accuracy: 0.2672\n",
            "Epoch 28/50\n",
            "118/118 [==============================] - 17s 144ms/step - loss: 1.3558 - accuracy: 0.2918 - val_loss: 1.3842 - val_accuracy: 0.2672\n",
            "Epoch 29/50\n",
            "118/118 [==============================] - 17s 144ms/step - loss: 1.3505 - accuracy: 0.3088 - val_loss: 1.3841 - val_accuracy: 0.2672\n",
            "Epoch 30/50\n",
            "118/118 [==============================] - 17s 144ms/step - loss: 1.3493 - accuracy: 0.2886 - val_loss: 1.3837 - val_accuracy: 0.2687\n",
            "Epoch 31/50\n",
            "118/118 [==============================] - 17s 144ms/step - loss: 1.3439 - accuracy: 0.2770 - val_loss: 1.3793 - val_accuracy: 0.2687\n",
            "Epoch 32/50\n",
            "118/118 [==============================] - 17s 144ms/step - loss: 1.3566 - accuracy: 0.2876 - val_loss: 1.3859 - val_accuracy: 0.2687\n",
            "Epoch 33/50\n",
            "118/118 [==============================] - 17s 144ms/step - loss: 1.3569 - accuracy: 0.2919 - val_loss: 1.3876 - val_accuracy: 0.2672\n",
            "Epoch 34/50\n",
            "118/118 [==============================] - 17s 144ms/step - loss: 1.3535 - accuracy: 0.2908 - val_loss: 1.3818 - val_accuracy: 0.2672\n",
            "Epoch 35/50\n",
            "118/118 [==============================] - 17s 144ms/step - loss: 1.3610 - accuracy: 0.2722 - val_loss: 1.3860 - val_accuracy: 0.2672\n",
            "Epoch 36/50\n",
            "118/118 [==============================] - 17s 144ms/step - loss: 1.3525 - accuracy: 0.2992 - val_loss: 1.3843 - val_accuracy: 0.2672\n",
            "Epoch 37/50\n",
            "118/118 [==============================] - 17s 144ms/step - loss: 1.3605 - accuracy: 0.2958 - val_loss: 1.3846 - val_accuracy: 0.2672\n",
            "Epoch 38/50\n",
            "118/118 [==============================] - 17s 144ms/step - loss: 1.3597 - accuracy: 0.3022 - val_loss: 1.3829 - val_accuracy: 0.2672\n",
            "Epoch 39/50\n",
            "118/118 [==============================] - 17s 144ms/step - loss: 1.3547 - accuracy: 0.3066 - val_loss: 1.3844 - val_accuracy: 0.2672\n",
            "Epoch 40/50\n",
            "118/118 [==============================] - 17s 144ms/step - loss: 1.3478 - accuracy: 0.2859 - val_loss: 1.3818 - val_accuracy: 0.2672\n",
            "Epoch 41/50\n",
            "118/118 [==============================] - 17s 144ms/step - loss: 1.3600 - accuracy: 0.2809 - val_loss: 1.3875 - val_accuracy: 0.2672\n",
            "Epoch 42/50\n",
            "118/118 [==============================] - 17s 144ms/step - loss: 1.3503 - accuracy: 0.2945 - val_loss: 1.3835 - val_accuracy: 0.2687\n",
            "Epoch 43/50\n",
            "118/118 [==============================] - 17s 144ms/step - loss: 1.3559 - accuracy: 0.2797 - val_loss: 1.3854 - val_accuracy: 0.2672\n",
            "Epoch 44/50\n",
            "118/118 [==============================] - 17s 144ms/step - loss: 1.3519 - accuracy: 0.3150 - val_loss: 1.3827 - val_accuracy: 0.2672\n",
            "Epoch 45/50\n",
            "118/118 [==============================] - 17s 144ms/step - loss: 1.3434 - accuracy: 0.2999 - val_loss: 1.3808 - val_accuracy: 0.2672\n",
            "Epoch 46/50\n",
            "118/118 [==============================] - 17s 144ms/step - loss: 1.3552 - accuracy: 0.2782 - val_loss: 1.3847 - val_accuracy: 0.2672\n",
            "Epoch 47/50\n",
            "118/118 [==============================] - 17s 144ms/step - loss: 1.3497 - accuracy: 0.2996 - val_loss: 1.3822 - val_accuracy: 0.2672\n",
            "Epoch 48/50\n",
            "118/118 [==============================] - 17s 144ms/step - loss: 1.3470 - accuracy: 0.3054 - val_loss: 1.3800 - val_accuracy: 0.2672\n",
            "Epoch 49/50\n",
            "118/118 [==============================] - 17s 144ms/step - loss: 1.3529 - accuracy: 0.3143 - val_loss: 1.3855 - val_accuracy: 0.2672\n",
            "Epoch 50/50\n",
            "118/118 [==============================] - 17s 144ms/step - loss: 1.3566 - accuracy: 0.2982 - val_loss: 1.3833 - val_accuracy: 0.2672\n"
          ],
          "name": "stdout"
        }
      ]
    },
    {
      "cell_type": "markdown",
      "metadata": {
        "id": "97pKvQI5zlft"
      },
      "source": [
        "###VGG19 GS"
      ]
    },
    {
      "cell_type": "code",
      "metadata": {
        "id": "iKW1Vb5w2wke"
      },
      "source": [
        "modelVGG19_gs_da = create_vgg_model(19,X_train_gs.shape[1:])"
      ],
      "execution_count": null,
      "outputs": []
    },
    {
      "cell_type": "code",
      "metadata": {
        "colab": {
          "base_uri": "https://localhost:8080/"
        },
        "id": "4VkR6G9CfFLP",
        "outputId": "2a0f984c-f479-4202-ca82-c8185cfb54ce"
      },
      "source": [
        "history_modelVGG19_gs_da = modelVGG19_gs_da.fit(datagen.flow(X_train_gs_da, y_train_gs, batch_size=batch_size), epochs=50, validation_data=(X_val_gs, y_val_gs))"
      ],
      "execution_count": null,
      "outputs": [
        {
          "output_type": "stream",
          "text": [
            "Epoch 1/50\n",
            "118/118 [==============================] - 19s 149ms/step - loss: 1.3657 - accuracy: 0.3012 - val_loss: 1.3784 - val_accuracy: 0.2687\n",
            "Epoch 2/50\n",
            "118/118 [==============================] - 17s 145ms/step - loss: 1.3491 - accuracy: 0.2898 - val_loss: 1.3776 - val_accuracy: 0.2687\n",
            "Epoch 3/50\n",
            "118/118 [==============================] - 17s 146ms/step - loss: 1.3539 - accuracy: 0.2766 - val_loss: 1.3846 - val_accuracy: 0.2687\n",
            "Epoch 4/50\n",
            "118/118 [==============================] - 17s 146ms/step - loss: 1.3569 - accuracy: 0.3082 - val_loss: 1.3892 - val_accuracy: 0.2672\n",
            "Epoch 5/50\n",
            "118/118 [==============================] - 17s 146ms/step - loss: 1.3530 - accuracy: 0.2840 - val_loss: 1.3827 - val_accuracy: 0.2672\n",
            "Epoch 6/50\n",
            "118/118 [==============================] - 17s 146ms/step - loss: 1.3563 - accuracy: 0.2934 - val_loss: 1.3824 - val_accuracy: 0.2687\n",
            "Epoch 7/50\n",
            "118/118 [==============================] - 17s 145ms/step - loss: 1.3451 - accuracy: 0.2923 - val_loss: 1.3809 - val_accuracy: 0.2672\n",
            "Epoch 8/50\n",
            "118/118 [==============================] - 17s 145ms/step - loss: 1.3532 - accuracy: 0.2854 - val_loss: 1.3845 - val_accuracy: 0.2687\n",
            "Epoch 9/50\n",
            "118/118 [==============================] - 17s 145ms/step - loss: 1.3510 - accuracy: 0.2850 - val_loss: 1.3821 - val_accuracy: 0.2687\n",
            "Epoch 10/50\n",
            "118/118 [==============================] - 17s 145ms/step - loss: 1.3528 - accuracy: 0.2838 - val_loss: 1.3800 - val_accuracy: 0.2687\n",
            "Epoch 11/50\n",
            "118/118 [==============================] - 17s 145ms/step - loss: 1.3549 - accuracy: 0.3035 - val_loss: 1.3895 - val_accuracy: 0.2672\n",
            "Epoch 12/50\n",
            "118/118 [==============================] - 17s 145ms/step - loss: 1.3542 - accuracy: 0.2802 - val_loss: 1.3850 - val_accuracy: 0.2672\n",
            "Epoch 13/50\n",
            "118/118 [==============================] - 17s 145ms/step - loss: 1.3532 - accuracy: 0.2905 - val_loss: 1.3859 - val_accuracy: 0.2672\n",
            "Epoch 14/50\n",
            "118/118 [==============================] - 17s 145ms/step - loss: 1.3461 - accuracy: 0.2948 - val_loss: 1.3821 - val_accuracy: 0.2687\n",
            "Epoch 15/50\n",
            "118/118 [==============================] - 17s 145ms/step - loss: 1.3447 - accuracy: 0.2993 - val_loss: 1.3796 - val_accuracy: 0.2672\n",
            "Epoch 16/50\n",
            "118/118 [==============================] - 17s 145ms/step - loss: 1.3438 - accuracy: 0.3106 - val_loss: 1.3801 - val_accuracy: 0.2672\n",
            "Epoch 17/50\n",
            "118/118 [==============================] - 17s 145ms/step - loss: 1.3548 - accuracy: 0.2789 - val_loss: 1.3819 - val_accuracy: 0.2672\n",
            "Epoch 18/50\n",
            "118/118 [==============================] - 17s 145ms/step - loss: 1.3526 - accuracy: 0.3028 - val_loss: 1.3853 - val_accuracy: 0.2672\n",
            "Epoch 19/50\n",
            "118/118 [==============================] - 17s 145ms/step - loss: 1.3487 - accuracy: 0.2728 - val_loss: 1.3817 - val_accuracy: 0.2672\n",
            "Epoch 20/50\n",
            "118/118 [==============================] - 17s 145ms/step - loss: 1.3557 - accuracy: 0.3031 - val_loss: 1.3810 - val_accuracy: 0.2687\n",
            "Epoch 21/50\n",
            "118/118 [==============================] - 17s 145ms/step - loss: 1.3486 - accuracy: 0.3005 - val_loss: 1.3847 - val_accuracy: 0.2672\n",
            "Epoch 22/50\n",
            "118/118 [==============================] - 17s 145ms/step - loss: 1.3531 - accuracy: 0.2922 - val_loss: 1.3826 - val_accuracy: 0.2672\n",
            "Epoch 23/50\n",
            "118/118 [==============================] - 17s 145ms/step - loss: 1.3447 - accuracy: 0.2914 - val_loss: 1.3806 - val_accuracy: 0.2672\n",
            "Epoch 24/50\n",
            "118/118 [==============================] - 17s 145ms/step - loss: 1.3450 - accuracy: 0.3030 - val_loss: 1.3784 - val_accuracy: 0.2672\n",
            "Epoch 25/50\n",
            "118/118 [==============================] - 17s 145ms/step - loss: 1.3573 - accuracy: 0.2947 - val_loss: 1.3859 - val_accuracy: 0.2672\n",
            "Epoch 26/50\n",
            "118/118 [==============================] - 17s 146ms/step - loss: 1.3515 - accuracy: 0.2781 - val_loss: 1.3816 - val_accuracy: 0.2672\n",
            "Epoch 27/50\n",
            "118/118 [==============================] - 17s 145ms/step - loss: 1.3414 - accuracy: 0.2999 - val_loss: 1.3787 - val_accuracy: 0.2672\n",
            "Epoch 28/50\n",
            "118/118 [==============================] - 17s 145ms/step - loss: 1.3518 - accuracy: 0.2872 - val_loss: 1.3821 - val_accuracy: 0.2687\n",
            "Epoch 29/50\n",
            "118/118 [==============================] - 17s 145ms/step - loss: 1.3507 - accuracy: 0.2958 - val_loss: 1.3832 - val_accuracy: 0.2672\n",
            "Epoch 30/50\n",
            "118/118 [==============================] - 17s 145ms/step - loss: 1.3571 - accuracy: 0.2976 - val_loss: 1.3835 - val_accuracy: 0.2672\n",
            "Epoch 31/50\n",
            "118/118 [==============================] - 17s 145ms/step - loss: 1.3502 - accuracy: 0.2969 - val_loss: 1.3851 - val_accuracy: 0.2672\n",
            "Epoch 32/50\n",
            "118/118 [==============================] - 17s 145ms/step - loss: 1.3483 - accuracy: 0.2965 - val_loss: 1.3818 - val_accuracy: 0.2672\n",
            "Epoch 33/50\n",
            "118/118 [==============================] - 17s 145ms/step - loss: 1.3557 - accuracy: 0.2906 - val_loss: 1.3843 - val_accuracy: 0.2687\n",
            "Epoch 34/50\n",
            "118/118 [==============================] - 17s 145ms/step - loss: 1.3463 - accuracy: 0.2973 - val_loss: 1.3811 - val_accuracy: 0.2672\n",
            "Epoch 35/50\n",
            "118/118 [==============================] - 17s 145ms/step - loss: 1.3629 - accuracy: 0.2887 - val_loss: 1.3892 - val_accuracy: 0.2672\n",
            "Epoch 36/50\n",
            "118/118 [==============================] - 17s 145ms/step - loss: 1.3601 - accuracy: 0.2927 - val_loss: 1.3853 - val_accuracy: 0.2672\n",
            "Epoch 37/50\n",
            "118/118 [==============================] - 17s 145ms/step - loss: 1.3490 - accuracy: 0.2995 - val_loss: 1.3823 - val_accuracy: 0.2672\n",
            "Epoch 38/50\n",
            "118/118 [==============================] - 17s 145ms/step - loss: 1.3494 - accuracy: 0.2821 - val_loss: 1.3826 - val_accuracy: 0.2672\n",
            "Epoch 39/50\n",
            "118/118 [==============================] - 17s 145ms/step - loss: 1.3492 - accuracy: 0.2942 - val_loss: 1.3809 - val_accuracy: 0.2672\n",
            "Epoch 40/50\n",
            "118/118 [==============================] - 17s 145ms/step - loss: 1.3519 - accuracy: 0.2849 - val_loss: 1.3806 - val_accuracy: 0.2687\n",
            "Epoch 41/50\n",
            "118/118 [==============================] - 17s 146ms/step - loss: 1.3503 - accuracy: 0.2811 - val_loss: 1.3835 - val_accuracy: 0.2672\n",
            "Epoch 42/50\n",
            "118/118 [==============================] - 17s 146ms/step - loss: 1.3630 - accuracy: 0.2971 - val_loss: 1.3876 - val_accuracy: 0.2672\n",
            "Epoch 43/50\n",
            "118/118 [==============================] - 17s 145ms/step - loss: 1.3511 - accuracy: 0.2679 - val_loss: 1.3844 - val_accuracy: 0.2672\n",
            "Epoch 44/50\n",
            "118/118 [==============================] - 17s 146ms/step - loss: 1.3500 - accuracy: 0.2889 - val_loss: 1.3824 - val_accuracy: 0.2672\n",
            "Epoch 45/50\n",
            "118/118 [==============================] - 17s 146ms/step - loss: 1.3500 - accuracy: 0.2828 - val_loss: 1.3849 - val_accuracy: 0.2672\n",
            "Epoch 46/50\n",
            "118/118 [==============================] - 17s 146ms/step - loss: 1.3549 - accuracy: 0.2750 - val_loss: 1.3856 - val_accuracy: 0.2672\n",
            "Epoch 47/50\n",
            "118/118 [==============================] - 17s 146ms/step - loss: 1.3488 - accuracy: 0.3001 - val_loss: 1.3813 - val_accuracy: 0.2672\n",
            "Epoch 48/50\n",
            "118/118 [==============================] - 17s 146ms/step - loss: 1.3595 - accuracy: 0.3011 - val_loss: 1.3855 - val_accuracy: 0.2672\n",
            "Epoch 49/50\n",
            "118/118 [==============================] - 17s 146ms/step - loss: 1.3404 - accuracy: 0.2899 - val_loss: 1.3811 - val_accuracy: 0.2672\n",
            "Epoch 50/50\n",
            "118/118 [==============================] - 17s 146ms/step - loss: 1.3611 - accuracy: 0.2972 - val_loss: 1.3872 - val_accuracy: 0.2672\n"
          ],
          "name": "stdout"
        }
      ]
    },
    {
      "cell_type": "markdown",
      "metadata": {
        "id": "aJ3sctc-zq9A"
      },
      "source": [
        "###VGG19 RGB With TFL"
      ]
    },
    {
      "cell_type": "code",
      "metadata": {
        "id": "GCys-DBZ20Rt",
        "colab": {
          "base_uri": "https://localhost:8080/"
        },
        "outputId": "8766c305-ea22-4d60-aea0-806543d67261"
      },
      "source": [
        "modelVGG19_tfl_da = create_vgg_model(19,X_train_rgb.shape[1:], True)"
      ],
      "execution_count": null,
      "outputs": [
        {
          "output_type": "stream",
          "text": [
            "Downloading data from https://storage.googleapis.com/tensorflow/keras-applications/vgg19/vgg19_weights_tf_dim_ordering_tf_kernels_notop.h5\n",
            "80142336/80134624 [==============================] - 1s 0us/step\n"
          ],
          "name": "stdout"
        }
      ]
    },
    {
      "cell_type": "code",
      "metadata": {
        "colab": {
          "base_uri": "https://localhost:8080/"
        },
        "id": "MIkrvRd0fM4n",
        "outputId": "4e9a19bb-b22c-4dea-c209-f4b5e58b90ba"
      },
      "source": [
        "history_modelVGG19_tfl_da = modelVGG19_tfl_da.fit(datagen.flow(X_train_rgb_da, y_train_rgb, batch_size=batch_size), epochs=50, validation_data=(X_val_rgb, y_val_rgb))"
      ],
      "execution_count": null,
      "outputs": [
        {
          "output_type": "stream",
          "text": [
            "Epoch 1/50\n",
            "118/118 [==============================] - 22s 150ms/step - loss: 3.3220 - accuracy: 0.4238 - val_loss: 0.8634 - val_accuracy: 0.6458\n",
            "Epoch 2/50\n",
            "118/118 [==============================] - 11s 90ms/step - loss: 1.0200 - accuracy: 0.5525 - val_loss: 1.0194 - val_accuracy: 0.5206\n",
            "Epoch 3/50\n",
            "118/118 [==============================] - 10s 88ms/step - loss: 0.9093 - accuracy: 0.6178 - val_loss: 0.8390 - val_accuracy: 0.6290\n",
            "Epoch 4/50\n",
            "118/118 [==============================] - 10s 88ms/step - loss: 0.8696 - accuracy: 0.6353 - val_loss: 0.7293 - val_accuracy: 0.6977\n",
            "Epoch 5/50\n",
            "118/118 [==============================] - 10s 87ms/step - loss: 0.7977 - accuracy: 0.6629 - val_loss: 0.6850 - val_accuracy: 0.7344\n",
            "Epoch 6/50\n",
            "118/118 [==============================] - 10s 87ms/step - loss: 0.7995 - accuracy: 0.6531 - val_loss: 0.6578 - val_accuracy: 0.7420\n",
            "Epoch 7/50\n",
            "118/118 [==============================] - 10s 87ms/step - loss: 0.8311 - accuracy: 0.6466 - val_loss: 0.7255 - val_accuracy: 0.6947\n",
            "Epoch 8/50\n",
            "118/118 [==============================] - 10s 87ms/step - loss: 0.7502 - accuracy: 0.7000 - val_loss: 0.6165 - val_accuracy: 0.7435\n",
            "Epoch 9/50\n",
            "118/118 [==============================] - 10s 87ms/step - loss: 0.7513 - accuracy: 0.6880 - val_loss: 0.7217 - val_accuracy: 0.7099\n",
            "Epoch 10/50\n",
            "118/118 [==============================] - 10s 87ms/step - loss: 0.7501 - accuracy: 0.6807 - val_loss: 0.5799 - val_accuracy: 0.7878\n",
            "Epoch 11/50\n",
            "118/118 [==============================] - 10s 87ms/step - loss: 0.7287 - accuracy: 0.7196 - val_loss: 0.7632 - val_accuracy: 0.6702\n",
            "Epoch 12/50\n",
            "118/118 [==============================] - 10s 88ms/step - loss: 0.7564 - accuracy: 0.6765 - val_loss: 0.5995 - val_accuracy: 0.7817\n",
            "Epoch 13/50\n",
            "118/118 [==============================] - 10s 87ms/step - loss: 0.7212 - accuracy: 0.7158 - val_loss: 0.5891 - val_accuracy: 0.7710\n",
            "Epoch 14/50\n",
            "118/118 [==============================] - 10s 88ms/step - loss: 0.7320 - accuracy: 0.6998 - val_loss: 0.6242 - val_accuracy: 0.7542\n",
            "Epoch 15/50\n",
            "118/118 [==============================] - 10s 87ms/step - loss: 0.7331 - accuracy: 0.7063 - val_loss: 0.6160 - val_accuracy: 0.7435\n",
            "Epoch 16/50\n",
            "118/118 [==============================] - 10s 87ms/step - loss: 0.6749 - accuracy: 0.7261 - val_loss: 0.6382 - val_accuracy: 0.7389\n",
            "Epoch 17/50\n",
            "118/118 [==============================] - 10s 87ms/step - loss: 0.6995 - accuracy: 0.7126 - val_loss: 0.5680 - val_accuracy: 0.7786\n",
            "Epoch 18/50\n",
            "118/118 [==============================] - 10s 87ms/step - loss: 0.6768 - accuracy: 0.7236 - val_loss: 0.5485 - val_accuracy: 0.7878\n",
            "Epoch 19/50\n",
            "118/118 [==============================] - 10s 88ms/step - loss: 0.6793 - accuracy: 0.7186 - val_loss: 0.6073 - val_accuracy: 0.7573\n",
            "Epoch 20/50\n",
            "118/118 [==============================] - 10s 88ms/step - loss: 0.6912 - accuracy: 0.6998 - val_loss: 0.6241 - val_accuracy: 0.7267\n",
            "Epoch 21/50\n",
            "118/118 [==============================] - 10s 87ms/step - loss: 0.6958 - accuracy: 0.7095 - val_loss: 0.5738 - val_accuracy: 0.7817\n",
            "Epoch 22/50\n",
            "118/118 [==============================] - 10s 87ms/step - loss: 0.6965 - accuracy: 0.7177 - val_loss: 0.5637 - val_accuracy: 0.7802\n",
            "Epoch 23/50\n",
            "118/118 [==============================] - 10s 88ms/step - loss: 0.6715 - accuracy: 0.7303 - val_loss: 0.5833 - val_accuracy: 0.7817\n",
            "Epoch 24/50\n",
            "118/118 [==============================] - 10s 88ms/step - loss: 0.6668 - accuracy: 0.7282 - val_loss: 0.6573 - val_accuracy: 0.7527\n",
            "Epoch 25/50\n",
            "118/118 [==============================] - 10s 87ms/step - loss: 0.6334 - accuracy: 0.7432 - val_loss: 0.5542 - val_accuracy: 0.7908\n",
            "Epoch 26/50\n",
            "118/118 [==============================] - 10s 88ms/step - loss: 0.6519 - accuracy: 0.7330 - val_loss: 0.5522 - val_accuracy: 0.7878\n",
            "Epoch 27/50\n",
            "118/118 [==============================] - 10s 87ms/step - loss: 0.6282 - accuracy: 0.7450 - val_loss: 0.6180 - val_accuracy: 0.7557\n",
            "Epoch 28/50\n",
            "118/118 [==============================] - 10s 88ms/step - loss: 0.6216 - accuracy: 0.7521 - val_loss: 0.5971 - val_accuracy: 0.7603\n",
            "Epoch 29/50\n",
            "118/118 [==============================] - 10s 88ms/step - loss: 0.6409 - accuracy: 0.7371 - val_loss: 0.7118 - val_accuracy: 0.7023\n",
            "Epoch 30/50\n",
            "118/118 [==============================] - 10s 87ms/step - loss: 0.6273 - accuracy: 0.7592 - val_loss: 0.5413 - val_accuracy: 0.8015\n",
            "Epoch 31/50\n",
            "118/118 [==============================] - 10s 87ms/step - loss: 0.6275 - accuracy: 0.7395 - val_loss: 0.5696 - val_accuracy: 0.7939\n",
            "Epoch 32/50\n",
            "118/118 [==============================] - 10s 88ms/step - loss: 0.5946 - accuracy: 0.7572 - val_loss: 0.5218 - val_accuracy: 0.8061\n",
            "Epoch 33/50\n",
            "118/118 [==============================] - 10s 87ms/step - loss: 0.5754 - accuracy: 0.7648 - val_loss: 0.5037 - val_accuracy: 0.8046\n",
            "Epoch 34/50\n",
            "118/118 [==============================] - 10s 87ms/step - loss: 0.5960 - accuracy: 0.7564 - val_loss: 0.5503 - val_accuracy: 0.7725\n",
            "Epoch 35/50\n",
            "118/118 [==============================] - 10s 88ms/step - loss: 0.6207 - accuracy: 0.7454 - val_loss: 0.5731 - val_accuracy: 0.7450\n",
            "Epoch 36/50\n",
            "118/118 [==============================] - 10s 88ms/step - loss: 0.5852 - accuracy: 0.7579 - val_loss: 0.5312 - val_accuracy: 0.7924\n",
            "Epoch 37/50\n",
            "118/118 [==============================] - 10s 87ms/step - loss: 0.5794 - accuracy: 0.7546 - val_loss: 0.5523 - val_accuracy: 0.8031\n",
            "Epoch 38/50\n",
            "118/118 [==============================] - 10s 87ms/step - loss: 0.5934 - accuracy: 0.7614 - val_loss: 0.5256 - val_accuracy: 0.7893\n",
            "Epoch 39/50\n",
            "118/118 [==============================] - 10s 87ms/step - loss: 0.6141 - accuracy: 0.7594 - val_loss: 0.5595 - val_accuracy: 0.7771\n",
            "Epoch 40/50\n",
            "118/118 [==============================] - 10s 87ms/step - loss: 0.5944 - accuracy: 0.7489 - val_loss: 0.6384 - val_accuracy: 0.7313\n",
            "Epoch 41/50\n",
            "118/118 [==============================] - 10s 87ms/step - loss: 0.5897 - accuracy: 0.7653 - val_loss: 0.5267 - val_accuracy: 0.8015\n",
            "Epoch 42/50\n",
            "118/118 [==============================] - 10s 88ms/step - loss: 0.6333 - accuracy: 0.7286 - val_loss: 0.6591 - val_accuracy: 0.7618\n",
            "Epoch 43/50\n",
            "118/118 [==============================] - 10s 88ms/step - loss: 0.6185 - accuracy: 0.7615 - val_loss: 0.5211 - val_accuracy: 0.7939\n",
            "Epoch 44/50\n",
            "118/118 [==============================] - 10s 88ms/step - loss: 0.5789 - accuracy: 0.7812 - val_loss: 0.5334 - val_accuracy: 0.7954\n",
            "Epoch 45/50\n",
            "118/118 [==============================] - 10s 88ms/step - loss: 0.5559 - accuracy: 0.7805 - val_loss: 0.5551 - val_accuracy: 0.7939\n",
            "Epoch 46/50\n",
            "118/118 [==============================] - 10s 87ms/step - loss: 0.6102 - accuracy: 0.7487 - val_loss: 0.5431 - val_accuracy: 0.7985\n",
            "Epoch 47/50\n",
            "118/118 [==============================] - 10s 87ms/step - loss: 0.5406 - accuracy: 0.7866 - val_loss: 0.5297 - val_accuracy: 0.7924\n",
            "Epoch 48/50\n",
            "118/118 [==============================] - 10s 89ms/step - loss: 0.5751 - accuracy: 0.7684 - val_loss: 0.5200 - val_accuracy: 0.8031\n",
            "Epoch 49/50\n",
            "118/118 [==============================] - 10s 87ms/step - loss: 0.5370 - accuracy: 0.7781 - val_loss: 0.5100 - val_accuracy: 0.8015\n",
            "Epoch 50/50\n",
            "118/118 [==============================] - 10s 87ms/step - loss: 0.5640 - accuracy: 0.7738 - val_loss: 0.5244 - val_accuracy: 0.8000\n"
          ],
          "name": "stdout"
        }
      ]
    },
    {
      "cell_type": "markdown",
      "metadata": {
        "id": "xFnXwbWq-QmL"
      },
      "source": [
        "##Training Xception"
      ]
    },
    {
      "cell_type": "markdown",
      "metadata": {
        "id": "CSm1P6Cr0LAW"
      },
      "source": [
        "###Xception RGB"
      ]
    },
    {
      "cell_type": "code",
      "metadata": {
        "id": "tK_GPbx-2Xn9"
      },
      "source": [
        "modelXception_rgb_da = create_Xception_model(X_train_rgb.shape[1:])"
      ],
      "execution_count": null,
      "outputs": []
    },
    {
      "cell_type": "code",
      "metadata": {
        "colab": {
          "base_uri": "https://localhost:8080/"
        },
        "id": "IulZ7nFrwR8g",
        "outputId": "4af3b1b5-55f0-42a6-f02c-3f7fc85011a7"
      },
      "source": [
        "history_modelXception_rgb_da = modelXception_rgb_da.fit(datagen.flow(X_train_rgb_da, y_train_rgb, batch_size=batch_size), epochs=50, validation_data=(X_val_rgb, y_val_rgb))"
      ],
      "execution_count": null,
      "outputs": [
        {
          "output_type": "stream",
          "text": [
            "Epoch 1/50\n",
            "118/118 [==============================] - 41s 308ms/step - loss: 1.4293 - accuracy: 0.4090 - val_loss: 1.3853 - val_accuracy: 0.2672\n",
            "Epoch 2/50\n",
            "118/118 [==============================] - 36s 302ms/step - loss: 1.1454 - accuracy: 0.5047 - val_loss: 1.3835 - val_accuracy: 0.2763\n",
            "Epoch 3/50\n",
            "118/118 [==============================] - 36s 302ms/step - loss: 0.9365 - accuracy: 0.6201 - val_loss: 1.3876 - val_accuracy: 0.2809\n",
            "Epoch 4/50\n",
            "118/118 [==============================] - 36s 301ms/step - loss: 0.8568 - accuracy: 0.6535 - val_loss: 1.3021 - val_accuracy: 0.4519\n",
            "Epoch 5/50\n",
            "118/118 [==============================] - 36s 301ms/step - loss: 0.7692 - accuracy: 0.7092 - val_loss: 1.2610 - val_accuracy: 0.4947\n",
            "Epoch 6/50\n",
            "118/118 [==============================] - 36s 301ms/step - loss: 0.6724 - accuracy: 0.7509 - val_loss: 1.0114 - val_accuracy: 0.5618\n",
            "Epoch 7/50\n",
            "118/118 [==============================] - 35s 300ms/step - loss: 0.5732 - accuracy: 0.7970 - val_loss: 1.0228 - val_accuracy: 0.6305\n",
            "Epoch 8/50\n",
            "118/118 [==============================] - 35s 300ms/step - loss: 0.5183 - accuracy: 0.8013 - val_loss: 0.9782 - val_accuracy: 0.6275\n",
            "Epoch 9/50\n",
            "118/118 [==============================] - 36s 300ms/step - loss: 0.5467 - accuracy: 0.8011 - val_loss: 2.0251 - val_accuracy: 0.3771\n",
            "Epoch 10/50\n",
            "118/118 [==============================] - 36s 302ms/step - loss: 0.4887 - accuracy: 0.8143 - val_loss: 0.8351 - val_accuracy: 0.7008\n",
            "Epoch 11/50\n",
            "118/118 [==============================] - 36s 301ms/step - loss: 0.4168 - accuracy: 0.8440 - val_loss: 1.3348 - val_accuracy: 0.3450\n",
            "Epoch 12/50\n",
            "118/118 [==============================] - 36s 302ms/step - loss: 0.4378 - accuracy: 0.8456 - val_loss: 0.5605 - val_accuracy: 0.8168\n",
            "Epoch 13/50\n",
            "118/118 [==============================] - 36s 301ms/step - loss: 0.4193 - accuracy: 0.8550 - val_loss: 6.6701 - val_accuracy: 0.1664\n",
            "Epoch 14/50\n",
            "118/118 [==============================] - 36s 301ms/step - loss: 0.4353 - accuracy: 0.8426 - val_loss: 3.9019 - val_accuracy: 0.2794\n",
            "Epoch 15/50\n",
            "118/118 [==============================] - 36s 302ms/step - loss: 0.3987 - accuracy: 0.8567 - val_loss: 0.7104 - val_accuracy: 0.7221\n",
            "Epoch 16/50\n",
            "118/118 [==============================] - 36s 301ms/step - loss: 0.3344 - accuracy: 0.8813 - val_loss: 0.7645 - val_accuracy: 0.7420\n",
            "Epoch 17/50\n",
            "118/118 [==============================] - 36s 301ms/step - loss: 0.3984 - accuracy: 0.8615 - val_loss: 0.3789 - val_accuracy: 0.8611\n",
            "Epoch 18/50\n",
            "118/118 [==============================] - 36s 301ms/step - loss: 0.3489 - accuracy: 0.8764 - val_loss: 0.4200 - val_accuracy: 0.8702\n",
            "Epoch 19/50\n",
            "118/118 [==============================] - 36s 301ms/step - loss: 0.3096 - accuracy: 0.8946 - val_loss: 0.6791 - val_accuracy: 0.7176\n",
            "Epoch 20/50\n",
            "118/118 [==============================] - 35s 300ms/step - loss: 0.3018 - accuracy: 0.8859 - val_loss: 3.6020 - val_accuracy: 0.2382\n",
            "Epoch 21/50\n",
            "118/118 [==============================] - 36s 301ms/step - loss: 0.3221 - accuracy: 0.8832 - val_loss: 0.8202 - val_accuracy: 0.6702\n",
            "Epoch 22/50\n",
            "118/118 [==============================] - 36s 302ms/step - loss: 0.2944 - accuracy: 0.9016 - val_loss: 0.8614 - val_accuracy: 0.7038\n",
            "Epoch 23/50\n",
            "118/118 [==============================] - 36s 301ms/step - loss: 0.2887 - accuracy: 0.8994 - val_loss: 0.6036 - val_accuracy: 0.8000\n",
            "Epoch 24/50\n",
            "118/118 [==============================] - 35s 300ms/step - loss: 0.2757 - accuracy: 0.9008 - val_loss: 0.3835 - val_accuracy: 0.8656\n",
            "Epoch 25/50\n",
            "118/118 [==============================] - 35s 300ms/step - loss: 0.2568 - accuracy: 0.9158 - val_loss: 1.1094 - val_accuracy: 0.5771\n",
            "Epoch 26/50\n",
            "118/118 [==============================] - 36s 301ms/step - loss: 0.2526 - accuracy: 0.9159 - val_loss: 0.2610 - val_accuracy: 0.9145\n",
            "Epoch 27/50\n",
            "118/118 [==============================] - 36s 300ms/step - loss: 0.2136 - accuracy: 0.9211 - val_loss: 0.3711 - val_accuracy: 0.8656\n",
            "Epoch 28/50\n",
            "118/118 [==============================] - 35s 300ms/step - loss: 0.2709 - accuracy: 0.9032 - val_loss: 0.3611 - val_accuracy: 0.8824\n",
            "Epoch 29/50\n",
            "118/118 [==============================] - 36s 301ms/step - loss: 0.2675 - accuracy: 0.9031 - val_loss: 1.0137 - val_accuracy: 0.7786\n",
            "Epoch 30/50\n",
            "118/118 [==============================] - 36s 301ms/step - loss: 0.2568 - accuracy: 0.9116 - val_loss: 0.3790 - val_accuracy: 0.8809\n",
            "Epoch 31/50\n",
            "118/118 [==============================] - 35s 300ms/step - loss: 0.2284 - accuracy: 0.9092 - val_loss: 1.0903 - val_accuracy: 0.6397\n",
            "Epoch 32/50\n",
            "118/118 [==============================] - 35s 299ms/step - loss: 0.2221 - accuracy: 0.9197 - val_loss: 0.3770 - val_accuracy: 0.8641\n",
            "Epoch 33/50\n",
            "118/118 [==============================] - 36s 301ms/step - loss: 0.2090 - accuracy: 0.9312 - val_loss: 0.6140 - val_accuracy: 0.7863\n",
            "Epoch 34/50\n",
            "118/118 [==============================] - 36s 301ms/step - loss: 0.2416 - accuracy: 0.9122 - val_loss: 0.2614 - val_accuracy: 0.9084\n",
            "Epoch 35/50\n",
            "118/118 [==============================] - 36s 301ms/step - loss: 0.2060 - accuracy: 0.9310 - val_loss: 0.2737 - val_accuracy: 0.9053\n",
            "Epoch 36/50\n",
            "118/118 [==============================] - 36s 300ms/step - loss: 0.1907 - accuracy: 0.9273 - val_loss: 0.4565 - val_accuracy: 0.8214\n",
            "Epoch 37/50\n",
            "118/118 [==============================] - 36s 301ms/step - loss: 0.1878 - accuracy: 0.9240 - val_loss: 0.5081 - val_accuracy: 0.8076\n",
            "Epoch 38/50\n",
            "118/118 [==============================] - 36s 301ms/step - loss: 0.2055 - accuracy: 0.9324 - val_loss: 0.8584 - val_accuracy: 0.7557\n",
            "Epoch 39/50\n",
            "118/118 [==============================] - 36s 301ms/step - loss: 0.1735 - accuracy: 0.9447 - val_loss: 0.4131 - val_accuracy: 0.8519\n",
            "Epoch 40/50\n",
            "118/118 [==============================] - 35s 299ms/step - loss: 0.1839 - accuracy: 0.9319 - val_loss: 0.2408 - val_accuracy: 0.9008\n",
            "Epoch 41/50\n",
            "118/118 [==============================] - 35s 300ms/step - loss: 0.1934 - accuracy: 0.9332 - val_loss: 0.6201 - val_accuracy: 0.8092\n",
            "Epoch 42/50\n",
            "118/118 [==============================] - 35s 299ms/step - loss: 0.1941 - accuracy: 0.9331 - val_loss: 0.4229 - val_accuracy: 0.8534\n",
            "Epoch 43/50\n",
            "118/118 [==============================] - 35s 300ms/step - loss: 0.1816 - accuracy: 0.9377 - val_loss: 1.2146 - val_accuracy: 0.5908\n",
            "Epoch 44/50\n",
            "118/118 [==============================] - 35s 299ms/step - loss: 0.1563 - accuracy: 0.9415 - val_loss: 0.6252 - val_accuracy: 0.7924\n",
            "Epoch 45/50\n",
            "118/118 [==============================] - 35s 299ms/step - loss: 0.1956 - accuracy: 0.9324 - val_loss: 0.3407 - val_accuracy: 0.8885\n",
            "Epoch 46/50\n",
            "118/118 [==============================] - 35s 300ms/step - loss: 0.1643 - accuracy: 0.9425 - val_loss: 0.3314 - val_accuracy: 0.8656\n",
            "Epoch 47/50\n",
            "118/118 [==============================] - 36s 301ms/step - loss: 0.1575 - accuracy: 0.9516 - val_loss: 0.9060 - val_accuracy: 0.7374\n",
            "Epoch 48/50\n",
            "118/118 [==============================] - 36s 301ms/step - loss: 0.1621 - accuracy: 0.9479 - val_loss: 0.4022 - val_accuracy: 0.8321\n",
            "Epoch 49/50\n",
            "118/118 [==============================] - 35s 300ms/step - loss: 0.1420 - accuracy: 0.9443 - val_loss: 0.4448 - val_accuracy: 0.8443\n",
            "Epoch 50/50\n",
            "118/118 [==============================] - 36s 301ms/step - loss: 0.1546 - accuracy: 0.9417 - val_loss: 0.7382 - val_accuracy: 0.7573\n"
          ],
          "name": "stdout"
        }
      ]
    },
    {
      "cell_type": "markdown",
      "metadata": {
        "id": "fFfTQB000PM3"
      },
      "source": [
        "###Xception GS"
      ]
    },
    {
      "cell_type": "code",
      "metadata": {
        "id": "YCdVaNbN2Zi2"
      },
      "source": [
        "modelXception_gs_da = create_Xception_model(X_train_gs.shape[1:])"
      ],
      "execution_count": null,
      "outputs": []
    },
    {
      "cell_type": "code",
      "metadata": {
        "colab": {
          "base_uri": "https://localhost:8080/"
        },
        "id": "7Wqu0RF107MO",
        "outputId": "ebf23ff5-0478-4edf-fc5a-cda1be53f6e6"
      },
      "source": [
        "history_modelXception_gs_da = modelXception_gs_da.fit(datagen.flow(X_train_gs_da, y_train_gs, batch_size=batch_size), epochs=50, validation_data=(X_val_gs, y_val_gs))"
      ],
      "execution_count": null,
      "outputs": [
        {
          "output_type": "stream",
          "text": [
            "Epoch 1/50\n",
            "118/118 [==============================] - 41s 307ms/step - loss: 1.4042 - accuracy: 0.4028 - val_loss: 1.3853 - val_accuracy: 0.2763\n",
            "Epoch 2/50\n",
            "118/118 [==============================] - 35s 298ms/step - loss: 1.0806 - accuracy: 0.5482 - val_loss: 1.3879 - val_accuracy: 0.2763\n",
            "Epoch 3/50\n",
            "118/118 [==============================] - 35s 299ms/step - loss: 0.9339 - accuracy: 0.6243 - val_loss: 1.3970 - val_accuracy: 0.1878\n",
            "Epoch 4/50\n",
            "118/118 [==============================] - 35s 298ms/step - loss: 0.7961 - accuracy: 0.6819 - val_loss: 1.3896 - val_accuracy: 0.3206\n",
            "Epoch 5/50\n",
            "118/118 [==============================] - 35s 299ms/step - loss: 0.7667 - accuracy: 0.6975 - val_loss: 2.6934 - val_accuracy: 0.3649\n",
            "Epoch 6/50\n",
            "118/118 [==============================] - 35s 298ms/step - loss: 0.6573 - accuracy: 0.7595 - val_loss: 0.9074 - val_accuracy: 0.6092\n",
            "Epoch 7/50\n",
            "118/118 [==============================] - 35s 298ms/step - loss: 0.5703 - accuracy: 0.7916 - val_loss: 1.1463 - val_accuracy: 0.5786\n",
            "Epoch 8/50\n",
            "118/118 [==============================] - 35s 299ms/step - loss: 0.5251 - accuracy: 0.8041 - val_loss: 2.1726 - val_accuracy: 0.4870\n",
            "Epoch 9/50\n",
            "118/118 [==============================] - 35s 299ms/step - loss: 0.4707 - accuracy: 0.8270 - val_loss: 0.8138 - val_accuracy: 0.7344\n",
            "Epoch 10/50\n",
            "118/118 [==============================] - 35s 297ms/step - loss: 0.4175 - accuracy: 0.8479 - val_loss: 1.5795 - val_accuracy: 0.4901\n",
            "Epoch 11/50\n",
            "118/118 [==============================] - 35s 298ms/step - loss: 0.4685 - accuracy: 0.8153 - val_loss: 0.6110 - val_accuracy: 0.7893\n",
            "Epoch 12/50\n",
            "118/118 [==============================] - 35s 297ms/step - loss: 0.4877 - accuracy: 0.8340 - val_loss: 0.4863 - val_accuracy: 0.8183\n",
            "Epoch 13/50\n",
            "118/118 [==============================] - 35s 297ms/step - loss: 0.4159 - accuracy: 0.8435 - val_loss: 0.5450 - val_accuracy: 0.7878\n",
            "Epoch 14/50\n",
            "118/118 [==============================] - 35s 298ms/step - loss: 0.3993 - accuracy: 0.8503 - val_loss: 1.4436 - val_accuracy: 0.5389\n",
            "Epoch 15/50\n",
            "118/118 [==============================] - 35s 299ms/step - loss: 0.4015 - accuracy: 0.8447 - val_loss: 0.7545 - val_accuracy: 0.7679\n",
            "Epoch 16/50\n",
            "118/118 [==============================] - 35s 297ms/step - loss: 0.4047 - accuracy: 0.8598 - val_loss: 0.5008 - val_accuracy: 0.8122\n",
            "Epoch 17/50\n",
            "118/118 [==============================] - 35s 298ms/step - loss: 0.3101 - accuracy: 0.8910 - val_loss: 0.5859 - val_accuracy: 0.8015\n",
            "Epoch 18/50\n",
            "118/118 [==============================] - 35s 299ms/step - loss: 0.3436 - accuracy: 0.8755 - val_loss: 0.4372 - val_accuracy: 0.8534\n",
            "Epoch 19/50\n",
            "118/118 [==============================] - 35s 299ms/step - loss: 0.3232 - accuracy: 0.8915 - val_loss: 0.4472 - val_accuracy: 0.8443\n",
            "Epoch 20/50\n",
            "118/118 [==============================] - 35s 299ms/step - loss: 0.3430 - accuracy: 0.8798 - val_loss: 0.3482 - val_accuracy: 0.8763\n",
            "Epoch 21/50\n",
            "118/118 [==============================] - 35s 298ms/step - loss: 0.2903 - accuracy: 0.8951 - val_loss: 0.4531 - val_accuracy: 0.8305\n",
            "Epoch 22/50\n",
            "118/118 [==============================] - 35s 298ms/step - loss: 0.3017 - accuracy: 0.8921 - val_loss: 0.4300 - val_accuracy: 0.8626\n",
            "Epoch 23/50\n",
            "118/118 [==============================] - 35s 298ms/step - loss: 0.2980 - accuracy: 0.8960 - val_loss: 0.8645 - val_accuracy: 0.6718\n",
            "Epoch 24/50\n",
            "118/118 [==============================] - 35s 298ms/step - loss: 0.3488 - accuracy: 0.8746 - val_loss: 0.3779 - val_accuracy: 0.8687\n",
            "Epoch 25/50\n",
            "118/118 [==============================] - 35s 298ms/step - loss: 0.2824 - accuracy: 0.9039 - val_loss: 0.4805 - val_accuracy: 0.8336\n",
            "Epoch 26/50\n",
            "118/118 [==============================] - 35s 297ms/step - loss: 0.2485 - accuracy: 0.9159 - val_loss: 0.4516 - val_accuracy: 0.8366\n",
            "Epoch 27/50\n",
            "118/118 [==============================] - 35s 297ms/step - loss: 0.2451 - accuracy: 0.9145 - val_loss: 0.4710 - val_accuracy: 0.8351\n",
            "Epoch 28/50\n",
            "118/118 [==============================] - 35s 299ms/step - loss: 0.2475 - accuracy: 0.9151 - val_loss: 0.2974 - val_accuracy: 0.9008\n",
            "Epoch 29/50\n",
            "118/118 [==============================] - 35s 298ms/step - loss: 0.2144 - accuracy: 0.9225 - val_loss: 0.3269 - val_accuracy: 0.8992\n",
            "Epoch 30/50\n",
            "118/118 [==============================] - 35s 298ms/step - loss: 0.2393 - accuracy: 0.9070 - val_loss: 0.5460 - val_accuracy: 0.8153\n",
            "Epoch 31/50\n",
            "118/118 [==============================] - 35s 297ms/step - loss: 0.1974 - accuracy: 0.9283 - val_loss: 0.8456 - val_accuracy: 0.7038\n",
            "Epoch 32/50\n",
            "118/118 [==============================] - 35s 297ms/step - loss: 0.2433 - accuracy: 0.9113 - val_loss: 0.4928 - val_accuracy: 0.8076\n",
            "Epoch 33/50\n",
            "118/118 [==============================] - 35s 298ms/step - loss: 0.1983 - accuracy: 0.9239 - val_loss: 0.6502 - val_accuracy: 0.7924\n",
            "Epoch 34/50\n",
            "118/118 [==============================] - 35s 298ms/step - loss: 0.2777 - accuracy: 0.9031 - val_loss: 0.6769 - val_accuracy: 0.7924\n",
            "Epoch 35/50\n",
            "118/118 [==============================] - 35s 298ms/step - loss: 0.2373 - accuracy: 0.9271 - val_loss: 0.2721 - val_accuracy: 0.9115\n",
            "Epoch 36/50\n",
            "118/118 [==============================] - 35s 298ms/step - loss: 0.1955 - accuracy: 0.9296 - val_loss: 0.2636 - val_accuracy: 0.9252\n",
            "Epoch 37/50\n",
            "118/118 [==============================] - 35s 298ms/step - loss: 0.1802 - accuracy: 0.9355 - val_loss: 0.4090 - val_accuracy: 0.8504\n",
            "Epoch 38/50\n",
            "118/118 [==============================] - 35s 298ms/step - loss: 0.1933 - accuracy: 0.9355 - val_loss: 0.4056 - val_accuracy: 0.8458\n",
            "Epoch 39/50\n",
            "118/118 [==============================] - 35s 298ms/step - loss: 0.1812 - accuracy: 0.9290 - val_loss: 0.7724 - val_accuracy: 0.7160\n",
            "Epoch 40/50\n",
            "118/118 [==============================] - 35s 298ms/step - loss: 0.2155 - accuracy: 0.9269 - val_loss: 0.8152 - val_accuracy: 0.7725\n",
            "Epoch 41/50\n",
            "118/118 [==============================] - 35s 298ms/step - loss: 0.1514 - accuracy: 0.9547 - val_loss: 0.3569 - val_accuracy: 0.8809\n",
            "Epoch 42/50\n",
            "118/118 [==============================] - 35s 298ms/step - loss: 0.1919 - accuracy: 0.9365 - val_loss: 0.2708 - val_accuracy: 0.8977\n",
            "Epoch 43/50\n",
            "118/118 [==============================] - 35s 298ms/step - loss: 0.1654 - accuracy: 0.9448 - val_loss: 0.5669 - val_accuracy: 0.8122\n",
            "Epoch 44/50\n",
            "118/118 [==============================] - 35s 299ms/step - loss: 0.2005 - accuracy: 0.9343 - val_loss: 0.2466 - val_accuracy: 0.9237\n",
            "Epoch 45/50\n",
            "118/118 [==============================] - 35s 298ms/step - loss: 0.2221 - accuracy: 0.9227 - val_loss: 0.3529 - val_accuracy: 0.8779\n",
            "Epoch 46/50\n",
            "118/118 [==============================] - 35s 298ms/step - loss: 0.1799 - accuracy: 0.9487 - val_loss: 0.2017 - val_accuracy: 0.9328\n",
            "Epoch 47/50\n",
            "118/118 [==============================] - 35s 298ms/step - loss: 0.1535 - accuracy: 0.9436 - val_loss: 0.3928 - val_accuracy: 0.8702\n",
            "Epoch 48/50\n",
            "118/118 [==============================] - 35s 298ms/step - loss: 0.1422 - accuracy: 0.9482 - val_loss: 0.8961 - val_accuracy: 0.7710\n",
            "Epoch 49/50\n",
            "118/118 [==============================] - 35s 298ms/step - loss: 0.1707 - accuracy: 0.9374 - val_loss: 0.3014 - val_accuracy: 0.9145\n",
            "Epoch 50/50\n",
            "118/118 [==============================] - 35s 299ms/step - loss: 0.1580 - accuracy: 0.9425 - val_loss: 0.2902 - val_accuracy: 0.9008\n"
          ],
          "name": "stdout"
        }
      ]
    },
    {
      "cell_type": "markdown",
      "metadata": {
        "id": "hKpkJHqc0S1O"
      },
      "source": [
        "###Xception RGB With TFL"
      ]
    },
    {
      "cell_type": "code",
      "metadata": {
        "id": "Mlb3n-CM7QVO"
      },
      "source": [
        "modelXception_tfl_da = create_Xception_model(X_train_rgb.shape[1:], True)"
      ],
      "execution_count": null,
      "outputs": []
    },
    {
      "cell_type": "code",
      "metadata": {
        "colab": {
          "base_uri": "https://localhost:8080/"
        },
        "id": "Uk-UsP2v1K3O",
        "outputId": "d61cec83-8ecd-473b-8dce-bcfb7223902a"
      },
      "source": [
        "history_modelXception_tfl_da = modelXception_tfl_da.fit(datagen.flow(X_train_rgb_da, y_train_rgb, batch_size=batch_size), epochs=50, validation_data=(X_val_rgb, y_val_rgb))"
      ],
      "execution_count": null,
      "outputs": [
        {
          "output_type": "stream",
          "text": [
            "Epoch 1/50\n",
            "118/118 [==============================] - 34s 115ms/step - loss: 10.8791 - accuracy: 0.4999 - val_loss: 0.6755 - val_accuracy: 0.7511\n",
            "Epoch 2/50\n",
            "118/118 [==============================] - 11s 93ms/step - loss: 0.8409 - accuracy: 0.6802 - val_loss: 0.8987 - val_accuracy: 0.6519\n",
            "Epoch 3/50\n",
            "118/118 [==============================] - 11s 89ms/step - loss: 0.8063 - accuracy: 0.6957 - val_loss: 0.6316 - val_accuracy: 0.7603\n",
            "Epoch 4/50\n",
            "118/118 [==============================] - 10s 88ms/step - loss: 0.7524 - accuracy: 0.7119 - val_loss: 0.5742 - val_accuracy: 0.7557\n",
            "Epoch 5/50\n",
            "118/118 [==============================] - 11s 89ms/step - loss: 0.7584 - accuracy: 0.7027 - val_loss: 0.5924 - val_accuracy: 0.7740\n",
            "Epoch 6/50\n",
            "118/118 [==============================] - 10s 88ms/step - loss: 0.6831 - accuracy: 0.7383 - val_loss: 0.5724 - val_accuracy: 0.7695\n",
            "Epoch 7/50\n",
            "118/118 [==============================] - 11s 94ms/step - loss: 0.6581 - accuracy: 0.7410 - val_loss: 0.5589 - val_accuracy: 0.7679\n",
            "Epoch 8/50\n",
            "118/118 [==============================] - 11s 93ms/step - loss: 0.6673 - accuracy: 0.7480 - val_loss: 0.5324 - val_accuracy: 0.7695\n",
            "Epoch 9/50\n",
            "118/118 [==============================] - 11s 89ms/step - loss: 0.6924 - accuracy: 0.7323 - val_loss: 0.5346 - val_accuracy: 0.7924\n",
            "Epoch 10/50\n",
            "118/118 [==============================] - 11s 94ms/step - loss: 0.6891 - accuracy: 0.7238 - val_loss: 0.6427 - val_accuracy: 0.7405\n",
            "Epoch 11/50\n",
            "118/118 [==============================] - 11s 94ms/step - loss: 0.6056 - accuracy: 0.7485 - val_loss: 0.5773 - val_accuracy: 0.7649\n",
            "Epoch 12/50\n",
            "118/118 [==============================] - 11s 90ms/step - loss: 0.6302 - accuracy: 0.7588 - val_loss: 0.6039 - val_accuracy: 0.7557\n",
            "Epoch 13/50\n",
            "118/118 [==============================] - 10s 88ms/step - loss: 0.6092 - accuracy: 0.7585 - val_loss: 0.5503 - val_accuracy: 0.7771\n",
            "Epoch 14/50\n",
            "118/118 [==============================] - 10s 88ms/step - loss: 0.6129 - accuracy: 0.7717 - val_loss: 0.4848 - val_accuracy: 0.8183\n",
            "Epoch 15/50\n",
            "118/118 [==============================] - 10s 88ms/step - loss: 0.5969 - accuracy: 0.7717 - val_loss: 0.5704 - val_accuracy: 0.7878\n",
            "Epoch 16/50\n",
            "118/118 [==============================] - 11s 93ms/step - loss: 0.5992 - accuracy: 0.7737 - val_loss: 0.5972 - val_accuracy: 0.7618\n",
            "Epoch 17/50\n",
            "118/118 [==============================] - 11s 93ms/step - loss: 0.6020 - accuracy: 0.7654 - val_loss: 0.5254 - val_accuracy: 0.7939\n",
            "Epoch 18/50\n",
            "118/118 [==============================] - 11s 90ms/step - loss: 0.6250 - accuracy: 0.7566 - val_loss: 0.5457 - val_accuracy: 0.8061\n",
            "Epoch 19/50\n",
            "118/118 [==============================] - 10s 89ms/step - loss: 0.6245 - accuracy: 0.7676 - val_loss: 0.5300 - val_accuracy: 0.7863\n",
            "Epoch 20/50\n",
            "118/118 [==============================] - 11s 93ms/step - loss: 0.6292 - accuracy: 0.7549 - val_loss: 0.5614 - val_accuracy: 0.7924\n",
            "Epoch 21/50\n",
            "118/118 [==============================] - 10s 89ms/step - loss: 0.6259 - accuracy: 0.7515 - val_loss: 0.5231 - val_accuracy: 0.7924\n",
            "Epoch 22/50\n",
            "118/118 [==============================] - 11s 92ms/step - loss: 0.5457 - accuracy: 0.7906 - val_loss: 0.5050 - val_accuracy: 0.8046\n",
            "Epoch 23/50\n",
            "118/118 [==============================] - 11s 94ms/step - loss: 0.5569 - accuracy: 0.7781 - val_loss: 0.7357 - val_accuracy: 0.7298\n",
            "Epoch 24/50\n",
            "118/118 [==============================] - 11s 92ms/step - loss: 0.6090 - accuracy: 0.7614 - val_loss: 0.5053 - val_accuracy: 0.8122\n",
            "Epoch 25/50\n",
            "118/118 [==============================] - 11s 89ms/step - loss: 0.6104 - accuracy: 0.7728 - val_loss: 0.5542 - val_accuracy: 0.7802\n",
            "Epoch 26/50\n",
            "118/118 [==============================] - 10s 89ms/step - loss: 0.5614 - accuracy: 0.7847 - val_loss: 0.4965 - val_accuracy: 0.8183\n",
            "Epoch 27/50\n",
            "118/118 [==============================] - 10s 89ms/step - loss: 0.5646 - accuracy: 0.7930 - val_loss: 0.5505 - val_accuracy: 0.8046\n",
            "Epoch 28/50\n",
            "118/118 [==============================] - 11s 92ms/step - loss: 0.5644 - accuracy: 0.7841 - val_loss: 0.5532 - val_accuracy: 0.7863\n",
            "Epoch 29/50\n",
            "118/118 [==============================] - 12s 98ms/step - loss: 0.6078 - accuracy: 0.7418 - val_loss: 0.6497 - val_accuracy: 0.7496\n",
            "Epoch 30/50\n",
            "118/118 [==============================] - 11s 95ms/step - loss: 0.5906 - accuracy: 0.7729 - val_loss: 0.5580 - val_accuracy: 0.7679\n",
            "Epoch 31/50\n",
            "118/118 [==============================] - 11s 89ms/step - loss: 0.5731 - accuracy: 0.7731 - val_loss: 0.5371 - val_accuracy: 0.7832\n",
            "Epoch 32/50\n",
            "118/118 [==============================] - 11s 92ms/step - loss: 0.5842 - accuracy: 0.7765 - val_loss: 0.4989 - val_accuracy: 0.8198\n",
            "Epoch 33/50\n",
            "118/118 [==============================] - 11s 91ms/step - loss: 0.5528 - accuracy: 0.7950 - val_loss: 0.5815 - val_accuracy: 0.7817\n",
            "Epoch 34/50\n",
            "118/118 [==============================] - 11s 95ms/step - loss: 0.5470 - accuracy: 0.7824 - val_loss: 0.6817 - val_accuracy: 0.7511\n",
            "Epoch 35/50\n",
            "118/118 [==============================] - 11s 94ms/step - loss: 0.5635 - accuracy: 0.7988 - val_loss: 0.4829 - val_accuracy: 0.8153\n",
            "Epoch 36/50\n",
            "118/118 [==============================] - 11s 91ms/step - loss: 0.5377 - accuracy: 0.7711 - val_loss: 0.5341 - val_accuracy: 0.7832\n",
            "Epoch 37/50\n",
            "118/118 [==============================] - 12s 98ms/step - loss: 0.5391 - accuracy: 0.7985 - val_loss: 0.4552 - val_accuracy: 0.8275\n",
            "Epoch 38/50\n",
            "118/118 [==============================] - 11s 93ms/step - loss: 0.5648 - accuracy: 0.7824 - val_loss: 0.4346 - val_accuracy: 0.8244\n",
            "Epoch 39/50\n",
            "118/118 [==============================] - 11s 89ms/step - loss: 0.5842 - accuracy: 0.7892 - val_loss: 0.4721 - val_accuracy: 0.8244\n",
            "Epoch 40/50\n",
            "118/118 [==============================] - 11s 92ms/step - loss: 0.5336 - accuracy: 0.7924 - val_loss: 0.4406 - val_accuracy: 0.8153\n",
            "Epoch 41/50\n",
            "118/118 [==============================] - 11s 90ms/step - loss: 0.5513 - accuracy: 0.7845 - val_loss: 0.5525 - val_accuracy: 0.7832\n",
            "Epoch 42/50\n",
            "118/118 [==============================] - 11s 94ms/step - loss: 0.5359 - accuracy: 0.7878 - val_loss: 0.5345 - val_accuracy: 0.7893\n",
            "Epoch 43/50\n",
            "118/118 [==============================] - 11s 94ms/step - loss: 0.5526 - accuracy: 0.8003 - val_loss: 0.4947 - val_accuracy: 0.8015\n",
            "Epoch 44/50\n",
            "118/118 [==============================] - 11s 89ms/step - loss: 0.5363 - accuracy: 0.7905 - val_loss: 0.4842 - val_accuracy: 0.8198\n",
            "Epoch 45/50\n",
            "118/118 [==============================] - 10s 89ms/step - loss: 0.5450 - accuracy: 0.7805 - val_loss: 0.4906 - val_accuracy: 0.8061\n",
            "Epoch 46/50\n",
            "118/118 [==============================] - 11s 89ms/step - loss: 0.5317 - accuracy: 0.8017 - val_loss: 0.5131 - val_accuracy: 0.7939\n",
            "Epoch 47/50\n",
            "118/118 [==============================] - 10s 89ms/step - loss: 0.4979 - accuracy: 0.8082 - val_loss: 0.5578 - val_accuracy: 0.7924\n",
            "Epoch 48/50\n",
            "118/118 [==============================] - 11s 95ms/step - loss: 0.5689 - accuracy: 0.7810 - val_loss: 0.5885 - val_accuracy: 0.7771\n",
            "Epoch 49/50\n",
            "118/118 [==============================] - 11s 95ms/step - loss: 0.5238 - accuracy: 0.8047 - val_loss: 0.4364 - val_accuracy: 0.8336\n",
            "Epoch 50/50\n",
            "118/118 [==============================] - 11s 90ms/step - loss: 0.4975 - accuracy: 0.8112 - val_loss: 0.5059 - val_accuracy: 0.8183\n"
          ],
          "name": "stdout"
        }
      ]
    },
    {
      "cell_type": "markdown",
      "metadata": {
        "id": "M27Q0cKi-YfV"
      },
      "source": [
        "##Training ResNet"
      ]
    },
    {
      "cell_type": "markdown",
      "metadata": {
        "id": "D1q4sVtp0blF"
      },
      "source": [
        "###ResNet50 RGB"
      ]
    },
    {
      "cell_type": "code",
      "metadata": {
        "id": "-wvtIBhH2Lju"
      },
      "source": [
        "modelResnet50_rgb_da = create_resnet_model(50,X_train_rgb.shape[1:])"
      ],
      "execution_count": null,
      "outputs": []
    },
    {
      "cell_type": "code",
      "metadata": {
        "colab": {
          "base_uri": "https://localhost:8080/"
        },
        "id": "PGsWC2D8-ha1",
        "outputId": "22210cce-8331-4f7d-80b7-8aac5f29825b"
      },
      "source": [
        "history_modelResnet50_rgb_da = modelResnet50_rgb_da.fit(datagen.flow(X_train_rgb_da, y_train_rgb, batch_size=batch_size), epochs=50, validation_data=(X_val_rgb, y_val_rgb))"
      ],
      "execution_count": null,
      "outputs": [
        {
          "output_type": "stream",
          "text": [
            "Epoch 1/50\n",
            "118/118 [==============================] - 23s 149ms/step - loss: 2.5358 - accuracy: 0.3860 - val_loss: 1.3782 - val_accuracy: 0.2733\n",
            "Epoch 2/50\n",
            "118/118 [==============================] - 16s 135ms/step - loss: 1.2455 - accuracy: 0.4951 - val_loss: 2.4602 - val_accuracy: 0.2702\n",
            "Epoch 3/50\n",
            "118/118 [==============================] - 16s 134ms/step - loss: 1.1830 - accuracy: 0.5768 - val_loss: 1.4084 - val_accuracy: 0.2794\n",
            "Epoch 4/50\n",
            "118/118 [==============================] - 16s 134ms/step - loss: 0.9573 - accuracy: 0.6142 - val_loss: 2.2228 - val_accuracy: 0.1405\n",
            "Epoch 5/50\n",
            "118/118 [==============================] - 16s 134ms/step - loss: 0.8904 - accuracy: 0.6403 - val_loss: 1.7523 - val_accuracy: 0.3939\n",
            "Epoch 6/50\n",
            "118/118 [==============================] - 16s 133ms/step - loss: 0.8169 - accuracy: 0.6728 - val_loss: 1.2859 - val_accuracy: 0.4412\n",
            "Epoch 7/50\n",
            "118/118 [==============================] - 16s 134ms/step - loss: 0.8122 - accuracy: 0.6809 - val_loss: 3.1799 - val_accuracy: 0.2809\n",
            "Epoch 8/50\n",
            "118/118 [==============================] - 16s 134ms/step - loss: 0.7696 - accuracy: 0.7059 - val_loss: 2.8335 - val_accuracy: 0.4427\n",
            "Epoch 9/50\n",
            "118/118 [==============================] - 16s 134ms/step - loss: 0.7278 - accuracy: 0.7173 - val_loss: 4.6141 - val_accuracy: 0.5160\n",
            "Epoch 10/50\n",
            "118/118 [==============================] - 16s 133ms/step - loss: 0.6801 - accuracy: 0.7512 - val_loss: 8.3861 - val_accuracy: 0.2748\n",
            "Epoch 11/50\n",
            "118/118 [==============================] - 16s 133ms/step - loss: 0.7475 - accuracy: 0.7284 - val_loss: 2.6648 - val_accuracy: 0.3344\n",
            "Epoch 12/50\n",
            "118/118 [==============================] - 16s 134ms/step - loss: 0.6498 - accuracy: 0.7567 - val_loss: 0.9630 - val_accuracy: 0.5832\n",
            "Epoch 13/50\n",
            "118/118 [==============================] - 16s 134ms/step - loss: 0.6666 - accuracy: 0.7822 - val_loss: 1.7872 - val_accuracy: 0.4076\n",
            "Epoch 14/50\n",
            "118/118 [==============================] - 16s 134ms/step - loss: 0.6035 - accuracy: 0.7856 - val_loss: 1.5132 - val_accuracy: 0.5405\n",
            "Epoch 15/50\n",
            "118/118 [==============================] - 16s 134ms/step - loss: 0.5591 - accuracy: 0.8001 - val_loss: 0.7423 - val_accuracy: 0.7374\n",
            "Epoch 16/50\n",
            "118/118 [==============================] - 16s 134ms/step - loss: 0.5850 - accuracy: 0.7933 - val_loss: 0.6790 - val_accuracy: 0.7405\n",
            "Epoch 17/50\n",
            "118/118 [==============================] - 16s 135ms/step - loss: 0.5804 - accuracy: 0.7918 - val_loss: 1.7918 - val_accuracy: 0.4290\n",
            "Epoch 18/50\n",
            "118/118 [==============================] - 16s 134ms/step - loss: 0.4891 - accuracy: 0.8324 - val_loss: 2.2929 - val_accuracy: 0.2840\n",
            "Epoch 19/50\n",
            "118/118 [==============================] - 16s 133ms/step - loss: 0.5679 - accuracy: 0.8020 - val_loss: 1.6466 - val_accuracy: 0.3160\n",
            "Epoch 20/50\n",
            "118/118 [==============================] - 16s 134ms/step - loss: 0.5405 - accuracy: 0.7986 - val_loss: 0.8649 - val_accuracy: 0.6672\n",
            "Epoch 21/50\n",
            "118/118 [==============================] - 16s 134ms/step - loss: 0.6603 - accuracy: 0.7672 - val_loss: 1.6494 - val_accuracy: 0.4504\n",
            "Epoch 22/50\n",
            "118/118 [==============================] - 16s 134ms/step - loss: 0.5598 - accuracy: 0.7900 - val_loss: 2.7908 - val_accuracy: 0.5405\n",
            "Epoch 23/50\n",
            "118/118 [==============================] - 16s 134ms/step - loss: 0.5456 - accuracy: 0.8111 - val_loss: 0.7177 - val_accuracy: 0.7481\n",
            "Epoch 24/50\n",
            "118/118 [==============================] - 16s 134ms/step - loss: 0.4980 - accuracy: 0.8092 - val_loss: 3.2680 - val_accuracy: 0.2550\n",
            "Epoch 25/50\n",
            "118/118 [==============================] - 16s 134ms/step - loss: 0.5544 - accuracy: 0.8120 - val_loss: 0.5676 - val_accuracy: 0.8061\n",
            "Epoch 26/50\n",
            "118/118 [==============================] - 16s 134ms/step - loss: 0.5188 - accuracy: 0.8071 - val_loss: 0.4584 - val_accuracy: 0.8183\n",
            "Epoch 27/50\n",
            "118/118 [==============================] - 16s 134ms/step - loss: 0.4749 - accuracy: 0.8183 - val_loss: 0.5484 - val_accuracy: 0.7786\n",
            "Epoch 28/50\n",
            "118/118 [==============================] - 16s 134ms/step - loss: 0.4116 - accuracy: 0.8522 - val_loss: 0.5145 - val_accuracy: 0.8046\n",
            "Epoch 29/50\n",
            "118/118 [==============================] - 16s 134ms/step - loss: 0.3981 - accuracy: 0.8577 - val_loss: 0.5210 - val_accuracy: 0.8046\n",
            "Epoch 30/50\n",
            "118/118 [==============================] - 16s 134ms/step - loss: 0.3795 - accuracy: 0.8635 - val_loss: 1.6833 - val_accuracy: 0.5450\n",
            "Epoch 31/50\n",
            "118/118 [==============================] - 16s 135ms/step - loss: 0.3740 - accuracy: 0.8613 - val_loss: 0.5461 - val_accuracy: 0.8031\n",
            "Epoch 32/50\n",
            "118/118 [==============================] - 16s 133ms/step - loss: 0.3696 - accuracy: 0.8585 - val_loss: 0.6319 - val_accuracy: 0.7466\n",
            "Epoch 33/50\n",
            "118/118 [==============================] - 16s 134ms/step - loss: 0.3775 - accuracy: 0.8658 - val_loss: 0.6363 - val_accuracy: 0.7664\n",
            "Epoch 34/50\n",
            "118/118 [==============================] - 16s 134ms/step - loss: 0.4809 - accuracy: 0.8275 - val_loss: 2.3313 - val_accuracy: 0.6458\n",
            "Epoch 35/50\n",
            "118/118 [==============================] - 16s 134ms/step - loss: 0.4888 - accuracy: 0.8131 - val_loss: 1.5210 - val_accuracy: 0.5374\n",
            "Epoch 36/50\n",
            "118/118 [==============================] - 16s 134ms/step - loss: 0.4445 - accuracy: 0.8402 - val_loss: 0.6553 - val_accuracy: 0.7679\n",
            "Epoch 37/50\n",
            "118/118 [==============================] - 16s 134ms/step - loss: 0.3536 - accuracy: 0.8748 - val_loss: 2.2564 - val_accuracy: 0.5145\n",
            "Epoch 38/50\n",
            "118/118 [==============================] - 16s 134ms/step - loss: 0.4350 - accuracy: 0.8481 - val_loss: 1.1264 - val_accuracy: 0.5786\n",
            "Epoch 39/50\n",
            "118/118 [==============================] - 16s 134ms/step - loss: 0.3340 - accuracy: 0.8831 - val_loss: 0.4221 - val_accuracy: 0.8489\n",
            "Epoch 40/50\n",
            "118/118 [==============================] - 16s 134ms/step - loss: 0.3449 - accuracy: 0.8765 - val_loss: 1.0271 - val_accuracy: 0.6153\n",
            "Epoch 41/50\n",
            "118/118 [==============================] - 16s 134ms/step - loss: 0.3521 - accuracy: 0.8696 - val_loss: 0.5786 - val_accuracy: 0.7969\n",
            "Epoch 42/50\n",
            "118/118 [==============================] - 16s 134ms/step - loss: 0.3733 - accuracy: 0.8618 - val_loss: 1.3754 - val_accuracy: 0.4885\n",
            "Epoch 43/50\n",
            "118/118 [==============================] - 16s 133ms/step - loss: 0.3527 - accuracy: 0.8864 - val_loss: 0.4745 - val_accuracy: 0.8244\n",
            "Epoch 44/50\n",
            "118/118 [==============================] - 16s 134ms/step - loss: 0.3039 - accuracy: 0.8862 - val_loss: 0.5619 - val_accuracy: 0.7908\n",
            "Epoch 45/50\n",
            "118/118 [==============================] - 16s 133ms/step - loss: 0.2914 - accuracy: 0.9036 - val_loss: 0.9189 - val_accuracy: 0.6702\n",
            "Epoch 46/50\n",
            "118/118 [==============================] - 16s 133ms/step - loss: 0.5852 - accuracy: 0.8187 - val_loss: 3.0654 - val_accuracy: 0.3221\n",
            "Epoch 47/50\n",
            "118/118 [==============================] - 16s 134ms/step - loss: 0.4869 - accuracy: 0.8343 - val_loss: 0.8730 - val_accuracy: 0.6595\n",
            "Epoch 48/50\n",
            "118/118 [==============================] - 16s 134ms/step - loss: 0.4515 - accuracy: 0.8372 - val_loss: 1.1663 - val_accuracy: 0.5878\n",
            "Epoch 49/50\n",
            "118/118 [==============================] - 16s 134ms/step - loss: 0.4169 - accuracy: 0.8460 - val_loss: 0.8370 - val_accuracy: 0.7115\n",
            "Epoch 50/50\n",
            "118/118 [==============================] - 16s 134ms/step - loss: 0.3839 - accuracy: 0.8513 - val_loss: 0.5130 - val_accuracy: 0.8122\n"
          ],
          "name": "stdout"
        }
      ]
    },
    {
      "cell_type": "markdown",
      "metadata": {
        "id": "D41nGl-l0hVF"
      },
      "source": [
        "###ResNet50 GS"
      ]
    },
    {
      "cell_type": "code",
      "metadata": {
        "id": "AcRNG_9I2O_1"
      },
      "source": [
        "modelResnet50_gs_da = create_resnet_model(50,X_train_gs.shape[1:])"
      ],
      "execution_count": null,
      "outputs": []
    },
    {
      "cell_type": "code",
      "metadata": {
        "colab": {
          "base_uri": "https://localhost:8080/"
        },
        "id": "j103Cspl_Ev0",
        "outputId": "0120cea7-890e-446c-a9df-f5defb5cb6a6"
      },
      "source": [
        "history_modelResnet50_gs_da = modelResnet50_gs_da.fit(datagen.flow(X_train_gs_da, y_train_gs, batch_size=batch_size), epochs=50, validation_data=(X_val_gs, y_val_gs))"
      ],
      "execution_count": null,
      "outputs": [
        {
          "output_type": "stream",
          "text": [
            "Epoch 1/50\n",
            "118/118 [==============================] - 21s 140ms/step - loss: 2.5068 - accuracy: 0.3903 - val_loss: 2.9373 - val_accuracy: 0.2763\n",
            "Epoch 2/50\n",
            "118/118 [==============================] - 16s 132ms/step - loss: 1.1979 - accuracy: 0.5428 - val_loss: 2.6244 - val_accuracy: 0.2794\n",
            "Epoch 3/50\n",
            "118/118 [==============================] - 16s 131ms/step - loss: 1.1994 - accuracy: 0.5826 - val_loss: 1.5853 - val_accuracy: 0.1420\n",
            "Epoch 4/50\n",
            "118/118 [==============================] - 16s 131ms/step - loss: 0.9588 - accuracy: 0.6274 - val_loss: 4.5140 - val_accuracy: 0.2687\n",
            "Epoch 5/50\n",
            "118/118 [==============================] - 16s 132ms/step - loss: 0.9192 - accuracy: 0.6498 - val_loss: 2.6736 - val_accuracy: 0.3511\n",
            "Epoch 6/50\n",
            "118/118 [==============================] - 16s 132ms/step - loss: 0.8965 - accuracy: 0.6479 - val_loss: 1.5046 - val_accuracy: 0.4534\n",
            "Epoch 7/50\n",
            "118/118 [==============================] - 16s 131ms/step - loss: 0.8463 - accuracy: 0.6751 - val_loss: 1.1823 - val_accuracy: 0.5359\n",
            "Epoch 8/50\n",
            "118/118 [==============================] - 16s 132ms/step - loss: 0.7943 - accuracy: 0.6951 - val_loss: 1.3964 - val_accuracy: 0.6489\n",
            "Epoch 9/50\n",
            "118/118 [==============================] - 16s 132ms/step - loss: 0.7098 - accuracy: 0.7478 - val_loss: 2.3657 - val_accuracy: 0.3527\n",
            "Epoch 10/50\n",
            "118/118 [==============================] - 16s 132ms/step - loss: 0.7694 - accuracy: 0.6939 - val_loss: 1.1734 - val_accuracy: 0.6763\n",
            "Epoch 11/50\n",
            "118/118 [==============================] - 16s 132ms/step - loss: 0.6943 - accuracy: 0.7458 - val_loss: 1.1254 - val_accuracy: 0.4931\n",
            "Epoch 12/50\n",
            "118/118 [==============================] - 16s 132ms/step - loss: 0.7086 - accuracy: 0.7230 - val_loss: 2.4562 - val_accuracy: 0.3695\n",
            "Epoch 13/50\n",
            "118/118 [==============================] - 16s 132ms/step - loss: 0.6501 - accuracy: 0.7557 - val_loss: 1.6414 - val_accuracy: 0.3130\n",
            "Epoch 14/50\n",
            "118/118 [==============================] - 16s 132ms/step - loss: 0.5710 - accuracy: 0.7874 - val_loss: 1.0333 - val_accuracy: 0.7313\n",
            "Epoch 15/50\n",
            "118/118 [==============================] - 16s 132ms/step - loss: 0.6283 - accuracy: 0.7663 - val_loss: 1.0181 - val_accuracy: 0.6336\n",
            "Epoch 16/50\n",
            "118/118 [==============================] - 16s 132ms/step - loss: 0.5570 - accuracy: 0.7908 - val_loss: 0.9737 - val_accuracy: 0.5969\n",
            "Epoch 17/50\n",
            "118/118 [==============================] - 16s 131ms/step - loss: 0.8359 - accuracy: 0.6675 - val_loss: 1.8815 - val_accuracy: 0.2565\n",
            "Epoch 18/50\n",
            "118/118 [==============================] - 16s 132ms/step - loss: 0.6294 - accuracy: 0.7703 - val_loss: 3.3611 - val_accuracy: 0.3740\n",
            "Epoch 19/50\n",
            "118/118 [==============================] - 16s 132ms/step - loss: 0.6589 - accuracy: 0.7602 - val_loss: 0.5976 - val_accuracy: 0.7557\n",
            "Epoch 20/50\n",
            "118/118 [==============================] - 16s 132ms/step - loss: 0.5567 - accuracy: 0.7928 - val_loss: 1.5665 - val_accuracy: 0.4290\n",
            "Epoch 21/50\n",
            "118/118 [==============================] - 16s 131ms/step - loss: 0.5408 - accuracy: 0.8057 - val_loss: 2.0371 - val_accuracy: 0.3847\n",
            "Epoch 22/50\n",
            "118/118 [==============================] - 16s 132ms/step - loss: 0.5406 - accuracy: 0.8016 - val_loss: 1.2145 - val_accuracy: 0.5542\n",
            "Epoch 23/50\n",
            "118/118 [==============================] - 16s 132ms/step - loss: 0.5115 - accuracy: 0.8260 - val_loss: 1.6576 - val_accuracy: 0.4794\n",
            "Epoch 24/50\n",
            "118/118 [==============================] - 16s 132ms/step - loss: 0.4629 - accuracy: 0.8250 - val_loss: 0.8930 - val_accuracy: 0.7313\n",
            "Epoch 25/50\n",
            "118/118 [==============================] - 16s 132ms/step - loss: 0.4777 - accuracy: 0.8281 - val_loss: 1.3909 - val_accuracy: 0.6351\n",
            "Epoch 26/50\n",
            "118/118 [==============================] - 16s 132ms/step - loss: 0.4599 - accuracy: 0.8457 - val_loss: 0.5370 - val_accuracy: 0.8092\n",
            "Epoch 27/50\n",
            "118/118 [==============================] - 16s 132ms/step - loss: 0.4526 - accuracy: 0.8395 - val_loss: 0.6978 - val_accuracy: 0.8443\n",
            "Epoch 28/50\n",
            "118/118 [==============================] - 16s 132ms/step - loss: 0.4651 - accuracy: 0.8359 - val_loss: 0.6214 - val_accuracy: 0.7863\n",
            "Epoch 29/50\n",
            "118/118 [==============================] - 16s 132ms/step - loss: 0.4480 - accuracy: 0.8285 - val_loss: 1.1361 - val_accuracy: 0.6305\n",
            "Epoch 30/50\n",
            "118/118 [==============================] - 16s 132ms/step - loss: 0.4086 - accuracy: 0.8427 - val_loss: 1.6836 - val_accuracy: 0.5191\n",
            "Epoch 31/50\n",
            "118/118 [==============================] - 16s 132ms/step - loss: 0.4145 - accuracy: 0.8420 - val_loss: 1.0496 - val_accuracy: 0.7069\n",
            "Epoch 32/50\n",
            "118/118 [==============================] - 16s 132ms/step - loss: 0.4553 - accuracy: 0.8478 - val_loss: 0.5411 - val_accuracy: 0.7985\n",
            "Epoch 33/50\n",
            "118/118 [==============================] - 16s 132ms/step - loss: 0.4224 - accuracy: 0.8593 - val_loss: 3.6352 - val_accuracy: 0.6244\n",
            "Epoch 34/50\n",
            "118/118 [==============================] - 16s 132ms/step - loss: 0.4298 - accuracy: 0.8449 - val_loss: 0.6833 - val_accuracy: 0.7496\n",
            "Epoch 35/50\n",
            "118/118 [==============================] - 16s 132ms/step - loss: 0.3705 - accuracy: 0.8656 - val_loss: 0.6171 - val_accuracy: 0.7435\n",
            "Epoch 36/50\n",
            "118/118 [==============================] - 16s 132ms/step - loss: 0.4679 - accuracy: 0.8435 - val_loss: 3.0198 - val_accuracy: 0.3634\n",
            "Epoch 37/50\n",
            "118/118 [==============================] - 16s 132ms/step - loss: 0.4944 - accuracy: 0.8291 - val_loss: 0.6826 - val_accuracy: 0.7817\n",
            "Epoch 38/50\n",
            "118/118 [==============================] - 16s 132ms/step - loss: 0.3937 - accuracy: 0.8588 - val_loss: 1.9241 - val_accuracy: 0.3573\n",
            "Epoch 39/50\n",
            "118/118 [==============================] - 16s 132ms/step - loss: 0.3880 - accuracy: 0.8606 - val_loss: 1.1133 - val_accuracy: 0.6748\n",
            "Epoch 40/50\n",
            "118/118 [==============================] - 16s 132ms/step - loss: 0.3521 - accuracy: 0.8783 - val_loss: 0.9976 - val_accuracy: 0.6672\n",
            "Epoch 41/50\n",
            "118/118 [==============================] - 16s 132ms/step - loss: 0.3791 - accuracy: 0.8602 - val_loss: 0.4742 - val_accuracy: 0.8290\n",
            "Epoch 42/50\n",
            "118/118 [==============================] - 16s 132ms/step - loss: 0.3731 - accuracy: 0.8754 - val_loss: 0.9260 - val_accuracy: 0.6382\n",
            "Epoch 43/50\n",
            "118/118 [==============================] - 16s 132ms/step - loss: 0.3755 - accuracy: 0.8683 - val_loss: 0.8790 - val_accuracy: 0.6855\n",
            "Epoch 44/50\n",
            "118/118 [==============================] - 16s 132ms/step - loss: 0.4857 - accuracy: 0.8402 - val_loss: 0.5946 - val_accuracy: 0.7649\n",
            "Epoch 45/50\n",
            "118/118 [==============================] - 16s 132ms/step - loss: 0.4530 - accuracy: 0.8388 - val_loss: 0.6102 - val_accuracy: 0.7710\n",
            "Epoch 46/50\n",
            "118/118 [==============================] - 16s 132ms/step - loss: 0.4135 - accuracy: 0.8582 - val_loss: 0.4014 - val_accuracy: 0.8626\n",
            "Epoch 47/50\n",
            "118/118 [==============================] - 16s 132ms/step - loss: 0.3135 - accuracy: 0.8878 - val_loss: 1.3293 - val_accuracy: 0.5496\n",
            "Epoch 48/50\n",
            "118/118 [==============================] - 16s 132ms/step - loss: 0.3986 - accuracy: 0.8589 - val_loss: 0.6614 - val_accuracy: 0.8290\n",
            "Epoch 49/50\n",
            "118/118 [==============================] - 16s 131ms/step - loss: 0.3464 - accuracy: 0.8845 - val_loss: 0.4575 - val_accuracy: 0.8427\n",
            "Epoch 50/50\n",
            "118/118 [==============================] - 16s 132ms/step - loss: 0.3098 - accuracy: 0.8926 - val_loss: 0.6939 - val_accuracy: 0.7237\n"
          ],
          "name": "stdout"
        }
      ]
    },
    {
      "cell_type": "markdown",
      "metadata": {
        "id": "yaJD-oTb0lbV"
      },
      "source": [
        "###ResNet50 RGB With TFL"
      ]
    },
    {
      "cell_type": "code",
      "metadata": {
        "id": "bcMNMIDV2UDF",
        "colab": {
          "base_uri": "https://localhost:8080/"
        },
        "outputId": "232b9c70-abcb-4e00-fbf9-c88ea92661dd"
      },
      "source": [
        "modelResnet50_tfl_da = create_resnet_model(50,X_train_rgb.shape[1:],True)"
      ],
      "execution_count": null,
      "outputs": [
        {
          "output_type": "stream",
          "text": [
            "Downloading data from https://storage.googleapis.com/tensorflow/keras-applications/resnet/resnet50_weights_tf_dim_ordering_tf_kernels_notop.h5\n",
            "94773248/94765736 [==============================] - 2s 0us/step\n"
          ],
          "name": "stdout"
        }
      ]
    },
    {
      "cell_type": "code",
      "metadata": {
        "colab": {
          "base_uri": "https://localhost:8080/"
        },
        "id": "qaOE_INK_OZ_",
        "outputId": "2b820da9-3e8f-4f53-a009-656710ff7dc7"
      },
      "source": [
        "history_modelResnet50_tfl_da = modelResnet50_tfl_da.fit(datagen.flow(X_train_rgb_da, y_train_rgb, batch_size=batch_size), epochs=50, validation_data=(X_val_rgb, y_val_rgb))"
      ],
      "execution_count": null,
      "outputs": [
        {
          "output_type": "stream",
          "text": [
            "Epoch 1/50\n",
            "118/118 [==============================] - 51s 154ms/step - loss: 3.3972 - accuracy: 0.2929 - val_loss: 1.4619 - val_accuracy: 0.2992\n",
            "Epoch 2/50\n",
            "118/118 [==============================] - 16s 131ms/step - loss: 1.3382 - accuracy: 0.3523 - val_loss: 1.3388 - val_accuracy: 0.3328\n",
            "Epoch 3/50\n",
            "118/118 [==============================] - 16s 132ms/step - loss: 1.3147 - accuracy: 0.3496 - val_loss: 1.3531 - val_accuracy: 0.3817\n",
            "Epoch 4/50\n",
            "118/118 [==============================] - 15s 131ms/step - loss: 1.2845 - accuracy: 0.3647 - val_loss: 1.3677 - val_accuracy: 0.3771\n",
            "Epoch 5/50\n",
            "118/118 [==============================] - 16s 131ms/step - loss: 1.2924 - accuracy: 0.3666 - val_loss: 1.2991 - val_accuracy: 0.3756\n",
            "Epoch 6/50\n",
            "118/118 [==============================] - 16s 131ms/step - loss: 1.2847 - accuracy: 0.3741 - val_loss: 1.2314 - val_accuracy: 0.4382\n",
            "Epoch 7/50\n",
            "118/118 [==============================] - 16s 131ms/step - loss: 1.2788 - accuracy: 0.3696 - val_loss: 1.2620 - val_accuracy: 0.4412\n",
            "Epoch 8/50\n",
            "118/118 [==============================] - 16s 131ms/step - loss: 1.2864 - accuracy: 0.3750 - val_loss: 1.2246 - val_accuracy: 0.4305\n",
            "Epoch 9/50\n",
            "118/118 [==============================] - 16s 132ms/step - loss: 1.2641 - accuracy: 0.3853 - val_loss: 1.3363 - val_accuracy: 0.3786\n",
            "Epoch 10/50\n",
            "118/118 [==============================] - 16s 132ms/step - loss: 1.2780 - accuracy: 0.3655 - val_loss: 1.2067 - val_accuracy: 0.5099\n",
            "Epoch 11/50\n",
            "118/118 [==============================] - 15s 130ms/step - loss: 1.2844 - accuracy: 0.3511 - val_loss: 1.2555 - val_accuracy: 0.4244\n",
            "Epoch 12/50\n",
            "118/118 [==============================] - 15s 130ms/step - loss: 1.2675 - accuracy: 0.3837 - val_loss: 1.2826 - val_accuracy: 0.3878\n",
            "Epoch 13/50\n",
            "118/118 [==============================] - 15s 130ms/step - loss: 1.2712 - accuracy: 0.3575 - val_loss: 1.2845 - val_accuracy: 0.4183\n",
            "Epoch 14/50\n",
            "118/118 [==============================] - 16s 131ms/step - loss: 1.2638 - accuracy: 0.4055 - val_loss: 1.1888 - val_accuracy: 0.4931\n",
            "Epoch 15/50\n",
            "118/118 [==============================] - 16s 132ms/step - loss: 1.2507 - accuracy: 0.4032 - val_loss: 1.2038 - val_accuracy: 0.4748\n",
            "Epoch 16/50\n",
            "118/118 [==============================] - 15s 131ms/step - loss: 1.2577 - accuracy: 0.4120 - val_loss: 1.1906 - val_accuracy: 0.4351\n",
            "Epoch 17/50\n",
            "118/118 [==============================] - 16s 132ms/step - loss: 1.2440 - accuracy: 0.4086 - val_loss: 1.2167 - val_accuracy: 0.4763\n",
            "Epoch 18/50\n",
            "118/118 [==============================] - 16s 133ms/step - loss: 1.2766 - accuracy: 0.3678 - val_loss: 1.2484 - val_accuracy: 0.4366\n",
            "Epoch 19/50\n",
            "118/118 [==============================] - 16s 132ms/step - loss: 1.2466 - accuracy: 0.3978 - val_loss: 1.1725 - val_accuracy: 0.4305\n",
            "Epoch 20/50\n",
            "118/118 [==============================] - 16s 131ms/step - loss: 1.2390 - accuracy: 0.4295 - val_loss: 1.1955 - val_accuracy: 0.4244\n",
            "Epoch 21/50\n",
            "118/118 [==============================] - 16s 131ms/step - loss: 1.2084 - accuracy: 0.4463 - val_loss: 1.2242 - val_accuracy: 0.4687\n",
            "Epoch 22/50\n",
            "118/118 [==============================] - 16s 131ms/step - loss: 1.2201 - accuracy: 0.4203 - val_loss: 1.1540 - val_accuracy: 0.4855\n",
            "Epoch 23/50\n",
            "118/118 [==============================] - 16s 131ms/step - loss: 1.2264 - accuracy: 0.4061 - val_loss: 1.1670 - val_accuracy: 0.4916\n",
            "Epoch 24/50\n",
            "118/118 [==============================] - 15s 130ms/step - loss: 1.2295 - accuracy: 0.4077 - val_loss: 1.1083 - val_accuracy: 0.5527\n",
            "Epoch 25/50\n",
            "118/118 [==============================] - 15s 131ms/step - loss: 1.2187 - accuracy: 0.4131 - val_loss: 1.1744 - val_accuracy: 0.4672\n",
            "Epoch 26/50\n",
            "118/118 [==============================] - 15s 131ms/step - loss: 1.2160 - accuracy: 0.4337 - val_loss: 1.1655 - val_accuracy: 0.4412\n",
            "Epoch 27/50\n",
            "118/118 [==============================] - 15s 131ms/step - loss: 1.2340 - accuracy: 0.4058 - val_loss: 1.1940 - val_accuracy: 0.3969\n",
            "Epoch 28/50\n",
            "118/118 [==============================] - 16s 132ms/step - loss: 1.2419 - accuracy: 0.3958 - val_loss: 1.1988 - val_accuracy: 0.4565\n",
            "Epoch 29/50\n",
            "118/118 [==============================] - 16s 132ms/step - loss: 1.2575 - accuracy: 0.4166 - val_loss: 1.1782 - val_accuracy: 0.4779\n",
            "Epoch 30/50\n",
            "118/118 [==============================] - 16s 132ms/step - loss: 1.2250 - accuracy: 0.4264 - val_loss: 1.1797 - val_accuracy: 0.4244\n",
            "Epoch 31/50\n",
            "118/118 [==============================] - 16s 132ms/step - loss: 1.2364 - accuracy: 0.4016 - val_loss: 1.1227 - val_accuracy: 0.5527\n",
            "Epoch 32/50\n",
            "118/118 [==============================] - 15s 131ms/step - loss: 1.2339 - accuracy: 0.4088 - val_loss: 1.0997 - val_accuracy: 0.5344\n",
            "Epoch 33/50\n",
            "118/118 [==============================] - 15s 131ms/step - loss: 1.2333 - accuracy: 0.4252 - val_loss: 1.1018 - val_accuracy: 0.5847\n",
            "Epoch 34/50\n",
            "118/118 [==============================] - 16s 132ms/step - loss: 1.2438 - accuracy: 0.4083 - val_loss: 1.1368 - val_accuracy: 0.4947\n",
            "Epoch 35/50\n",
            "118/118 [==============================] - 16s 132ms/step - loss: 1.2396 - accuracy: 0.3973 - val_loss: 1.0979 - val_accuracy: 0.5710\n",
            "Epoch 36/50\n",
            "118/118 [==============================] - 16s 131ms/step - loss: 1.2466 - accuracy: 0.3966 - val_loss: 1.1233 - val_accuracy: 0.4901\n",
            "Epoch 37/50\n",
            "118/118 [==============================] - 16s 131ms/step - loss: 1.2358 - accuracy: 0.4177 - val_loss: 1.1145 - val_accuracy: 0.4855\n",
            "Epoch 38/50\n",
            "118/118 [==============================] - 16s 131ms/step - loss: 1.2290 - accuracy: 0.4090 - val_loss: 1.0999 - val_accuracy: 0.5313\n",
            "Epoch 39/50\n",
            "118/118 [==============================] - 16s 132ms/step - loss: 1.2174 - accuracy: 0.4157 - val_loss: 1.1005 - val_accuracy: 0.5160\n",
            "Epoch 40/50\n",
            "118/118 [==============================] - 16s 132ms/step - loss: 1.2296 - accuracy: 0.3976 - val_loss: 1.1015 - val_accuracy: 0.5298\n",
            "Epoch 41/50\n",
            "118/118 [==============================] - 16s 132ms/step - loss: 1.2138 - accuracy: 0.4181 - val_loss: 1.1592 - val_accuracy: 0.4733\n",
            "Epoch 42/50\n",
            "118/118 [==============================] - 16s 132ms/step - loss: 1.2236 - accuracy: 0.4260 - val_loss: 1.1255 - val_accuracy: 0.5588\n",
            "Epoch 43/50\n",
            "118/118 [==============================] - 16s 132ms/step - loss: 1.2326 - accuracy: 0.4168 - val_loss: 1.1181 - val_accuracy: 0.5069\n",
            "Epoch 44/50\n",
            "118/118 [==============================] - 16s 132ms/step - loss: 1.2155 - accuracy: 0.4295 - val_loss: 1.0978 - val_accuracy: 0.5176\n",
            "Epoch 45/50\n",
            "118/118 [==============================] - 16s 132ms/step - loss: 1.1987 - accuracy: 0.4338 - val_loss: 1.1087 - val_accuracy: 0.5130\n",
            "Epoch 46/50\n",
            "118/118 [==============================] - 16s 133ms/step - loss: 1.2199 - accuracy: 0.4420 - val_loss: 1.1093 - val_accuracy: 0.5053\n",
            "Epoch 47/50\n",
            "118/118 [==============================] - 16s 132ms/step - loss: 1.2060 - accuracy: 0.4242 - val_loss: 1.0851 - val_accuracy: 0.5573\n",
            "Epoch 48/50\n",
            "118/118 [==============================] - 16s 132ms/step - loss: 1.2190 - accuracy: 0.4281 - val_loss: 1.0775 - val_accuracy: 0.5435\n",
            "Epoch 49/50\n",
            "118/118 [==============================] - 16s 132ms/step - loss: 1.2024 - accuracy: 0.4338 - val_loss: 1.0600 - val_accuracy: 0.5771\n",
            "Epoch 50/50\n",
            "118/118 [==============================] - 16s 132ms/step - loss: 1.2419 - accuracy: 0.4107 - val_loss: 1.0999 - val_accuracy: 0.5496\n"
          ],
          "name": "stdout"
        }
      ]
    },
    {
      "cell_type": "markdown",
      "metadata": {
        "id": "ibOvoYzJ0rxd"
      },
      "source": [
        "###ResNet101 RGB"
      ]
    },
    {
      "cell_type": "code",
      "metadata": {
        "id": "xrXwpjdZ3B8W"
      },
      "source": [
        "modelResnet101_rgb_da = create_resnet_model(101,X_train_rgb.shape[1:])"
      ],
      "execution_count": null,
      "outputs": []
    },
    {
      "cell_type": "code",
      "metadata": {
        "colab": {
          "base_uri": "https://localhost:8080/"
        },
        "id": "IX2kksnH1yIm",
        "outputId": "5e0c84d7-55ea-4a4c-df4d-5632c3577ffb"
      },
      "source": [
        "history_modelResnet101_rgb_da = modelResnet101_rgb_da.fit(datagen.flow(X_train_rgb_da, y_train_rgb, batch_size=batch_size), epochs=50, validation_data=(X_val_rgb, y_val_rgb))"
      ],
      "execution_count": null,
      "outputs": [
        {
          "output_type": "stream",
          "text": [
            "Epoch 1/50\n",
            "118/118 [==============================] - 33s 194ms/step - loss: 2.3102 - accuracy: 0.3441 - val_loss: 2.9435 - val_accuracy: 0.2763\n",
            "Epoch 2/50\n",
            "118/118 [==============================] - 20s 169ms/step - loss: 1.1763 - accuracy: 0.5250 - val_loss: 1.8352 - val_accuracy: 0.3511\n",
            "Epoch 3/50\n",
            "118/118 [==============================] - 20s 169ms/step - loss: 1.1145 - accuracy: 0.5546 - val_loss: 1.6789 - val_accuracy: 0.3573\n",
            "Epoch 4/50\n",
            "118/118 [==============================] - 20s 167ms/step - loss: 1.0826 - accuracy: 0.5280 - val_loss: 301.0989 - val_accuracy: 0.3053\n",
            "Epoch 5/50\n",
            "118/118 [==============================] - 20s 166ms/step - loss: 1.1304 - accuracy: 0.5120 - val_loss: 1.5056 - val_accuracy: 0.4580\n",
            "Epoch 6/50\n",
            "118/118 [==============================] - 20s 168ms/step - loss: 1.0549 - accuracy: 0.5572 - val_loss: 0.9810 - val_accuracy: 0.5817\n",
            "Epoch 7/50\n",
            "118/118 [==============================] - 20s 168ms/step - loss: 0.9752 - accuracy: 0.5969 - val_loss: 1.6002 - val_accuracy: 0.3878\n",
            "Epoch 8/50\n",
            "118/118 [==============================] - 20s 167ms/step - loss: 0.9558 - accuracy: 0.6211 - val_loss: 7.0711 - val_accuracy: 0.3817\n",
            "Epoch 9/50\n",
            "118/118 [==============================] - 20s 166ms/step - loss: 0.9287 - accuracy: 0.6198 - val_loss: 1.0487 - val_accuracy: 0.5573\n",
            "Epoch 10/50\n",
            "118/118 [==============================] - 20s 167ms/step - loss: 0.8276 - accuracy: 0.6799 - val_loss: 5.5877 - val_accuracy: 0.4672\n",
            "Epoch 11/50\n",
            "118/118 [==============================] - 20s 167ms/step - loss: 0.9242 - accuracy: 0.6389 - val_loss: 0.8801 - val_accuracy: 0.6794\n",
            "Epoch 12/50\n",
            "118/118 [==============================] - 20s 167ms/step - loss: 0.8225 - accuracy: 0.6865 - val_loss: 0.8640 - val_accuracy: 0.6855\n",
            "Epoch 13/50\n",
            "118/118 [==============================] - 20s 167ms/step - loss: 0.8164 - accuracy: 0.6847 - val_loss: 1.1965 - val_accuracy: 0.5466\n",
            "Epoch 14/50\n",
            "118/118 [==============================] - 20s 167ms/step - loss: 0.7317 - accuracy: 0.7277 - val_loss: 1.6393 - val_accuracy: 0.6779\n",
            "Epoch 15/50\n",
            "118/118 [==============================] - 20s 168ms/step - loss: 0.6962 - accuracy: 0.7319 - val_loss: 1.2894 - val_accuracy: 0.5328\n",
            "Epoch 16/50\n",
            "118/118 [==============================] - 20s 168ms/step - loss: 0.7046 - accuracy: 0.7367 - val_loss: 3.5584 - val_accuracy: 0.5664\n",
            "Epoch 17/50\n",
            "118/118 [==============================] - 20s 168ms/step - loss: 0.7211 - accuracy: 0.7353 - val_loss: 0.9447 - val_accuracy: 0.6321\n",
            "Epoch 18/50\n",
            "118/118 [==============================] - 20s 167ms/step - loss: 0.6308 - accuracy: 0.7745 - val_loss: 2.0870 - val_accuracy: 0.2916\n",
            "Epoch 19/50\n",
            "118/118 [==============================] - 20s 167ms/step - loss: 0.6865 - accuracy: 0.7325 - val_loss: 0.8073 - val_accuracy: 0.7221\n",
            "Epoch 20/50\n",
            "118/118 [==============================] - 20s 168ms/step - loss: 0.5897 - accuracy: 0.7833 - val_loss: 1.5515 - val_accuracy: 0.3985\n",
            "Epoch 21/50\n",
            "118/118 [==============================] - 20s 168ms/step - loss: 0.6055 - accuracy: 0.7904 - val_loss: 3.0594 - val_accuracy: 0.5237\n",
            "Epoch 22/50\n",
            "118/118 [==============================] - 20s 167ms/step - loss: 0.6288 - accuracy: 0.7702 - val_loss: 0.9030 - val_accuracy: 0.6412\n",
            "Epoch 23/50\n",
            "118/118 [==============================] - 20s 167ms/step - loss: 0.6466 - accuracy: 0.7712 - val_loss: 0.9199 - val_accuracy: 0.6260\n",
            "Epoch 24/50\n",
            "118/118 [==============================] - 20s 167ms/step - loss: 0.6271 - accuracy: 0.7583 - val_loss: 2.0904 - val_accuracy: 0.3725\n",
            "Epoch 25/50\n",
            "118/118 [==============================] - 20s 168ms/step - loss: 0.6481 - accuracy: 0.7594 - val_loss: 0.9401 - val_accuracy: 0.6427\n",
            "Epoch 26/50\n",
            "118/118 [==============================] - 20s 168ms/step - loss: 0.5740 - accuracy: 0.8001 - val_loss: 4.4401 - val_accuracy: 0.6382\n",
            "Epoch 27/50\n",
            "118/118 [==============================] - 20s 167ms/step - loss: 0.5604 - accuracy: 0.8038 - val_loss: 0.5137 - val_accuracy: 0.8107\n",
            "Epoch 28/50\n",
            "118/118 [==============================] - 20s 167ms/step - loss: 0.5238 - accuracy: 0.8140 - val_loss: 0.8333 - val_accuracy: 0.7389\n",
            "Epoch 29/50\n",
            "118/118 [==============================] - 20s 167ms/step - loss: 0.4997 - accuracy: 0.8232 - val_loss: 0.6985 - val_accuracy: 0.7573\n",
            "Epoch 30/50\n",
            "118/118 [==============================] - 20s 167ms/step - loss: 0.4933 - accuracy: 0.8261 - val_loss: 1.9455 - val_accuracy: 0.4198\n",
            "Epoch 31/50\n",
            "118/118 [==============================] - 20s 167ms/step - loss: 0.5982 - accuracy: 0.7857 - val_loss: 2.0245 - val_accuracy: 0.6901\n",
            "Epoch 32/50\n",
            "118/118 [==============================] - 20s 167ms/step - loss: 0.6367 - accuracy: 0.7610 - val_loss: 0.7733 - val_accuracy: 0.7298\n",
            "Epoch 33/50\n",
            "118/118 [==============================] - 20s 167ms/step - loss: 0.5364 - accuracy: 0.8059 - val_loss: 1.3129 - val_accuracy: 0.5023\n",
            "Epoch 34/50\n",
            "118/118 [==============================] - 20s 168ms/step - loss: 0.5801 - accuracy: 0.7961 - val_loss: 0.8876 - val_accuracy: 0.6489\n",
            "Epoch 35/50\n",
            "118/118 [==============================] - 20s 168ms/step - loss: 0.4735 - accuracy: 0.8211 - val_loss: 1.3154 - val_accuracy: 0.5115\n",
            "Epoch 36/50\n",
            "118/118 [==============================] - 20s 168ms/step - loss: 0.5814 - accuracy: 0.7880 - val_loss: 155.1603 - val_accuracy: 0.1771\n",
            "Epoch 37/50\n",
            "118/118 [==============================] - 20s 168ms/step - loss: 0.6756 - accuracy: 0.7377 - val_loss: 0.9174 - val_accuracy: 0.6824\n",
            "Epoch 38/50\n",
            "118/118 [==============================] - 20s 167ms/step - loss: 0.5316 - accuracy: 0.8084 - val_loss: 2.2139 - val_accuracy: 0.4565\n",
            "Epoch 39/50\n",
            "118/118 [==============================] - 20s 167ms/step - loss: 0.6726 - accuracy: 0.7538 - val_loss: 9.2485 - val_accuracy: 0.2473\n",
            "Epoch 40/50\n",
            "118/118 [==============================] - 20s 167ms/step - loss: 0.6690 - accuracy: 0.7446 - val_loss: 1.4238 - val_accuracy: 0.3481\n",
            "Epoch 41/50\n",
            "118/118 [==============================] - 20s 168ms/step - loss: 0.5350 - accuracy: 0.8018 - val_loss: 2.4510 - val_accuracy: 0.3573\n",
            "Epoch 42/50\n",
            "118/118 [==============================] - 20s 167ms/step - loss: 0.5901 - accuracy: 0.7853 - val_loss: 0.7773 - val_accuracy: 0.7053\n",
            "Epoch 43/50\n",
            "118/118 [==============================] - 20s 167ms/step - loss: 0.4136 - accuracy: 0.8477 - val_loss: 1.2003 - val_accuracy: 0.5878\n",
            "Epoch 44/50\n",
            "118/118 [==============================] - 20s 167ms/step - loss: 0.4401 - accuracy: 0.8471 - val_loss: 0.9429 - val_accuracy: 0.6260\n",
            "Epoch 45/50\n",
            "118/118 [==============================] - 20s 167ms/step - loss: 0.4333 - accuracy: 0.8381 - val_loss: 2.4514 - val_accuracy: 0.3679\n",
            "Epoch 46/50\n",
            "118/118 [==============================] - 20s 167ms/step - loss: 0.4782 - accuracy: 0.8248 - val_loss: 0.4110 - val_accuracy: 0.8733\n",
            "Epoch 47/50\n",
            "118/118 [==============================] - 20s 167ms/step - loss: 0.4254 - accuracy: 0.8503 - val_loss: 0.5497 - val_accuracy: 0.8000\n",
            "Epoch 48/50\n",
            "118/118 [==============================] - 20s 167ms/step - loss: 0.4594 - accuracy: 0.8423 - val_loss: 1.0032 - val_accuracy: 0.5756\n",
            "Epoch 49/50\n",
            "118/118 [==============================] - 20s 168ms/step - loss: 0.4653 - accuracy: 0.8302 - val_loss: 1.8785 - val_accuracy: 0.4489\n",
            "Epoch 50/50\n",
            "118/118 [==============================] - 20s 168ms/step - loss: 0.5091 - accuracy: 0.8163 - val_loss: 2.8205 - val_accuracy: 0.7374\n"
          ],
          "name": "stdout"
        }
      ]
    },
    {
      "cell_type": "markdown",
      "metadata": {
        "id": "_1uwFjml0wM4"
      },
      "source": [
        "###ResNet101 GS"
      ]
    },
    {
      "cell_type": "code",
      "metadata": {
        "id": "lx2ctjrN3DGF"
      },
      "source": [
        "modelResnet101_gs_da = create_resnet_model(101,X_train_gs.shape[1:])"
      ],
      "execution_count": null,
      "outputs": []
    },
    {
      "cell_type": "code",
      "metadata": {
        "colab": {
          "base_uri": "https://localhost:8080/"
        },
        "id": "ZsrHY9Br17ZW",
        "outputId": "333ed0b0-442b-4784-f96a-bf1ff8685bd8"
      },
      "source": [
        "history_modelResnet101_gs_da = modelResnet101_gs_da.fit(datagen.flow(X_train_gs_da, y_train_gs, batch_size=batch_size), epochs=50, validation_data=(X_val_gs, y_val_gs))"
      ],
      "execution_count": null,
      "outputs": [
        {
          "output_type": "stream",
          "text": [
            "Epoch 1/50\n",
            "118/118 [==============================] - 30s 180ms/step - loss: 2.4597 - accuracy: 0.3900 - val_loss: 2.6078 - val_accuracy: 0.2763\n",
            "Epoch 2/50\n",
            "118/118 [==============================] - 20s 167ms/step - loss: 1.1697 - accuracy: 0.5454 - val_loss: 1.7395 - val_accuracy: 0.3863\n",
            "Epoch 3/50\n",
            "118/118 [==============================] - 19s 165ms/step - loss: 1.1194 - accuracy: 0.5307 - val_loss: 2.1464 - val_accuracy: 0.3053\n",
            "Epoch 4/50\n",
            "118/118 [==============================] - 19s 163ms/step - loss: 0.9507 - accuracy: 0.6272 - val_loss: 2.9461 - val_accuracy: 0.3069\n",
            "Epoch 5/50\n",
            "118/118 [==============================] - 19s 164ms/step - loss: 0.9849 - accuracy: 0.6112 - val_loss: 12.1090 - val_accuracy: 0.1740\n",
            "Epoch 6/50\n",
            "118/118 [==============================] - 19s 165ms/step - loss: 0.9035 - accuracy: 0.6454 - val_loss: 33.0573 - val_accuracy: 0.1863\n",
            "Epoch 7/50\n",
            "118/118 [==============================] - 19s 165ms/step - loss: 0.9360 - accuracy: 0.6132 - val_loss: 1.3840 - val_accuracy: 0.4656\n",
            "Epoch 8/50\n",
            "118/118 [==============================] - 19s 164ms/step - loss: 0.8340 - accuracy: 0.6651 - val_loss: 1.3160 - val_accuracy: 0.6489\n",
            "Epoch 9/50\n",
            "118/118 [==============================] - 19s 164ms/step - loss: 0.8376 - accuracy: 0.6802 - val_loss: 1.1977 - val_accuracy: 0.4824\n",
            "Epoch 10/50\n",
            "118/118 [==============================] - 19s 165ms/step - loss: 0.7265 - accuracy: 0.7044 - val_loss: 0.9958 - val_accuracy: 0.5603\n",
            "Epoch 11/50\n",
            "118/118 [==============================] - 19s 165ms/step - loss: 0.7601 - accuracy: 0.6802 - val_loss: 0.9280 - val_accuracy: 0.6397\n",
            "Epoch 12/50\n",
            "118/118 [==============================] - 19s 165ms/step - loss: 0.7644 - accuracy: 0.7005 - val_loss: 1.2832 - val_accuracy: 0.5771\n",
            "Epoch 13/50\n",
            "118/118 [==============================] - 19s 165ms/step - loss: 0.7041 - accuracy: 0.7292 - val_loss: 1.9316 - val_accuracy: 0.4748\n",
            "Epoch 14/50\n",
            "118/118 [==============================] - 19s 164ms/step - loss: 0.8474 - accuracy: 0.6822 - val_loss: 2.0160 - val_accuracy: 0.3786\n",
            "Epoch 15/50\n",
            "118/118 [==============================] - 19s 165ms/step - loss: 0.7049 - accuracy: 0.7335 - val_loss: 0.5933 - val_accuracy: 0.8000\n",
            "Epoch 16/50\n",
            "118/118 [==============================] - 19s 165ms/step - loss: 0.6058 - accuracy: 0.7749 - val_loss: 2.0202 - val_accuracy: 0.4137\n",
            "Epoch 17/50\n",
            "118/118 [==============================] - 19s 165ms/step - loss: 0.5568 - accuracy: 0.7850 - val_loss: 1.0075 - val_accuracy: 0.6366\n",
            "Epoch 18/50\n",
            "118/118 [==============================] - 20s 165ms/step - loss: 0.5864 - accuracy: 0.7830 - val_loss: 0.6889 - val_accuracy: 0.7313\n",
            "Epoch 19/50\n",
            "118/118 [==============================] - 19s 165ms/step - loss: 0.6310 - accuracy: 0.7826 - val_loss: 334.3120 - val_accuracy: 0.2763\n",
            "Epoch 20/50\n",
            "118/118 [==============================] - 19s 165ms/step - loss: 0.8125 - accuracy: 0.7217 - val_loss: 15.6475 - val_accuracy: 0.2656\n",
            "Epoch 21/50\n",
            "118/118 [==============================] - 19s 164ms/step - loss: 0.6918 - accuracy: 0.7453 - val_loss: 2.5483 - val_accuracy: 0.6534\n",
            "Epoch 22/50\n",
            "118/118 [==============================] - 19s 165ms/step - loss: 0.6434 - accuracy: 0.7757 - val_loss: 8.2593 - val_accuracy: 0.1786\n",
            "Epoch 23/50\n",
            "118/118 [==============================] - 19s 165ms/step - loss: 0.8975 - accuracy: 0.6414 - val_loss: 72.8904 - val_accuracy: 0.2779\n",
            "Epoch 24/50\n",
            "118/118 [==============================] - 19s 164ms/step - loss: 0.8167 - accuracy: 0.6755 - val_loss: 2.4867 - val_accuracy: 0.4977\n",
            "Epoch 25/50\n",
            "118/118 [==============================] - 19s 164ms/step - loss: 0.6746 - accuracy: 0.7519 - val_loss: 6.0589 - val_accuracy: 0.5374\n",
            "Epoch 26/50\n",
            "118/118 [==============================] - 19s 165ms/step - loss: 0.7902 - accuracy: 0.7211 - val_loss: 1.1264 - val_accuracy: 0.5298\n",
            "Epoch 27/50\n",
            "118/118 [==============================] - 19s 165ms/step - loss: 0.6556 - accuracy: 0.7441 - val_loss: 1.2976 - val_accuracy: 0.5511\n",
            "Epoch 28/50\n",
            "118/118 [==============================] - 19s 165ms/step - loss: 0.6089 - accuracy: 0.7764 - val_loss: 1.9351 - val_accuracy: 0.5695\n",
            "Epoch 29/50\n",
            "118/118 [==============================] - 19s 165ms/step - loss: 0.5919 - accuracy: 0.7840 - val_loss: 4.3701 - val_accuracy: 0.4214\n",
            "Epoch 30/50\n",
            "118/118 [==============================] - 19s 165ms/step - loss: 0.5496 - accuracy: 0.8002 - val_loss: 0.5862 - val_accuracy: 0.8229\n",
            "Epoch 31/50\n",
            "118/118 [==============================] - 19s 164ms/step - loss: 0.4888 - accuracy: 0.8302 - val_loss: 0.8136 - val_accuracy: 0.6809\n",
            "Epoch 32/50\n",
            "118/118 [==============================] - 19s 164ms/step - loss: 0.5382 - accuracy: 0.8057 - val_loss: 1.2042 - val_accuracy: 0.6412\n",
            "Epoch 33/50\n",
            "118/118 [==============================] - 20s 166ms/step - loss: 0.5237 - accuracy: 0.8110 - val_loss: 1.1366 - val_accuracy: 0.6595\n",
            "Epoch 34/50\n",
            "118/118 [==============================] - 20s 165ms/step - loss: 0.5164 - accuracy: 0.8137 - val_loss: 0.9712 - val_accuracy: 0.7267\n",
            "Epoch 35/50\n",
            "118/118 [==============================] - 19s 164ms/step - loss: 0.5798 - accuracy: 0.8006 - val_loss: 6.1204 - val_accuracy: 0.2198\n",
            "Epoch 36/50\n",
            "118/118 [==============================] - 19s 164ms/step - loss: 0.9287 - accuracy: 0.6626 - val_loss: 2.5069 - val_accuracy: 0.3695\n",
            "Epoch 37/50\n",
            "118/118 [==============================] - 19s 164ms/step - loss: 0.5979 - accuracy: 0.7772 - val_loss: 1.4619 - val_accuracy: 0.4809\n",
            "Epoch 38/50\n",
            "118/118 [==============================] - 19s 164ms/step - loss: 0.4853 - accuracy: 0.8379 - val_loss: 0.4649 - val_accuracy: 0.8427\n",
            "Epoch 39/50\n",
            "118/118 [==============================] - 19s 165ms/step - loss: 0.4375 - accuracy: 0.8526 - val_loss: 0.8996 - val_accuracy: 0.6656\n",
            "Epoch 40/50\n",
            "118/118 [==============================] - 19s 164ms/step - loss: 0.4974 - accuracy: 0.8309 - val_loss: 0.8150 - val_accuracy: 0.6931\n",
            "Epoch 41/50\n",
            "118/118 [==============================] - 19s 164ms/step - loss: 0.4869 - accuracy: 0.8207 - val_loss: 2.3635 - val_accuracy: 0.3450\n",
            "Epoch 42/50\n",
            "118/118 [==============================] - 19s 164ms/step - loss: 0.6180 - accuracy: 0.7745 - val_loss: 1.9257 - val_accuracy: 0.5832\n",
            "Epoch 43/50\n",
            "118/118 [==============================] - 19s 165ms/step - loss: 0.8494 - accuracy: 0.6838 - val_loss: 145.7748 - val_accuracy: 0.2824\n",
            "Epoch 44/50\n",
            "118/118 [==============================] - 19s 164ms/step - loss: 0.9330 - accuracy: 0.6132 - val_loss: 1.9890 - val_accuracy: 0.5282\n",
            "Epoch 45/50\n",
            "118/118 [==============================] - 20s 165ms/step - loss: 0.7696 - accuracy: 0.6908 - val_loss: 0.8832 - val_accuracy: 0.5740\n",
            "Epoch 46/50\n",
            "118/118 [==============================] - 19s 165ms/step - loss: 0.6455 - accuracy: 0.7412 - val_loss: 0.7445 - val_accuracy: 0.6885\n",
            "Epoch 47/50\n",
            "118/118 [==============================] - 19s 165ms/step - loss: 0.5524 - accuracy: 0.7867 - val_loss: 0.8258 - val_accuracy: 0.6855\n",
            "Epoch 48/50\n",
            "118/118 [==============================] - 19s 165ms/step - loss: 0.4976 - accuracy: 0.8157 - val_loss: 0.5256 - val_accuracy: 0.8092\n",
            "Epoch 49/50\n",
            "118/118 [==============================] - 19s 165ms/step - loss: 0.5165 - accuracy: 0.8197 - val_loss: 1.6256 - val_accuracy: 0.6061\n",
            "Epoch 50/50\n",
            "118/118 [==============================] - 19s 165ms/step - loss: 0.5116 - accuracy: 0.8082 - val_loss: 0.4669 - val_accuracy: 0.8305\n"
          ],
          "name": "stdout"
        }
      ]
    },
    {
      "cell_type": "markdown",
      "metadata": {
        "id": "Yl8FMqvD0xzY"
      },
      "source": [
        "###ResNet101 RGB With TFL"
      ]
    },
    {
      "cell_type": "code",
      "metadata": {
        "id": "WMVUOpnR3Fqu",
        "colab": {
          "base_uri": "https://localhost:8080/"
        },
        "outputId": "a807f3d5-288c-4cb4-d6f9-c5a571a473a8"
      },
      "source": [
        "modelResnet101_tfl_da = create_resnet_model(101,X_train_rgb.shape[1:], True)"
      ],
      "execution_count": null,
      "outputs": [
        {
          "output_type": "stream",
          "text": [
            "Downloading data from https://storage.googleapis.com/tensorflow/keras-applications/resnet/resnet101_weights_tf_dim_ordering_tf_kernels_notop.h5\n",
            "171450368/171446536 [==============================] - 2s 0us/step\n"
          ],
          "name": "stdout"
        }
      ]
    },
    {
      "cell_type": "code",
      "metadata": {
        "colab": {
          "base_uri": "https://localhost:8080/"
        },
        "id": "6uZxexaV2Ax-",
        "outputId": "eac45a53-601a-4a10-9654-d0d9af74a498"
      },
      "source": [
        "history_modelResnet101_tfl_da = modelResnet101_tfl_da.fit(datagen.flow(X_train_rgb_da, y_train_rgb, batch_size=batch_size), epochs=50, validation_data=(X_val_rgb, y_val_rgb))"
      ],
      "execution_count": null,
      "outputs": [
        {
          "output_type": "stream",
          "text": [
            "Epoch 1/50\n",
            "118/118 [==============================] - 29s 186ms/step - loss: 2.4525 - accuracy: 0.2808 - val_loss: 1.2403 - val_accuracy: 0.4168\n",
            "Epoch 2/50\n",
            "118/118 [==============================] - 20s 167ms/step - loss: 1.3133 - accuracy: 0.3724 - val_loss: 1.3272 - val_accuracy: 0.4031\n",
            "Epoch 3/50\n",
            "118/118 [==============================] - 20s 168ms/step - loss: 1.2724 - accuracy: 0.4081 - val_loss: 1.2052 - val_accuracy: 0.4351\n",
            "Epoch 4/50\n",
            "118/118 [==============================] - 20s 168ms/step - loss: 1.2778 - accuracy: 0.3800 - val_loss: 1.2789 - val_accuracy: 0.4336\n",
            "Epoch 5/50\n",
            "118/118 [==============================] - 20s 168ms/step - loss: 1.2467 - accuracy: 0.4135 - val_loss: 1.2250 - val_accuracy: 0.4092\n",
            "Epoch 6/50\n",
            "118/118 [==============================] - 20s 167ms/step - loss: 1.2448 - accuracy: 0.4224 - val_loss: 1.1647 - val_accuracy: 0.4580\n",
            "Epoch 7/50\n",
            "118/118 [==============================] - 20s 168ms/step - loss: 1.2372 - accuracy: 0.4226 - val_loss: 1.1504 - val_accuracy: 0.4748\n",
            "Epoch 8/50\n",
            "118/118 [==============================] - 20s 168ms/step - loss: 1.2602 - accuracy: 0.3896 - val_loss: 1.2289 - val_accuracy: 0.4137\n",
            "Epoch 9/50\n",
            "118/118 [==============================] - 20s 168ms/step - loss: 1.2327 - accuracy: 0.3978 - val_loss: 1.1552 - val_accuracy: 0.4550\n",
            "Epoch 10/50\n",
            "118/118 [==============================] - 20s 168ms/step - loss: 1.2308 - accuracy: 0.4239 - val_loss: 1.1923 - val_accuracy: 0.4519\n",
            "Epoch 11/50\n",
            "118/118 [==============================] - 20s 168ms/step - loss: 1.2135 - accuracy: 0.4460 - val_loss: 1.1939 - val_accuracy: 0.4397\n",
            "Epoch 12/50\n",
            "118/118 [==============================] - 20s 167ms/step - loss: 1.2276 - accuracy: 0.4044 - val_loss: 1.1479 - val_accuracy: 0.4824\n",
            "Epoch 13/50\n",
            "118/118 [==============================] - 20s 168ms/step - loss: 1.2393 - accuracy: 0.4141 - val_loss: 1.1749 - val_accuracy: 0.4412\n",
            "Epoch 14/50\n",
            "118/118 [==============================] - 20s 168ms/step - loss: 1.2144 - accuracy: 0.4202 - val_loss: 1.2034 - val_accuracy: 0.4351\n",
            "Epoch 15/50\n",
            "118/118 [==============================] - 20s 168ms/step - loss: 1.2006 - accuracy: 0.4478 - val_loss: 1.1785 - val_accuracy: 0.4443\n",
            "Epoch 16/50\n",
            "118/118 [==============================] - 20s 168ms/step - loss: 1.1969 - accuracy: 0.4456 - val_loss: 1.1453 - val_accuracy: 0.4931\n",
            "Epoch 17/50\n",
            "118/118 [==============================] - 20s 168ms/step - loss: 1.1935 - accuracy: 0.4424 - val_loss: 1.1242 - val_accuracy: 0.4916\n",
            "Epoch 18/50\n",
            "118/118 [==============================] - 20s 168ms/step - loss: 1.1862 - accuracy: 0.4500 - val_loss: 1.1432 - val_accuracy: 0.4794\n",
            "Epoch 19/50\n",
            "118/118 [==============================] - 20s 168ms/step - loss: 1.1941 - accuracy: 0.4364 - val_loss: 1.1288 - val_accuracy: 0.4702\n",
            "Epoch 20/50\n",
            "118/118 [==============================] - 20s 169ms/step - loss: 1.1841 - accuracy: 0.4591 - val_loss: 1.1078 - val_accuracy: 0.5237\n",
            "Epoch 21/50\n",
            "118/118 [==============================] - 20s 169ms/step - loss: 1.1978 - accuracy: 0.4619 - val_loss: 1.1256 - val_accuracy: 0.5053\n",
            "Epoch 22/50\n",
            "118/118 [==============================] - 20s 169ms/step - loss: 1.2102 - accuracy: 0.4501 - val_loss: 1.1724 - val_accuracy: 0.3817\n",
            "Epoch 23/50\n",
            "118/118 [==============================] - 20s 169ms/step - loss: 1.1640 - accuracy: 0.4711 - val_loss: 1.1838 - val_accuracy: 0.4962\n",
            "Epoch 24/50\n",
            "118/118 [==============================] - 20s 169ms/step - loss: 1.1861 - accuracy: 0.4400 - val_loss: 1.1491 - val_accuracy: 0.4992\n",
            "Epoch 25/50\n",
            "118/118 [==============================] - 20s 168ms/step - loss: 1.2116 - accuracy: 0.4459 - val_loss: 1.1427 - val_accuracy: 0.4794\n",
            "Epoch 26/50\n",
            "118/118 [==============================] - 20s 169ms/step - loss: 1.2088 - accuracy: 0.4526 - val_loss: 1.0860 - val_accuracy: 0.5084\n",
            "Epoch 27/50\n",
            "118/118 [==============================] - 20s 169ms/step - loss: 1.2106 - accuracy: 0.4439 - val_loss: 1.0981 - val_accuracy: 0.5038\n",
            "Epoch 28/50\n",
            "118/118 [==============================] - 20s 168ms/step - loss: 1.1762 - accuracy: 0.4613 - val_loss: 1.0465 - val_accuracy: 0.5481\n",
            "Epoch 29/50\n",
            "118/118 [==============================] - 20s 169ms/step - loss: 1.1776 - accuracy: 0.4458 - val_loss: 1.1034 - val_accuracy: 0.5313\n",
            "Epoch 30/50\n",
            "118/118 [==============================] - 20s 169ms/step - loss: 1.1872 - accuracy: 0.4570 - val_loss: 1.0786 - val_accuracy: 0.5160\n",
            "Epoch 31/50\n",
            "118/118 [==============================] - 20s 169ms/step - loss: 1.1849 - accuracy: 0.4445 - val_loss: 1.0771 - val_accuracy: 0.5573\n",
            "Epoch 32/50\n",
            "118/118 [==============================] - 20s 169ms/step - loss: 1.1753 - accuracy: 0.4611 - val_loss: 1.0534 - val_accuracy: 0.5557\n",
            "Epoch 33/50\n",
            "118/118 [==============================] - 20s 169ms/step - loss: 1.1713 - accuracy: 0.4613 - val_loss: 1.0417 - val_accuracy: 0.5679\n",
            "Epoch 34/50\n",
            "118/118 [==============================] - 20s 169ms/step - loss: 1.1804 - accuracy: 0.4575 - val_loss: 1.0614 - val_accuracy: 0.5710\n",
            "Epoch 35/50\n",
            "118/118 [==============================] - 20s 169ms/step - loss: 1.1801 - accuracy: 0.4487 - val_loss: 1.1270 - val_accuracy: 0.5038\n",
            "Epoch 36/50\n",
            "118/118 [==============================] - 20s 169ms/step - loss: 1.1697 - accuracy: 0.4518 - val_loss: 1.0526 - val_accuracy: 0.5511\n",
            "Epoch 37/50\n",
            "118/118 [==============================] - 20s 169ms/step - loss: 1.1938 - accuracy: 0.4277 - val_loss: 1.0283 - val_accuracy: 0.5496\n",
            "Epoch 38/50\n",
            "118/118 [==============================] - 20s 169ms/step - loss: 1.1536 - accuracy: 0.4735 - val_loss: 1.0682 - val_accuracy: 0.5679\n",
            "Epoch 39/50\n",
            "118/118 [==============================] - 20s 169ms/step - loss: 1.1645 - accuracy: 0.4704 - val_loss: 1.0733 - val_accuracy: 0.5145\n",
            "Epoch 40/50\n",
            "118/118 [==============================] - 20s 169ms/step - loss: 1.1860 - accuracy: 0.4460 - val_loss: 1.0953 - val_accuracy: 0.5115\n",
            "Epoch 41/50\n",
            "118/118 [==============================] - 20s 168ms/step - loss: 1.2015 - accuracy: 0.4333 - val_loss: 1.1065 - val_accuracy: 0.5053\n",
            "Epoch 42/50\n",
            "118/118 [==============================] - 20s 169ms/step - loss: 1.1785 - accuracy: 0.4550 - val_loss: 1.0961 - val_accuracy: 0.4885\n",
            "Epoch 43/50\n",
            "118/118 [==============================] - 20s 168ms/step - loss: 1.2020 - accuracy: 0.4267 - val_loss: 1.0319 - val_accuracy: 0.5542\n",
            "Epoch 44/50\n",
            "118/118 [==============================] - 20s 168ms/step - loss: 1.1841 - accuracy: 0.4539 - val_loss: 1.0286 - val_accuracy: 0.5511\n",
            "Epoch 45/50\n",
            "118/118 [==============================] - 20s 169ms/step - loss: 1.1705 - accuracy: 0.4840 - val_loss: 1.0953 - val_accuracy: 0.5267\n",
            "Epoch 46/50\n",
            "118/118 [==============================] - 20s 169ms/step - loss: 1.1734 - accuracy: 0.4748 - val_loss: 1.0998 - val_accuracy: 0.5267\n",
            "Epoch 47/50\n",
            "118/118 [==============================] - 20s 169ms/step - loss: 1.1743 - accuracy: 0.4559 - val_loss: 1.0437 - val_accuracy: 0.5405\n",
            "Epoch 48/50\n",
            "118/118 [==============================] - 20s 169ms/step - loss: 1.1717 - accuracy: 0.4480 - val_loss: 1.0476 - val_accuracy: 0.5634\n",
            "Epoch 49/50\n",
            "118/118 [==============================] - 20s 169ms/step - loss: 1.1541 - accuracy: 0.4680 - val_loss: 1.0250 - val_accuracy: 0.5679\n",
            "Epoch 50/50\n",
            "118/118 [==============================] - 20s 169ms/step - loss: 1.1676 - accuracy: 0.4600 - val_loss: 1.0507 - val_accuracy: 0.5481\n"
          ],
          "name": "stdout"
        }
      ]
    },
    {
      "cell_type": "markdown",
      "metadata": {
        "id": "p5xpkMIr1L4-"
      },
      "source": [
        "###ResNet152 RGB"
      ]
    },
    {
      "cell_type": "code",
      "metadata": {
        "id": "7EYbSEu74lN2"
      },
      "source": [
        "modelResnet152_rgb_da = create_resnet_model(152,X_train_rgb.shape[1:])"
      ],
      "execution_count": null,
      "outputs": []
    },
    {
      "cell_type": "code",
      "metadata": {
        "colab": {
          "base_uri": "https://localhost:8080/"
        },
        "id": "mXnDPkUd4rZ1",
        "outputId": "73f17867-e90e-4a9a-8dbd-61cf6e543eb9"
      },
      "source": [
        "history_modelResnet152_rgb_da = modelResnet152_rgb_da.fit(datagen.flow(X_train_rgb_da, y_train_rgb, batch_size=batch_size), epochs=50, validation_data=(X_val_rgb, y_val_rgb))"
      ],
      "execution_count": null,
      "outputs": [
        {
          "output_type": "stream",
          "text": [
            "Epoch 1/50\n",
            "118/118 [==============================] - 46s 268ms/step - loss: 2.2973 - accuracy: 0.3361 - val_loss: 2.0277 - val_accuracy: 0.2763\n",
            "Epoch 2/50\n",
            "118/118 [==============================] - 28s 233ms/step - loss: 1.2714 - accuracy: 0.4872 - val_loss: 2.0143 - val_accuracy: 0.2855\n",
            "Epoch 3/50\n",
            "118/118 [==============================] - 28s 234ms/step - loss: 1.1538 - accuracy: 0.5064 - val_loss: 1.4049 - val_accuracy: 0.3664\n",
            "Epoch 4/50\n",
            "118/118 [==============================] - 28s 235ms/step - loss: 1.0331 - accuracy: 0.5630 - val_loss: 1.3779 - val_accuracy: 0.3802\n",
            "Epoch 5/50\n",
            "118/118 [==============================] - 28s 234ms/step - loss: 1.0338 - accuracy: 0.5717 - val_loss: 1.3216 - val_accuracy: 0.4458\n",
            "Epoch 6/50\n",
            "118/118 [==============================] - 28s 234ms/step - loss: 0.9197 - accuracy: 0.6266 - val_loss: 606.7302 - val_accuracy: 0.3053\n",
            "Epoch 7/50\n",
            "118/118 [==============================] - 28s 234ms/step - loss: 1.1799 - accuracy: 0.5066 - val_loss: 3135.0681 - val_accuracy: 0.2779\n",
            "Epoch 8/50\n",
            "118/118 [==============================] - 28s 234ms/step - loss: 1.0970 - accuracy: 0.5770 - val_loss: 0.8789 - val_accuracy: 0.6672\n",
            "Epoch 9/50\n",
            "118/118 [==============================] - 28s 235ms/step - loss: 0.9593 - accuracy: 0.6071 - val_loss: 7.5804 - val_accuracy: 0.2977\n",
            "Epoch 10/50\n",
            "118/118 [==============================] - 28s 235ms/step - loss: 0.8893 - accuracy: 0.6221 - val_loss: 0.9016 - val_accuracy: 0.6595\n",
            "Epoch 11/50\n",
            "118/118 [==============================] - 28s 234ms/step - loss: 0.8757 - accuracy: 0.6778 - val_loss: 0.7482 - val_accuracy: 0.6870\n",
            "Epoch 12/50\n",
            "118/118 [==============================] - 28s 235ms/step - loss: 0.9103 - accuracy: 0.6411 - val_loss: 1.2169 - val_accuracy: 0.5267\n",
            "Epoch 13/50\n",
            "118/118 [==============================] - 28s 234ms/step - loss: 0.7205 - accuracy: 0.7174 - val_loss: 1.1899 - val_accuracy: 0.4992\n",
            "Epoch 14/50\n",
            "118/118 [==============================] - 28s 234ms/step - loss: 0.7585 - accuracy: 0.7007 - val_loss: 0.8388 - val_accuracy: 0.6565\n",
            "Epoch 15/50\n",
            "118/118 [==============================] - 28s 234ms/step - loss: 0.7143 - accuracy: 0.7322 - val_loss: 2.4333 - val_accuracy: 0.4382\n",
            "Epoch 16/50\n",
            "118/118 [==============================] - 28s 234ms/step - loss: 0.7609 - accuracy: 0.7193 - val_loss: 1.0737 - val_accuracy: 0.5618\n",
            "Epoch 17/50\n",
            "118/118 [==============================] - 28s 234ms/step - loss: 0.9360 - accuracy: 0.6560 - val_loss: 4.0839 - val_accuracy: 0.4718\n",
            "Epoch 18/50\n",
            "118/118 [==============================] - 28s 234ms/step - loss: 0.8729 - accuracy: 0.6719 - val_loss: 1.4872 - val_accuracy: 0.4916\n",
            "Epoch 19/50\n",
            "118/118 [==============================] - 28s 234ms/step - loss: 0.6972 - accuracy: 0.7249 - val_loss: 2.1746 - val_accuracy: 0.4137\n",
            "Epoch 20/50\n",
            "118/118 [==============================] - 28s 234ms/step - loss: 0.6772 - accuracy: 0.7443 - val_loss: 2.4046 - val_accuracy: 0.2534\n",
            "Epoch 21/50\n",
            "118/118 [==============================] - 28s 234ms/step - loss: 0.9491 - accuracy: 0.6205 - val_loss: 0.8135 - val_accuracy: 0.6397\n",
            "Epoch 22/50\n",
            "118/118 [==============================] - 28s 235ms/step - loss: 0.8113 - accuracy: 0.6899 - val_loss: 1.6841 - val_accuracy: 0.3221\n",
            "Epoch 23/50\n",
            "118/118 [==============================] - 28s 234ms/step - loss: 0.8153 - accuracy: 0.6884 - val_loss: 1.7136 - val_accuracy: 0.4321\n",
            "Epoch 24/50\n",
            "118/118 [==============================] - 28s 234ms/step - loss: 1.0223 - accuracy: 0.5799 - val_loss: 414.3461 - val_accuracy: 0.2870\n",
            "Epoch 25/50\n",
            "118/118 [==============================] - 28s 234ms/step - loss: 0.9970 - accuracy: 0.6418 - val_loss: 1.7139 - val_accuracy: 0.6885\n",
            "Epoch 26/50\n",
            "118/118 [==============================] - 28s 234ms/step - loss: 0.8225 - accuracy: 0.6871 - val_loss: 1.7421 - val_accuracy: 0.4931\n",
            "Epoch 27/50\n",
            "118/118 [==============================] - 28s 234ms/step - loss: 0.7705 - accuracy: 0.7029 - val_loss: 1.6866 - val_accuracy: 0.4534\n",
            "Epoch 28/50\n",
            "118/118 [==============================] - 28s 234ms/step - loss: 0.8156 - accuracy: 0.6972 - val_loss: 2.8674 - val_accuracy: 0.3985\n",
            "Epoch 29/50\n",
            "118/118 [==============================] - 28s 235ms/step - loss: 0.7325 - accuracy: 0.7364 - val_loss: 1.2752 - val_accuracy: 0.5832\n",
            "Epoch 30/50\n",
            "118/118 [==============================] - 28s 235ms/step - loss: 0.6851 - accuracy: 0.7568 - val_loss: 0.7465 - val_accuracy: 0.7405\n",
            "Epoch 31/50\n",
            "118/118 [==============================] - 28s 235ms/step - loss: 0.6706 - accuracy: 0.7461 - val_loss: 0.8846 - val_accuracy: 0.7740\n",
            "Epoch 32/50\n",
            "118/118 [==============================] - 28s 234ms/step - loss: 0.6755 - accuracy: 0.7637 - val_loss: 0.8742 - val_accuracy: 0.6885\n",
            "Epoch 33/50\n",
            "118/118 [==============================] - 28s 235ms/step - loss: 0.6821 - accuracy: 0.7672 - val_loss: 3.7961 - val_accuracy: 0.1664\n",
            "Epoch 34/50\n",
            "118/118 [==============================] - 28s 234ms/step - loss: 0.7950 - accuracy: 0.7057 - val_loss: 1.8414 - val_accuracy: 0.4550\n",
            "Epoch 35/50\n",
            "118/118 [==============================] - 28s 234ms/step - loss: 0.6165 - accuracy: 0.7731 - val_loss: 1.1336 - val_accuracy: 0.5405\n",
            "Epoch 36/50\n",
            "118/118 [==============================] - 28s 234ms/step - loss: 0.7835 - accuracy: 0.6795 - val_loss: 3.6665 - val_accuracy: 0.5985\n",
            "Epoch 37/50\n",
            "118/118 [==============================] - 28s 234ms/step - loss: 0.6434 - accuracy: 0.7763 - val_loss: 2.2787 - val_accuracy: 0.5069\n",
            "Epoch 38/50\n",
            "118/118 [==============================] - 28s 234ms/step - loss: 0.5709 - accuracy: 0.7931 - val_loss: 0.9395 - val_accuracy: 0.6107\n",
            "Epoch 39/50\n",
            "118/118 [==============================] - 28s 234ms/step - loss: 0.5384 - accuracy: 0.7930 - val_loss: 0.8001 - val_accuracy: 0.7221\n",
            "Epoch 40/50\n",
            "118/118 [==============================] - 28s 234ms/step - loss: 0.5292 - accuracy: 0.8123 - val_loss: 0.9500 - val_accuracy: 0.6824\n",
            "Epoch 41/50\n",
            "118/118 [==============================] - 28s 234ms/step - loss: 0.5351 - accuracy: 0.8108 - val_loss: 0.7455 - val_accuracy: 0.7282\n",
            "Epoch 42/50\n",
            "118/118 [==============================] - 28s 234ms/step - loss: 0.6447 - accuracy: 0.7571 - val_loss: 5.7464 - val_accuracy: 0.4000\n",
            "Epoch 43/50\n",
            "118/118 [==============================] - 28s 234ms/step - loss: 0.9331 - accuracy: 0.6530 - val_loss: 2.4150 - val_accuracy: 0.3679\n",
            "Epoch 44/50\n",
            "118/118 [==============================] - 28s 234ms/step - loss: 0.6652 - accuracy: 0.7514 - val_loss: 1.0952 - val_accuracy: 0.6290\n",
            "Epoch 45/50\n",
            "118/118 [==============================] - 28s 234ms/step - loss: 0.5818 - accuracy: 0.7843 - val_loss: 1.0713 - val_accuracy: 0.6076\n",
            "Epoch 46/50\n",
            "118/118 [==============================] - 28s 234ms/step - loss: 0.6073 - accuracy: 0.7665 - val_loss: 19.1371 - val_accuracy: 0.5496\n",
            "Epoch 47/50\n",
            "118/118 [==============================] - 28s 234ms/step - loss: 0.5675 - accuracy: 0.7938 - val_loss: 0.7372 - val_accuracy: 0.7160\n",
            "Epoch 48/50\n",
            "118/118 [==============================] - 28s 234ms/step - loss: 0.5353 - accuracy: 0.8058 - val_loss: 0.5512 - val_accuracy: 0.8183\n",
            "Epoch 49/50\n",
            "118/118 [==============================] - 28s 233ms/step - loss: 0.4799 - accuracy: 0.8232 - val_loss: 0.9320 - val_accuracy: 0.6824\n",
            "Epoch 50/50\n",
            "118/118 [==============================] - 28s 234ms/step - loss: 0.5026 - accuracy: 0.8278 - val_loss: 2.4127 - val_accuracy: 0.4947\n"
          ],
          "name": "stdout"
        }
      ]
    },
    {
      "cell_type": "markdown",
      "metadata": {
        "id": "b4R3CaKr1OcG"
      },
      "source": [
        "###ResNet152 GS"
      ]
    },
    {
      "cell_type": "code",
      "metadata": {
        "id": "CsVAJF_r406G"
      },
      "source": [
        "modelResnet152_gs_da = create_resnet_model(152,X_train_gs.shape[1:])"
      ],
      "execution_count": null,
      "outputs": []
    },
    {
      "cell_type": "code",
      "metadata": {
        "colab": {
          "base_uri": "https://localhost:8080/"
        },
        "id": "T1M0QREz46uN",
        "outputId": "99590d4e-066c-42fe-ad1d-b7297015429d"
      },
      "source": [
        "history_modelResnet152_gs_da = modelResnet152_gs_da.fit(datagen.flow(X_train_gs_da, y_train_gs, batch_size=batch_size), epochs=50, validation_data=(X_val_gs, y_val_gs))"
      ],
      "execution_count": null,
      "outputs": [
        {
          "output_type": "stream",
          "text": [
            "Epoch 1/50\n",
            "118/118 [==============================] - 44s 253ms/step - loss: 2.4278 - accuracy: 0.3462 - val_loss: 2.1041 - val_accuracy: 0.2687\n",
            "Epoch 2/50\n",
            "118/118 [==============================] - 28s 237ms/step - loss: 1.3352 - accuracy: 0.3963 - val_loss: 2.1571 - val_accuracy: 0.2763\n",
            "Epoch 3/50\n",
            "118/118 [==============================] - 28s 235ms/step - loss: 1.2092 - accuracy: 0.4909 - val_loss: 2.0922 - val_accuracy: 0.3710\n",
            "Epoch 4/50\n",
            "118/118 [==============================] - 28s 233ms/step - loss: 1.0150 - accuracy: 0.6121 - val_loss: 2.6425 - val_accuracy: 0.2977\n",
            "Epoch 5/50\n",
            "118/118 [==============================] - 28s 236ms/step - loss: 1.0028 - accuracy: 0.5800 - val_loss: 1.6189 - val_accuracy: 0.2565\n",
            "Epoch 6/50\n",
            "118/118 [==============================] - 28s 235ms/step - loss: 0.9541 - accuracy: 0.6144 - val_loss: 2.1211 - val_accuracy: 0.4107\n",
            "Epoch 7/50\n",
            "118/118 [==============================] - 28s 234ms/step - loss: 0.8763 - accuracy: 0.6525 - val_loss: 44.0234 - val_accuracy: 0.3588\n",
            "Epoch 8/50\n",
            "118/118 [==============================] - 28s 235ms/step - loss: 0.8796 - accuracy: 0.6660 - val_loss: 2.9225 - val_accuracy: 0.6198\n",
            "Epoch 9/50\n",
            "118/118 [==============================] - 28s 235ms/step - loss: 0.8309 - accuracy: 0.6932 - val_loss: 1.6302 - val_accuracy: 0.4031\n",
            "Epoch 10/50\n",
            "118/118 [==============================] - 28s 235ms/step - loss: 0.7552 - accuracy: 0.7064 - val_loss: 2.4240 - val_accuracy: 0.4031\n",
            "Epoch 11/50\n",
            "118/118 [==============================] - 28s 235ms/step - loss: 0.7518 - accuracy: 0.7134 - val_loss: 6.5580 - val_accuracy: 0.5282\n",
            "Epoch 12/50\n",
            "118/118 [==============================] - 28s 235ms/step - loss: 0.8551 - accuracy: 0.6837 - val_loss: 16.2763 - val_accuracy: 0.2626\n",
            "Epoch 13/50\n",
            "118/118 [==============================] - 28s 235ms/step - loss: 0.8511 - accuracy: 0.6676 - val_loss: 6.1114 - val_accuracy: 0.2779\n",
            "Epoch 14/50\n",
            "118/118 [==============================] - 28s 235ms/step - loss: 0.7980 - accuracy: 0.7086 - val_loss: 1.4865 - val_accuracy: 0.5298\n",
            "Epoch 15/50\n",
            "118/118 [==============================] - 28s 235ms/step - loss: 0.6983 - accuracy: 0.7329 - val_loss: 0.9234 - val_accuracy: 0.6336\n",
            "Epoch 16/50\n",
            "118/118 [==============================] - 28s 234ms/step - loss: 0.9935 - accuracy: 0.6196 - val_loss: 33.8512 - val_accuracy: 0.3725\n",
            "Epoch 17/50\n",
            "118/118 [==============================] - 28s 235ms/step - loss: 0.8257 - accuracy: 0.6784 - val_loss: 5.3611 - val_accuracy: 0.4626\n",
            "Epoch 18/50\n",
            "118/118 [==============================] - 28s 235ms/step - loss: 0.7723 - accuracy: 0.7024 - val_loss: 1.9150 - val_accuracy: 0.3725\n",
            "Epoch 19/50\n",
            "118/118 [==============================] - 28s 235ms/step - loss: 0.8094 - accuracy: 0.7091 - val_loss: 0.8700 - val_accuracy: 0.6565\n",
            "Epoch 20/50\n",
            "118/118 [==============================] - 28s 235ms/step - loss: 0.6951 - accuracy: 0.7496 - val_loss: 1.2852 - val_accuracy: 0.5053\n",
            "Epoch 21/50\n",
            "118/118 [==============================] - 28s 235ms/step - loss: 0.6663 - accuracy: 0.7510 - val_loss: 1.4791 - val_accuracy: 0.5359\n",
            "Epoch 22/50\n",
            "118/118 [==============================] - 28s 235ms/step - loss: 0.6090 - accuracy: 0.7730 - val_loss: 1.1377 - val_accuracy: 0.6137\n",
            "Epoch 23/50\n",
            "118/118 [==============================] - 28s 235ms/step - loss: 0.7039 - accuracy: 0.7487 - val_loss: 9.7951 - val_accuracy: 0.1771\n",
            "Epoch 24/50\n",
            "118/118 [==============================] - 28s 235ms/step - loss: 0.9503 - accuracy: 0.6277 - val_loss: 1.1874 - val_accuracy: 0.5313\n",
            "Epoch 25/50\n",
            "118/118 [==============================] - 28s 235ms/step - loss: 0.8797 - accuracy: 0.6610 - val_loss: 2.4083 - val_accuracy: 0.4122\n",
            "Epoch 26/50\n",
            "118/118 [==============================] - 28s 235ms/step - loss: 0.7021 - accuracy: 0.7419 - val_loss: 0.8143 - val_accuracy: 0.6763\n",
            "Epoch 27/50\n",
            "118/118 [==============================] - 28s 234ms/step - loss: 0.7100 - accuracy: 0.7310 - val_loss: 0.9002 - val_accuracy: 0.6031\n",
            "Epoch 28/50\n",
            "118/118 [==============================] - 28s 235ms/step - loss: 0.6594 - accuracy: 0.7477 - val_loss: 1.8323 - val_accuracy: 0.6183\n",
            "Epoch 29/50\n",
            "118/118 [==============================] - 28s 235ms/step - loss: 0.6541 - accuracy: 0.7478 - val_loss: 0.8090 - val_accuracy: 0.6840\n",
            "Epoch 30/50\n",
            "118/118 [==============================] - 28s 234ms/step - loss: 0.6882 - accuracy: 0.7296 - val_loss: 2.5076 - val_accuracy: 0.6092\n",
            "Epoch 31/50\n",
            "118/118 [==============================] - 28s 234ms/step - loss: 0.6041 - accuracy: 0.7718 - val_loss: 1.5346 - val_accuracy: 0.5527\n",
            "Epoch 32/50\n",
            "118/118 [==============================] - 28s 235ms/step - loss: 0.5870 - accuracy: 0.7781 - val_loss: 0.9654 - val_accuracy: 0.5847\n",
            "Epoch 33/50\n",
            "118/118 [==============================] - 28s 235ms/step - loss: 0.5878 - accuracy: 0.7815 - val_loss: 0.5173 - val_accuracy: 0.8046\n",
            "Epoch 34/50\n",
            "118/118 [==============================] - 28s 234ms/step - loss: 0.5441 - accuracy: 0.8092 - val_loss: 2.2776 - val_accuracy: 0.4275\n",
            "Epoch 35/50\n",
            "118/118 [==============================] - 28s 235ms/step - loss: 0.6672 - accuracy: 0.7601 - val_loss: 3.1023 - val_accuracy: 0.7099\n",
            "Epoch 36/50\n",
            "118/118 [==============================] - 28s 235ms/step - loss: 0.5552 - accuracy: 0.7898 - val_loss: 0.6771 - val_accuracy: 0.7405\n",
            "Epoch 37/50\n",
            "118/118 [==============================] - 28s 235ms/step - loss: 0.5644 - accuracy: 0.8002 - val_loss: 2.1869 - val_accuracy: 0.3069\n",
            "Epoch 38/50\n",
            "118/118 [==============================] - 28s 235ms/step - loss: 0.5750 - accuracy: 0.7989 - val_loss: 1.9609 - val_accuracy: 0.4122\n",
            "Epoch 39/50\n",
            "118/118 [==============================] - 28s 235ms/step - loss: 0.5254 - accuracy: 0.8114 - val_loss: 1.4457 - val_accuracy: 0.6366\n",
            "Epoch 40/50\n",
            "118/118 [==============================] - 28s 235ms/step - loss: 0.4949 - accuracy: 0.8232 - val_loss: 0.9648 - val_accuracy: 0.6336\n",
            "Epoch 41/50\n",
            "118/118 [==============================] - 28s 235ms/step - loss: 0.6072 - accuracy: 0.7929 - val_loss: 12.9696 - val_accuracy: 0.2748\n",
            "Epoch 42/50\n",
            "118/118 [==============================] - 28s 234ms/step - loss: 0.7254 - accuracy: 0.7386 - val_loss: 2.2140 - val_accuracy: 0.2260\n",
            "Epoch 43/50\n",
            "118/118 [==============================] - 28s 235ms/step - loss: 0.6626 - accuracy: 0.7621 - val_loss: 1.7118 - val_accuracy: 0.4168\n",
            "Epoch 44/50\n",
            "118/118 [==============================] - 28s 235ms/step - loss: 0.5229 - accuracy: 0.7892 - val_loss: 0.8590 - val_accuracy: 0.6382\n",
            "Epoch 45/50\n",
            "118/118 [==============================] - 28s 235ms/step - loss: 0.5165 - accuracy: 0.8154 - val_loss: 11.8791 - val_accuracy: 0.5344\n",
            "Epoch 46/50\n",
            "118/118 [==============================] - 28s 235ms/step - loss: 0.5366 - accuracy: 0.8145 - val_loss: 7.2896 - val_accuracy: 0.4015\n",
            "Epoch 47/50\n",
            "118/118 [==============================] - 28s 234ms/step - loss: 0.7285 - accuracy: 0.7443 - val_loss: 48.0348 - val_accuracy: 0.1511\n",
            "Epoch 48/50\n",
            "118/118 [==============================] - 28s 234ms/step - loss: 1.0078 - accuracy: 0.5967 - val_loss: 1.3144 - val_accuracy: 0.4397\n",
            "Epoch 49/50\n",
            "118/118 [==============================] - 28s 235ms/step - loss: 0.7775 - accuracy: 0.7032 - val_loss: 0.9570 - val_accuracy: 0.7008\n",
            "Epoch 50/50\n",
            "118/118 [==============================] - 28s 235ms/step - loss: 0.6726 - accuracy: 0.7556 - val_loss: 31.6307 - val_accuracy: 0.3939\n"
          ],
          "name": "stdout"
        }
      ]
    },
    {
      "cell_type": "markdown",
      "metadata": {
        "id": "keSBtygm1Q7t"
      },
      "source": [
        "###ResNet152 RGB With TFL"
      ]
    },
    {
      "cell_type": "code",
      "metadata": {
        "id": "2ADuCEHE5PLP",
        "colab": {
          "base_uri": "https://localhost:8080/"
        },
        "outputId": "8ed54a56-45e8-4f27-b784-605342cfe5e4"
      },
      "source": [
        "modelResnet152_tfl_da = create_resnet_model(152,X_train_rgb.shape[1:], True)"
      ],
      "execution_count": null,
      "outputs": [
        {
          "output_type": "stream",
          "text": [
            "Downloading data from https://storage.googleapis.com/tensorflow/keras-applications/resnet/resnet152_weights_tf_dim_ordering_tf_kernels_notop.h5\n",
            "234700800/234698864 [==============================] - 6s 0us/step\n"
          ],
          "name": "stdout"
        }
      ]
    },
    {
      "cell_type": "code",
      "metadata": {
        "colab": {
          "base_uri": "https://localhost:8080/"
        },
        "id": "HgfR4Bvo5Tsu",
        "outputId": "a6b3f4b7-e3da-42b3-e46c-672f8ff94b15"
      },
      "source": [
        "history_modelResnet152_tfl_da = modelResnet152_tfl_da.fit(datagen.flow(X_train_rgb_da, y_train_rgb, batch_size=batch_size), epochs=50, validation_data=(X_val_rgb, y_val_rgb))"
      ],
      "execution_count": null,
      "outputs": [
        {
          "output_type": "stream",
          "text": [
            "Epoch 1/50\n",
            "118/118 [==============================] - 40s 255ms/step - loss: 2.0872 - accuracy: 0.3167 - val_loss: 1.4230 - val_accuracy: 0.3053\n",
            "Epoch 2/50\n",
            "118/118 [==============================] - 27s 229ms/step - loss: 1.3419 - accuracy: 0.3574 - val_loss: 1.3051 - val_accuracy: 0.3344\n",
            "Epoch 3/50\n",
            "118/118 [==============================] - 27s 229ms/step - loss: 1.2952 - accuracy: 0.3748 - val_loss: 1.2711 - val_accuracy: 0.3740\n",
            "Epoch 4/50\n",
            "118/118 [==============================] - 27s 228ms/step - loss: 1.2698 - accuracy: 0.4048 - val_loss: 1.2450 - val_accuracy: 0.4351\n",
            "Epoch 5/50\n",
            "118/118 [==============================] - 27s 228ms/step - loss: 1.2653 - accuracy: 0.3853 - val_loss: 1.2283 - val_accuracy: 0.3679\n",
            "Epoch 6/50\n",
            "118/118 [==============================] - 27s 228ms/step - loss: 1.2775 - accuracy: 0.3940 - val_loss: 1.2219 - val_accuracy: 0.4137\n",
            "Epoch 7/50\n",
            "118/118 [==============================] - 27s 229ms/step - loss: 1.2482 - accuracy: 0.4197 - val_loss: 1.2109 - val_accuracy: 0.4214\n",
            "Epoch 8/50\n",
            "118/118 [==============================] - 27s 228ms/step - loss: 1.2550 - accuracy: 0.4165 - val_loss: 1.1646 - val_accuracy: 0.4855\n",
            "Epoch 9/50\n",
            "118/118 [==============================] - 27s 228ms/step - loss: 1.2421 - accuracy: 0.4310 - val_loss: 1.2144 - val_accuracy: 0.4183\n",
            "Epoch 10/50\n",
            "118/118 [==============================] - 27s 229ms/step - loss: 1.2373 - accuracy: 0.4064 - val_loss: 1.1543 - val_accuracy: 0.4519\n",
            "Epoch 11/50\n",
            "118/118 [==============================] - 27s 228ms/step - loss: 1.2537 - accuracy: 0.4183 - val_loss: 1.1691 - val_accuracy: 0.4702\n",
            "Epoch 12/50\n",
            "118/118 [==============================] - 27s 229ms/step - loss: 1.2321 - accuracy: 0.4167 - val_loss: 1.1617 - val_accuracy: 0.4763\n",
            "Epoch 13/50\n",
            "118/118 [==============================] - 27s 228ms/step - loss: 1.2384 - accuracy: 0.4123 - val_loss: 1.1377 - val_accuracy: 0.4824\n",
            "Epoch 14/50\n",
            "118/118 [==============================] - 27s 229ms/step - loss: 1.2243 - accuracy: 0.4404 - val_loss: 1.1475 - val_accuracy: 0.4366\n",
            "Epoch 15/50\n",
            "118/118 [==============================] - 27s 228ms/step - loss: 1.2148 - accuracy: 0.4143 - val_loss: 1.1120 - val_accuracy: 0.4947\n",
            "Epoch 16/50\n",
            "118/118 [==============================] - 27s 228ms/step - loss: 1.2303 - accuracy: 0.4096 - val_loss: 1.2130 - val_accuracy: 0.4031\n",
            "Epoch 17/50\n",
            "118/118 [==============================] - 27s 229ms/step - loss: 1.2102 - accuracy: 0.4265 - val_loss: 1.1723 - val_accuracy: 0.4336\n",
            "Epoch 18/50\n",
            "118/118 [==============================] - 27s 229ms/step - loss: 1.2449 - accuracy: 0.4322 - val_loss: 1.1560 - val_accuracy: 0.5069\n",
            "Epoch 19/50\n",
            "118/118 [==============================] - 27s 228ms/step - loss: 1.2274 - accuracy: 0.4284 - val_loss: 1.1168 - val_accuracy: 0.4626\n",
            "Epoch 20/50\n",
            "118/118 [==============================] - 27s 229ms/step - loss: 1.2399 - accuracy: 0.4274 - val_loss: 1.1283 - val_accuracy: 0.4595\n",
            "Epoch 21/50\n",
            "118/118 [==============================] - 27s 229ms/step - loss: 1.2035 - accuracy: 0.4605 - val_loss: 1.3017 - val_accuracy: 0.3847\n",
            "Epoch 22/50\n",
            "118/118 [==============================] - 27s 229ms/step - loss: 1.2139 - accuracy: 0.4122 - val_loss: 1.1039 - val_accuracy: 0.4931\n",
            "Epoch 23/50\n",
            "118/118 [==============================] - 27s 228ms/step - loss: 1.2212 - accuracy: 0.4265 - val_loss: 1.1189 - val_accuracy: 0.4718\n",
            "Epoch 24/50\n",
            "118/118 [==============================] - 27s 229ms/step - loss: 1.2181 - accuracy: 0.4290 - val_loss: 1.1465 - val_accuracy: 0.4427\n",
            "Epoch 25/50\n",
            "118/118 [==============================] - 27s 228ms/step - loss: 1.2078 - accuracy: 0.4630 - val_loss: 1.1337 - val_accuracy: 0.4290\n",
            "Epoch 26/50\n",
            "118/118 [==============================] - 27s 228ms/step - loss: 1.2151 - accuracy: 0.4533 - val_loss: 1.0885 - val_accuracy: 0.5053\n",
            "Epoch 27/50\n",
            "118/118 [==============================] - 27s 229ms/step - loss: 1.2105 - accuracy: 0.4459 - val_loss: 1.1708 - val_accuracy: 0.4565\n",
            "Epoch 28/50\n",
            "118/118 [==============================] - 27s 228ms/step - loss: 1.1908 - accuracy: 0.4380 - val_loss: 1.1514 - val_accuracy: 0.4305\n",
            "Epoch 29/50\n",
            "118/118 [==============================] - 27s 228ms/step - loss: 1.2017 - accuracy: 0.4570 - val_loss: 1.1052 - val_accuracy: 0.4794\n",
            "Epoch 30/50\n",
            "118/118 [==============================] - 27s 229ms/step - loss: 1.1845 - accuracy: 0.4648 - val_loss: 1.1371 - val_accuracy: 0.4534\n",
            "Epoch 31/50\n",
            "118/118 [==============================] - 27s 229ms/step - loss: 1.1873 - accuracy: 0.4577 - val_loss: 1.1096 - val_accuracy: 0.4779\n",
            "Epoch 32/50\n",
            "118/118 [==============================] - 27s 228ms/step - loss: 1.1718 - accuracy: 0.4555 - val_loss: 1.0819 - val_accuracy: 0.4855\n",
            "Epoch 33/50\n",
            "118/118 [==============================] - 27s 229ms/step - loss: 1.1891 - accuracy: 0.4342 - val_loss: 1.0558 - val_accuracy: 0.5527\n",
            "Epoch 34/50\n",
            "118/118 [==============================] - 27s 229ms/step - loss: 1.1946 - accuracy: 0.4415 - val_loss: 1.1415 - val_accuracy: 0.4534\n",
            "Epoch 35/50\n",
            "118/118 [==============================] - 27s 228ms/step - loss: 1.1902 - accuracy: 0.4458 - val_loss: 1.1275 - val_accuracy: 0.4870\n",
            "Epoch 36/50\n",
            "118/118 [==============================] - 27s 228ms/step - loss: 1.2085 - accuracy: 0.4238 - val_loss: 1.1355 - val_accuracy: 0.4824\n",
            "Epoch 37/50\n",
            "118/118 [==============================] - 27s 228ms/step - loss: 1.2037 - accuracy: 0.4430 - val_loss: 1.0606 - val_accuracy: 0.5069\n",
            "Epoch 38/50\n",
            "118/118 [==============================] - 27s 229ms/step - loss: 1.1671 - accuracy: 0.4648 - val_loss: 1.0475 - val_accuracy: 0.5878\n",
            "Epoch 39/50\n",
            "118/118 [==============================] - 27s 228ms/step - loss: 1.1859 - accuracy: 0.4517 - val_loss: 1.0972 - val_accuracy: 0.4656\n",
            "Epoch 40/50\n",
            "118/118 [==============================] - 27s 228ms/step - loss: 1.1800 - accuracy: 0.4601 - val_loss: 1.0622 - val_accuracy: 0.5237\n",
            "Epoch 41/50\n",
            "118/118 [==============================] - 27s 228ms/step - loss: 1.1721 - accuracy: 0.4740 - val_loss: 1.1699 - val_accuracy: 0.4198\n",
            "Epoch 42/50\n",
            "118/118 [==============================] - 27s 228ms/step - loss: 1.1846 - accuracy: 0.4566 - val_loss: 1.1188 - val_accuracy: 0.4427\n",
            "Epoch 43/50\n",
            "118/118 [==============================] - 27s 228ms/step - loss: 1.1766 - accuracy: 0.4416 - val_loss: 1.0898 - val_accuracy: 0.4824\n",
            "Epoch 44/50\n",
            "118/118 [==============================] - 27s 228ms/step - loss: 1.2060 - accuracy: 0.4296 - val_loss: 1.0042 - val_accuracy: 0.5802\n",
            "Epoch 45/50\n",
            "118/118 [==============================] - 27s 229ms/step - loss: 1.1981 - accuracy: 0.4383 - val_loss: 1.0533 - val_accuracy: 0.5481\n",
            "Epoch 46/50\n",
            "118/118 [==============================] - 27s 228ms/step - loss: 1.1778 - accuracy: 0.4572 - val_loss: 1.1157 - val_accuracy: 0.4489\n",
            "Epoch 47/50\n",
            "118/118 [==============================] - 27s 228ms/step - loss: 1.1966 - accuracy: 0.4340 - val_loss: 1.0756 - val_accuracy: 0.5267\n",
            "Epoch 48/50\n",
            "118/118 [==============================] - 27s 228ms/step - loss: 1.1821 - accuracy: 0.4623 - val_loss: 1.0947 - val_accuracy: 0.5069\n",
            "Epoch 49/50\n",
            "118/118 [==============================] - 27s 229ms/step - loss: 1.2100 - accuracy: 0.4422 - val_loss: 1.0776 - val_accuracy: 0.4779\n",
            "Epoch 50/50\n",
            "118/118 [==============================] - 27s 229ms/step - loss: 1.1697 - accuracy: 0.4507 - val_loss: 1.1121 - val_accuracy: 0.4397\n"
          ],
          "name": "stdout"
        }
      ]
    },
    {
      "cell_type": "markdown",
      "metadata": {
        "id": "kPTPZF_jcLHj"
      },
      "source": [
        "##Training ResNetV2"
      ]
    },
    {
      "cell_type": "markdown",
      "metadata": {
        "id": "FESnXY-2c3Ej"
      },
      "source": [
        "###ResNet50V2 RGB"
      ]
    },
    {
      "cell_type": "code",
      "metadata": {
        "id": "msnrT56DcrJ8"
      },
      "source": [
        "modelResnet50V2_rgb_da = create_resnetv2_model(50,X_train_rgb.shape[1:])"
      ],
      "execution_count": null,
      "outputs": []
    },
    {
      "cell_type": "code",
      "metadata": {
        "id": "YkgS5a7NcKeN",
        "colab": {
          "base_uri": "https://localhost:8080/"
        },
        "outputId": "cd4dc951-6692-4fe5-d8c0-12dc5712219a"
      },
      "source": [
        "history_modelResnet50V2_rgb_da = modelResnet50V2_rgb_da.fit(datagen.flow(X_train_rgb_da, y_train_rgb, batch_size=batch_size), epochs=50, validation_data=(X_val_rgb, y_val_rgb))"
      ],
      "execution_count": null,
      "outputs": [
        {
          "output_type": "stream",
          "text": [
            "Epoch 1/50\n",
            "118/118 [==============================] - 63s 230ms/step - loss: 1.4075 - accuracy: 0.5137 - val_loss: 1.1372 - val_accuracy: 0.5466\n",
            "Epoch 2/50\n",
            "118/118 [==============================] - 24s 199ms/step - loss: 0.8214 - accuracy: 0.6706 - val_loss: 2.2467 - val_accuracy: 0.5130\n",
            "Epoch 3/50\n",
            "118/118 [==============================] - 24s 200ms/step - loss: 0.6442 - accuracy: 0.7418 - val_loss: 1.5670 - val_accuracy: 0.4580\n",
            "Epoch 4/50\n",
            "118/118 [==============================] - 24s 201ms/step - loss: 0.5117 - accuracy: 0.7990 - val_loss: 1.0139 - val_accuracy: 0.6015\n",
            "Epoch 5/50\n",
            "118/118 [==============================] - 24s 201ms/step - loss: 0.4529 - accuracy: 0.8253 - val_loss: 1.9453 - val_accuracy: 0.3710\n",
            "Epoch 6/50\n",
            "118/118 [==============================] - 24s 201ms/step - loss: 0.3092 - accuracy: 0.8784 - val_loss: 1.2074 - val_accuracy: 0.5878\n",
            "Epoch 7/50\n",
            "118/118 [==============================] - 24s 201ms/step - loss: 0.2732 - accuracy: 0.8965 - val_loss: 1.6221 - val_accuracy: 0.6595\n",
            "Epoch 8/50\n",
            "118/118 [==============================] - 24s 201ms/step - loss: 0.1965 - accuracy: 0.9283 - val_loss: 2.8984 - val_accuracy: 0.4305\n",
            "Epoch 9/50\n",
            "118/118 [==============================] - 24s 201ms/step - loss: 0.1864 - accuracy: 0.9394 - val_loss: 0.4858 - val_accuracy: 0.8473\n",
            "Epoch 10/50\n",
            "118/118 [==============================] - 24s 201ms/step - loss: 0.1303 - accuracy: 0.9566 - val_loss: 0.6570 - val_accuracy: 0.8107\n",
            "Epoch 11/50\n",
            "118/118 [==============================] - 24s 200ms/step - loss: 0.1473 - accuracy: 0.9490 - val_loss: 0.7464 - val_accuracy: 0.8107\n",
            "Epoch 12/50\n",
            "118/118 [==============================] - 24s 200ms/step - loss: 0.1302 - accuracy: 0.9551 - val_loss: 0.4803 - val_accuracy: 0.8580\n",
            "Epoch 13/50\n",
            "118/118 [==============================] - 24s 201ms/step - loss: 0.1460 - accuracy: 0.9641 - val_loss: 0.5992 - val_accuracy: 0.8198\n",
            "Epoch 14/50\n",
            "118/118 [==============================] - 24s 200ms/step - loss: 0.1323 - accuracy: 0.9603 - val_loss: 0.3908 - val_accuracy: 0.8824\n",
            "Epoch 15/50\n",
            "118/118 [==============================] - 24s 200ms/step - loss: 0.1600 - accuracy: 0.9438 - val_loss: 0.4891 - val_accuracy: 0.8885\n",
            "Epoch 16/50\n",
            "118/118 [==============================] - 24s 200ms/step - loss: 0.0854 - accuracy: 0.9714 - val_loss: 0.3735 - val_accuracy: 0.9053\n",
            "Epoch 17/50\n",
            "118/118 [==============================] - 24s 200ms/step - loss: 0.0722 - accuracy: 0.9751 - val_loss: 0.4440 - val_accuracy: 0.8870\n",
            "Epoch 18/50\n",
            "118/118 [==============================] - 24s 200ms/step - loss: 0.0543 - accuracy: 0.9803 - val_loss: 0.4566 - val_accuracy: 0.8840\n",
            "Epoch 19/50\n",
            "118/118 [==============================] - 23s 199ms/step - loss: 0.0966 - accuracy: 0.9715 - val_loss: 0.4496 - val_accuracy: 0.8870\n",
            "Epoch 20/50\n",
            "118/118 [==============================] - 23s 199ms/step - loss: 0.0409 - accuracy: 0.9849 - val_loss: 0.4530 - val_accuracy: 0.8840\n",
            "Epoch 21/50\n",
            "118/118 [==============================] - 24s 200ms/step - loss: 0.0539 - accuracy: 0.9822 - val_loss: 0.6579 - val_accuracy: 0.8504\n",
            "Epoch 22/50\n",
            "118/118 [==============================] - 24s 200ms/step - loss: 0.0861 - accuracy: 0.9727 - val_loss: 0.3718 - val_accuracy: 0.9115\n",
            "Epoch 23/50\n",
            "118/118 [==============================] - 24s 200ms/step - loss: 0.0898 - accuracy: 0.9740 - val_loss: 0.3526 - val_accuracy: 0.9038\n",
            "Epoch 24/50\n",
            "118/118 [==============================] - 24s 200ms/step - loss: 0.0558 - accuracy: 0.9832 - val_loss: 0.6279 - val_accuracy: 0.8519\n",
            "Epoch 25/50\n",
            "118/118 [==============================] - 24s 200ms/step - loss: 0.0850 - accuracy: 0.9700 - val_loss: 0.8680 - val_accuracy: 0.8076\n",
            "Epoch 26/50\n",
            "118/118 [==============================] - 24s 200ms/step - loss: 0.0675 - accuracy: 0.9814 - val_loss: 0.4017 - val_accuracy: 0.9115\n",
            "Epoch 27/50\n",
            "118/118 [==============================] - 24s 200ms/step - loss: 0.0265 - accuracy: 0.9915 - val_loss: 0.4251 - val_accuracy: 0.9115\n",
            "Epoch 28/50\n",
            "118/118 [==============================] - 24s 200ms/step - loss: 0.0458 - accuracy: 0.9851 - val_loss: 0.4994 - val_accuracy: 0.8855\n",
            "Epoch 29/50\n",
            "118/118 [==============================] - 24s 200ms/step - loss: 0.0591 - accuracy: 0.9796 - val_loss: 0.4217 - val_accuracy: 0.8885\n",
            "Epoch 30/50\n",
            "118/118 [==============================] - 24s 200ms/step - loss: 0.0475 - accuracy: 0.9846 - val_loss: 0.4210 - val_accuracy: 0.9023\n",
            "Epoch 31/50\n",
            "118/118 [==============================] - 24s 200ms/step - loss: 0.0420 - accuracy: 0.9876 - val_loss: 0.4722 - val_accuracy: 0.8840\n",
            "Epoch 32/50\n",
            "118/118 [==============================] - 24s 200ms/step - loss: 0.0492 - accuracy: 0.9825 - val_loss: 2.2546 - val_accuracy: 0.6275\n",
            "Epoch 33/50\n",
            "118/118 [==============================] - 24s 200ms/step - loss: 0.1284 - accuracy: 0.9625 - val_loss: 0.6066 - val_accuracy: 0.8580\n",
            "Epoch 34/50\n",
            "118/118 [==============================] - 24s 201ms/step - loss: 0.0130 - accuracy: 0.9955 - val_loss: 0.2923 - val_accuracy: 0.9344\n",
            "Epoch 35/50\n",
            "118/118 [==============================] - 24s 202ms/step - loss: 0.0253 - accuracy: 0.9906 - val_loss: 0.5496 - val_accuracy: 0.8947\n",
            "Epoch 36/50\n",
            "118/118 [==============================] - 24s 202ms/step - loss: 0.0362 - accuracy: 0.9896 - val_loss: 0.4477 - val_accuracy: 0.9053\n",
            "Epoch 37/50\n",
            "118/118 [==============================] - 24s 202ms/step - loss: 0.0172 - accuracy: 0.9925 - val_loss: 0.5831 - val_accuracy: 0.9053\n",
            "Epoch 38/50\n",
            "118/118 [==============================] - 24s 201ms/step - loss: 0.0357 - accuracy: 0.9852 - val_loss: 0.5062 - val_accuracy: 0.9008\n",
            "Epoch 39/50\n",
            "118/118 [==============================] - 24s 202ms/step - loss: 0.0464 - accuracy: 0.9847 - val_loss: 0.8696 - val_accuracy: 0.8015\n",
            "Epoch 40/50\n",
            "118/118 [==============================] - 24s 202ms/step - loss: 0.0492 - accuracy: 0.9818 - val_loss: 0.4293 - val_accuracy: 0.9206\n",
            "Epoch 41/50\n",
            "118/118 [==============================] - 24s 202ms/step - loss: 0.0151 - accuracy: 0.9945 - val_loss: 0.4160 - val_accuracy: 0.9160\n",
            "Epoch 42/50\n",
            "118/118 [==============================] - 24s 201ms/step - loss: 0.0125 - accuracy: 0.9952 - val_loss: 0.7844 - val_accuracy: 0.8397\n",
            "Epoch 43/50\n",
            "118/118 [==============================] - 24s 201ms/step - loss: 0.0366 - accuracy: 0.9850 - val_loss: 0.8442 - val_accuracy: 0.8366\n",
            "Epoch 44/50\n",
            "118/118 [==============================] - 24s 202ms/step - loss: 0.1204 - accuracy: 0.9599 - val_loss: 0.6521 - val_accuracy: 0.8290\n",
            "Epoch 45/50\n",
            "118/118 [==============================] - 24s 201ms/step - loss: 0.0706 - accuracy: 0.9794 - val_loss: 0.4056 - val_accuracy: 0.9145\n",
            "Epoch 46/50\n",
            "118/118 [==============================] - 24s 201ms/step - loss: 0.0239 - accuracy: 0.9901 - val_loss: 0.8484 - val_accuracy: 0.8443\n",
            "Epoch 47/50\n",
            "118/118 [==============================] - 24s 202ms/step - loss: 0.0655 - accuracy: 0.9751 - val_loss: 0.3997 - val_accuracy: 0.9206\n",
            "Epoch 48/50\n",
            "118/118 [==============================] - 24s 202ms/step - loss: 0.0186 - accuracy: 0.9949 - val_loss: 0.7601 - val_accuracy: 0.8550\n",
            "Epoch 49/50\n",
            "118/118 [==============================] - 24s 201ms/step - loss: 0.0198 - accuracy: 0.9942 - val_loss: 0.3714 - val_accuracy: 0.9313\n",
            "Epoch 50/50\n",
            "118/118 [==============================] - 24s 202ms/step - loss: 0.0080 - accuracy: 0.9956 - val_loss: 0.4116 - val_accuracy: 0.9160\n"
          ],
          "name": "stdout"
        }
      ]
    },
    {
      "cell_type": "markdown",
      "metadata": {
        "id": "csbyBOOvc9Vu"
      },
      "source": [
        "###ResNet50V2 GS"
      ]
    },
    {
      "cell_type": "code",
      "metadata": {
        "id": "mQ0G5ObGctOj"
      },
      "source": [
        "modelResnet50V2_gs_da = create_resnetv2_model(50,X_train_gs.shape[1:])"
      ],
      "execution_count": null,
      "outputs": []
    },
    {
      "cell_type": "code",
      "metadata": {
        "id": "RZD8VTjWcZGL",
        "colab": {
          "base_uri": "https://localhost:8080/"
        },
        "outputId": "43623c8c-0e05-4f16-b369-0e3a64d5fc0b"
      },
      "source": [
        "history_modelResnet50V2_gs_da = modelResnet50V2_gs_da.fit(datagen.flow(X_train_gs_da, y_train_gs, batch_size=batch_size), epochs=50, validation_data=(X_val_gs, y_val_gs))"
      ],
      "execution_count": null,
      "outputs": [
        {
          "output_type": "stream",
          "text": [
            "Epoch 1/50\n",
            "118/118 [==============================] - 30s 207ms/step - loss: 1.3551 - accuracy: 0.5235 - val_loss: 3.2661 - val_accuracy: 0.1878\n",
            "Epoch 2/50\n",
            "118/118 [==============================] - 23s 197ms/step - loss: 0.6700 - accuracy: 0.7267 - val_loss: 3.1854 - val_accuracy: 0.2763\n",
            "Epoch 3/50\n",
            "118/118 [==============================] - 23s 197ms/step - loss: 0.5622 - accuracy: 0.7770 - val_loss: 2.0442 - val_accuracy: 0.3313\n",
            "Epoch 4/50\n",
            "118/118 [==============================] - 23s 198ms/step - loss: 0.4194 - accuracy: 0.8448 - val_loss: 2.5337 - val_accuracy: 0.5313\n",
            "Epoch 5/50\n",
            "118/118 [==============================] - 23s 198ms/step - loss: 0.2796 - accuracy: 0.9010 - val_loss: 4.2868 - val_accuracy: 0.6656\n",
            "Epoch 6/50\n",
            "118/118 [==============================] - 23s 199ms/step - loss: 0.3018 - accuracy: 0.8831 - val_loss: 1.2617 - val_accuracy: 0.7695\n",
            "Epoch 7/50\n",
            "118/118 [==============================] - 23s 199ms/step - loss: 0.2305 - accuracy: 0.9153 - val_loss: 7.5725 - val_accuracy: 0.2901\n",
            "Epoch 8/50\n",
            "118/118 [==============================] - 23s 198ms/step - loss: 0.2286 - accuracy: 0.9303 - val_loss: 1.5447 - val_accuracy: 0.6534\n",
            "Epoch 9/50\n",
            "118/118 [==============================] - 23s 199ms/step - loss: 0.1524 - accuracy: 0.9473 - val_loss: 1.2080 - val_accuracy: 0.6534\n",
            "Epoch 10/50\n",
            "118/118 [==============================] - 23s 199ms/step - loss: 0.2040 - accuracy: 0.9271 - val_loss: 1.0013 - val_accuracy: 0.7969\n",
            "Epoch 11/50\n",
            "118/118 [==============================] - 23s 198ms/step - loss: 0.1151 - accuracy: 0.9557 - val_loss: 0.7879 - val_accuracy: 0.7924\n",
            "Epoch 12/50\n",
            "118/118 [==============================] - 23s 199ms/step - loss: 0.0859 - accuracy: 0.9694 - val_loss: 0.5925 - val_accuracy: 0.8198\n",
            "Epoch 13/50\n",
            "118/118 [==============================] - 23s 199ms/step - loss: 0.1228 - accuracy: 0.9476 - val_loss: 0.4140 - val_accuracy: 0.8840\n",
            "Epoch 14/50\n",
            "118/118 [==============================] - 23s 199ms/step - loss: 0.0945 - accuracy: 0.9676 - val_loss: 0.8562 - val_accuracy: 0.8046\n",
            "Epoch 15/50\n",
            "118/118 [==============================] - 23s 199ms/step - loss: 0.1000 - accuracy: 0.9721 - val_loss: 1.1757 - val_accuracy: 0.7542\n",
            "Epoch 16/50\n",
            "118/118 [==============================] - 23s 199ms/step - loss: 0.0890 - accuracy: 0.9682 - val_loss: 0.3164 - val_accuracy: 0.9237\n",
            "Epoch 17/50\n",
            "118/118 [==============================] - 23s 198ms/step - loss: 0.0448 - accuracy: 0.9823 - val_loss: 1.3250 - val_accuracy: 0.7221\n",
            "Epoch 18/50\n",
            "118/118 [==============================] - 23s 199ms/step - loss: 0.0760 - accuracy: 0.9727 - val_loss: 0.5068 - val_accuracy: 0.8702\n",
            "Epoch 19/50\n",
            "118/118 [==============================] - 23s 199ms/step - loss: 0.0854 - accuracy: 0.9708 - val_loss: 0.5593 - val_accuracy: 0.8840\n",
            "Epoch 20/50\n",
            "118/118 [==============================] - 23s 199ms/step - loss: 0.0960 - accuracy: 0.9666 - val_loss: 0.3303 - val_accuracy: 0.9053\n",
            "Epoch 21/50\n",
            "118/118 [==============================] - 23s 199ms/step - loss: 0.0376 - accuracy: 0.9894 - val_loss: 0.4891 - val_accuracy: 0.8702\n",
            "Epoch 22/50\n",
            "118/118 [==============================] - 23s 199ms/step - loss: 0.0440 - accuracy: 0.9831 - val_loss: 0.7087 - val_accuracy: 0.8443\n",
            "Epoch 23/50\n",
            "118/118 [==============================] - 23s 198ms/step - loss: 0.0601 - accuracy: 0.9809 - val_loss: 0.7675 - val_accuracy: 0.8168\n",
            "Epoch 24/50\n",
            "118/118 [==============================] - 23s 199ms/step - loss: 0.0427 - accuracy: 0.9857 - val_loss: 0.5145 - val_accuracy: 0.8901\n",
            "Epoch 25/50\n",
            "118/118 [==============================] - 23s 198ms/step - loss: 0.1147 - accuracy: 0.9611 - val_loss: 0.7545 - val_accuracy: 0.8672\n",
            "Epoch 26/50\n",
            "118/118 [==============================] - 23s 198ms/step - loss: 0.0468 - accuracy: 0.9833 - val_loss: 0.4534 - val_accuracy: 0.8748\n",
            "Epoch 27/50\n",
            "118/118 [==============================] - 23s 199ms/step - loss: 0.0548 - accuracy: 0.9827 - val_loss: 0.3572 - val_accuracy: 0.9130\n",
            "Epoch 28/50\n",
            "118/118 [==============================] - 23s 198ms/step - loss: 0.0334 - accuracy: 0.9870 - val_loss: 0.6476 - val_accuracy: 0.8748\n",
            "Epoch 29/50\n",
            "118/118 [==============================] - 23s 199ms/step - loss: 0.0329 - accuracy: 0.9895 - val_loss: 0.4106 - val_accuracy: 0.8901\n",
            "Epoch 30/50\n",
            "118/118 [==============================] - 23s 199ms/step - loss: 0.0647 - accuracy: 0.9799 - val_loss: 0.4420 - val_accuracy: 0.8916\n",
            "Epoch 31/50\n",
            "118/118 [==============================] - 23s 199ms/step - loss: 0.0707 - accuracy: 0.9763 - val_loss: 0.4516 - val_accuracy: 0.9038\n",
            "Epoch 32/50\n",
            "118/118 [==============================] - 23s 199ms/step - loss: 0.0382 - accuracy: 0.9877 - val_loss: 0.4027 - val_accuracy: 0.9115\n",
            "Epoch 33/50\n",
            "118/118 [==============================] - 23s 199ms/step - loss: 0.0381 - accuracy: 0.9897 - val_loss: 0.4319 - val_accuracy: 0.8855\n",
            "Epoch 34/50\n",
            "118/118 [==============================] - 23s 199ms/step - loss: 0.0416 - accuracy: 0.9857 - val_loss: 0.5936 - val_accuracy: 0.8779\n",
            "Epoch 35/50\n",
            "118/118 [==============================] - 23s 199ms/step - loss: 0.0305 - accuracy: 0.9872 - val_loss: 0.6726 - val_accuracy: 0.8427\n",
            "Epoch 36/50\n",
            "118/118 [==============================] - 23s 199ms/step - loss: 0.0429 - accuracy: 0.9864 - val_loss: 0.8496 - val_accuracy: 0.8015\n",
            "Epoch 37/50\n",
            "118/118 [==============================] - 23s 199ms/step - loss: 0.0811 - accuracy: 0.9766 - val_loss: 0.5896 - val_accuracy: 0.8748\n",
            "Epoch 38/50\n",
            "118/118 [==============================] - 23s 199ms/step - loss: 0.0416 - accuracy: 0.9890 - val_loss: 1.1850 - val_accuracy: 0.7771\n",
            "Epoch 39/50\n",
            "118/118 [==============================] - 23s 199ms/step - loss: 0.0286 - accuracy: 0.9928 - val_loss: 0.3670 - val_accuracy: 0.9221\n",
            "Epoch 40/50\n",
            "118/118 [==============================] - 23s 199ms/step - loss: 0.0118 - accuracy: 0.9960 - val_loss: 0.3056 - val_accuracy: 0.9298\n",
            "Epoch 41/50\n",
            "118/118 [==============================] - 23s 198ms/step - loss: 0.0174 - accuracy: 0.9940 - val_loss: 0.3747 - val_accuracy: 0.9115\n",
            "Epoch 42/50\n",
            "118/118 [==============================] - 23s 198ms/step - loss: 0.0158 - accuracy: 0.9965 - val_loss: 0.5125 - val_accuracy: 0.9115\n",
            "Epoch 43/50\n",
            "118/118 [==============================] - 23s 199ms/step - loss: 0.0159 - accuracy: 0.9933 - val_loss: 0.6168 - val_accuracy: 0.8565\n",
            "Epoch 44/50\n",
            "118/118 [==============================] - 23s 199ms/step - loss: 0.1349 - accuracy: 0.9512 - val_loss: 0.3513 - val_accuracy: 0.9160\n",
            "Epoch 45/50\n",
            "118/118 [==============================] - 23s 199ms/step - loss: 0.0387 - accuracy: 0.9856 - val_loss: 0.4715 - val_accuracy: 0.8840\n",
            "Epoch 46/50\n",
            "118/118 [==============================] - 23s 199ms/step - loss: 0.0418 - accuracy: 0.9892 - val_loss: 0.6985 - val_accuracy: 0.8794\n",
            "Epoch 47/50\n",
            "118/118 [==============================] - 23s 199ms/step - loss: 0.0481 - accuracy: 0.9833 - val_loss: 0.3634 - val_accuracy: 0.9160\n",
            "Epoch 48/50\n",
            "118/118 [==============================] - 23s 199ms/step - loss: 0.0492 - accuracy: 0.9846 - val_loss: 0.5325 - val_accuracy: 0.8947\n",
            "Epoch 49/50\n",
            "118/118 [==============================] - 23s 199ms/step - loss: 0.0572 - accuracy: 0.9773 - val_loss: 0.7308 - val_accuracy: 0.8504\n",
            "Epoch 50/50\n",
            "118/118 [==============================] - 23s 199ms/step - loss: 0.0245 - accuracy: 0.9916 - val_loss: 0.4729 - val_accuracy: 0.9053\n"
          ],
          "name": "stdout"
        }
      ]
    },
    {
      "cell_type": "markdown",
      "metadata": {
        "id": "4Wf9t14YeEj9"
      },
      "source": [
        "###ResNet50V2 RGB With TFL"
      ]
    },
    {
      "cell_type": "code",
      "metadata": {
        "id": "0zMN49LFcuT7",
        "colab": {
          "base_uri": "https://localhost:8080/"
        },
        "outputId": "58eeaef6-506d-4354-cc9d-e7986bb56baf"
      },
      "source": [
        "modelResnet50V2_tfl_da = create_resnetv2_model(50,X_train_rgb.shape[1:],True)"
      ],
      "execution_count": null,
      "outputs": [
        {
          "output_type": "stream",
          "text": [
            "Downloading data from https://storage.googleapis.com/tensorflow/keras-applications/resnet/resnet50v2_weights_tf_dim_ordering_tf_kernels_notop.h5\n",
            "94674944/94668760 [==============================] - 3s 0us/step\n"
          ],
          "name": "stdout"
        }
      ]
    },
    {
      "cell_type": "code",
      "metadata": {
        "id": "IQYJBV9YcgoE",
        "colab": {
          "base_uri": "https://localhost:8080/"
        },
        "outputId": "16fe4dd1-7037-40f1-abb5-0f6080249f92"
      },
      "source": [
        "history_modelResnet50V2_tfl_da = modelResnet50V2_tfl_da.fit(datagen.flow(X_train_rgb_da, y_train_rgb, batch_size=batch_size), epochs=50, validation_data=(X_val_rgb, y_val_rgb))"
      ],
      "execution_count": null,
      "outputs": [
        {
          "output_type": "stream",
          "text": [
            "Epoch 1/50\n",
            "118/118 [==============================] - 21s 143ms/step - loss: 17.3824 - accuracy: 0.5107 - val_loss: 0.7348 - val_accuracy: 0.7038\n",
            "Epoch 2/50\n",
            "118/118 [==============================] - 15s 125ms/step - loss: 0.8563 - accuracy: 0.6710 - val_loss: 0.7655 - val_accuracy: 0.7176\n",
            "Epoch 3/50\n",
            "118/118 [==============================] - 15s 125ms/step - loss: 0.7349 - accuracy: 0.7357 - val_loss: 0.5890 - val_accuracy: 0.7786\n",
            "Epoch 4/50\n",
            "118/118 [==============================] - 15s 124ms/step - loss: 0.7006 - accuracy: 0.7361 - val_loss: 0.6691 - val_accuracy: 0.7786\n",
            "Epoch 5/50\n",
            "118/118 [==============================] - 15s 124ms/step - loss: 0.7080 - accuracy: 0.7326 - val_loss: 0.6646 - val_accuracy: 0.7511\n",
            "Epoch 6/50\n",
            "118/118 [==============================] - 15s 125ms/step - loss: 0.6608 - accuracy: 0.7478 - val_loss: 0.5839 - val_accuracy: 0.7954\n",
            "Epoch 7/50\n",
            "118/118 [==============================] - 15s 125ms/step - loss: 0.6662 - accuracy: 0.7489 - val_loss: 0.6467 - val_accuracy: 0.7771\n",
            "Epoch 8/50\n",
            "118/118 [==============================] - 15s 125ms/step - loss: 0.6190 - accuracy: 0.7614 - val_loss: 0.5812 - val_accuracy: 0.7679\n",
            "Epoch 9/50\n",
            "118/118 [==============================] - 15s 124ms/step - loss: 0.6214 - accuracy: 0.7806 - val_loss: 0.5924 - val_accuracy: 0.7740\n",
            "Epoch 10/50\n",
            "118/118 [==============================] - 15s 125ms/step - loss: 0.6048 - accuracy: 0.7549 - val_loss: 0.6378 - val_accuracy: 0.7710\n",
            "Epoch 11/50\n",
            "118/118 [==============================] - 15s 124ms/step - loss: 0.6047 - accuracy: 0.7583 - val_loss: 0.5275 - val_accuracy: 0.7969\n",
            "Epoch 12/50\n",
            "118/118 [==============================] - 15s 124ms/step - loss: 0.6082 - accuracy: 0.7690 - val_loss: 0.4786 - val_accuracy: 0.8214\n",
            "Epoch 13/50\n",
            "118/118 [==============================] - 15s 125ms/step - loss: 0.5351 - accuracy: 0.7932 - val_loss: 0.5460 - val_accuracy: 0.7847\n",
            "Epoch 14/50\n",
            "118/118 [==============================] - 15s 125ms/step - loss: 0.5944 - accuracy: 0.7764 - val_loss: 0.4793 - val_accuracy: 0.8092\n",
            "Epoch 15/50\n",
            "118/118 [==============================] - 15s 125ms/step - loss: 0.5668 - accuracy: 0.7771 - val_loss: 0.5288 - val_accuracy: 0.8031\n",
            "Epoch 16/50\n",
            "118/118 [==============================] - 15s 125ms/step - loss: 0.5450 - accuracy: 0.7929 - val_loss: 0.4957 - val_accuracy: 0.8137\n",
            "Epoch 17/50\n",
            "118/118 [==============================] - 15s 125ms/step - loss: 0.5537 - accuracy: 0.7876 - val_loss: 0.5084 - val_accuracy: 0.8366\n",
            "Epoch 18/50\n",
            "118/118 [==============================] - 15s 124ms/step - loss: 0.5720 - accuracy: 0.7785 - val_loss: 0.5140 - val_accuracy: 0.8183\n",
            "Epoch 19/50\n",
            "118/118 [==============================] - 15s 126ms/step - loss: 0.5811 - accuracy: 0.7867 - val_loss: 0.5794 - val_accuracy: 0.7893\n",
            "Epoch 20/50\n",
            "118/118 [==============================] - 15s 125ms/step - loss: 0.5902 - accuracy: 0.7725 - val_loss: 0.4609 - val_accuracy: 0.8336\n",
            "Epoch 21/50\n",
            "118/118 [==============================] - 15s 124ms/step - loss: 0.5346 - accuracy: 0.7971 - val_loss: 0.5686 - val_accuracy: 0.7908\n",
            "Epoch 22/50\n",
            "118/118 [==============================] - 15s 124ms/step - loss: 0.5359 - accuracy: 0.8049 - val_loss: 0.4713 - val_accuracy: 0.8122\n",
            "Epoch 23/50\n",
            "118/118 [==============================] - 15s 125ms/step - loss: 0.5393 - accuracy: 0.7961 - val_loss: 0.5636 - val_accuracy: 0.7969\n",
            "Epoch 24/50\n",
            "118/118 [==============================] - 15s 125ms/step - loss: 0.5539 - accuracy: 0.8024 - val_loss: 0.4485 - val_accuracy: 0.8229\n",
            "Epoch 25/50\n",
            "118/118 [==============================] - 15s 124ms/step - loss: 0.5088 - accuracy: 0.7934 - val_loss: 0.6076 - val_accuracy: 0.7878\n",
            "Epoch 26/50\n",
            "118/118 [==============================] - 15s 125ms/step - loss: 0.5339 - accuracy: 0.7946 - val_loss: 0.4974 - val_accuracy: 0.8214\n",
            "Epoch 27/50\n",
            "118/118 [==============================] - 15s 125ms/step - loss: 0.5059 - accuracy: 0.8159 - val_loss: 0.4922 - val_accuracy: 0.8305\n",
            "Epoch 28/50\n",
            "118/118 [==============================] - 15s 125ms/step - loss: 0.5355 - accuracy: 0.8121 - val_loss: 0.4792 - val_accuracy: 0.8305\n",
            "Epoch 29/50\n",
            "118/118 [==============================] - 15s 124ms/step - loss: 0.5126 - accuracy: 0.8109 - val_loss: 0.4802 - val_accuracy: 0.8244\n",
            "Epoch 30/50\n",
            "118/118 [==============================] - 15s 125ms/step - loss: 0.5225 - accuracy: 0.8168 - val_loss: 0.5099 - val_accuracy: 0.7969\n",
            "Epoch 31/50\n",
            "118/118 [==============================] - 15s 125ms/step - loss: 0.5192 - accuracy: 0.8071 - val_loss: 0.5483 - val_accuracy: 0.8122\n",
            "Epoch 32/50\n",
            "118/118 [==============================] - 15s 124ms/step - loss: 0.5235 - accuracy: 0.8061 - val_loss: 0.4658 - val_accuracy: 0.8321\n",
            "Epoch 33/50\n",
            "118/118 [==============================] - 15s 125ms/step - loss: 0.5111 - accuracy: 0.8130 - val_loss: 0.4870 - val_accuracy: 0.8153\n",
            "Epoch 34/50\n",
            "118/118 [==============================] - 15s 125ms/step - loss: 0.5395 - accuracy: 0.8052 - val_loss: 0.4545 - val_accuracy: 0.8260\n",
            "Epoch 35/50\n",
            "118/118 [==============================] - 15s 126ms/step - loss: 0.4518 - accuracy: 0.8279 - val_loss: 0.5457 - val_accuracy: 0.7924\n",
            "Epoch 36/50\n",
            "118/118 [==============================] - 15s 125ms/step - loss: 0.5151 - accuracy: 0.8128 - val_loss: 0.5570 - val_accuracy: 0.8046\n",
            "Epoch 37/50\n",
            "118/118 [==============================] - 15s 125ms/step - loss: 0.5151 - accuracy: 0.8150 - val_loss: 0.5004 - val_accuracy: 0.8244\n",
            "Epoch 38/50\n",
            "118/118 [==============================] - 15s 124ms/step - loss: 0.5164 - accuracy: 0.8186 - val_loss: 0.5398 - val_accuracy: 0.8168\n",
            "Epoch 39/50\n",
            "118/118 [==============================] - 15s 126ms/step - loss: 0.4859 - accuracy: 0.8089 - val_loss: 0.4729 - val_accuracy: 0.8260\n",
            "Epoch 40/50\n",
            "118/118 [==============================] - 15s 125ms/step - loss: 0.5629 - accuracy: 0.8040 - val_loss: 0.5075 - val_accuracy: 0.8244\n",
            "Epoch 41/50\n",
            "118/118 [==============================] - 15s 125ms/step - loss: 0.5077 - accuracy: 0.8099 - val_loss: 0.5491 - val_accuracy: 0.8107\n",
            "Epoch 42/50\n",
            "118/118 [==============================] - 15s 125ms/step - loss: 0.4687 - accuracy: 0.8315 - val_loss: 0.4228 - val_accuracy: 0.8305\n",
            "Epoch 43/50\n",
            "118/118 [==============================] - 15s 125ms/step - loss: 0.5091 - accuracy: 0.8177 - val_loss: 0.5323 - val_accuracy: 0.8153\n",
            "Epoch 44/50\n",
            "118/118 [==============================] - 15s 126ms/step - loss: 0.5114 - accuracy: 0.8260 - val_loss: 0.4034 - val_accuracy: 0.8580\n",
            "Epoch 45/50\n",
            "118/118 [==============================] - 15s 124ms/step - loss: 0.4816 - accuracy: 0.8270 - val_loss: 0.4875 - val_accuracy: 0.8260\n",
            "Epoch 46/50\n",
            "118/118 [==============================] - 15s 125ms/step - loss: 0.4899 - accuracy: 0.8190 - val_loss: 0.5801 - val_accuracy: 0.7954\n",
            "Epoch 47/50\n",
            "118/118 [==============================] - 15s 125ms/step - loss: 0.4859 - accuracy: 0.8310 - val_loss: 0.4343 - val_accuracy: 0.8458\n",
            "Epoch 48/50\n",
            "118/118 [==============================] - 15s 125ms/step - loss: 0.4236 - accuracy: 0.8475 - val_loss: 0.4051 - val_accuracy: 0.8458\n",
            "Epoch 49/50\n",
            "118/118 [==============================] - 15s 125ms/step - loss: 0.4464 - accuracy: 0.8392 - val_loss: 0.4484 - val_accuracy: 0.8351\n",
            "Epoch 50/50\n",
            "118/118 [==============================] - 15s 125ms/step - loss: 0.4269 - accuracy: 0.8530 - val_loss: 0.4508 - val_accuracy: 0.8198\n"
          ],
          "name": "stdout"
        }
      ]
    },
    {
      "cell_type": "markdown",
      "metadata": {
        "id": "hdGkCq6CdKuW"
      },
      "source": [
        "###ResNet101V2 RGB"
      ]
    },
    {
      "cell_type": "code",
      "metadata": {
        "id": "w1O9axV2dKuY"
      },
      "source": [
        "modelResnet101V2_rgb_da = create_resnetv2_model(101,X_train_rgb.shape[1:])"
      ],
      "execution_count": null,
      "outputs": []
    },
    {
      "cell_type": "code",
      "metadata": {
        "id": "35Zluk0ZdKuY",
        "colab": {
          "base_uri": "https://localhost:8080/"
        },
        "outputId": "386787fe-3f78-4497-daf8-26962043a307"
      },
      "source": [
        "history_modelResnet101V2_rgb_da = modelResnet101V2_rgb_da.fit(datagen.flow(X_train_rgb_da, y_train_rgb, batch_size=batch_size), epochs=50, validation_data=(X_val_rgb, y_val_rgb))"
      ],
      "execution_count": null,
      "outputs": [
        {
          "output_type": "stream",
          "text": [
            "Epoch 1/50\n",
            "118/118 [==============================] - 60s 386ms/step - loss: 1.5291 - accuracy: 0.4989 - val_loss: 2.6943 - val_accuracy: 0.2962\n",
            "Epoch 2/50\n",
            "118/118 [==============================] - 44s 372ms/step - loss: 0.7777 - accuracy: 0.6736 - val_loss: 3.0436 - val_accuracy: 0.1328\n",
            "Epoch 3/50\n",
            "118/118 [==============================] - 44s 372ms/step - loss: 0.6776 - accuracy: 0.7354 - val_loss: 33.4526 - val_accuracy: 0.6015\n",
            "Epoch 4/50\n",
            "118/118 [==============================] - 44s 372ms/step - loss: 0.5563 - accuracy: 0.7924 - val_loss: 17.6685 - val_accuracy: 0.4473\n",
            "Epoch 5/50\n",
            "118/118 [==============================] - 44s 372ms/step - loss: 0.5195 - accuracy: 0.7925 - val_loss: 1.7339 - val_accuracy: 0.5878\n",
            "Epoch 6/50\n",
            "118/118 [==============================] - 44s 372ms/step - loss: 0.3746 - accuracy: 0.8738 - val_loss: 1.3344 - val_accuracy: 0.6198\n",
            "Epoch 7/50\n",
            "118/118 [==============================] - 44s 372ms/step - loss: 0.3525 - accuracy: 0.8710 - val_loss: 0.4978 - val_accuracy: 0.8229\n",
            "Epoch 8/50\n",
            "118/118 [==============================] - 44s 372ms/step - loss: 0.2586 - accuracy: 0.9016 - val_loss: 2.0035 - val_accuracy: 0.6198\n",
            "Epoch 9/50\n",
            "118/118 [==============================] - 44s 372ms/step - loss: 0.2939 - accuracy: 0.8967 - val_loss: 1.3614 - val_accuracy: 0.6168\n",
            "Epoch 10/50\n",
            "118/118 [==============================] - 44s 372ms/step - loss: 0.2069 - accuracy: 0.9318 - val_loss: 1.6051 - val_accuracy: 0.5954\n",
            "Epoch 11/50\n",
            "118/118 [==============================] - 44s 372ms/step - loss: 0.1938 - accuracy: 0.9304 - val_loss: 0.5652 - val_accuracy: 0.8443\n",
            "Epoch 12/50\n",
            "118/118 [==============================] - 44s 372ms/step - loss: 0.1458 - accuracy: 0.9517 - val_loss: 1.4856 - val_accuracy: 0.5939\n",
            "Epoch 13/50\n",
            "118/118 [==============================] - 44s 372ms/step - loss: 0.1368 - accuracy: 0.9484 - val_loss: 0.3941 - val_accuracy: 0.8809\n",
            "Epoch 14/50\n",
            "118/118 [==============================] - 44s 372ms/step - loss: 0.1520 - accuracy: 0.9475 - val_loss: 0.4863 - val_accuracy: 0.8382\n",
            "Epoch 15/50\n",
            "118/118 [==============================] - 44s 372ms/step - loss: 0.1155 - accuracy: 0.9603 - val_loss: 0.7426 - val_accuracy: 0.8183\n",
            "Epoch 16/50\n",
            "118/118 [==============================] - 44s 373ms/step - loss: 0.0783 - accuracy: 0.9684 - val_loss: 1.2105 - val_accuracy: 0.7053\n",
            "Epoch 17/50\n",
            "118/118 [==============================] - 44s 372ms/step - loss: 0.1089 - accuracy: 0.9648 - val_loss: 0.8469 - val_accuracy: 0.7832\n",
            "Epoch 18/50\n",
            "118/118 [==============================] - 44s 372ms/step - loss: 0.0813 - accuracy: 0.9709 - val_loss: 0.4625 - val_accuracy: 0.8641\n",
            "Epoch 19/50\n",
            "118/118 [==============================] - 44s 373ms/step - loss: 0.0914 - accuracy: 0.9633 - val_loss: 0.5785 - val_accuracy: 0.8351\n",
            "Epoch 20/50\n",
            "118/118 [==============================] - 44s 373ms/step - loss: 0.0750 - accuracy: 0.9766 - val_loss: 0.8031 - val_accuracy: 0.8336\n",
            "Epoch 21/50\n",
            "118/118 [==============================] - 44s 372ms/step - loss: 0.0878 - accuracy: 0.9730 - val_loss: 0.8552 - val_accuracy: 0.7832\n",
            "Epoch 22/50\n",
            "118/118 [==============================] - 44s 373ms/step - loss: 0.1020 - accuracy: 0.9676 - val_loss: 0.6427 - val_accuracy: 0.8748\n",
            "Epoch 23/50\n",
            "118/118 [==============================] - 44s 373ms/step - loss: 0.0770 - accuracy: 0.9700 - val_loss: 0.7329 - val_accuracy: 0.8214\n",
            "Epoch 24/50\n",
            "118/118 [==============================] - 44s 373ms/step - loss: 0.0944 - accuracy: 0.9730 - val_loss: 1.0851 - val_accuracy: 0.7389\n",
            "Epoch 25/50\n",
            "118/118 [==============================] - 44s 373ms/step - loss: 0.0685 - accuracy: 0.9753 - val_loss: 0.7551 - val_accuracy: 0.8718\n",
            "Epoch 26/50\n",
            "118/118 [==============================] - 44s 372ms/step - loss: 0.0588 - accuracy: 0.9754 - val_loss: 1.2200 - val_accuracy: 0.7527\n",
            "Epoch 27/50\n",
            "118/118 [==============================] - 44s 372ms/step - loss: 0.1297 - accuracy: 0.9566 - val_loss: 0.6041 - val_accuracy: 0.8656\n",
            "Epoch 28/50\n",
            "118/118 [==============================] - 44s 373ms/step - loss: 0.0600 - accuracy: 0.9801 - val_loss: 0.5180 - val_accuracy: 0.8672\n",
            "Epoch 29/50\n",
            "118/118 [==============================] - 44s 374ms/step - loss: 0.0798 - accuracy: 0.9788 - val_loss: 0.9285 - val_accuracy: 0.7802\n",
            "Epoch 30/50\n",
            "118/118 [==============================] - 44s 373ms/step - loss: 0.0158 - accuracy: 0.9958 - val_loss: 0.4393 - val_accuracy: 0.9130\n",
            "Epoch 31/50\n",
            "118/118 [==============================] - 44s 373ms/step - loss: 0.0112 - accuracy: 0.9963 - val_loss: 0.3894 - val_accuracy: 0.9267\n",
            "Epoch 32/50\n",
            "118/118 [==============================] - 44s 373ms/step - loss: 0.0288 - accuracy: 0.9902 - val_loss: 0.8755 - val_accuracy: 0.8366\n",
            "Epoch 33/50\n",
            "118/118 [==============================] - 44s 373ms/step - loss: 0.0900 - accuracy: 0.9785 - val_loss: 0.8274 - val_accuracy: 0.7802\n",
            "Epoch 34/50\n",
            "118/118 [==============================] - 44s 373ms/step - loss: 0.0793 - accuracy: 0.9753 - val_loss: 0.4242 - val_accuracy: 0.9115\n",
            "Epoch 35/50\n",
            "118/118 [==============================] - 44s 373ms/step - loss: 0.0550 - accuracy: 0.9821 - val_loss: 0.5977 - val_accuracy: 0.8748\n",
            "Epoch 36/50\n",
            "118/118 [==============================] - 44s 372ms/step - loss: 0.0746 - accuracy: 0.9767 - val_loss: 1.3433 - val_accuracy: 0.7115\n",
            "Epoch 37/50\n",
            "118/118 [==============================] - 44s 373ms/step - loss: 0.0597 - accuracy: 0.9743 - val_loss: 0.3300 - val_accuracy: 0.9313\n",
            "Epoch 38/50\n",
            "118/118 [==============================] - 44s 373ms/step - loss: 0.0471 - accuracy: 0.9859 - val_loss: 1.2570 - val_accuracy: 0.7527\n",
            "Epoch 39/50\n",
            "118/118 [==============================] - 44s 373ms/step - loss: 0.0400 - accuracy: 0.9858 - val_loss: 0.6055 - val_accuracy: 0.8763\n",
            "Epoch 40/50\n",
            "118/118 [==============================] - 44s 373ms/step - loss: 0.0538 - accuracy: 0.9797 - val_loss: 0.5512 - val_accuracy: 0.8672\n",
            "Epoch 41/50\n",
            "118/118 [==============================] - 44s 373ms/step - loss: 0.0431 - accuracy: 0.9842 - val_loss: 0.3245 - val_accuracy: 0.9328\n",
            "Epoch 42/50\n",
            "118/118 [==============================] - 44s 373ms/step - loss: 0.0264 - accuracy: 0.9910 - val_loss: 0.5371 - val_accuracy: 0.8947\n",
            "Epoch 43/50\n",
            "118/118 [==============================] - 44s 373ms/step - loss: 0.1048 - accuracy: 0.9618 - val_loss: 0.6263 - val_accuracy: 0.8733\n",
            "Epoch 44/50\n",
            "118/118 [==============================] - 44s 373ms/step - loss: 0.0277 - accuracy: 0.9885 - val_loss: 0.4507 - val_accuracy: 0.8885\n",
            "Epoch 45/50\n",
            "118/118 [==============================] - 44s 373ms/step - loss: 0.0217 - accuracy: 0.9923 - val_loss: 0.5572 - val_accuracy: 0.9145\n",
            "Epoch 46/50\n",
            "118/118 [==============================] - 44s 373ms/step - loss: 0.0701 - accuracy: 0.9799 - val_loss: 0.3453 - val_accuracy: 0.9313\n",
            "Epoch 47/50\n",
            "118/118 [==============================] - 44s 372ms/step - loss: 0.0292 - accuracy: 0.9908 - val_loss: 0.7534 - val_accuracy: 0.8489\n",
            "Epoch 48/50\n",
            "118/118 [==============================] - 44s 372ms/step - loss: 0.0569 - accuracy: 0.9813 - val_loss: 0.4963 - val_accuracy: 0.8870\n",
            "Epoch 49/50\n",
            "118/118 [==============================] - 44s 372ms/step - loss: 0.0302 - accuracy: 0.9897 - val_loss: 0.4090 - val_accuracy: 0.9206\n",
            "Epoch 50/50\n",
            "118/118 [==============================] - 44s 372ms/step - loss: 0.0423 - accuracy: 0.9876 - val_loss: 0.8948 - val_accuracy: 0.8611\n"
          ],
          "name": "stdout"
        }
      ]
    },
    {
      "cell_type": "markdown",
      "metadata": {
        "id": "Qbs4_78pdt2y"
      },
      "source": [
        "###ResNet101V2 GS"
      ]
    },
    {
      "cell_type": "code",
      "metadata": {
        "id": "1fKNJJbXdt2z"
      },
      "source": [
        "modelResnet101V2_gs_da = create_resnetv2_model(101,X_train_gs.shape[1:])"
      ],
      "execution_count": null,
      "outputs": []
    },
    {
      "cell_type": "code",
      "metadata": {
        "id": "6Qa9W71Edt20",
        "colab": {
          "base_uri": "https://localhost:8080/"
        },
        "outputId": "7363364e-2cb8-447f-ad28-a016c11c00d3"
      },
      "source": [
        "history_modelResnet101V2_gs_da = modelResnet101V2_gs_da.fit(datagen.flow(X_train_gs_da, y_train_gs, batch_size=batch_size), epochs=50, validation_data=(X_val_gs, y_val_gs))"
      ],
      "execution_count": null,
      "outputs": [
        {
          "output_type": "stream",
          "text": [
            "Epoch 1/50\n",
            "118/118 [==============================] - 56s 383ms/step - loss: 1.4959 - accuracy: 0.5133 - val_loss: 2.2630 - val_accuracy: 0.2321\n",
            "Epoch 2/50\n",
            "118/118 [==============================] - 43s 368ms/step - loss: 0.8110 - accuracy: 0.6604 - val_loss: 3.4206 - val_accuracy: 0.2809\n",
            "Epoch 3/50\n",
            "118/118 [==============================] - 44s 369ms/step - loss: 0.6291 - accuracy: 0.7555 - val_loss: 3.0920 - val_accuracy: 0.3084\n",
            "Epoch 4/50\n",
            "118/118 [==============================] - 44s 369ms/step - loss: 0.6081 - accuracy: 0.7777 - val_loss: 3.0204 - val_accuracy: 0.2351\n",
            "Epoch 5/50\n",
            "118/118 [==============================] - 44s 370ms/step - loss: 0.4975 - accuracy: 0.8160 - val_loss: 1.8256 - val_accuracy: 0.5328\n",
            "Epoch 6/50\n",
            "118/118 [==============================] - 43s 369ms/step - loss: 0.4267 - accuracy: 0.8416 - val_loss: 0.7910 - val_accuracy: 0.7466\n",
            "Epoch 7/50\n",
            "118/118 [==============================] - 44s 370ms/step - loss: 0.3386 - accuracy: 0.8701 - val_loss: 1.0491 - val_accuracy: 0.6916\n",
            "Epoch 8/50\n",
            "118/118 [==============================] - 43s 368ms/step - loss: 0.2668 - accuracy: 0.9016 - val_loss: 1.1260 - val_accuracy: 0.6519\n",
            "Epoch 9/50\n",
            "118/118 [==============================] - 43s 369ms/step - loss: 0.2346 - accuracy: 0.9184 - val_loss: 1.1397 - val_accuracy: 0.6550\n",
            "Epoch 10/50\n",
            "118/118 [==============================] - 43s 367ms/step - loss: 0.2114 - accuracy: 0.9190 - val_loss: 0.8016 - val_accuracy: 0.7649\n",
            "Epoch 11/50\n",
            "118/118 [==============================] - 43s 368ms/step - loss: 0.1931 - accuracy: 0.9338 - val_loss: 0.4044 - val_accuracy: 0.8672\n",
            "Epoch 12/50\n",
            "118/118 [==============================] - 43s 368ms/step - loss: 0.1290 - accuracy: 0.9565 - val_loss: 0.4498 - val_accuracy: 0.8275\n",
            "Epoch 13/50\n",
            "118/118 [==============================] - 43s 369ms/step - loss: 0.1464 - accuracy: 0.9450 - val_loss: 0.4610 - val_accuracy: 0.8595\n",
            "Epoch 14/50\n",
            "118/118 [==============================] - 43s 368ms/step - loss: 0.1353 - accuracy: 0.9551 - val_loss: 1.2401 - val_accuracy: 0.7084\n",
            "Epoch 15/50\n",
            "118/118 [==============================] - 43s 368ms/step - loss: 0.0774 - accuracy: 0.9745 - val_loss: 0.8881 - val_accuracy: 0.7221\n",
            "Epoch 16/50\n",
            "118/118 [==============================] - 43s 368ms/step - loss: 0.0696 - accuracy: 0.9753 - val_loss: 0.5580 - val_accuracy: 0.8519\n",
            "Epoch 17/50\n",
            "118/118 [==============================] - 43s 368ms/step - loss: 0.1392 - accuracy: 0.9639 - val_loss: 1.1129 - val_accuracy: 0.7679\n",
            "Epoch 18/50\n",
            "118/118 [==============================] - 43s 368ms/step - loss: 0.0925 - accuracy: 0.9744 - val_loss: 0.4314 - val_accuracy: 0.8901\n",
            "Epoch 19/50\n",
            "118/118 [==============================] - 43s 369ms/step - loss: 0.0683 - accuracy: 0.9756 - val_loss: 0.5123 - val_accuracy: 0.8489\n",
            "Epoch 20/50\n",
            "118/118 [==============================] - 43s 367ms/step - loss: 0.0857 - accuracy: 0.9723 - val_loss: 0.7878 - val_accuracy: 0.8183\n",
            "Epoch 21/50\n",
            "118/118 [==============================] - 43s 368ms/step - loss: 0.1256 - accuracy: 0.9630 - val_loss: 0.5402 - val_accuracy: 0.8366\n",
            "Epoch 22/50\n",
            "118/118 [==============================] - 43s 367ms/step - loss: 0.1164 - accuracy: 0.9601 - val_loss: 3.2104 - val_accuracy: 0.6183\n",
            "Epoch 23/50\n",
            "118/118 [==============================] - 44s 370ms/step - loss: 0.0901 - accuracy: 0.9690 - val_loss: 0.4470 - val_accuracy: 0.8718\n",
            "Epoch 24/50\n",
            "118/118 [==============================] - 43s 369ms/step - loss: 0.0402 - accuracy: 0.9859 - val_loss: 2.6206 - val_accuracy: 0.6046\n",
            "Epoch 25/50\n",
            "118/118 [==============================] - 44s 370ms/step - loss: 0.0525 - accuracy: 0.9822 - val_loss: 0.5750 - val_accuracy: 0.8550\n",
            "Epoch 26/50\n",
            "118/118 [==============================] - 44s 369ms/step - loss: 0.0658 - accuracy: 0.9791 - val_loss: 0.5018 - val_accuracy: 0.8718\n",
            "Epoch 27/50\n",
            "118/118 [==============================] - 44s 370ms/step - loss: 0.0634 - accuracy: 0.9809 - val_loss: 0.4144 - val_accuracy: 0.8962\n",
            "Epoch 28/50\n",
            "118/118 [==============================] - 43s 368ms/step - loss: 0.0614 - accuracy: 0.9804 - val_loss: 0.5444 - val_accuracy: 0.8565\n",
            "Epoch 29/50\n",
            "118/118 [==============================] - 44s 370ms/step - loss: 0.0587 - accuracy: 0.9819 - val_loss: 0.6753 - val_accuracy: 0.8244\n",
            "Epoch 30/50\n",
            "118/118 [==============================] - 43s 369ms/step - loss: 0.0439 - accuracy: 0.9817 - val_loss: 1.1013 - val_accuracy: 0.7634\n",
            "Epoch 31/50\n",
            "118/118 [==============================] - 44s 370ms/step - loss: 0.0729 - accuracy: 0.9744 - val_loss: 0.5624 - val_accuracy: 0.8763\n",
            "Epoch 32/50\n",
            "118/118 [==============================] - 43s 369ms/step - loss: 0.0519 - accuracy: 0.9782 - val_loss: 0.3822 - val_accuracy: 0.8992\n",
            "Epoch 33/50\n",
            "118/118 [==============================] - 44s 369ms/step - loss: 0.0351 - accuracy: 0.9892 - val_loss: 1.2129 - val_accuracy: 0.7863\n",
            "Epoch 34/50\n",
            "118/118 [==============================] - 44s 369ms/step - loss: 0.0710 - accuracy: 0.9743 - val_loss: 0.5033 - val_accuracy: 0.8931\n",
            "Epoch 35/50\n",
            "118/118 [==============================] - 44s 370ms/step - loss: 0.0876 - accuracy: 0.9787 - val_loss: 0.4348 - val_accuracy: 0.9023\n",
            "Epoch 36/50\n",
            "118/118 [==============================] - 43s 368ms/step - loss: 0.0170 - accuracy: 0.9949 - val_loss: 0.4856 - val_accuracy: 0.9053\n",
            "Epoch 37/50\n",
            "118/118 [==============================] - 44s 369ms/step - loss: 0.0179 - accuracy: 0.9916 - val_loss: 1.1470 - val_accuracy: 0.7954\n",
            "Epoch 38/50\n",
            "118/118 [==============================] - 43s 369ms/step - loss: 0.1012 - accuracy: 0.9642 - val_loss: 0.4754 - val_accuracy: 0.8885\n",
            "Epoch 39/50\n",
            "118/118 [==============================] - 44s 370ms/step - loss: 0.0168 - accuracy: 0.9962 - val_loss: 0.3468 - val_accuracy: 0.9130\n",
            "Epoch 40/50\n",
            "118/118 [==============================] - 43s 369ms/step - loss: 0.0428 - accuracy: 0.9862 - val_loss: 0.4438 - val_accuracy: 0.8611\n",
            "Epoch 41/50\n",
            "118/118 [==============================] - 44s 370ms/step - loss: 0.0407 - accuracy: 0.9877 - val_loss: 0.5421 - val_accuracy: 0.8687\n",
            "Epoch 42/50\n",
            "118/118 [==============================] - 43s 369ms/step - loss: 0.1489 - accuracy: 0.9480 - val_loss: 0.8912 - val_accuracy: 0.7954\n",
            "Epoch 43/50\n",
            "118/118 [==============================] - 44s 370ms/step - loss: 0.0999 - accuracy: 0.9678 - val_loss: 0.4722 - val_accuracy: 0.8855\n",
            "Epoch 44/50\n",
            "118/118 [==============================] - 43s 369ms/step - loss: 0.0441 - accuracy: 0.9871 - val_loss: 4.1189 - val_accuracy: 0.4595\n",
            "Epoch 45/50\n",
            "118/118 [==============================] - 44s 370ms/step - loss: 0.0473 - accuracy: 0.9859 - val_loss: 0.3749 - val_accuracy: 0.9237\n",
            "Epoch 46/50\n",
            "118/118 [==============================] - 44s 369ms/step - loss: 0.0253 - accuracy: 0.9931 - val_loss: 0.3998 - val_accuracy: 0.9099\n",
            "Epoch 47/50\n",
            "118/118 [==============================] - 44s 370ms/step - loss: 0.0093 - accuracy: 0.9975 - val_loss: 0.4348 - val_accuracy: 0.8962\n",
            "Epoch 48/50\n",
            "118/118 [==============================] - 44s 369ms/step - loss: 0.0360 - accuracy: 0.9877 - val_loss: 1.0787 - val_accuracy: 0.8061\n",
            "Epoch 49/50\n",
            "118/118 [==============================] - 44s 370ms/step - loss: 0.0854 - accuracy: 0.9696 - val_loss: 0.5843 - val_accuracy: 0.8870\n",
            "Epoch 50/50\n",
            "118/118 [==============================] - 44s 369ms/step - loss: 0.0417 - accuracy: 0.9859 - val_loss: 0.9915 - val_accuracy: 0.7511\n"
          ],
          "name": "stdout"
        }
      ]
    },
    {
      "cell_type": "markdown",
      "metadata": {
        "id": "oVdxM104eTHU"
      },
      "source": [
        "###ResNet101V2 RGB With TFL"
      ]
    },
    {
      "cell_type": "code",
      "metadata": {
        "id": "8-JnnyATeTHV",
        "colab": {
          "base_uri": "https://localhost:8080/"
        },
        "outputId": "ce10c854-ebb7-46d3-eed3-c8dd4b01bf06"
      },
      "source": [
        "modelResnet101V2_tfl_da = create_resnetv2_model(101,X_train_rgb.shape[1:],True)"
      ],
      "execution_count": null,
      "outputs": [
        {
          "output_type": "stream",
          "text": [
            "Downloading data from https://storage.googleapis.com/tensorflow/keras-applications/resnet/resnet101v2_weights_tf_dim_ordering_tf_kernels_notop.h5\n",
            "171319296/171317808 [==============================] - 4s 0us/step\n"
          ],
          "name": "stdout"
        }
      ]
    },
    {
      "cell_type": "code",
      "metadata": {
        "id": "SAInZp8eeTHW",
        "colab": {
          "base_uri": "https://localhost:8080/"
        },
        "outputId": "faf0e50e-f8d6-4fe6-8b0e-f705598968b8"
      },
      "source": [
        "history_modelResnet101V2_tfl_da = modelResnet101V2_tfl_da.fit(datagen.flow(X_train_rgb_da, y_train_rgb, batch_size=batch_size), epochs=50, validation_data=(X_val_rgb, y_val_rgb))"
      ],
      "execution_count": null,
      "outputs": [
        {
          "output_type": "stream",
          "text": [
            "Epoch 1/50\n",
            "118/118 [==============================] - 27s 173ms/step - loss: 14.0491 - accuracy: 0.5299 - val_loss: 1.2159 - val_accuracy: 0.7450\n",
            "Epoch 2/50\n",
            "118/118 [==============================] - 19s 158ms/step - loss: 1.1684 - accuracy: 0.6797 - val_loss: 0.7564 - val_accuracy: 0.7481\n",
            "Epoch 3/50\n",
            "118/118 [==============================] - 19s 157ms/step - loss: 0.8266 - accuracy: 0.7056 - val_loss: 0.7382 - val_accuracy: 0.7359\n",
            "Epoch 4/50\n",
            "118/118 [==============================] - 19s 157ms/step - loss: 0.7627 - accuracy: 0.7228 - val_loss: 0.7433 - val_accuracy: 0.7237\n",
            "Epoch 5/50\n",
            "118/118 [==============================] - 19s 158ms/step - loss: 0.6642 - accuracy: 0.7434 - val_loss: 0.5790 - val_accuracy: 0.7863\n",
            "Epoch 6/50\n",
            "118/118 [==============================] - 19s 158ms/step - loss: 0.6826 - accuracy: 0.7441 - val_loss: 0.5845 - val_accuracy: 0.7786\n",
            "Epoch 7/50\n",
            "118/118 [==============================] - 19s 158ms/step - loss: 0.6797 - accuracy: 0.7529 - val_loss: 0.5234 - val_accuracy: 0.8046\n",
            "Epoch 8/50\n",
            "118/118 [==============================] - 19s 157ms/step - loss: 0.6467 - accuracy: 0.7575 - val_loss: 0.5821 - val_accuracy: 0.7924\n",
            "Epoch 9/50\n",
            "118/118 [==============================] - 19s 157ms/step - loss: 0.6252 - accuracy: 0.7735 - val_loss: 0.6261 - val_accuracy: 0.7802\n",
            "Epoch 10/50\n",
            "118/118 [==============================] - 19s 157ms/step - loss: 0.6276 - accuracy: 0.7669 - val_loss: 0.5700 - val_accuracy: 0.8076\n",
            "Epoch 11/50\n",
            "118/118 [==============================] - 19s 157ms/step - loss: 0.6250 - accuracy: 0.7687 - val_loss: 0.5109 - val_accuracy: 0.8198\n",
            "Epoch 12/50\n",
            "118/118 [==============================] - 19s 157ms/step - loss: 0.5994 - accuracy: 0.7857 - val_loss: 0.4951 - val_accuracy: 0.8214\n",
            "Epoch 13/50\n",
            "118/118 [==============================] - 19s 158ms/step - loss: 0.5910 - accuracy: 0.7818 - val_loss: 0.5548 - val_accuracy: 0.8015\n",
            "Epoch 14/50\n",
            "118/118 [==============================] - 19s 157ms/step - loss: 0.6610 - accuracy: 0.7555 - val_loss: 0.4918 - val_accuracy: 0.8183\n",
            "Epoch 15/50\n",
            "118/118 [==============================] - 19s 157ms/step - loss: 0.6311 - accuracy: 0.7765 - val_loss: 0.5618 - val_accuracy: 0.8107\n",
            "Epoch 16/50\n",
            "118/118 [==============================] - 19s 157ms/step - loss: 0.5528 - accuracy: 0.7931 - val_loss: 0.6026 - val_accuracy: 0.7878\n",
            "Epoch 17/50\n",
            "118/118 [==============================] - 19s 157ms/step - loss: 0.6136 - accuracy: 0.7839 - val_loss: 0.6108 - val_accuracy: 0.7802\n",
            "Epoch 18/50\n",
            "118/118 [==============================] - 19s 157ms/step - loss: 0.6177 - accuracy: 0.7902 - val_loss: 0.5443 - val_accuracy: 0.8031\n",
            "Epoch 19/50\n",
            "118/118 [==============================] - 19s 158ms/step - loss: 0.5577 - accuracy: 0.7890 - val_loss: 0.5022 - val_accuracy: 0.8198\n",
            "Epoch 20/50\n",
            "118/118 [==============================] - 19s 157ms/step - loss: 0.5176 - accuracy: 0.8043 - val_loss: 0.5975 - val_accuracy: 0.7878\n",
            "Epoch 21/50\n",
            "118/118 [==============================] - 19s 157ms/step - loss: 0.6431 - accuracy: 0.7579 - val_loss: 0.4773 - val_accuracy: 0.8092\n",
            "Epoch 22/50\n",
            "118/118 [==============================] - 19s 157ms/step - loss: 0.5071 - accuracy: 0.8112 - val_loss: 0.4790 - val_accuracy: 0.8321\n",
            "Epoch 23/50\n",
            "118/118 [==============================] - 19s 158ms/step - loss: 0.5433 - accuracy: 0.8023 - val_loss: 0.5105 - val_accuracy: 0.8229\n",
            "Epoch 24/50\n",
            "118/118 [==============================] - 19s 157ms/step - loss: 0.5806 - accuracy: 0.7816 - val_loss: 0.5688 - val_accuracy: 0.8275\n",
            "Epoch 25/50\n",
            "118/118 [==============================] - 19s 158ms/step - loss: 0.5755 - accuracy: 0.7806 - val_loss: 0.5662 - val_accuracy: 0.8137\n",
            "Epoch 26/50\n",
            "118/118 [==============================] - 19s 158ms/step - loss: 0.5635 - accuracy: 0.7942 - val_loss: 0.4842 - val_accuracy: 0.8397\n",
            "Epoch 27/50\n",
            "118/118 [==============================] - 19s 158ms/step - loss: 0.5035 - accuracy: 0.8196 - val_loss: 0.4909 - val_accuracy: 0.8168\n",
            "Epoch 28/50\n",
            "118/118 [==============================] - 19s 157ms/step - loss: 0.5426 - accuracy: 0.8013 - val_loss: 0.4794 - val_accuracy: 0.8473\n",
            "Epoch 29/50\n",
            "118/118 [==============================] - 19s 158ms/step - loss: 0.5262 - accuracy: 0.8178 - val_loss: 0.4542 - val_accuracy: 0.8412\n",
            "Epoch 30/50\n",
            "118/118 [==============================] - 19s 158ms/step - loss: 0.5815 - accuracy: 0.7943 - val_loss: 0.4911 - val_accuracy: 0.8290\n",
            "Epoch 31/50\n",
            "118/118 [==============================] - 19s 158ms/step - loss: 0.5181 - accuracy: 0.7985 - val_loss: 0.6220 - val_accuracy: 0.7588\n",
            "Epoch 32/50\n",
            "118/118 [==============================] - 19s 158ms/step - loss: 0.5618 - accuracy: 0.7952 - val_loss: 0.5042 - val_accuracy: 0.8229\n",
            "Epoch 33/50\n",
            "118/118 [==============================] - 19s 158ms/step - loss: 0.5667 - accuracy: 0.7912 - val_loss: 0.4903 - val_accuracy: 0.8153\n",
            "Epoch 34/50\n",
            "118/118 [==============================] - 19s 158ms/step - loss: 0.5270 - accuracy: 0.8113 - val_loss: 0.5219 - val_accuracy: 0.8092\n",
            "Epoch 35/50\n",
            "118/118 [==============================] - 19s 158ms/step - loss: 0.4795 - accuracy: 0.8031 - val_loss: 0.4391 - val_accuracy: 0.8321\n",
            "Epoch 36/50\n",
            "118/118 [==============================] - 19s 158ms/step - loss: 0.5334 - accuracy: 0.7991 - val_loss: 0.5690 - val_accuracy: 0.8137\n",
            "Epoch 37/50\n",
            "118/118 [==============================] - 19s 157ms/step - loss: 0.5413 - accuracy: 0.7809 - val_loss: 0.4925 - val_accuracy: 0.8443\n",
            "Epoch 38/50\n",
            "118/118 [==============================] - 19s 158ms/step - loss: 0.5062 - accuracy: 0.8256 - val_loss: 0.5488 - val_accuracy: 0.8137\n",
            "Epoch 39/50\n",
            "118/118 [==============================] - 19s 158ms/step - loss: 0.5599 - accuracy: 0.8003 - val_loss: 0.5665 - val_accuracy: 0.8122\n",
            "Epoch 40/50\n",
            "118/118 [==============================] - 19s 158ms/step - loss: 0.5825 - accuracy: 0.7890 - val_loss: 0.5979 - val_accuracy: 0.8015\n",
            "Epoch 41/50\n",
            "118/118 [==============================] - 19s 158ms/step - loss: 0.5107 - accuracy: 0.8073 - val_loss: 0.4662 - val_accuracy: 0.8534\n",
            "Epoch 42/50\n",
            "118/118 [==============================] - 19s 158ms/step - loss: 0.5115 - accuracy: 0.8128 - val_loss: 0.4715 - val_accuracy: 0.8351\n",
            "Epoch 43/50\n",
            "118/118 [==============================] - 19s 158ms/step - loss: 0.4858 - accuracy: 0.8330 - val_loss: 0.5685 - val_accuracy: 0.8137\n",
            "Epoch 44/50\n",
            "118/118 [==============================] - 19s 158ms/step - loss: 0.5262 - accuracy: 0.8131 - val_loss: 0.4586 - val_accuracy: 0.8595\n",
            "Epoch 45/50\n",
            "118/118 [==============================] - 19s 158ms/step - loss: 0.4901 - accuracy: 0.8190 - val_loss: 0.4723 - val_accuracy: 0.8595\n",
            "Epoch 46/50\n",
            "118/118 [==============================] - 19s 158ms/step - loss: 0.5445 - accuracy: 0.8064 - val_loss: 0.5000 - val_accuracy: 0.8290\n",
            "Epoch 47/50\n",
            "118/118 [==============================] - 19s 158ms/step - loss: 0.4853 - accuracy: 0.8201 - val_loss: 0.4655 - val_accuracy: 0.8229\n",
            "Epoch 48/50\n",
            "118/118 [==============================] - 19s 158ms/step - loss: 0.4736 - accuracy: 0.8200 - val_loss: 0.4191 - val_accuracy: 0.8626\n",
            "Epoch 49/50\n",
            "118/118 [==============================] - 19s 158ms/step - loss: 0.4329 - accuracy: 0.8575 - val_loss: 0.4881 - val_accuracy: 0.8260\n",
            "Epoch 50/50\n",
            "118/118 [==============================] - 19s 159ms/step - loss: 0.4599 - accuracy: 0.8338 - val_loss: 0.4915 - val_accuracy: 0.8290\n"
          ],
          "name": "stdout"
        }
      ]
    },
    {
      "cell_type": "markdown",
      "metadata": {
        "id": "9iFGLAyUUeaL"
      },
      "source": [
        "###ResNet152V2 RGB"
      ]
    },
    {
      "cell_type": "code",
      "metadata": {
        "id": "cbEzbReVUeaM"
      },
      "source": [
        "modelResnet152V2_rgb_da = create_resnetv2_model(152,X_train_rgb.shape[1:])"
      ],
      "execution_count": null,
      "outputs": []
    },
    {
      "cell_type": "code",
      "metadata": {
        "colab": {
          "base_uri": "https://localhost:8080/"
        },
        "id": "6ANuZVZQUeaN",
        "outputId": "cc0b01d5-ce8f-4bb3-8834-06bb117a8813"
      },
      "source": [
        "history_modelResnet152V2_rgb_da = modelResnet152V2_rgb_da.fit(datagen.flow(X_train_rgb_da, y_train_rgb, batch_size=batch_size), epochs=50, validation_data=(X_val_rgb, y_val_rgb))"
      ],
      "execution_count": null,
      "outputs": [
        {
          "output_type": "stream",
          "text": [
            "Epoch 1/50\n",
            "118/118 [==============================] - 89s 576ms/step - loss: 1.5569 - accuracy: 0.4206 - val_loss: 2.4559 - val_accuracy: 0.2855\n",
            "Epoch 2/50\n",
            "118/118 [==============================] - 66s 557ms/step - loss: 1.1836 - accuracy: 0.4782 - val_loss: 1.6725 - val_accuracy: 0.3313\n",
            "Epoch 3/50\n",
            "118/118 [==============================] - 66s 555ms/step - loss: 1.1221 - accuracy: 0.5366 - val_loss: 6.6184 - val_accuracy: 0.2275\n",
            "Epoch 4/50\n",
            "118/118 [==============================] - 66s 557ms/step - loss: 0.9994 - accuracy: 0.6006 - val_loss: 1.1883 - val_accuracy: 0.5328\n",
            "Epoch 5/50\n",
            "118/118 [==============================] - 66s 555ms/step - loss: 0.9974 - accuracy: 0.5973 - val_loss: 5.1733 - val_accuracy: 0.2641\n",
            "Epoch 6/50\n",
            "118/118 [==============================] - 66s 555ms/step - loss: 0.9823 - accuracy: 0.5958 - val_loss: 2.0053 - val_accuracy: 0.3893\n",
            "Epoch 7/50\n",
            "118/118 [==============================] - 66s 555ms/step - loss: 0.9407 - accuracy: 0.6109 - val_loss: 3.7693 - val_accuracy: 0.4198\n",
            "Epoch 8/50\n",
            "118/118 [==============================] - 66s 556ms/step - loss: 0.8363 - accuracy: 0.6514 - val_loss: 2.1670 - val_accuracy: 0.2519\n",
            "Epoch 9/50\n",
            "118/118 [==============================] - 65s 555ms/step - loss: 0.8409 - accuracy: 0.6620 - val_loss: 1.2764 - val_accuracy: 0.3817\n",
            "Epoch 10/50\n",
            "118/118 [==============================] - 65s 554ms/step - loss: 0.8361 - accuracy: 0.6769 - val_loss: 1.6330 - val_accuracy: 0.2809\n",
            "Epoch 11/50\n",
            "118/118 [==============================] - 66s 556ms/step - loss: 0.8159 - accuracy: 0.6771 - val_loss: 1.6568 - val_accuracy: 0.3328\n",
            "Epoch 12/50\n",
            "118/118 [==============================] - 65s 554ms/step - loss: 0.7255 - accuracy: 0.7168 - val_loss: 1.5295 - val_accuracy: 0.3878\n",
            "Epoch 13/50\n",
            "118/118 [==============================] - 65s 554ms/step - loss: 0.6991 - accuracy: 0.7435 - val_loss: 6.5138 - val_accuracy: 0.3603\n",
            "Epoch 14/50\n",
            "118/118 [==============================] - 65s 554ms/step - loss: 0.7587 - accuracy: 0.6989 - val_loss: 1.2959 - val_accuracy: 0.5664\n",
            "Epoch 15/50\n",
            "118/118 [==============================] - 65s 554ms/step - loss: 0.7081 - accuracy: 0.7339 - val_loss: 1.9573 - val_accuracy: 0.3756\n",
            "Epoch 16/50\n",
            "118/118 [==============================] - 65s 554ms/step - loss: 0.7808 - accuracy: 0.7135 - val_loss: 0.7501 - val_accuracy: 0.6931\n",
            "Epoch 17/50\n",
            "118/118 [==============================] - 65s 554ms/step - loss: 0.6868 - accuracy: 0.7500 - val_loss: 2.0971 - val_accuracy: 0.4992\n",
            "Epoch 18/50\n",
            "118/118 [==============================] - 66s 555ms/step - loss: 0.7048 - accuracy: 0.7221 - val_loss: 0.7485 - val_accuracy: 0.7221\n",
            "Epoch 19/50\n",
            "118/118 [==============================] - 65s 553ms/step - loss: 0.7356 - accuracy: 0.7334 - val_loss: 1.5120 - val_accuracy: 0.5435\n",
            "Epoch 20/50\n",
            "118/118 [==============================] - 66s 555ms/step - loss: 0.6181 - accuracy: 0.7742 - val_loss: 5.0334 - val_accuracy: 0.3985\n",
            "Epoch 21/50\n",
            "118/118 [==============================] - 65s 553ms/step - loss: 0.7049 - accuracy: 0.7260 - val_loss: 2.0093 - val_accuracy: 0.1939\n",
            "Epoch 22/50\n",
            "118/118 [==============================] - 65s 554ms/step - loss: 0.6110 - accuracy: 0.7746 - val_loss: 4.0687 - val_accuracy: 0.3405\n",
            "Epoch 23/50\n",
            "118/118 [==============================] - 65s 553ms/step - loss: 0.6277 - accuracy: 0.7664 - val_loss: 1.1316 - val_accuracy: 0.5496\n",
            "Epoch 24/50\n",
            "118/118 [==============================] - 65s 552ms/step - loss: 0.5959 - accuracy: 0.7896 - val_loss: 1.8002 - val_accuracy: 0.5008\n",
            "Epoch 25/50\n",
            "118/118 [==============================] - 65s 553ms/step - loss: 0.6688 - accuracy: 0.7500 - val_loss: 2.5274 - val_accuracy: 0.3145\n",
            "Epoch 26/50\n",
            "118/118 [==============================] - 65s 553ms/step - loss: 0.6813 - accuracy: 0.7316 - val_loss: 3.4797 - val_accuracy: 0.2305\n",
            "Epoch 27/50\n",
            "118/118 [==============================] - 65s 553ms/step - loss: 0.5975 - accuracy: 0.7649 - val_loss: 3.6156 - val_accuracy: 0.3069\n",
            "Epoch 28/50\n",
            "118/118 [==============================] - 65s 553ms/step - loss: 0.5623 - accuracy: 0.7913 - val_loss: 2.0539 - val_accuracy: 0.2626\n",
            "Epoch 29/50\n",
            "118/118 [==============================] - 65s 554ms/step - loss: 0.5642 - accuracy: 0.7925 - val_loss: 1.6625 - val_accuracy: 0.4534\n",
            "Epoch 30/50\n",
            "118/118 [==============================] - 65s 553ms/step - loss: 0.5430 - accuracy: 0.8065 - val_loss: 2.2883 - val_accuracy: 0.5466\n",
            "Epoch 31/50\n",
            "118/118 [==============================] - 65s 553ms/step - loss: 0.5616 - accuracy: 0.7912 - val_loss: 2.2040 - val_accuracy: 0.3679\n",
            "Epoch 32/50\n",
            "118/118 [==============================] - 65s 553ms/step - loss: 0.6281 - accuracy: 0.7546 - val_loss: 1.4288 - val_accuracy: 0.6229\n",
            "Epoch 33/50\n",
            "118/118 [==============================] - 65s 552ms/step - loss: 0.5487 - accuracy: 0.7909 - val_loss: 1.4922 - val_accuracy: 0.4214\n",
            "Epoch 34/50\n",
            "118/118 [==============================] - 65s 552ms/step - loss: 0.5181 - accuracy: 0.8161 - val_loss: 0.9810 - val_accuracy: 0.6351\n",
            "Epoch 35/50\n",
            "118/118 [==============================] - 65s 553ms/step - loss: 0.4975 - accuracy: 0.8232 - val_loss: 0.9780 - val_accuracy: 0.5985\n",
            "Epoch 36/50\n",
            "118/118 [==============================] - 65s 553ms/step - loss: 0.4852 - accuracy: 0.8133 - val_loss: 1.3385 - val_accuracy: 0.5313\n",
            "Epoch 37/50\n",
            "118/118 [==============================] - 65s 553ms/step - loss: 0.4333 - accuracy: 0.8429 - val_loss: 1.0324 - val_accuracy: 0.6641\n",
            "Epoch 38/50\n",
            "118/118 [==============================] - 65s 552ms/step - loss: 0.4588 - accuracy: 0.8336 - val_loss: 1.7527 - val_accuracy: 0.3939\n",
            "Epoch 39/50\n",
            "118/118 [==============================] - 65s 553ms/step - loss: 0.4839 - accuracy: 0.8166 - val_loss: 2.1087 - val_accuracy: 0.4382\n",
            "Epoch 40/50\n",
            "118/118 [==============================] - 65s 553ms/step - loss: 0.4438 - accuracy: 0.8410 - val_loss: 1.4491 - val_accuracy: 0.4305\n",
            "Epoch 41/50\n",
            "118/118 [==============================] - 65s 552ms/step - loss: 0.4582 - accuracy: 0.8345 - val_loss: 1.4365 - val_accuracy: 0.5160\n",
            "Epoch 42/50\n",
            "118/118 [==============================] - 65s 552ms/step - loss: 0.4482 - accuracy: 0.8299 - val_loss: 1.3084 - val_accuracy: 0.6153\n",
            "Epoch 43/50\n",
            "118/118 [==============================] - 65s 552ms/step - loss: 0.4026 - accuracy: 0.8537 - val_loss: 1.5363 - val_accuracy: 0.4473\n",
            "Epoch 44/50\n",
            "118/118 [==============================] - 65s 551ms/step - loss: 0.5060 - accuracy: 0.8204 - val_loss: 1.6350 - val_accuracy: 0.4321\n",
            "Epoch 45/50\n",
            "118/118 [==============================] - 65s 552ms/step - loss: 0.4547 - accuracy: 0.8400 - val_loss: 1.0182 - val_accuracy: 0.6565\n",
            "Epoch 46/50\n",
            "118/118 [==============================] - 65s 553ms/step - loss: 0.4061 - accuracy: 0.8619 - val_loss: 0.5604 - val_accuracy: 0.8046\n",
            "Epoch 47/50\n",
            "118/118 [==============================] - 65s 551ms/step - loss: 0.4238 - accuracy: 0.8466 - val_loss: 1.0152 - val_accuracy: 0.6198\n",
            "Epoch 48/50\n",
            "118/118 [==============================] - 65s 552ms/step - loss: 0.4842 - accuracy: 0.8147 - val_loss: 0.7098 - val_accuracy: 0.7405\n",
            "Epoch 49/50\n",
            "118/118 [==============================] - 65s 553ms/step - loss: 0.3693 - accuracy: 0.8712 - val_loss: 1.6894 - val_accuracy: 0.5084\n",
            "Epoch 50/50\n",
            "118/118 [==============================] - 65s 552ms/step - loss: 0.3974 - accuracy: 0.8637 - val_loss: 1.0141 - val_accuracy: 0.6107\n"
          ],
          "name": "stdout"
        }
      ]
    },
    {
      "cell_type": "markdown",
      "metadata": {
        "id": "FJgDPzCSU2j2"
      },
      "source": [
        "###ResNet152V2 GS"
      ]
    },
    {
      "cell_type": "code",
      "metadata": {
        "id": "7r4nGfhmU2j3"
      },
      "source": [
        "modelResnet152V2_gs_da = create_resnetv2_model(152,X_train_gs.shape[1:])"
      ],
      "execution_count": null,
      "outputs": []
    },
    {
      "cell_type": "code",
      "metadata": {
        "colab": {
          "base_uri": "https://localhost:8080/"
        },
        "id": "4_7-k8QQU2j3",
        "outputId": "fc09a23e-a47d-4eeb-ee1e-fb637d6c1624"
      },
      "source": [
        "history_modelResnet152V2_gs_da = modelResnet152V2_gs_da.fit(datagen.flow(X_train_gs_da, y_train_gs, batch_size=batch_size), epochs=50, validation_data=(X_val_gs, y_val_gs))"
      ],
      "execution_count": null,
      "outputs": [
        {
          "output_type": "stream",
          "text": [
            "Epoch 1/50\n",
            "118/118 [==============================] - 50s 262ms/step - loss: 1.6532 - accuracy: 0.3971 - val_loss: 1.6981 - val_accuracy: 0.2702\n",
            "Epoch 2/50\n",
            "118/118 [==============================] - 27s 228ms/step - loss: 1.1992 - accuracy: 0.4593 - val_loss: 1.4246 - val_accuracy: 0.3985\n",
            "Epoch 3/50\n",
            "118/118 [==============================] - 27s 230ms/step - loss: 1.1402 - accuracy: 0.5045 - val_loss: 1.5174 - val_accuracy: 0.3511\n",
            "Epoch 4/50\n",
            "118/118 [==============================] - 27s 233ms/step - loss: 1.0336 - accuracy: 0.5744 - val_loss: 1.7049 - val_accuracy: 0.3679\n",
            "Epoch 5/50\n",
            "118/118 [==============================] - 28s 235ms/step - loss: 0.9848 - accuracy: 0.5925 - val_loss: 1.4491 - val_accuracy: 0.4290\n",
            "Epoch 6/50\n",
            "118/118 [==============================] - 28s 236ms/step - loss: 0.8732 - accuracy: 0.6402 - val_loss: 3.0198 - val_accuracy: 0.3969\n",
            "Epoch 7/50\n",
            "118/118 [==============================] - 28s 235ms/step - loss: 0.9135 - accuracy: 0.6316 - val_loss: 2.6757 - val_accuracy: 0.2412\n",
            "Epoch 8/50\n",
            "118/118 [==============================] - 28s 236ms/step - loss: 0.9208 - accuracy: 0.6090 - val_loss: 0.8694 - val_accuracy: 0.6443\n",
            "Epoch 9/50\n",
            "118/118 [==============================] - 28s 235ms/step - loss: 0.7823 - accuracy: 0.7066 - val_loss: 1.2105 - val_accuracy: 0.5099\n",
            "Epoch 10/50\n",
            "118/118 [==============================] - 28s 235ms/step - loss: 0.7469 - accuracy: 0.7157 - val_loss: 1.3394 - val_accuracy: 0.4885\n",
            "Epoch 11/50\n",
            "118/118 [==============================] - 28s 235ms/step - loss: 0.7455 - accuracy: 0.7175 - val_loss: 2.7981 - val_accuracy: 0.2198\n",
            "Epoch 12/50\n",
            "118/118 [==============================] - 28s 236ms/step - loss: 0.7255 - accuracy: 0.7410 - val_loss: 1.3394 - val_accuracy: 0.5847\n",
            "Epoch 13/50\n",
            "118/118 [==============================] - 28s 235ms/step - loss: 0.7556 - accuracy: 0.7063 - val_loss: 2.2192 - val_accuracy: 0.2382\n",
            "Epoch 14/50\n",
            "118/118 [==============================] - 28s 235ms/step - loss: 0.7171 - accuracy: 0.7281 - val_loss: 1.5393 - val_accuracy: 0.2870\n",
            "Epoch 15/50\n",
            "118/118 [==============================] - 28s 235ms/step - loss: 0.6803 - accuracy: 0.7290 - val_loss: 1.2343 - val_accuracy: 0.5405\n",
            "Epoch 16/50\n",
            "118/118 [==============================] - 28s 235ms/step - loss: 0.6545 - accuracy: 0.7454 - val_loss: 1.6724 - val_accuracy: 0.4672\n",
            "Epoch 17/50\n",
            "118/118 [==============================] - 28s 235ms/step - loss: 0.6376 - accuracy: 0.7616 - val_loss: 0.7954 - val_accuracy: 0.7023\n",
            "Epoch 18/50\n",
            "118/118 [==============================] - 28s 235ms/step - loss: 0.5784 - accuracy: 0.7945 - val_loss: 1.2354 - val_accuracy: 0.5191\n",
            "Epoch 19/50\n",
            "118/118 [==============================] - 28s 235ms/step - loss: 0.6071 - accuracy: 0.7738 - val_loss: 2.3626 - val_accuracy: 0.4183\n",
            "Epoch 20/50\n",
            "118/118 [==============================] - 28s 235ms/step - loss: 0.5856 - accuracy: 0.7850 - val_loss: 1.3042 - val_accuracy: 0.4656\n",
            "Epoch 21/50\n",
            "118/118 [==============================] - 28s 235ms/step - loss: 0.5714 - accuracy: 0.7935 - val_loss: 1.6937 - val_accuracy: 0.4458\n",
            "Epoch 22/50\n",
            "118/118 [==============================] - 28s 234ms/step - loss: 0.6098 - accuracy: 0.7622 - val_loss: 1.2699 - val_accuracy: 0.5038\n",
            "Epoch 23/50\n",
            "118/118 [==============================] - 28s 234ms/step - loss: 0.5769 - accuracy: 0.7874 - val_loss: 1.6257 - val_accuracy: 0.4733\n",
            "Epoch 24/50\n",
            "118/118 [==============================] - 28s 234ms/step - loss: 0.5250 - accuracy: 0.8228 - val_loss: 2.3611 - val_accuracy: 0.3542\n",
            "Epoch 25/50\n",
            "118/118 [==============================] - 28s 234ms/step - loss: 0.5293 - accuracy: 0.8102 - val_loss: 0.6781 - val_accuracy: 0.7450\n",
            "Epoch 26/50\n",
            "118/118 [==============================] - 28s 235ms/step - loss: 0.5388 - accuracy: 0.8085 - val_loss: 0.8905 - val_accuracy: 0.6672\n",
            "Epoch 27/50\n",
            "118/118 [==============================] - 28s 234ms/step - loss: 0.5561 - accuracy: 0.7759 - val_loss: 0.8789 - val_accuracy: 0.6779\n",
            "Epoch 28/50\n",
            "118/118 [==============================] - 28s 234ms/step - loss: 0.4847 - accuracy: 0.8220 - val_loss: 4.7778 - val_accuracy: 0.3939\n",
            "Epoch 29/50\n",
            "118/118 [==============================] - 28s 235ms/step - loss: 0.5243 - accuracy: 0.7949 - val_loss: 0.8438 - val_accuracy: 0.6611\n",
            "Epoch 30/50\n",
            "118/118 [==============================] - 28s 235ms/step - loss: 0.5104 - accuracy: 0.8203 - val_loss: 1.7151 - val_accuracy: 0.5359\n",
            "Epoch 31/50\n",
            "118/118 [==============================] - 28s 236ms/step - loss: 0.5046 - accuracy: 0.8040 - val_loss: 3.4044 - val_accuracy: 0.1969\n",
            "Epoch 32/50\n",
            "118/118 [==============================] - 28s 235ms/step - loss: 0.4746 - accuracy: 0.8274 - val_loss: 0.5900 - val_accuracy: 0.7817\n",
            "Epoch 33/50\n",
            "118/118 [==============================] - 28s 234ms/step - loss: 0.4763 - accuracy: 0.8187 - val_loss: 2.1486 - val_accuracy: 0.3588\n",
            "Epoch 34/50\n",
            "118/118 [==============================] - 28s 236ms/step - loss: 0.4438 - accuracy: 0.8366 - val_loss: 0.6976 - val_accuracy: 0.7618\n",
            "Epoch 35/50\n",
            "118/118 [==============================] - 28s 234ms/step - loss: 0.4511 - accuracy: 0.8296 - val_loss: 1.0416 - val_accuracy: 0.6336\n",
            "Epoch 36/50\n",
            "118/118 [==============================] - 28s 235ms/step - loss: 0.4250 - accuracy: 0.8431 - val_loss: 0.7300 - val_accuracy: 0.7588\n",
            "Epoch 37/50\n",
            "118/118 [==============================] - 28s 235ms/step - loss: 0.4660 - accuracy: 0.8299 - val_loss: 0.7565 - val_accuracy: 0.7557\n",
            "Epoch 38/50\n",
            "118/118 [==============================] - 28s 235ms/step - loss: 0.3954 - accuracy: 0.8600 - val_loss: 0.5612 - val_accuracy: 0.8046\n",
            "Epoch 39/50\n",
            "118/118 [==============================] - 28s 235ms/step - loss: 0.4065 - accuracy: 0.8482 - val_loss: 0.9353 - val_accuracy: 0.6824\n",
            "Epoch 40/50\n",
            "118/118 [==============================] - 28s 235ms/step - loss: 0.4213 - accuracy: 0.8444 - val_loss: 1.4245 - val_accuracy: 0.5008\n",
            "Epoch 41/50\n",
            "118/118 [==============================] - 28s 235ms/step - loss: 0.3811 - accuracy: 0.8665 - val_loss: 1.3703 - val_accuracy: 0.5527\n",
            "Epoch 42/50\n",
            "118/118 [==============================] - 28s 235ms/step - loss: 0.4094 - accuracy: 0.8513 - val_loss: 0.6612 - val_accuracy: 0.7771\n",
            "Epoch 43/50\n",
            "118/118 [==============================] - 28s 234ms/step - loss: 0.3652 - accuracy: 0.8648 - val_loss: 0.6126 - val_accuracy: 0.7664\n",
            "Epoch 44/50\n",
            "118/118 [==============================] - 28s 235ms/step - loss: 0.3568 - accuracy: 0.8749 - val_loss: 0.6312 - val_accuracy: 0.8076\n",
            "Epoch 45/50\n",
            "118/118 [==============================] - 28s 235ms/step - loss: 0.3717 - accuracy: 0.8643 - val_loss: 0.8068 - val_accuracy: 0.7618\n",
            "Epoch 46/50\n",
            "118/118 [==============================] - 28s 235ms/step - loss: 0.3381 - accuracy: 0.8744 - val_loss: 0.7212 - val_accuracy: 0.7634\n",
            "Epoch 47/50\n",
            "118/118 [==============================] - 28s 235ms/step - loss: 0.3622 - accuracy: 0.8676 - val_loss: 0.6255 - val_accuracy: 0.7710\n",
            "Epoch 48/50\n",
            "118/118 [==============================] - 28s 235ms/step - loss: 0.3608 - accuracy: 0.8697 - val_loss: 0.5559 - val_accuracy: 0.8015\n",
            "Epoch 49/50\n",
            "118/118 [==============================] - 28s 235ms/step - loss: 0.3801 - accuracy: 0.8598 - val_loss: 0.5413 - val_accuracy: 0.7878\n",
            "Epoch 50/50\n",
            "118/118 [==============================] - 28s 235ms/step - loss: 0.3305 - accuracy: 0.8854 - val_loss: 0.4760 - val_accuracy: 0.8290\n"
          ],
          "name": "stdout"
        }
      ]
    },
    {
      "cell_type": "markdown",
      "metadata": {
        "id": "y-e_J3-nXalm"
      },
      "source": [
        "###ResNet152V2 RGB With TFL"
      ]
    },
    {
      "cell_type": "code",
      "metadata": {
        "id": "l_2gEVatGFWq"
      },
      "source": [
        "modelResnet152V2_tfl_da = create_resnetv2_model(152,X_train_rgb.shape[1:],True)"
      ],
      "execution_count": null,
      "outputs": []
    },
    {
      "cell_type": "code",
      "metadata": {
        "colab": {
          "base_uri": "https://localhost:8080/"
        },
        "id": "_2GG2leuGObB",
        "outputId": "673f3d39-0307-47e9-9321-6b8de7569d7a"
      },
      "source": [
        "history_modelResnet152V2_tfl_da = modelResnet152V2_tfl_da.fit(datagen.flow(X_train_rgb_da, y_train_rgb, batch_size=batch_size), epochs=50, validation_data=(X_val_rgb, y_val_rgb))"
      ],
      "execution_count": null,
      "outputs": [
        {
          "output_type": "stream",
          "text": [
            "Epoch 1/50\n",
            "118/118 [==============================] - 56s 142ms/step - loss: 14.8184 - accuracy: 0.5197 - val_loss: 0.9928 - val_accuracy: 0.7099\n",
            "Epoch 2/50\n",
            "118/118 [==============================] - 13s 107ms/step - loss: 0.9798 - accuracy: 0.6864 - val_loss: 0.6711 - val_accuracy: 0.7603\n",
            "Epoch 3/50\n",
            "118/118 [==============================] - 13s 108ms/step - loss: 0.8609 - accuracy: 0.6886 - val_loss: 0.6700 - val_accuracy: 0.7466\n",
            "Epoch 4/50\n",
            "118/118 [==============================] - 13s 107ms/step - loss: 0.7476 - accuracy: 0.7118 - val_loss: 0.7238 - val_accuracy: 0.7481\n",
            "Epoch 5/50\n",
            "118/118 [==============================] - 13s 108ms/step - loss: 0.7241 - accuracy: 0.7320 - val_loss: 0.5793 - val_accuracy: 0.7649\n",
            "Epoch 6/50\n",
            "118/118 [==============================] - 13s 108ms/step - loss: 0.6443 - accuracy: 0.7523 - val_loss: 0.6517 - val_accuracy: 0.7374\n",
            "Epoch 7/50\n",
            "118/118 [==============================] - 13s 108ms/step - loss: 0.6935 - accuracy: 0.7385 - val_loss: 0.8481 - val_accuracy: 0.7603\n",
            "Epoch 8/50\n",
            "118/118 [==============================] - 13s 108ms/step - loss: 0.6737 - accuracy: 0.7383 - val_loss: 0.5630 - val_accuracy: 0.7863\n",
            "Epoch 9/50\n",
            "118/118 [==============================] - 13s 109ms/step - loss: 0.6041 - accuracy: 0.7523 - val_loss: 0.5353 - val_accuracy: 0.8137\n",
            "Epoch 10/50\n",
            "118/118 [==============================] - 13s 107ms/step - loss: 0.5934 - accuracy: 0.7661 - val_loss: 0.6080 - val_accuracy: 0.7588\n",
            "Epoch 11/50\n",
            "118/118 [==============================] - 13s 108ms/step - loss: 0.6243 - accuracy: 0.7644 - val_loss: 0.5608 - val_accuracy: 0.7802\n",
            "Epoch 12/50\n",
            "118/118 [==============================] - 13s 108ms/step - loss: 0.6305 - accuracy: 0.7575 - val_loss: 0.5372 - val_accuracy: 0.8076\n",
            "Epoch 13/50\n",
            "118/118 [==============================] - 13s 109ms/step - loss: 0.5899 - accuracy: 0.7629 - val_loss: 0.5637 - val_accuracy: 0.7771\n",
            "Epoch 14/50\n",
            "118/118 [==============================] - 13s 108ms/step - loss: 0.5923 - accuracy: 0.7743 - val_loss: 0.6516 - val_accuracy: 0.7511\n",
            "Epoch 15/50\n",
            "118/118 [==============================] - 13s 108ms/step - loss: 0.5611 - accuracy: 0.7927 - val_loss: 0.5651 - val_accuracy: 0.7817\n",
            "Epoch 16/50\n",
            "118/118 [==============================] - 13s 109ms/step - loss: 0.5741 - accuracy: 0.7917 - val_loss: 0.5717 - val_accuracy: 0.8076\n",
            "Epoch 17/50\n",
            "118/118 [==============================] - 13s 108ms/step - loss: 0.5390 - accuracy: 0.8030 - val_loss: 0.5436 - val_accuracy: 0.8122\n",
            "Epoch 18/50\n",
            "118/118 [==============================] - 13s 109ms/step - loss: 0.5776 - accuracy: 0.7663 - val_loss: 0.5398 - val_accuracy: 0.8137\n",
            "Epoch 19/50\n",
            "118/118 [==============================] - 13s 109ms/step - loss: 0.5647 - accuracy: 0.7870 - val_loss: 0.6562 - val_accuracy: 0.7893\n",
            "Epoch 20/50\n",
            "118/118 [==============================] - 13s 108ms/step - loss: 0.6014 - accuracy: 0.7693 - val_loss: 0.5320 - val_accuracy: 0.8214\n",
            "Epoch 21/50\n",
            "118/118 [==============================] - 13s 109ms/step - loss: 0.5659 - accuracy: 0.7881 - val_loss: 0.5530 - val_accuracy: 0.7832\n",
            "Epoch 22/50\n",
            "118/118 [==============================] - 13s 109ms/step - loss: 0.5549 - accuracy: 0.7842 - val_loss: 0.5656 - val_accuracy: 0.8046\n",
            "Epoch 23/50\n",
            "118/118 [==============================] - 13s 109ms/step - loss: 0.5581 - accuracy: 0.7849 - val_loss: 0.5249 - val_accuracy: 0.7908\n",
            "Epoch 24/50\n",
            "118/118 [==============================] - 13s 108ms/step - loss: 0.5477 - accuracy: 0.7956 - val_loss: 0.6535 - val_accuracy: 0.7679\n",
            "Epoch 25/50\n",
            "118/118 [==============================] - 13s 109ms/step - loss: 0.5709 - accuracy: 0.7790 - val_loss: 0.7030 - val_accuracy: 0.7618\n",
            "Epoch 26/50\n",
            "118/118 [==============================] - 13s 109ms/step - loss: 0.5280 - accuracy: 0.7951 - val_loss: 0.5956 - val_accuracy: 0.8061\n",
            "Epoch 27/50\n",
            "118/118 [==============================] - 13s 109ms/step - loss: 0.5329 - accuracy: 0.8037 - val_loss: 0.5517 - val_accuracy: 0.8046\n",
            "Epoch 28/50\n",
            "118/118 [==============================] - 13s 108ms/step - loss: 0.4932 - accuracy: 0.7920 - val_loss: 0.5816 - val_accuracy: 0.8046\n",
            "Epoch 29/50\n",
            "118/118 [==============================] - 13s 109ms/step - loss: 0.5136 - accuracy: 0.8149 - val_loss: 0.5539 - val_accuracy: 0.8351\n",
            "Epoch 30/50\n",
            "118/118 [==============================] - 13s 108ms/step - loss: 0.5007 - accuracy: 0.8201 - val_loss: 0.5222 - val_accuracy: 0.8198\n",
            "Epoch 31/50\n",
            "118/118 [==============================] - 13s 109ms/step - loss: 0.5502 - accuracy: 0.7891 - val_loss: 0.5312 - val_accuracy: 0.8229\n",
            "Epoch 32/50\n",
            "118/118 [==============================] - 13s 109ms/step - loss: 0.5126 - accuracy: 0.8061 - val_loss: 0.4925 - val_accuracy: 0.8229\n",
            "Epoch 33/50\n",
            "118/118 [==============================] - 13s 109ms/step - loss: 0.5498 - accuracy: 0.7941 - val_loss: 0.6826 - val_accuracy: 0.8015\n",
            "Epoch 34/50\n",
            "118/118 [==============================] - 13s 109ms/step - loss: 0.5272 - accuracy: 0.8221 - val_loss: 0.6331 - val_accuracy: 0.7863\n",
            "Epoch 35/50\n",
            "118/118 [==============================] - 13s 109ms/step - loss: 0.5489 - accuracy: 0.7919 - val_loss: 0.4540 - val_accuracy: 0.8443\n",
            "Epoch 36/50\n",
            "118/118 [==============================] - 13s 109ms/step - loss: 0.4657 - accuracy: 0.8164 - val_loss: 0.4795 - val_accuracy: 0.8458\n",
            "Epoch 37/50\n",
            "118/118 [==============================] - 13s 108ms/step - loss: 0.4874 - accuracy: 0.8305 - val_loss: 0.5200 - val_accuracy: 0.8290\n",
            "Epoch 38/50\n",
            "118/118 [==============================] - 13s 109ms/step - loss: 0.5062 - accuracy: 0.8228 - val_loss: 0.6122 - val_accuracy: 0.7756\n",
            "Epoch 39/50\n",
            "118/118 [==============================] - 13s 109ms/step - loss: 0.5020 - accuracy: 0.8077 - val_loss: 0.5975 - val_accuracy: 0.7985\n",
            "Epoch 40/50\n",
            "118/118 [==============================] - 13s 108ms/step - loss: 0.5207 - accuracy: 0.7980 - val_loss: 0.5098 - val_accuracy: 0.8214\n",
            "Epoch 41/50\n",
            "118/118 [==============================] - 13s 108ms/step - loss: 0.4558 - accuracy: 0.8280 - val_loss: 0.4980 - val_accuracy: 0.8153\n",
            "Epoch 42/50\n",
            "118/118 [==============================] - 13s 109ms/step - loss: 0.4856 - accuracy: 0.8117 - val_loss: 0.4911 - val_accuracy: 0.8321\n",
            "Epoch 43/50\n",
            "118/118 [==============================] - 13s 109ms/step - loss: 0.4415 - accuracy: 0.8249 - val_loss: 0.5356 - val_accuracy: 0.8473\n",
            "Epoch 44/50\n",
            "118/118 [==============================] - 13s 109ms/step - loss: 0.5001 - accuracy: 0.8339 - val_loss: 0.4253 - val_accuracy: 0.8580\n",
            "Epoch 45/50\n",
            "118/118 [==============================] - 13s 109ms/step - loss: 0.4988 - accuracy: 0.8164 - val_loss: 0.4853 - val_accuracy: 0.8550\n",
            "Epoch 46/50\n",
            "118/118 [==============================] - 13s 109ms/step - loss: 0.4866 - accuracy: 0.8241 - val_loss: 0.4447 - val_accuracy: 0.8565\n",
            "Epoch 47/50\n",
            "118/118 [==============================] - 13s 108ms/step - loss: 0.4369 - accuracy: 0.8352 - val_loss: 0.5188 - val_accuracy: 0.8107\n",
            "Epoch 48/50\n",
            "118/118 [==============================] - 13s 109ms/step - loss: 0.5330 - accuracy: 0.8144 - val_loss: 0.4639 - val_accuracy: 0.8275\n",
            "Epoch 49/50\n",
            "118/118 [==============================] - 13s 108ms/step - loss: 0.4296 - accuracy: 0.8356 - val_loss: 0.5147 - val_accuracy: 0.8458\n",
            "Epoch 50/50\n",
            "118/118 [==============================] - 13s 109ms/step - loss: 0.4737 - accuracy: 0.8287 - val_loss: 0.4573 - val_accuracy: 0.8244\n"
          ],
          "name": "stdout"
        }
      ]
    },
    {
      "cell_type": "markdown",
      "metadata": {
        "id": "r70760khTqqJ"
      },
      "source": [
        "#Save Models/Training"
      ]
    },
    {
      "cell_type": "markdown",
      "metadata": {
        "id": "tmLLsmJKOwfR"
      },
      "source": [
        "##Save Models Without Data Augmentation"
      ]
    },
    {
      "cell_type": "code",
      "metadata": {
        "id": "8bR_vzId1xvR"
      },
      "source": [
        "import pickle"
      ],
      "execution_count": null,
      "outputs": []
    },
    {
      "cell_type": "code",
      "metadata": {
        "id": "MASCLGcE9U-j"
      },
      "source": [
        "modelCNN_rgb.save('/content/drive/MyDrive/tfg/results/CNN/RGB/Normal/modelCNN_rgb.h')\n",
        "modelCNN_rgb.save('/content/drive/MyDrive/tfg/results/CNN/RGB/Normal/modelCNN_rgb.h5')\n",
        "with open('/content/drive/MyDrive/tfg/results/CNN/RGB/Normal/modelCNN_rgb', 'wb') as file_pi:\n",
        "  pickle.dump(history_modelCNN_rgb.history, file_pi)"
      ],
      "execution_count": null,
      "outputs": []
    },
    {
      "cell_type": "code",
      "metadata": {
        "id": "SnVFR84N9-g7"
      },
      "source": [
        "modelCNN_gs.save('/content/drive/MyDrive/tfg/results/CNN/GS/Normal/modelCNN_gs.h')\n",
        "modelCNN_gs.save('/content/drive/MyDrive/tfg/results/CNN/GS/Normal/modelCNN_gs.h5')\n",
        "with open('/content/drive/MyDrive/tfg/results/CNN/GS/Normal/modelCNN_gs', 'wb') as file_pi:\n",
        "  pickle.dump(history_modelCNN_gs.history, file_pi)"
      ],
      "execution_count": null,
      "outputs": []
    },
    {
      "cell_type": "code",
      "metadata": {
        "id": "99BQx_NQD5eT"
      },
      "source": [
        "modelVGG16_rgb.save('/content/drive/MyDrive/tfg/results/VGG16/RGB/Normal/modelVGG16_rgb.h')\n",
        "modelVGG16_rgb.save('/content/drive/MyDrive/tfg/results/VGG16/RGB/Normal/modelVGG16_rgb.h5')\n",
        "with open('/content/drive/MyDrive/tfg/results/VGG16/RGB/Normal/modelVGG16_rgb', 'wb') as file_pi:\n",
        "  pickle.dump(history_modelVGG16_rgb.history, file_pi)"
      ],
      "execution_count": null,
      "outputs": []
    },
    {
      "cell_type": "code",
      "metadata": {
        "id": "-xBd5lhzC2WL"
      },
      "source": [
        "modelVGG16_gs.save('/content/drive/MyDrive/tfg/results/VGG16/GS/Normal/modelVGG16_gs.h')\n",
        "modelVGG16_gs.save('/content/drive/MyDrive/tfg/results/VGG16/GS/Normal/modelVGG16_gs.h5')\n",
        "with open('/content/drive/MyDrive/tfg/results/VGG16/GS/Normal/modelVGG16_gs', 'wb') as file_pi:\n",
        "  pickle.dump(history_modelVGG16_gs.history, file_pi)"
      ],
      "execution_count": null,
      "outputs": []
    },
    {
      "cell_type": "code",
      "metadata": {
        "id": "lbKYgCGEZYON"
      },
      "source": [
        "modelVGG16_tfl.save('/content/drive/MyDrive/tfg/results/VGG16/TFL/Normal/modelVGG16_tfl.h')\n",
        "modelVGG16_tfl.save('/content/drive/MyDrive/tfg/results/VGG16/TFL/Normal/modelVGG16_tfl.h5')\n",
        "with open('/content/drive/MyDrive/tfg/results/VGG16/TFL/Normal/modelVGG16_tfl', 'wb') as file_pi:\n",
        "  pickle.dump(history_modelVGG16_tfl.history, file_pi)"
      ],
      "execution_count": null,
      "outputs": []
    },
    {
      "cell_type": "code",
      "metadata": {
        "id": "waz13JGNTevY"
      },
      "source": [
        "modelVGG19_rgb.save('/content/drive/MyDrive/tfg/results/VGG19/RGB/Normal/modelVGG19_rgb.h')\n",
        "modelVGG19_rgb.save('/content/drive/MyDrive/tfg/results/VGG19/RGB/Normal/modelVGG19_rgb.h5')\n",
        "with open('/content/drive/MyDrive/tfg/results/VGG19/RGB/Normal/modelVGG19_rgb', 'wb') as file_pi:\n",
        "  pickle.dump(history_modelVGG19_rgb.history, file_pi)"
      ],
      "execution_count": null,
      "outputs": []
    },
    {
      "cell_type": "code",
      "metadata": {
        "id": "awwNOma7Tf1g"
      },
      "source": [
        "modelVGG19_gs.save('/content/drive/MyDrive/tfg/results/VGG19/GS/Normal/modelVGG19_gs.h')\n",
        "modelVGG19_gs.save('/content/drive/MyDrive/tfg/results/VGG19/GS/Normal/modelVGG19_gs.h5')\n",
        "with open('/content/drive/MyDrive/tfg/results/VGG19/GS/Normal/modelVGG19_gs', 'wb') as file_pi:\n",
        "  pickle.dump(history_modelVGG19_gs.history, file_pi)"
      ],
      "execution_count": null,
      "outputs": []
    },
    {
      "cell_type": "code",
      "metadata": {
        "id": "yZK8Z5I2ZmlF"
      },
      "source": [
        "modelVGG19_tfl.save('/content/drive/MyDrive/tfg/results/VGG19/TFL/Normal/modelVGG19_tfl.h')\n",
        "modelVGG19_tfl.save('/content/drive/MyDrive/tfg/results/VGG19/TFL/Normal/modelVGG19_tfl.h5')\n",
        "with open('/content/drive/MyDrive/tfg/results/VGG19/TFL/Normal/modelVGG19_tfl', 'wb') as file_pi:\n",
        "  pickle.dump(history_modelVGG19_tfl.history, file_pi)"
      ],
      "execution_count": null,
      "outputs": []
    },
    {
      "cell_type": "code",
      "metadata": {
        "id": "-yUw9vxlbcUe"
      },
      "source": [
        "modelXception_rgb.save('/content/drive/MyDrive/tfg/results/Xception/RGB/Normal/modelXception_rgb.h')\n",
        "modelXception_rgb.save('/content/drive/MyDrive/tfg/results/Xception/RGB/Normal/modelXception_rgb.h5')\n",
        "with open('/content/drive/MyDrive/tfg/results/Xception/RGB/Normal/modelXception_rgb', 'wb') as file_pi:\n",
        "  pickle.dump(history_modelXception_rgb.history, file_pi)"
      ],
      "execution_count": null,
      "outputs": []
    },
    {
      "cell_type": "code",
      "metadata": {
        "id": "uXM8KSHhMnLa"
      },
      "source": [
        "modelXception_tfl.save('/content/drive/MyDrive/tfg/results/Xception/TFL/Normal/modelXception_tfl.h')\n",
        "modelXception_tfl.save('/content/drive/MyDrive/tfg/results/Xception/TFL/Normal/modelXception_tfl.h5')\n",
        "with open('/content/drive/MyDrive/tfg/results/Xception/TFL/Normal/modelXception_tfl', 'wb') as file_pi:\n",
        "  pickle.dump(history_modelXception_tfl.history, file_pi)"
      ],
      "execution_count": null,
      "outputs": []
    },
    {
      "cell_type": "code",
      "metadata": {
        "id": "P1kbNETnbqvW"
      },
      "source": [
        "modelXception_gs.save('/content/drive/MyDrive/tfg/results/Xception/GS/Normal/modelXception_gs.h')\n",
        "modelXception_gs.save('/content/drive/MyDrive/tfg/results/Xception/GS/Normal/modelXception_gs.h5')\n",
        "with open('/content/drive/MyDrive/tfg/results/Xception/GS/Normal/modelXception_gs', 'wb') as file_pi:\n",
        "  pickle.dump(history_modelXception_gs.history, file_pi)"
      ],
      "execution_count": null,
      "outputs": []
    },
    {
      "cell_type": "code",
      "metadata": {
        "id": "DFob8yICUlGB"
      },
      "source": [
        "modelResnet50_rgb.save('/content/drive/MyDrive/tfg/results/ResNet50/RGB/Normal/modelResnet50_rgb.h')\n",
        "modelResnet50_rgb.save('/content/drive/MyDrive/tfg/results/ResNet50/RGB/Normal/modelResnet50_rgb.h5')\n",
        "with open('/content/drive/MyDrive/tfg/results/ResNet50/RGB/Normal/modelResnet50_rgb', 'wb') as file_pi:\n",
        "  pickle.dump(history_modelResnet50_rgb.history, file_pi)"
      ],
      "execution_count": null,
      "outputs": []
    },
    {
      "cell_type": "code",
      "metadata": {
        "id": "m4Hcf-HdUk8a"
      },
      "source": [
        "modelResnet50_gs.save('/content/drive/MyDrive/tfg/results/ResNet50/GS/Normal/modelResnet50_gs.h')\n",
        "modelResnet50_gs.save('/content/drive/MyDrive/tfg/results/ResNet50/GS/Normal/modelResnet50_gs.h5')\n",
        "with open('/content/drive/MyDrive/tfg/results/ResNet50/GS/Normal/modelResnet50_gs', 'wb') as file_pi:\n",
        "  pickle.dump(history_modelResnet50_gs.history, file_pi)"
      ],
      "execution_count": null,
      "outputs": []
    },
    {
      "cell_type": "code",
      "metadata": {
        "id": "pQE662QQUknp"
      },
      "source": [
        "modelResnet50_tfl.save('/content/drive/MyDrive/tfg/results/ResNet50/TFL/Normal/modelResnet50_tfl.h')\n",
        "modelResnet50_tfl.save('/content/drive/MyDrive/tfg/results/ResNet50/TFL/Normal/modelResnet50_tfl.h5')\n",
        "with open('/content/drive/MyDrive/tfg/results/ResNet50/TFL/Normal/modelResnet50_tfl', 'wb') as file_pi:\n",
        "  pickle.dump(history_modelResnet50_tfl.history, file_pi)"
      ],
      "execution_count": null,
      "outputs": []
    },
    {
      "cell_type": "code",
      "metadata": {
        "id": "Emat58lPckmU"
      },
      "source": [
        "modelResnet101_rgb.save('/content/drive/MyDrive/tfg/results/ResNet101/RGB/Normal/modelResnet101_rgb.h')\n",
        "modelResnet101_rgb.save('/content/drive/MyDrive/tfg/results/ResNet101/RGB/Normal/modelResnet101_rgb.h5')\n",
        "with open('/content/drive/MyDrive/tfg/results/ResNet101/RGB/Normal/modelResnet101_rgb', 'wb') as file_pi:\n",
        "  pickle.dump(history_modelResnet101_rgb.history, file_pi)"
      ],
      "execution_count": null,
      "outputs": []
    },
    {
      "cell_type": "code",
      "metadata": {
        "id": "3NBXMtpqcvNd"
      },
      "source": [
        "modelResnet101_gs.save('/content/drive/MyDrive/tfg/results/ResNet101/GS/Normal/modelResnet101_gs.h')\n",
        "modelResnet101_gs.save('/content/drive/MyDrive/tfg/results/ResNet101/GS/Normal/modelResnet101_gs.h5')\n",
        "with open('/content/drive/MyDrive/tfg/results/ResNet101/GS/Normal/modelResnet101_gs', 'wb') as file_pi:\n",
        "  pickle.dump(history_modelResnet101_gs.history, file_pi)"
      ],
      "execution_count": null,
      "outputs": []
    },
    {
      "cell_type": "code",
      "metadata": {
        "id": "CfARawCKc5B0"
      },
      "source": [
        "modelResnet101_tfl.save('/content/drive/MyDrive/tfg/results/ResNet101/TFL/Normal/modelResnet101_tfl.h')\n",
        "modelResnet101_tfl.save('/content/drive/MyDrive/tfg/results/ResNet101/TFL/Normal/modelResnet101_tfl.h5')\n",
        "with open('/content/drive/MyDrive/tfg/results/ResNet101/TFL/Normal/modelResnet101_tfl', 'wb') as file_pi:\n",
        "  pickle.dump(history_modelResnet101_tfl.history, file_pi)"
      ],
      "execution_count": null,
      "outputs": []
    },
    {
      "cell_type": "code",
      "metadata": {
        "id": "FnCEHgTtpwRz"
      },
      "source": [
        "modelResnet152_rgb.save('/content/drive/MyDrive/tfg/results/ResNet152/RGB/Normal/modelResnet152_rgb.h')\n",
        "modelResnet152_rgb.save('/content/drive/MyDrive/tfg/results/ResNet152/RGB/Normal/modelResnet152_rgb.h5')\n",
        "with open('/content/drive/MyDrive/tfg/results/ResNet152/RGB/Normal/modelResnet152_rgb', 'wb') as file_pi:\n",
        "  pickle.dump(history_modelResnet152_rgb.history, file_pi)"
      ],
      "execution_count": null,
      "outputs": []
    },
    {
      "cell_type": "code",
      "metadata": {
        "id": "y2z3AJ4fp0Ha"
      },
      "source": [
        "modelResnet152_gs.save('/content/drive/MyDrive/tfg/results/ResNet152/GS/Normal/modelResnet152_gs.h')\n",
        "modelResnet152_gs.save('/content/drive/MyDrive/tfg/results/ResNet152/GS/Normal/modelResnet152_gs.h5')\n",
        "with open('/content/drive/MyDrive/tfg/results/ResNet152/GS/Normal/modelResnet152_gs', 'wb') as file_pi:\n",
        "  pickle.dump(history_modelResnet152_gs.history, file_pi)"
      ],
      "execution_count": null,
      "outputs": []
    },
    {
      "cell_type": "code",
      "metadata": {
        "id": "2S1RaNEIp2oq"
      },
      "source": [
        "modelResnet152_tfl.save('/content/drive/MyDrive/tfg/results/ResNet152/TFL/Normal/modelResnet152_tfl.h')\n",
        "modelResnet152_tfl.save('/content/drive/MyDrive/tfg/results/ResNet152/TFL/Normal/modelResnet152_tfl.h5')\n",
        "with open('/content/drive/MyDrive/tfg/results/ResNet152/TFL/Normal/modelResnet152_tfl', 'wb') as file_pi:\n",
        "  pickle.dump(history_modelResnet152_tfl.history, file_pi)"
      ],
      "execution_count": null,
      "outputs": []
    },
    {
      "cell_type": "code",
      "metadata": {
        "id": "yTrVXkRn6sLg"
      },
      "source": [
        "modelResnet50V2_rgb.save('/content/drive/MyDrive/tfg/results/ResNet50V2/RGB/Normal/modelResnet50V2_rgb.h')\n",
        "modelResnet50V2_rgb.save('/content/drive/MyDrive/tfg/results/ResNet50V2/RGB/Normal/modelResnet50V2_rgb.h5')\n",
        "with open('/content/drive/MyDrive/tfg/results/ResNet50V2/RGB/Normal/modelResnet50V2_rgb', 'wb') as file_pi:\n",
        "  pickle.dump(history_modelResnet50V2_rgb.history, file_pi)"
      ],
      "execution_count": null,
      "outputs": []
    },
    {
      "cell_type": "code",
      "metadata": {
        "id": "F9UjIzipAuwX"
      },
      "source": [
        "modelResnet50V2_gs.save('/content/drive/MyDrive/tfg/results/ResNet50V2/GS/Normal/modelResnet50V2_gs.h')\n",
        "modelResnet50V2_gs.save('/content/drive/MyDrive/tfg/results/ResNet50V2/GS/Normal/modelResnet50V2_gs.h5')\n",
        "with open('/content/drive/MyDrive/tfg/results/ResNet50V2/GS/Normal/modelResnet50V2_gs', 'wb') as file_pi:\n",
        "  pickle.dump(history_modelResnet50V2_gs.history, file_pi)"
      ],
      "execution_count": null,
      "outputs": []
    },
    {
      "cell_type": "code",
      "metadata": {
        "id": "GOO34oZaoHWT"
      },
      "source": [
        "modelResnet50V2_tfl.save('/content/drive/MyDrive/tfg/results/ResNet50V2/TFL/Normal/modelResnet50V2_tfl.h')\n",
        "modelResnet50V2_tfl.save('/content/drive/MyDrive/tfg/results/ResNet50V2/TFL/Normal/modelResnet50V2_tfl.h5')\n",
        "with open('/content/drive/MyDrive/tfg/results/ResNet50V2/TFL/Normal/modelResnet50V2_tfl', 'wb') as file_pi:\n",
        "  pickle.dump(history_modelResnet50V2_tfl.history, file_pi)"
      ],
      "execution_count": null,
      "outputs": []
    },
    {
      "cell_type": "code",
      "metadata": {
        "id": "L_Y0JZwqqNW6"
      },
      "source": [
        "modelResnet101V2_rgb.save('/content/drive/MyDrive/tfg/results/ResNet101V2/RGB/Normal/modelResnet101V2_rgb.h')\n",
        "modelResnet101V2_rgb.save('/content/drive/MyDrive/tfg/results/ResNet101V2/RGB/Normal/modelResnet101V2_rgb.h5')\n",
        "with open('/content/drive/MyDrive/tfg/results/ResNet101V2/RGB/Normal/modelResnet101V2_rgb', 'wb') as file_pi:\n",
        "  pickle.dump(history_modelResnet101V2_rgb.history, file_pi)"
      ],
      "execution_count": null,
      "outputs": []
    },
    {
      "cell_type": "code",
      "metadata": {
        "id": "nTX3ThyVqXft"
      },
      "source": [
        "modelResnet101V2_gs.save('/content/drive/MyDrive/tfg/results/ResNet101V2/GS/Normal/modelResnet101V2_gs.h')\n",
        "modelResnet101V2_gs.save('/content/drive/MyDrive/tfg/results/ResNet101V2/GS/Normal/modelResnet101V2_gs.h5')\n",
        "with open('/content/drive/MyDrive/tfg/results/ResNet101V2/GS/Normal/modelResnet101V2_gs', 'wb') as file_pi:\n",
        "  pickle.dump(history_modelResnet101V2_gs.history, file_pi)"
      ],
      "execution_count": null,
      "outputs": []
    },
    {
      "cell_type": "code",
      "metadata": {
        "id": "BnukIpdsqhrr"
      },
      "source": [
        "modelResnet101V2_tfl.save('/content/drive/MyDrive/tfg/results/ResNet101V2/TFL/Normal/modelResnet101V2_tfl.h')\n",
        "modelResnet101V2_tfl.save('/content/drive/MyDrive/tfg/results/ResNet101V2/TFL/Normal/modelResnet101V2_tfl.h5')\n",
        "with open('/content/drive/MyDrive/tfg/results/ResNet101V2/TFL/Normal/modelResnet101V2_tfl', 'wb') as file_pi:\n",
        "  pickle.dump(history_modelResnet101V2_tfl.history, file_pi)"
      ],
      "execution_count": null,
      "outputs": []
    },
    {
      "cell_type": "code",
      "metadata": {
        "id": "Dve6hd0R5iRQ"
      },
      "source": [
        "modelResnet152V2_rgb.save('/content/drive/MyDrive/tfg/results/ResNet152V2/RGB/Normal/modelResnet152V2_rgb.h')\n",
        "modelResnet152V2_rgb.save('/content/drive/MyDrive/tfg/results/ResNet152V2/RGB/Normal/modelResnet152V2_rgb.h5')\n",
        "with open('/content/drive/MyDrive/tfg/results/ResNet152V2/RGB/Normal/modelResnet152V2_rgb', 'wb') as file_pi:\n",
        "  pickle.dump(history_modelResnet152V2_rgb.history, file_pi)"
      ],
      "execution_count": null,
      "outputs": []
    },
    {
      "cell_type": "code",
      "metadata": {
        "id": "XTkGR9d66LSY"
      },
      "source": [
        "modelResnet152V2_gs.save('/content/drive/MyDrive/tfg/results/ResNet152V2/GS/Normal/modelResnet152V2_gs.h')\n",
        "modelResnet152V2_gs.save('/content/drive/MyDrive/tfg/results/ResNet152V2/GS/Normal/modelResnet152V2_gs.h5')\n",
        "with open('/content/drive/MyDrive/tfg/results/ResNet152V2/GS/Normal/modelResnet152V2_gs', 'wb') as file_pi:\n",
        "  pickle.dump(history_modelResnet152V2_gs.history, file_pi)"
      ],
      "execution_count": null,
      "outputs": []
    },
    {
      "cell_type": "code",
      "metadata": {
        "id": "YvZRfEzr6U_x"
      },
      "source": [
        "modelResnet152V2_tfl.save('/content/drive/MyDrive/tfg/results/ResNet152V2/TFL/Normal/modelResnet152V2_tfl.h')\n",
        "modelResnet152V2_tfl.save('/content/drive/MyDrive/tfg/results/ResNet152V2/TFL/Normal/modelResnet152V2_tfl.h5')\n",
        "with open('/content/drive/MyDrive/tfg/results/ResNet152V2/TFL/Normal/modelResnet152V2_tfl', 'wb') as file_pi:\n",
        "  pickle.dump(history_modelResnet152V2_tfl.history, file_pi)"
      ],
      "execution_count": null,
      "outputs": []
    },
    {
      "cell_type": "markdown",
      "metadata": {
        "id": "y4huXgBNO6XR"
      },
      "source": [
        "##Save Models With Data Augmentation"
      ]
    },
    {
      "cell_type": "code",
      "metadata": {
        "id": "aG1Z0APmPAPR"
      },
      "source": [
        "modelCNN_rgb_da.save('/content/drive/MyDrive/tfg/results/CNN/RGB/DataAugmentation/modelCNN_rgb_da.h')\n",
        "modelCNN_rgb_da.save('/content/drive/MyDrive/tfg/results/CNN/RGB/DataAugmentation/modelCNN_rgb_da.h5')\n",
        "with open('/content/drive/MyDrive/tfg/results/CNN/RGB/DataAugmentation/modelCNN_rgb_da', 'wb') as file_pi:\n",
        "  pickle.dump(history_modelCNN_rgb_da.history, file_pi)"
      ],
      "execution_count": null,
      "outputs": []
    },
    {
      "cell_type": "code",
      "metadata": {
        "id": "Jxvts6oJPLhj"
      },
      "source": [
        "modelCNN_gs_da.save('/content/drive/MyDrive/tfg/results/CNN/GS/DataAugmentation/modelCNN_gs_da.h')\n",
        "modelCNN_gs_da.save('/content/drive/MyDrive/tfg/results/CNN/GS/DataAugmentation/modelCNN_gs_da.h5')\n",
        "with open('/content/drive/MyDrive/tfg/results/CNN/GS/DataAugmentation/modelCNN_gs_da', 'wb') as file_pi:\n",
        "  pickle.dump(history_modelCNN_gs_da.history, file_pi)"
      ],
      "execution_count": null,
      "outputs": []
    },
    {
      "cell_type": "code",
      "metadata": {
        "id": "oDluP7HCh-sH"
      },
      "source": [
        "modelVGG16_rgb_da.save('/content/drive/MyDrive/tfg/results/VGG16/RGB/DataAugmentation/modelVGG16_rgb_da.h')\n",
        "modelVGG16_rgb_da.save('/content/drive/MyDrive/tfg/results/VGG16/RGB/DataAugmentation/modelVGG16_rgb_da.h5')\n",
        "with open('/content/drive/MyDrive/tfg/results/VGG16/RGB/DataAugmentation/modelVGG16_rgb_da', 'wb') as file_pi:\n",
        "  pickle.dump(history_modelVGG16_rgb_da.history, file_pi)"
      ],
      "execution_count": null,
      "outputs": []
    },
    {
      "cell_type": "code",
      "metadata": {
        "id": "Ul_vXFTViTEm"
      },
      "source": [
        "modelVGG16_gs_da.save('/content/drive/MyDrive/tfg/results/VGG16/GS/DataAugmentation/modelVGG16_gs_da.h')\n",
        "modelVGG16_gs_da.save('/content/drive/MyDrive/tfg/results/VGG16/GS/DataAugmentation/modelVGG16_gs_da.h5')\n",
        "with open('/content/drive/MyDrive/tfg/results/VGG16/GS/DataAugmentation/modelVGG16_gs_da', 'wb') as file_pi:\n",
        "  pickle.dump(history_modelVGG16_gs_da.history, file_pi)"
      ],
      "execution_count": null,
      "outputs": []
    },
    {
      "cell_type": "code",
      "metadata": {
        "id": "gfjdC_-likoo"
      },
      "source": [
        "modelVGG16_tfl_da.save('/content/drive/MyDrive/tfg/results/VGG16/TFL/DataAugmentation/modelVGG16_tfl_da.h')\n",
        "modelVGG16_tfl_da.save('/content/drive/MyDrive/tfg/results/VGG16/TFL/DataAugmentation/modelVGG16_tfl_da.h5')\n",
        "with open('/content/drive/MyDrive/tfg/results/VGG16/TFL/DataAugmentation/modelVGG16_tfl_da', 'wb') as file_pi:\n",
        "  pickle.dump(history_modelVGG16_tfl_da.history, file_pi)"
      ],
      "execution_count": null,
      "outputs": []
    },
    {
      "cell_type": "code",
      "metadata": {
        "id": "nrrTFDbkigRG"
      },
      "source": [
        "modelVGG19_rgb_da.save('/content/drive/MyDrive/tfg/results/VGG19/RGB/DataAugmentation/modelVGG19_rgb_da.h')\n",
        "modelVGG19_rgb_da.save('/content/drive/MyDrive/tfg/results/VGG19/RGB/DataAugmentation/modelVGG19_rgb_da.h5')\n",
        "with open('/content/drive/MyDrive/tfg/results/VGG19/RGB/DataAugmentation/modelVGG19_rgb_da', 'wb') as file_pi:\n",
        "  pickle.dump(history_modelVGG19_rgb_da.history, file_pi)"
      ],
      "execution_count": null,
      "outputs": []
    },
    {
      "cell_type": "code",
      "metadata": {
        "id": "BaUsN_tXi79n"
      },
      "source": [
        "modelVGG19_gs_da.save('/content/drive/MyDrive/tfg/results/VGG19/GS/DataAugmentation/modelVGG19_gs_da.h')\n",
        "modelVGG19_gs_da.save('/content/drive/MyDrive/tfg/results/VGG19/GS/DataAugmentation/modelVGG19_gs_da.h5')\n",
        "with open('/content/drive/MyDrive/tfg/results/VGG19/GS/DataAugmentation/modelVGG19_gs_da', 'wb') as file_pi:\n",
        "  pickle.dump(history_modelVGG19_gs_da.history, file_pi)"
      ],
      "execution_count": null,
      "outputs": []
    },
    {
      "cell_type": "code",
      "metadata": {
        "id": "Uo4P8nETjgvv"
      },
      "source": [
        "modelVGG19_tfl_da.save('/content/drive/MyDrive/tfg/results/VGG19/TFL/DataAugmentation/modelVGG19_tfl_da.h')\n",
        "modelVGG19_tfl_da.save('/content/drive/MyDrive/tfg/results/VGG19/TFL/DataAugmentation/modelVGG19_tfl_da.h5')\n",
        "with open('/content/drive/MyDrive/tfg/results/VGG19/TFL/DataAugmentation/modelVGG19_tfl_da', 'wb') as file_pi:\n",
        "  pickle.dump(history_modelVGG19_tfl_da.history, file_pi)"
      ],
      "execution_count": null,
      "outputs": []
    },
    {
      "cell_type": "code",
      "metadata": {
        "id": "z40rQvqW16AO"
      },
      "source": [
        "modelXception_rgb_da.save('/content/drive/MyDrive/tfg/results/Xception/RGB/DataAugmentation/modelXception_rgb_da.h')\n",
        "modelXception_rgb_da.save('/content/drive/MyDrive/tfg/results/Xception/RGB/DataAugmentation/modelXception_rgb_da.h5')\n",
        "with open('/content/drive/MyDrive/tfg/results/Xception/RGB/DataAugmentation/modelXception_rgb_da', 'wb') as file_pi:\n",
        "  pickle.dump(history_modelXception_rgb_da.history, file_pi)"
      ],
      "execution_count": null,
      "outputs": []
    },
    {
      "cell_type": "code",
      "metadata": {
        "id": "f08S_G0M2Uth"
      },
      "source": [
        "modelXception_tfl_da.save('/content/drive/MyDrive/tfg/results/Xception/TFL/DataAugmentation/modelXception_tfl_da.h')\n",
        "modelXception_tfl_da.save('/content/drive/MyDrive/tfg/results/Xception/TFL/DataAugmentation/modelXception_tfl_da.h5')\n",
        "with open('/content/drive/MyDrive/tfg/results/Xception/TFL/DataAugmentation/modelXception_tfl_da', 'wb') as file_pi:\n",
        "  pickle.dump(history_modelXception_tfl_da.history, file_pi)"
      ],
      "execution_count": null,
      "outputs": []
    },
    {
      "cell_type": "code",
      "metadata": {
        "id": "gfCR9-qz2jS-"
      },
      "source": [
        "modelXception_gs_da.save('/content/drive/MyDrive/tfg/results/Xception/GS/DataAugmentation/modelXception_gs_da.h')\n",
        "modelXception_gs_da.save('/content/drive/MyDrive/tfg/results/Xception/GS/DataAugmentation/modelXception_gs_da.h5')\n",
        "with open('/content/drive/MyDrive/tfg/results/Xception/GS/DataAugmentation/modelXception_gs_da', 'wb') as file_pi:\n",
        "  pickle.dump(history_modelXception_gs_da.history, file_pi)"
      ],
      "execution_count": null,
      "outputs": []
    },
    {
      "cell_type": "code",
      "metadata": {
        "id": "v7H-OhE2FrEt"
      },
      "source": [
        "modelResnet50_rgb_da.save('/content/drive/MyDrive/tfg/results/ResNet50/RGB/DataAugmentation/modelResnet50_rgb_da.h')\n",
        "modelResnet50_rgb_da.save('/content/drive/MyDrive/tfg/results/ResNet50/RGB/DataAugmentation/modelResnet50_rgb_da.h5')\n",
        "with open('/content/drive/MyDrive/tfg/results/ResNet50/RGB/DataAugmentation/modelResnet50_rgb_da', 'wb') as file_pi:\n",
        "  pickle.dump(history_modelResnet50_rgb_da.history, file_pi)"
      ],
      "execution_count": null,
      "outputs": []
    },
    {
      "cell_type": "code",
      "metadata": {
        "id": "uMbrjmvFF8sl"
      },
      "source": [
        "modelResnet50_gs_da.save('/content/drive/MyDrive/tfg/results/ResNet50/GS/DataAugmentation/modelResnet50_gs_da.h')\n",
        "modelResnet50_gs_da.save('/content/drive/MyDrive/tfg/results/ResNet50/GS/DataAugmentation/modelResnet50_gs_da.h5')\n",
        "with open('/content/drive/MyDrive/tfg/results/ResNet50/GS/DataAugmentation/modelResnet50_gs_da', 'wb') as file_pi:\n",
        "  pickle.dump(history_modelResnet50_gs_da.history, file_pi)"
      ],
      "execution_count": null,
      "outputs": []
    },
    {
      "cell_type": "code",
      "metadata": {
        "id": "congKWGeGJi0"
      },
      "source": [
        "modelResnet50_tfl_da.save('/content/drive/MyDrive/tfg/results/ResNet50/TFL/DataAugmentation/modelResnet50_tfl_da.h')\n",
        "modelResnet50_tfl_da.save('/content/drive/MyDrive/tfg/results/ResNet50/TFL/DataAugmentation/modelResnet50_tfl_da.h5')\n",
        "with open('/content/drive/MyDrive/tfg/results/ResNet50/TFL/DataAugmentation/modelResnet50_tfl_da', 'wb') as file_pi:\n",
        "  pickle.dump(history_modelResnet50_tfl_da.history, file_pi)"
      ],
      "execution_count": null,
      "outputs": []
    },
    {
      "cell_type": "code",
      "metadata": {
        "id": "k9Qd4IJg38YA"
      },
      "source": [
        "modelResnet101_rgb_da.save('/content/drive/MyDrive/tfg/results/ResNet101/RGB/DataAugmentation/modelResnet101_rgb_da.h')\n",
        "modelResnet101_rgb_da.save('/content/drive/MyDrive/tfg/results/ResNet101/RGB/DataAugmentation/modelResnet101_rgb_da.h5')\n",
        "with open('/content/drive/MyDrive/tfg/results/ResNet101/RGB/DataAugmentation/modelResnet101_rgb_da', 'wb') as file_pi:\n",
        "  pickle.dump(history_modelResnet101_rgb_da.history, file_pi)"
      ],
      "execution_count": null,
      "outputs": []
    },
    {
      "cell_type": "code",
      "metadata": {
        "id": "6jfyzssy4JkV"
      },
      "source": [
        "modelResnet101_gs_da.save('/content/drive/MyDrive/tfg/results/ResNet101/GS/DataAugmentation/modelResnet101_gs_da.h')\n",
        "modelResnet101_gs_da.save('/content/drive/MyDrive/tfg/results/ResNet101/GS/DataAugmentation/modelResnet101_gs_da.h5')\n",
        "with open('/content/drive/MyDrive/tfg/results/ResNet101/GS/DataAugmentation/modelResnet101_gs_da', 'wb') as file_pi:\n",
        "  pickle.dump(history_modelResnet101_gs_da.history, file_pi)"
      ],
      "execution_count": null,
      "outputs": []
    },
    {
      "cell_type": "code",
      "metadata": {
        "id": "dtGxk-s74SKW"
      },
      "source": [
        "modelResnet101_tfl_da.save('/content/drive/MyDrive/tfg/results/ResNet101/TFL/DataAugmentation/modelResnet101_tfl_da.h')\n",
        "modelResnet101_tfl_da.save('/content/drive/MyDrive/tfg/results/ResNet101/TFL/DataAugmentation/modelResnet101_tfl_da.h5')\n",
        "with open('/content/drive/MyDrive/tfg/results/ResNet101/TFL/DataAugmentation/modelResnet101_tfl_da', 'wb') as file_pi:\n",
        "  pickle.dump(history_modelResnet101_tfl_da.history, file_pi)"
      ],
      "execution_count": null,
      "outputs": []
    },
    {
      "cell_type": "code",
      "metadata": {
        "id": "wL93Hzi5E6PF"
      },
      "source": [
        "modelResnet152_rgb_da.save('/content/drive/MyDrive/tfg/results/ResNet152/RGB/DataAugmentation/modelResnet152_rgb_da.h')\n",
        "modelResnet152_rgb_da.save('/content/drive/MyDrive/tfg/results/ResNet152/RGB/DataAugmentation/modelResnet152_rgb_da.h5')\n",
        "with open('/content/drive/MyDrive/tfg/results/ResNet152/RGB/DataAugmentation/modelResnet152_rgb_da', 'wb') as file_pi:\n",
        "  pickle.dump(history_modelResnet152_rgb_da.history, file_pi)"
      ],
      "execution_count": null,
      "outputs": []
    },
    {
      "cell_type": "code",
      "metadata": {
        "id": "6m-FV3yJFC1M"
      },
      "source": [
        "modelResnet152_gs_da.save('/content/drive/MyDrive/tfg/results/ResNet152/GS/DataAugmentation/modelResnet152_gs_da.h')\n",
        "modelResnet152_gs_da.save('/content/drive/MyDrive/tfg/results/ResNet152/GS/DataAugmentation/modelResnet152_gs_da.h5')\n",
        "with open('/content/drive/MyDrive/tfg/results/ResNet152/GS/DataAugmentation/modelResnet152_gs_da', 'wb') as file_pi:\n",
        "  pickle.dump(history_modelResnet152_gs_da.history, file_pi)"
      ],
      "execution_count": null,
      "outputs": []
    },
    {
      "cell_type": "code",
      "metadata": {
        "id": "FFCj9uzXFODk"
      },
      "source": [
        "modelResnet152_tfl_da.save('/content/drive/MyDrive/tfg/results/ResNet152/TFL/DataAugmentation/modelResnet152_tfl_da.h')\n",
        "modelResnet152_tfl_da.save('/content/drive/MyDrive/tfg/results/ResNet152/TFL/DataAugmentation/modelResnet152_tfl_da.h5')\n",
        "with open('/content/drive/MyDrive/tfg/results/ResNet152/TFL/DataAugmentation/modelResnet152_tfl_da', 'wb') as file_pi:\n",
        "  pickle.dump(history_modelResnet152_tfl_da.history, file_pi)"
      ],
      "execution_count": null,
      "outputs": []
    },
    {
      "cell_type": "code",
      "metadata": {
        "id": "_anIL4ExCtWZ"
      },
      "source": [
        "modelResnet50V2_rgb_da.save('/content/drive/MyDrive/tfg/results/ResNet50V2/RGB/DataAugmentation/modelResnet50V2_rgb_da.h')\n",
        "modelResnet50V2_rgb_da.save('/content/drive/MyDrive/tfg/results/ResNet50V2/RGB/DataAugmentation/modelResnet50V2_rgb_da.h5')\n",
        "with open('/content/drive/MyDrive/tfg/results/ResNet50V2/RGB/DataAugmentation/modelResnet50V2_rgb_da', 'wb') as file_pi:\n",
        "  pickle.dump(history_modelResnet50V2_rgb_da.history, file_pi)"
      ],
      "execution_count": null,
      "outputs": []
    },
    {
      "cell_type": "code",
      "metadata": {
        "id": "doRGMd_7CtU8"
      },
      "source": [
        "modelResnet50V2_gs_da.save('/content/drive/MyDrive/tfg/results/ResNet50V2/GS/DataAugmentation/modelResnet50V2_gs_da.h')\n",
        "modelResnet50V2_gs_da.save('/content/drive/MyDrive/tfg/results/ResNet50V2/GS/DataAugmentation/modelResnet50V2_gs_da.h5')\n",
        "with open('/content/drive/MyDrive/tfg/results/ResNet50V2/GS/DataAugmentation/modelResnet50V2_gs_da', 'wb') as file_pi:\n",
        "  pickle.dump(history_modelResnet50V2_gs_da.history, file_pi)"
      ],
      "execution_count": null,
      "outputs": []
    },
    {
      "cell_type": "code",
      "metadata": {
        "id": "i5pjid342REQ"
      },
      "source": [
        "modelResnet50V2_tfl_da.save('/content/drive/MyDrive/tfg/results/ResNet50V2/TFL/DataAugmentation/modelResnet50V2_tfl_da.h')\n",
        "modelResnet50V2_tfl_da.save('/content/drive/MyDrive/tfg/results/ResNet50V2/TFL/DataAugmentation/modelResnet50V2_tfl_da.h5')\n",
        "with open('/content/drive/MyDrive/tfg/results/ResNet50V2/TFL/DataAugmentation/modelResnet50V2_tfl_da', 'wb') as file_pi:\n",
        "  pickle.dump(history_modelResnet50V2_tfl_da.history, file_pi)"
      ],
      "execution_count": null,
      "outputs": []
    },
    {
      "cell_type": "code",
      "metadata": {
        "id": "9odLogGrDSEp"
      },
      "source": [
        "modelResnet101V2_rgb_da.save('/content/drive/MyDrive/tfg/results/ResNet101V2/RGB/DataAugmentation/modelResnet101V2_rgb_da.h')\n",
        "modelResnet101V2_rgb_da.save('/content/drive/MyDrive/tfg/results/ResNet101V2/RGB/DataAugmentation/modelResnet101V2_rgb_da.h5')\n",
        "with open('/content/drive/MyDrive/tfg/results/ResNet101V2/RGB/DataAugmentation/modelResnet101V2_rgb_da', 'wb') as file_pi:\n",
        "  pickle.dump(history_modelResnet101V2_rgb_da.history, file_pi)"
      ],
      "execution_count": null,
      "outputs": []
    },
    {
      "cell_type": "code",
      "metadata": {
        "id": "SXSgieaaDSV1"
      },
      "source": [
        "modelResnet101V2_gs_da.save('/content/drive/MyDrive/tfg/results/ResNet101V2/GS/DataAugmentation/modelResnet101V2_gs_da.h')\n",
        "modelResnet101V2_gs_da.save('/content/drive/MyDrive/tfg/results/ResNet101V2/GS/DataAugmentation/modelResnet101V2_gs_da.h5')\n",
        "with open('/content/drive/MyDrive/tfg/results/ResNet101V2/GS/DataAugmentation/modelResnet101V2_gs_da', 'wb') as file_pi:\n",
        "  pickle.dump(history_modelResnet101V2_gs_da.history, file_pi)"
      ],
      "execution_count": null,
      "outputs": []
    },
    {
      "cell_type": "code",
      "metadata": {
        "id": "f5oPDKIEDquh"
      },
      "source": [
        "modelResnet101V2_tfl_da.save('/content/drive/MyDrive/tfg/results/ResNet101V2/TFL/DataAugmentation/modelResnet101V2_tfl_da.h')\n",
        "modelResnet101V2_tfl_da.save('/content/drive/MyDrive/tfg/results/ResNet101V2/TFL/DataAugmentation/modelResnet101V2_tfl_da.h5')\n",
        "with open('/content/drive/MyDrive/tfg/results/ResNet101V2/TFL/DataAugmentation/modelResnet101V2_tfl_da', 'wb') as file_pi:\n",
        "  pickle.dump(history_modelResnet101V2_tfl_da.history, file_pi)"
      ],
      "execution_count": null,
      "outputs": []
    },
    {
      "cell_type": "code",
      "metadata": {
        "id": "i51f-sCUtv2B"
      },
      "source": [
        "modelResnet152V2_rgb_da.save('/content/drive/MyDrive/tfg/results/ResNet152V2/RGB/DataAugmentation/modelResnet152V2_rgb_da.h')\n",
        "modelResnet152V2_rgb_da.save('/content/drive/MyDrive/tfg/results/ResNet152V2/RGB/DataAugmentation/modelResnet152V2_rgb_da.h5')\n",
        "with open('/content/drive/MyDrive/tfg/results/ResNet152V2/RGB/DataAugmentation/modelResnet152V2_rgb_da', 'wb') as file_pi:\n",
        "  pickle.dump(history_modelResnet152V2_rgb_da.history, file_pi)"
      ],
      "execution_count": null,
      "outputs": []
    },
    {
      "cell_type": "code",
      "metadata": {
        "id": "zkWqZUHHtwle"
      },
      "source": [
        "modelResnet152V2_gs_da.save('/content/drive/MyDrive/tfg/results/ResNet152V2/GS/DataAugmentation/modelResnet152V2_gs_da.h')\n",
        "modelResnet152V2_gs_da.save('/content/drive/MyDrive/tfg/results/ResNet152V2/GS/DataAugmentation/modelResnet152V2_gs_da.h5')\n",
        "with open('/content/drive/MyDrive/tfg/results/ResNet152V2/GS/DataAugmentation/modelResnet152V2_gs_da', 'wb') as file_pi:\n",
        "  pickle.dump(history_modelResnet152V2_gs_da.history, file_pi)"
      ],
      "execution_count": null,
      "outputs": []
    },
    {
      "cell_type": "code",
      "metadata": {
        "id": "TtFexCIz2TCl"
      },
      "source": [
        "modelResnet152V2_tfl_da.save('/content/drive/MyDrive/tfg/results/ResNet152V2/TFL/DataAugmentation/modelResnet152V2_tfl_da.h')\n",
        "modelResnet152V2_tfl_da.save('/content/drive/MyDrive/tfg/results/ResNet152V2/TFL/DataAugmentation/modelResnet152V2_tfl_da.h5')\n",
        "with open('/content/drive/MyDrive/tfg/results/ResNet152V2/TFL/DataAugmentation/modelResnet152V2_tfl_da', 'wb') as file_pi:\n",
        "  pickle.dump(history_modelResnet152V2_tfl_da.history, file_pi)"
      ],
      "execution_count": null,
      "outputs": []
    }
  ]
}